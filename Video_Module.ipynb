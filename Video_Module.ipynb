{
  "nbformat": 4,
  "nbformat_minor": 0,
  "metadata": {
    "colab": {
      "provenance": [],
      "machine_shape": "hm"
    },
    "kernelspec": {
      "name": "python3",
      "display_name": "Python 3"
    },
    "language_info": {
      "name": "python"
    }
  },
  "cells": [
    {
      "cell_type": "code",
      "source": [
        "from google.colab import drive\n",
        "drive.mount('/content/drive')"
      ],
      "metadata": {
        "id": "dAMcQWD77N4w",
        "colab": {
          "base_uri": "https://localhost:8080/"
        },
        "outputId": "e59e85b9-b3f0-4d08-831c-f12a96e7555f"
      },
      "execution_count": null,
      "outputs": [
        {
          "output_type": "stream",
          "name": "stdout",
          "text": [
            "Mounted at /content/drive\n"
          ]
        }
      ]
    },
    {
      "cell_type": "code",
      "execution_count": null,
      "metadata": {
        "id": "p0UeUpiL_V1r"
      },
      "outputs": [],
      "source": [
        "from sklearn.ensemble import RandomForestClassifier\n",
        "import pandas as pd\n",
        "import numpy as np\n",
        "from sklearn.svm import SVC\n",
        "from sklearn.metrics import classification_report"
      ]
    },
    {
      "cell_type": "code",
      "source": [
        "# "
      ],
      "metadata": {
        "id": "1TMBNSKn8nFy"
      },
      "execution_count": null,
      "outputs": []
    },
    {
      "cell_type": "code",
      "source": [
        "#Video\n",
        "\n",
        "# print(\"Video : \")\n",
        "\n",
        "from sklearn.ensemble import RandomForestClassifier\n",
        "import pandas as pd\n",
        "import numpy as np\n",
        "\n",
        "def processData(data):\n",
        "    # print(data)\n",
        "    X = data.iloc[:,:].values\n",
        "    X = np.delete(X, 0, 1)\n",
        "    X = np.delete(X, 1, 1)\n",
        "    for i in range(len(X)):\n",
        "        if(isinstance(X[i][5],str) or isinstance(X[i][7],str)):\n",
        "            X[i] = np.zeros((1, X.shape[1]))\n",
        "\n",
        "    X = np.mean(X, 0)\n",
        "    X = np.array(X.reshape(1, -1))\n",
        "    # print(X)\n",
        "    # print(X.shape)\n",
        "    return X\n",
        "\n",
        "def getData(filename):\n",
        "    # print(filename)\n",
        "    data = pd.read_csv(filename,delimiter=',')\n",
        "    X = processData(data)\n",
        "    return X\n",
        "\n",
        "def makeDataPoint(patientNo):\n",
        "    file1 = (patientNo)+\"_CLNF_AUs.txt\"\n",
        "    file2 = (patientNo)+\"_CLNF_features.txt\"\n",
        "    file3 = (patientNo)+\"_CLNF_features3D.txt\"\n",
        "    file4 = (patientNo)+\"_CLNF_gaze.txt\"\n",
        "    file5 = (patientNo)+\"_CLNF_hog.txt\"\n",
        "    file6 = (patientNo)+\"_CLNF_pose.txt\"\n",
        "\n",
        "    X1 = getData(file1)\n",
        "    X2 = getData(file2)\n",
        "    X3 = getData(file3)\n",
        "    X4 = getData(file4)\n",
        "    # X5 = getData(file5)\n",
        "    X6 = getData(file6)\n",
        "\n",
        "    X = np.concatenate((X1, X2, X3, X4, X6), 1)\n",
        "    # print(X)\n",
        "    # print(X.shape)\n",
        "    return X\n",
        "\n",
        "count0 = 0\n",
        "count1 = 0\n",
        "\n",
        "def makeDataset(location, folder):\n",
        "    global count0\n",
        "    global count1\n",
        "    file  = np.array(pd.read_csv(location,delimiter=',',encoding='utf-8', low_memory=False))[:, 0:2]\n",
        "    X_temp = np.zeros((1,388))\n",
        "    Y_temp = []\n",
        "    for i in range(len(file)):\n",
        "      if(int(file[i][1]) == 0):\n",
        "        count0 += 1\n",
        "        if(count0 >39):\n",
        "          continue\n",
        "      patientID = (str(int(file[i][0])))\n",
        "      #print(patientID)\n",
        "      string = '/content/drive/My Drive/MCA Dataset/' + folder +\"/\"+ patientID\n",
        "      X_temp = np.concatenate((X_temp, makeDataPoint(string)), 0)\n",
        "      Y_temp.append(int(file[i][1]))\n",
        "    X_temp = np.delete(X_temp,0,0)\n",
        "    Y_temp = np.asarray(Y_temp)\n",
        "    return X_temp, Y_temp\n",
        "\n",
        "\n",
        "\n"
      ],
      "metadata": {
        "id": "nS6ZgonfC0HG"
      },
      "execution_count": null,
      "outputs": []
    },
    {
      "cell_type": "code",
      "source": [
        "print(\"train\")\n",
        "X_train, Y_train = makeDataset('/content/drive/My Drive/MCA Dataset/train_split_Depression_AVEC2017.csv', 'train_data')\n",
        "print(\"dev\")\n",
        "X_dev, Y_dev = makeDataset('/content/drive/My Drive/MCA Dataset/dev_split_Depression_AVEC2017.csv', 'dev_data')\n",
        "count0 = 0\n",
        "X_train = np.concatenate((X_train, X_dev), 0  )\n",
        "Y_train = np.concatenate((Y_train, Y_dev), 0  )\n",
        "\n",
        "print(\"test\")\n",
        "X_test, Y_test = makeDataset('/content/drive/My Drive/MCA Dataset/full_test_split.csv', 'test_data')\n",
        "\n",
        "print(Y_train)"
      ],
      "metadata": {
        "colab": {
          "base_uri": "https://localhost:8080/"
        },
        "id": "MQSMK0ahC0C9",
        "outputId": "50275af4-9613-41bb-8f31-d186985cb260"
      },
      "execution_count": null,
      "outputs": [
        {
          "output_type": "stream",
          "name": "stdout",
          "text": [
            "train\n",
            "dev\n"
          ]
        },
        {
          "output_type": "stream",
          "name": "stderr",
          "text": [
            "/usr/local/lib/python3.7/dist-packages/ipykernel_launcher.py:39: DtypeWarning: Columns (4,5,6,7,8,9,10,11,12,13,14,15,16,17,18,19,20,21,22,23,24,25,26,27,28,29,30,31,32,33,34,35,36,37,38,39,40,41,42,43,44,45,46,47,48,49,50,51,52,53,54,55,56,57,58,59,60,61,62,63,64,65,66,67,68,69,70,71,72,73,74,75,76,77,78,79,80,81,82,83,84,85,86,87,88,89,90,91,92,93,94,95,96,97,98,99,100,101,102,103,104,105,106,107,108,109,110,111,112,113,114,115,116,117,118,119,120,121,122,123,124,125,126,127,128,129,130,131,132,133,134,135,136,137,138,139) have mixed types.Specify dtype option on import or set low_memory=False.\n",
            "/usr/local/lib/python3.7/dist-packages/ipykernel_launcher.py:40: DtypeWarning: Columns (4,5,6,7,8,9,10,11,12,13,14,15,16,17,18,19,20,21,22,23,24,25,26,27,28,29,30,31,32,33,34,35,36,37,38,39,40,41,42,43,44,45,46,47,48,49,50,51,52,53,54,55,56,57,58,59,60,61,62,63,64,65,66,67,68,69,70,71,72,73,74,75,76,77,78,79,80,81,82,83,84,85,86,87,88,89,90,91,92,93,94,95,96,97,98,99,100,101,102,103,104,105,106,107,108,109,110,111,112,113,114,115,116,117,118,119,120,121,122,123,124,125,126,127,128,129,130,131,132,133,134,135,136,137,138,139,140,141,142,143,144,145,146,147,148,149,150,151,152,153,154,155,156,157,158,159,160,161,162,163,164,165,166,167,168,169,170,171,172,173,174,175,176,177,178,179,180,181,182,183,184,185,186,187,188,189,190,191,192,193,194,195,196,197,198,199,200,201,202,203,204,205,206,207) have mixed types.Specify dtype option on import or set low_memory=False.\n"
          ]
        },
        {
          "output_type": "stream",
          "name": "stdout",
          "text": [
            "test\n",
            "[0 0 0 0 0 0 0 0 0 0 1 1 1 0 0 1 0 0 0 1 0 0 1 1 0 0 0 1 1 1 1 1 1 1 1 1 1\n",
            " 0 0 0 1 0 0 0 0 0 0 0 1 0 0 1 0 1 0 0 1 0 0 0 0 1 1 1 1 1 1 1 1 1 1 1 1 1\n",
            " 1 1 1 1 1 1 1]\n"
          ]
        }
      ]
    },
    {
      "cell_type": "code",
      "source": [
        "# np.save('/content/drive/My Drive/audio_data/videoML_xtrain.npy', X_train)\n",
        "# np.save('/content/drive/My Drive/audio_data/videoML_xtest.npy', X_test)\n",
        "# np.save('/content/drive/My Drive/audio_data/videoML_ytrain.npy', Y_train)\n",
        "# np.save('/content/drive/My Drive/audio_data/videoML_ytest.npy', Y_test)"
      ],
      "metadata": {
        "id": "8yPlOm8CUpMe"
      },
      "execution_count": null,
      "outputs": []
    },
    {
      "cell_type": "code",
      "source": [
        "# X_train = np.load('/content/drive/My Drive/audio_data/videoML_xtrain.npy')\n",
        "# X_test = np.load('/content/drive/My Drive/audio_data/videoML_xtest.npy')\n",
        "# Y_train = np.load('/content/drive/My Drive/audio_data/videoML_ytrain.npy')\n",
        "# Y_test = np.load('/content/drive/My Drive/audio_data/videoML_ytest.npy')"
      ],
      "metadata": {
        "id": "53VanjzvVP_7"
      },
      "execution_count": null,
      "outputs": []
    },
    {
      "cell_type": "code",
      "source": [],
      "metadata": {
        "id": "b1F1LRRwFQy7"
      },
      "execution_count": null,
      "outputs": []
    },
    {
      "cell_type": "markdown",
      "source": [
        "# models"
      ],
      "metadata": {
        "id": "gD1ZoURqsmUw"
      }
    },
    {
      "cell_type": "code",
      "source": [
        "from sklearn.preprocessing import StandardScaler\n",
        "import seaborn as sns\n",
        "# models\n",
        "from sklearn.linear_model import LogisticRegression, Perceptron, RidgeClassifier, SGDClassifier\n",
        "from sklearn import svm\n",
        "from sklearn.svm import SVC, LinearSVC\n",
        "from sklearn.ensemble import RandomForestClassifier, GradientBoostingClassifier, ExtraTreesClassifier \n",
        "from sklearn.ensemble import BaggingClassifier, AdaBoostClassifier, VotingClassifier \n",
        "from sklearn.neighbors import KNeighborsClassifier\n",
        "from sklearn.naive_bayes import GaussianNB\n",
        "from sklearn.tree import DecisionTreeClassifier\n",
        "from sklearn import metrics\n",
        "import xgboost as xgb\n",
        "from xgboost import XGBClassifier"
      ],
      "metadata": {
        "id": "ZoVM1ZAwFQwA"
      },
      "execution_count": null,
      "outputs": []
    },
    {
      "cell_type": "code",
      "source": [
        "scaler = StandardScaler()\n",
        "X_train = scaler.fit_transform(X_train)\n",
        "X_test = scaler.transform(X_test)\n",
        "print(X_train)\n",
        "print(X_test)"
      ],
      "metadata": {
        "id": "wIGzplfC1yY8",
        "colab": {
          "base_uri": "https://localhost:8080/"
        },
        "outputId": "5be49a35-c500-49f9-cf8f-bdaa6ebbfde1"
      },
      "execution_count": null,
      "outputs": [
        {
          "output_type": "stream",
          "name": "stdout",
          "text": [
            "[[ 0.10597545  0.7562539   0.49019156 ... -1.79536994  0.17531763\n",
            "  -0.31491738]\n",
            " [-0.52555507 -0.90887952  0.6385864  ... -1.42678952  0.28582234\n",
            "  -0.90343702]\n",
            " [ 2.45928632  0.60050928  0.4057917  ... -1.35444052  1.22340489\n",
            "  -0.31916397]\n",
            " ...\n",
            " [ 1.24938957 -0.04655008  3.69939457 ... -0.14465841  0.14506043\n",
            "   0.4184208 ]\n",
            " [ 1.50997096 -0.56469359  0.81869417 ... -0.28571969  1.22988828\n",
            "  -0.69636632]\n",
            " [ 2.0434696  -0.85899382 -0.46430977 ...  1.43894123 -1.47238811\n",
            "  -1.89642009]]\n",
            "[[-0.99737441  0.60996015  0.28578804 ... -0.07797502  0.58869598\n",
            "  -2.23244013]\n",
            " [-0.42282901  0.77070598 -1.73254779 ...  0.18290487 -1.04139004\n",
            "  -0.54808756]\n",
            " [-0.31115127  0.72214897 -0.28977623 ... -1.5734965  -1.34253206\n",
            "  -1.08963453]\n",
            " ...\n",
            " [ 0.00739774  0.60056331  0.79091778 ...  1.52879386  0.00398596\n",
            "  -1.81896955]\n",
            " [-0.28647955 -2.26268319 -0.67844973 ... -0.42977991  2.74780748\n",
            "  -2.38416019]\n",
            " [ 0.5345647   0.19975499  1.5999336  ... -0.89852531 -0.02213174\n",
            "  -1.01777375]]\n"
          ]
        }
      ]
    },
    {
      "cell_type": "code",
      "source": [
        "logmodel = LogisticRegression(max_iter=400)\n",
        "logmodel.fit(X_train,Y_train)\n",
        "\n",
        "pred_test_log = logmodel.predict(X_test)\n",
        "pred_log = logmodel.predict(X_train)\n",
        "\n",
        "print(classification_report(Y_test,pred_test_log))"
      ],
      "metadata": {
        "colab": {
          "base_uri": "https://localhost:8080/"
        },
        "id": "ehJEHqdYFQti",
        "outputId": "65fd4b93-cf45-4418-bbfb-872684e5353d"
      },
      "execution_count": null,
      "outputs": [
        {
          "output_type": "stream",
          "name": "stdout",
          "text": [
            "              precision    recall  f1-score   support\n",
            "\n",
            "           0       0.71      0.52      0.60        33\n",
            "           1       0.30      0.50      0.38        14\n",
            "\n",
            "    accuracy                           0.51        47\n",
            "   macro avg       0.51      0.51      0.49        47\n",
            "weighted avg       0.59      0.51      0.53        47\n",
            "\n"
          ]
        }
      ]
    },
    {
      "cell_type": "code",
      "source": [
        "#confusion matrix\n",
        "from sklearn.metrics import confusion_matrix\n",
        "cm = confusion_matrix(Y_test, pred_test_log)\n",
        "ax = sns.heatmap(cm, linecolor='white', cmap='PiYG', linewidth=1, annot=True, fmt='')"
      ],
      "metadata": {
        "colab": {
          "base_uri": "https://localhost:8080/",
          "height": 265
        },
        "id": "Mb_rxGyEmXN6",
        "outputId": "30e9152f-a27a-4bd4-f50d-1139907709a4"
      },
      "execution_count": null,
      "outputs": [
        {
          "output_type": "display_data",
          "data": {
            "text/plain": [
              "<Figure size 432x288 with 2 Axes>"
            ],
            "image/png": "[encoded data removed]"
          },
          "metadata": {
            "needs_background": "light"
          }
        }
      ]
    },
    {
      "cell_type": "code",
      "source": [
        "clf = svm.SVC(kernel='poly')\n",
        "clf.fit(X_train, Y_train) \n",
        "\n",
        "pred_svc = clf.predict(X_train)\n",
        "pred_test_svc = clf.predict(X_test)\n",
        "# pred_test_svc [0:5]\n",
        "\n",
        "print (classification_report(Y_test, pred_test_svc))"
      ],
      "metadata": {
        "colab": {
          "base_uri": "https://localhost:8080/"
        },
        "id": "-hG_dfKwCz9V",
        "outputId": "02d1e037-1a7b-469e-dee2-7470032d53d0"
      },
      "execution_count": null,
      "outputs": [
        {
          "output_type": "stream",
          "name": "stdout",
          "text": [
            "              precision    recall  f1-score   support\n",
            "\n",
            "           0       0.83      0.30      0.44        33\n",
            "           1       0.34      0.86      0.49        14\n",
            "\n",
            "    accuracy                           0.47        47\n",
            "   macro avg       0.59      0.58      0.47        47\n",
            "weighted avg       0.69      0.47      0.46        47\n",
            "\n"
          ]
        }
      ]
    },
    {
      "cell_type": "code",
      "source": [
        "#confusion matrix\n",
        "from sklearn.metrics import confusion_matrix\n",
        "cm = confusion_matrix(Y_test, pred_test_svc)\n",
        "ax = sns.heatmap(cm, linecolor='white', cmap='Blues', linewidth=1, annot=True, fmt='')"
      ],
      "metadata": {
        "colab": {
          "base_uri": "https://localhost:8080/",
          "height": 265
        },
        "id": "Vi07XXcNm4vX",
        "outputId": "a5788b68-538a-4ae3-be76-4629fd82b643"
      },
      "execution_count": null,
      "outputs": [
        {
          "output_type": "display_data",
          "data": {
            "text/plain": [
              "<Figure size 432x288 with 2 Axes>"
            ],
            "image/png": "[encoded data removed]"
          },
          "metadata": {
            "needs_background": "light"
          }
        }
      ]
    },
    {
      "cell_type": "code",
      "source": [
        "k = 45\n",
        "#Training and Predicting  \n",
        "neigh = KNeighborsClassifier(n_neighbors = k).fit(X_train,Y_train)\n",
        "pred_knn = neigh.predict(X_train)\n",
        "pred_test_knn = neigh.predict(X_test)\n",
        "pred_test_knn[0:5]\n",
        "\n",
        "Ks = 50\n",
        "mean_acc = np.zeros((Ks-1))\n",
        "std_acc = np.zeros((Ks-1))\n",
        "ConfustionMx = [];\n",
        "for n in range(1,Ks):\n",
        "    \n",
        "    #Train Model and Predict  \n",
        "    neigh = KNeighborsClassifier(n_neighbors = n).fit(X_train,Y_train)\n",
        "    pred_test_knn=neigh.predict(X_test)\n",
        "    mean_acc[n-1] = metrics.accuracy_score(Y_test, pred_test_knn)\n",
        "\n",
        "    \n",
        "    std_acc[n-1]=np.std(pred_test_knn==Y_test)/np.sqrt(pred_test_knn.shape[0])\n",
        "\n",
        "mean_acc\n",
        "\n",
        "print( \"The best accuracy was with\", mean_acc.max(), \"with k=\", mean_acc.argmax()+1) "
      ],
      "metadata": {
        "colab": {
          "base_uri": "https://localhost:8080/"
        },
        "id": "GBoVdWu5Fh66",
        "outputId": "a3111198-dbc4-42f0-8fee-78a6141be462"
      },
      "execution_count": null,
      "outputs": [
        {
          "output_type": "stream",
          "name": "stdout",
          "text": [
            "The best accuracy was with 0.6595744680851063 with k= 2\n"
          ]
        }
      ]
    },
    {
      "cell_type": "code",
      "source": [
        "neigh = KNeighborsClassifier(n_neighbors = 2).fit(X_train,Y_train)\n",
        "pred_test_knn=neigh.predict(X_test)"
      ],
      "metadata": {
        "id": "dj96J7rtGcEB"
      },
      "execution_count": null,
      "outputs": []
    },
    {
      "cell_type": "code",
      "source": [
        "print(metrics.classification_report(Y_test, pred_test_knn))"
      ],
      "metadata": {
        "colab": {
          "base_uri": "https://localhost:8080/"
        },
        "id": "NK78ysewGHRt",
        "outputId": "db2427c0-70e2-48d2-fe90-33668e84eef2"
      },
      "execution_count": null,
      "outputs": [
        {
          "output_type": "stream",
          "name": "stdout",
          "text": [
            "              precision    recall  f1-score   support\n",
            "\n",
            "           0       0.77      0.73      0.75        33\n",
            "           1       0.44      0.50      0.47        14\n",
            "\n",
            "    accuracy                           0.66        47\n",
            "   macro avg       0.61      0.61      0.61        47\n",
            "weighted avg       0.67      0.66      0.67        47\n",
            "\n"
          ]
        }
      ]
    },
    {
      "cell_type": "code",
      "source": [
        "print(Y_test)"
      ],
      "metadata": {
        "colab": {
          "base_uri": "https://localhost:8080/"
        },
        "id": "Lc3iPqmZx9fk",
        "outputId": "710b48ae-242f-4af3-d243-578e6b0e6b85"
      },
      "execution_count": null,
      "outputs": [
        {
          "output_type": "stream",
          "name": "stdout",
          "text": [
            "[0 0 0 1 1 1 0 0 0 1 0 1 0 1 1 0 1 0 0 1 0 0 0 1 0 0 1 0 1 0 0 0 0 0 0 0 0\n",
            " 1 1 0 0 0 0 0 0 0 0]\n"
          ]
        }
      ]
    },
    {
      "cell_type": "code",
      "source": [
        "print(pred_test_knn)"
      ],
      "metadata": {
        "colab": {
          "base_uri": "https://localhost:8080/"
        },
        "id": "5a5b756yx88B",
        "outputId": "8a8abf6c-d3ea-46f8-8967-826031306a0d"
      },
      "execution_count": null,
      "outputs": [
        {
          "output_type": "stream",
          "name": "stdout",
          "text": [
            "[0 0 0 0 0 1 0 0 0 0 0 0 1 0 0 0 1 1 0 1 0 0 0 1 0 0 1 0 1 0 0 0 0 0 1 0 1\n",
            " 0 1 0 1 1 1 0 0 1 1]\n"
          ]
        }
      ]
    },
    {
      "cell_type": "code",
      "source": [
        "X_test.shape"
      ],
      "metadata": {
        "colab": {
          "base_uri": "https://localhost:8080/"
        },
        "id": "26p-0tBE04Fh",
        "outputId": "46f18e56-04fe-46e4-d275-177d8da2ba46"
      },
      "execution_count": null,
      "outputs": [
        {
          "output_type": "execute_result",
          "data": {
            "text/plain": [
              "(47, 388)"
            ]
          },
          "metadata": {},
          "execution_count": 16
        }
      ]
    },
    {
      "cell_type": "code",
      "source": [
        "print(X_test[5])"
      ],
      "metadata": {
        "colab": {
          "base_uri": "https://localhost:8080/"
        },
        "id": "gnmO0jkwyJEk",
        "outputId": "b60269ad-dd41-4903-cb3c-d194041446f7"
      },
      "execution_count": null,
      "outputs": [
        {
          "output_type": "stream",
          "name": "stdout",
          "text": [
            "[-0.52228006  0.67819757 -0.85955584 -0.77999732 -0.76654742 -1.16518676\n",
            " -0.3135692  -1.09102392 -1.02764796 -0.83945623 -0.15845554 -0.34034068\n",
            " -0.56011177  0.21776245 -0.05237727  0.18975656  0.69244633  0.62559381\n",
            "  0.71038862  0.72873243  0.6648492   0.65382156 -0.52235415  0.28566258\n",
            " -0.61391219 -0.59247819 -0.56496953 -0.53983039 -0.52395109 -0.505052\n",
            " -0.48913517 -0.46850741 -0.44895478 -0.42797834 -0.42055044 -0.42378942\n",
            " -0.44376684 -0.48254662 -0.5307292  -0.57798697 -0.6134122  -0.68118345\n",
            " -0.74484753 -0.73496697 -0.69951463 -0.66277162 -0.71930215 -0.71179272\n",
            " -0.67277608 -0.63587733 -0.62751837 -0.68412216 -0.67964842 -0.67534511\n",
            " -0.67075131 -0.61436613 -0.61964104 -0.62936237 -0.62986054 -0.63113652\n",
            " -0.68174462 -0.69720254 -0.70164412 -0.69159954 -0.68471723 -0.68022175\n",
            " -0.63584884 -0.63465357 -0.6293875  -0.62426589 -0.62360067 -0.62764899\n",
            " -0.55217686 -0.57380943 -0.58981377 -0.59937414 -0.6203116  -0.60481235\n",
            " -0.56786085 -0.59179051 -0.59841958 -0.58173166 -0.5667214  -0.55620144\n",
            " -0.55463771 -0.57830334 -0.58995224 -0.60910436 -0.579139   -0.60962485\n",
            " -0.59137854 -0.5775035  -0.10064129 -0.07922675 -0.04865256 -0.02074744\n",
            " -0.01702537 -0.05500471 -0.13422996 -0.21314657 -0.25038163 -0.24930556\n",
            " -0.21329072 -0.16525282 -0.14019661 -0.12762857 -0.14394853 -0.17662619\n",
            " -0.19897907 -0.1649441  -0.30244676 -0.41437624 -0.47062169 -0.47906021\n",
            " -0.52797914 -0.58698927 -0.58831665 -0.54859856 -0.45824644 -0.50077513\n",
            " -0.53366141 -0.56555264 -0.58841741 -0.42422377 -0.44875624 -0.47484866\n",
            " -0.47168629 -0.47499942 -0.27781623 -0.31722156 -0.34771033 -0.38095276\n",
            " -0.3513749  -0.32302846 -0.46246139 -0.47143661 -0.48019103 -0.46879563\n",
            " -0.47629455 -0.47009685 -0.24728359 -0.29757716 -0.33343181 -0.34334357\n",
            " -0.3467052  -0.33361554 -0.31040028 -0.34172593 -0.36759521 -0.36972304\n",
            " -0.35752389 -0.3162073  -0.27211489 -0.32830939 -0.34114706 -0.3444644\n",
            " -0.31745848 -0.35435494 -0.35373598 -0.33842632 -0.52235415  0.28566258\n",
            " -0.58929926 -0.56339066 -0.53258479 -0.50373854 -0.48079733 -0.45986323\n",
            " -0.45064978 -0.44716531 -0.45278002 -0.45660077 -0.46733751 -0.48105742\n",
            " -0.50431084 -0.53904588 -0.57956823 -0.62047729 -0.64945299 -0.65655324\n",
            " -0.72190601 -0.70990564 -0.67321438 -0.63817032 -0.70140751 -0.69997554\n",
            " -0.66722527 -0.63797537 -0.63509435 -0.66250521 -0.65775137 -0.65321677\n",
            " -0.64847556 -0.58511556 -0.59586452 -0.61117007 -0.61871399 -0.62654301\n",
            " -0.64601473 -0.66456673 -0.67125067 -0.66336544 -0.65404089 -0.64683473\n",
            " -0.62815502 -0.63007147 -0.63013454 -0.63141338 -0.62657865 -0.62498204\n",
            " -0.51314948 -0.54294123 -0.56776765 -0.58383287 -0.61144296 -0.60885548\n",
            " -0.58753926 -0.599223   -0.59333756 -0.56838556 -0.54590643 -0.52545318\n",
            " -0.51915817 -0.55723451 -0.57570839 -0.60226728 -0.59364095 -0.60244195\n",
            " -0.57670705 -0.55611775 -0.08330991 -0.06193816 -0.03633973 -0.01752454\n",
            " -0.03102076 -0.09546069 -0.20499302 -0.30846863 -0.35348375 -0.3415372\n",
            " -0.28233077 -0.20929973 -0.16120286 -0.12735291 -0.12540608 -0.14295445\n",
            " -0.15419248 -0.14498225 -0.28387131 -0.38986919 -0.43623384 -0.43820706\n",
            " -0.48327974 -0.53639583 -0.53830244 -0.49896435 -0.41362767 -0.45256633\n",
            " -0.48533418 -0.52173829 -0.55367769 -0.40371878 -0.43045094 -0.45821935\n",
            " -0.4522245  -0.4523032  -0.24509963 -0.28338923 -0.31196297 -0.34409205\n",
            " -0.31674272 -0.28997855 -0.41665561 -0.42470885 -0.43233096 -0.42131101\n",
            " -0.43068174 -0.42584435 -0.26134582 -0.30437953 -0.33586379 -0.34748709\n",
            " -0.34788156 -0.33916881 -0.32197482 -0.36619678 -0.39648365 -0.40112093\n",
            " -0.38946619 -0.34326903 -0.28713137 -0.34096892 -0.35369372 -0.35520754\n",
            " -0.33032689 -0.36797977 -0.36957988 -0.35441085 -0.17650024 -0.22680919\n",
            " -0.27598285 -0.33285781 -0.43581706 -0.55519666 -0.65692579 -0.70786639\n",
            " -0.72638985 -0.70725611 -0.67536273 -0.62375836 -0.56696487 -0.50253453\n",
            " -0.44129313 -0.3987019  -0.36129635 -0.09837633 -0.06627722 -0.08111498\n",
            " -0.11743498 -0.14759007 -0.16097466 -0.17998003 -0.17833024 -0.19162063\n",
            " -0.20024158 -0.24535971 -0.30664675 -0.36343856 -0.425996   -0.42129297\n",
            " -0.42404083 -0.44371024 -0.4399126  -0.43695867 -0.19529284 -0.17501232\n",
            " -0.18299221 -0.20733256 -0.20009583 -0.19439023 -0.26169983 -0.23662864\n",
            " -0.24323511 -0.26463056 -0.26332659 -0.25542267 -0.53362489 -0.50751153\n",
            " -0.49322952 -0.48824788 -0.48001126 -0.51055571 -0.54455943 -0.55807233\n",
            " -0.54108774 -0.54977786 -0.56167662 -0.55686037 -0.54552774 -0.52667827\n",
            " -0.51596867 -0.51000746 -0.55109551 -0.50798726 -0.51612518 -0.52577006\n",
            " -0.52228006  0.26352166  0.95283984 -0.04712239 -0.11975756  0.73705741\n",
            " -0.20930032 -1.0839517   0.35885733 -2.06662449 -1.92813953  0.14193883\n",
            " -2.08706344 -2.09128226 -0.44426052  0.18941694  0.20348614  0.20463891\n",
            " -0.20850235 -2.28824318  0.85370181 -1.12587675]\n"
          ]
        }
      ]
    },
    {
      "cell_type": "code",
      "source": [
        "vFusion = X_test[5]"
      ],
      "metadata": {
        "id": "MzhNMdF3zV0I"
      },
      "execution_count": null,
      "outputs": []
    },
    {
      "cell_type": "code",
      "source": [
        "np.save('/content/drive/My Drive/saved_models/vFusion.npy', vFusion)"
      ],
      "metadata": {
        "id": "a_WpnV4czhRY"
      },
      "execution_count": null,
      "outputs": []
    },
    {
      "cell_type": "code",
      "source": [
        "#confusion matrix\n",
        "from sklearn.metrics import confusion_matrix\n",
        "cm = confusion_matrix(Y_test, pred_test_knn)\n",
        "ax = sns.heatmap(cm, linecolor='white', cmap='Greens', linewidth=1, annot=True, fmt='')"
      ],
      "metadata": {
        "colab": {
          "base_uri": "https://localhost:8080/",
          "height": 265
        },
        "id": "t4yXHPVonfBi",
        "outputId": "cdeb8f06-8b4c-4edd-8a0d-c4fb06f82bb5"
      },
      "execution_count": null,
      "outputs": [
        {
          "output_type": "display_data",
          "data": {
            "text/plain": [
              "<Figure size 432x288 with 2 Axes>"
            ],
            "image/png": "[encoded data removed]"
          },
          "metadata": {
            "needs_background": "light"
          }
        }
      ]
    },
    {
      "cell_type": "code",
      "source": [
        "#Training\n",
        "model = GaussianNB()\n",
        "model.fit(X_train, Y_train)\n",
        "\n",
        "#Prediction\n",
        "pred_gaussian = model.predict(X_train)\n",
        "pred_test_gaussian = model.predict(X_test)\n",
        "\n",
        "acc_gaussian = metrics.accuracy_score(Y_train, pred_gaussian) * 100\n",
        "acc_test_gaussian = metrics.accuracy_score(Y_test, pred_test_gaussian) * 100\n",
        "\n",
        "print(\"Accuracy train : \", acc_gaussian)\n",
        "print(\"Accuracy test : \", acc_test_gaussian)"
      ],
      "metadata": {
        "colab": {
          "base_uri": "https://localhost:8080/"
        },
        "id": "E0XLtRuQFh4T",
        "outputId": "10e0a3df-208f-4fc0-9624-a13c0c06ed60"
      },
      "execution_count": null,
      "outputs": [
        {
          "output_type": "stream",
          "name": "stdout",
          "text": [
            "Accuracy train :  60.49382716049383\n",
            "Accuracy test :  31.914893617021278\n"
          ]
        }
      ]
    },
    {
      "cell_type": "code",
      "source": [
        "DecTree = DecisionTreeClassifier()\n",
        "DecTree.fit(X_train,Y_train)\n",
        "\n",
        "pred_decision_tree = DecTree.predict(X_train)\n",
        "pred_test_decision_tree = DecTree.predict(X_test)\n",
        "\n",
        "acc_decision_tree = metrics.accuracy_score(Y_train, pred_decision_tree) * 100\n",
        "acc_test_decision_tree = metrics.accuracy_score(Y_test, pred_test_decision_tree) * 100\n",
        "\n",
        "print(\"Accuracy train : \", acc_decision_tree)\n",
        "print(\"Accuracy test : \", acc_test_decision_tree)\n",
        "\n",
        "print(classification_report(Y_test, pred_test_decision_tree))"
      ],
      "metadata": {
        "colab": {
          "base_uri": "https://localhost:8080/"
        },
        "id": "6XissdOgCz63",
        "outputId": "216a7ddb-cb23-4c86-fb5b-e64a24552693"
      },
      "execution_count": null,
      "outputs": [
        {
          "output_type": "stream",
          "name": "stdout",
          "text": [
            "Accuracy train :  100.0\n",
            "Accuracy test :  55.319148936170215\n",
            "              precision    recall  f1-score   support\n",
            "\n",
            "           0       0.75      0.55      0.63        33\n",
            "           1       0.35      0.57      0.43        14\n",
            "\n",
            "    accuracy                           0.55        47\n",
            "   macro avg       0.55      0.56      0.53        47\n",
            "weighted avg       0.63      0.55      0.57        47\n",
            "\n"
          ]
        }
      ]
    },
    {
      "cell_type": "code",
      "source": [
        "#confusion matrix\n",
        "from sklearn.metrics import confusion_matrix\n",
        "cm = confusion_matrix(Y_test, pred_test_decision_tree)\n",
        "ax = sns.heatmap(cm, linecolor='white', cmap='Reds', linewidth=1, annot=True, fmt='')"
      ],
      "metadata": {
        "colab": {
          "base_uri": "https://localhost:8080/",
          "height": 265
        },
        "id": "wTzRFZ3jn2CH",
        "outputId": "abf2f3a5-4fa7-470c-bc2a-4bf349a92049"
      },
      "execution_count": null,
      "outputs": [
        {
          "output_type": "display_data",
          "data": {
            "text/plain": [
              "<Figure size 432x288 with 2 Axes>"
            ],
            "image/png": "[encoded data removed]"
          },
          "metadata": {
            "needs_background": "light"
          }
        }
      ]
    },
    {
      "cell_type": "code",
      "source": [
        "print(Y_test)"
      ],
      "metadata": {
        "colab": {
          "base_uri": "https://localhost:8080/"
        },
        "id": "KGOApIHMM0Xy",
        "outputId": "521a102f-ac5d-47fd-f4d5-2c8e08f75d8a"
      },
      "execution_count": null,
      "outputs": [
        {
          "output_type": "stream",
          "name": "stdout",
          "text": [
            "[0 0 0 1 1 1 0 0 0 1 0 1 0 1 1 0 1 0 0 1 0 0 0 1 0 0 1 0 1 0 0 0 0 0 0 0 0\n",
            " 1 1 0 0 0 0 0 0 0 0]\n"
          ]
        }
      ]
    },
    {
      "cell_type": "code",
      "source": [
        "print(pred_test_decision_tree)"
      ],
      "metadata": {
        "colab": {
          "base_uri": "https://localhost:8080/"
        },
        "id": "09yzwHxUNBza",
        "outputId": "ac2538af-e6ff-47a2-e2d8-9313d692ef33"
      },
      "execution_count": null,
      "outputs": [
        {
          "output_type": "stream",
          "name": "stdout",
          "text": [
            "[0 0 0 0 0 1 1 1 1 0 0 0 1 1 1 0 0 1 0 0 0 1 0 1 1 0 1 0 1 1 0 1 1 0 0 0 0\n",
            " 1 1 1 0 0 1 1 1 1 0]\n"
          ]
        }
      ]
    },
    {
      "cell_type": "code",
      "source": [
        "# model tuning\n",
        "from hyperopt import STATUS_OK, Trials, fmin, hp, tpe, space_eval\n",
        "from sklearn.model_selection import cross_val_score"
      ],
      "metadata": {
        "id": "f4biRHz0GKIc"
      },
      "execution_count": null,
      "outputs": []
    },
    {
      "cell_type": "code",
      "source": [
        "def hyperopt_xgb_score(params):\n",
        "    clf = XGBClassifier(**params)\n",
        "    current_score = cross_val_score(clf, X_train, Y_train, cv=10).mean()\n",
        "    print(current_score, params)\n",
        "    return current_score \n",
        " \n",
        "space_xgb = {\n",
        "            'learning_rate': hp.quniform('learning_rate', 0, 0.05, 0.0001),\n",
        "            'n_estimators': hp.choice('n_estimators', range(100, 1000)),\n",
        "            'eta': hp.quniform('eta', 0.025, 0.5, 0.005),\n",
        "            'max_depth':  hp.choice('max_depth', np.arange(2, 12, dtype=int)),\n",
        "            'min_child_weight': hp.quniform('min_child_weight', 1, 9, 0.025),\n",
        "            'subsample': hp.quniform('subsample', 0.5, 1, 0.005),\n",
        "            'gamma': hp.quniform('gamma', 0.5, 1, 0.005),\n",
        "            'colsample_bytree': hp.quniform('colsample_bytree', 0.5, 1, 0.005),\n",
        "            'eval_metric': 'auc',\n",
        "            'objective': 'binary:logistic',\n",
        "            'booster': 'gbtree',\n",
        "            'tree_method': 'exact',\n",
        "            'silent': 1,\n",
        "            'missing': None\n",
        "        }\n",
        " \n",
        "best = fmin(fn=hyperopt_xgb_score, space=space_xgb, algo=tpe.suggest, max_evals=10)\n",
        "print('best:')\n",
        "print(best)"
      ],
      "metadata": {
        "colab": {
          "base_uri": "https://localhost:8080/"
        },
        "id": "mYIW_zpsGbnd",
        "outputId": "90adf3e3-a215-4084-f5fe-d7bab7a12055"
      },
      "execution_count": null,
      "outputs": [
        {
          "output_type": "stream",
          "name": "stdout",
          "text": [
            "0.5472222222222223\n",
            "{'booster': 'gbtree', 'colsample_bytree': 0.555, 'eta': 0.45, 'eval_metric': 'auc', 'gamma': 0.905, 'learning_rate': 0.0436, 'max_depth': 11, 'min_child_weight': 2.9250000000000003, 'missing': None, 'n_estimators': 695, 'objective': 'binary:logistic', 'silent': 1, 'subsample': 0.92, 'tree_method': 'exact'}\n",
            "0.5611111111111111\n",
            "{'booster': 'gbtree', 'colsample_bytree': 0.91, 'eta': 0.17500000000000002, 'eval_metric': 'auc', 'gamma': 0.585, 'learning_rate': 0.0448, 'max_depth': 6, 'min_child_weight': 6.075, 'missing': None, 'n_estimators': 747, 'objective': 'binary:logistic', 'silent': 1, 'subsample': 0.655, 'tree_method': 'exact'}\n",
            "0.48611111111111105\n",
            "{'booster': 'gbtree', 'colsample_bytree': 0.685, 'eta': 0.31, 'eval_metric': 'auc', 'gamma': 0.755, 'learning_rate': 0.0059, 'max_depth': 8, 'min_child_weight': 1.4000000000000001, 'missing': None, 'n_estimators': 938, 'objective': 'binary:logistic', 'silent': 1, 'subsample': 0.59, 'tree_method': 'exact'}\n",
            "0.4847222222222222\n",
            "{'booster': 'gbtree', 'colsample_bytree': 0.8200000000000001, 'eta': 0.41000000000000003, 'eval_metric': 'auc', 'gamma': 0.515, 'learning_rate': 0.048100000000000004, 'max_depth': 9, 'min_child_weight': 2.35, 'missing': None, 'n_estimators': 637, 'objective': 'binary:logistic', 'silent': 1, 'subsample': 0.51, 'tree_method': 'exact'}\n",
            "0.5222222222222223\n",
            "{'booster': 'gbtree', 'colsample_bytree': 0.75, 'eta': 0.15, 'eval_metric': 'auc', 'gamma': 0.74, 'learning_rate': 0.0258, 'max_depth': 7, 'min_child_weight': 2.5500000000000003, 'missing': None, 'n_estimators': 499, 'objective': 'binary:logistic', 'silent': 1, 'subsample': 0.9550000000000001, 'tree_method': 'exact'}\n",
            "0.5111111111111111\n",
            "{'booster': 'gbtree', 'colsample_bytree': 0.64, 'eta': 0.465, 'eval_metric': 'auc', 'gamma': 0.765, 'learning_rate': 0.0066, 'max_depth': 8, 'min_child_weight': 4.125, 'missing': None, 'n_estimators': 448, 'objective': 'binary:logistic', 'silent': 1, 'subsample': 0.84, 'tree_method': 'exact'}\n",
            "0.5222222222222223\n",
            "{'booster': 'gbtree', 'colsample_bytree': 0.8200000000000001, 'eta': 0.24, 'eval_metric': 'auc', 'gamma': 0.875, 'learning_rate': 0.010700000000000001, 'max_depth': 4, 'min_child_weight': 2.15, 'missing': None, 'n_estimators': 792, 'objective': 'binary:logistic', 'silent': 1, 'subsample': 0.51, 'tree_method': 'exact'}\n",
            "0.45972222222222225\n",
            "{'booster': 'gbtree', 'colsample_bytree': 0.965, 'eta': 0.035, 'eval_metric': 'auc', 'gamma': 0.76, 'learning_rate': 0.045200000000000004, 'max_depth': 6, 'min_child_weight': 2.6500000000000004, 'missing': None, 'n_estimators': 667, 'objective': 'binary:logistic', 'silent': 1, 'subsample': 0.54, 'tree_method': 'exact'}\n",
            "0.4930555555555555\n",
            "{'booster': 'gbtree', 'colsample_bytree': 0.845, 'eta': 0.3, 'eval_metric': 'auc', 'gamma': 0.9, 'learning_rate': 0.0182, 'max_depth': 3, 'min_child_weight': 7.300000000000001, 'missing': None, 'n_estimators': 649, 'objective': 'binary:logistic', 'silent': 1, 'subsample': 0.705, 'tree_method': 'exact'}\n",
            "0.5722222222222222\n",
            "{'booster': 'gbtree', 'colsample_bytree': 0.67, 'eta': 0.17, 'eval_metric': 'auc', 'gamma': 0.515, 'learning_rate': 0.0086, 'max_depth': 7, 'min_child_weight': 7.8500000000000005, 'missing': None, 'n_estimators': 785, 'objective': 'binary:logistic', 'silent': 1, 'subsample': 0.965, 'tree_method': 'exact'}\n",
            "100%|██████████| 10/10 [00:58<00:00,  5.82s/it, best loss: 0.45972222222222225]\n",
            "best:\n",
            "{'colsample_bytree': 0.965, 'eta': 0.035, 'gamma': 0.76, 'learning_rate': 0.045200000000000004, 'max_depth': 4, 'min_child_weight': 2.6500000000000004, 'n_estimators': 567, 'subsample': 0.54}\n"
          ]
        }
      ]
    },
    {
      "cell_type": "code",
      "source": [
        "params = space_eval(space_xgb, best)\n",
        "params"
      ],
      "metadata": {
        "colab": {
          "base_uri": "https://localhost:8080/"
        },
        "id": "nQkGYBquGbkY",
        "outputId": "3b9a12b4-5470-48ec-c4dd-4b270043e23c"
      },
      "execution_count": null,
      "outputs": [
        {
          "output_type": "execute_result",
          "data": {
            "text/plain": [
              "{'booster': 'gbtree',\n",
              " 'colsample_bytree': 0.965,\n",
              " 'eta': 0.035,\n",
              " 'eval_metric': 'auc',\n",
              " 'gamma': 0.76,\n",
              " 'learning_rate': 0.045200000000000004,\n",
              " 'max_depth': 6,\n",
              " 'min_child_weight': 2.6500000000000004,\n",
              " 'missing': None,\n",
              " 'n_estimators': 667,\n",
              " 'objective': 'binary:logistic',\n",
              " 'silent': 1,\n",
              " 'subsample': 0.54,\n",
              " 'tree_method': 'exact'}"
            ]
          },
          "metadata": {},
          "execution_count": 40
        }
      ]
    },
    {
      "cell_type": "code",
      "source": [
        "XGB_Classifier = XGBClassifier(**params)\n",
        "# XGB_Classifier = XGBClassifier()\n",
        "XGB_Classifier.fit(X_train, Y_train)\n",
        "acc_XGB_Classifier = round(XGB_Classifier.score(X_train, Y_train) * 100, 2)\n",
        "acc_XGB_Classifier"
      ],
      "metadata": {
        "colab": {
          "base_uri": "https://localhost:8080/"
        },
        "id": "gzjh3jBVGKGK",
        "outputId": "3c66f7f2-0e05-43ad-ebb8-e470ca581b5f"
      },
      "execution_count": null,
      "outputs": [
        {
          "output_type": "execute_result",
          "data": {
            "text/plain": [
              "100.0"
            ]
          },
          "metadata": {},
          "execution_count": 41
        }
      ]
    },
    {
      "cell_type": "code",
      "source": [
        "acc_test_XGB_Classifier = round(XGB_Classifier.score(X_test, Y_test) * 100, 2)\n",
        "acc_test_XGB_Classifier"
      ],
      "metadata": {
        "colab": {
          "base_uri": "https://localhost:8080/"
        },
        "id": "Q02WKI8gGmEj",
        "outputId": "a0195ea3-81a6-4ed6-d18b-49b2e68e0ca3"
      },
      "execution_count": null,
      "outputs": [
        {
          "output_type": "execute_result",
          "data": {
            "text/plain": [
              "61.7"
            ]
          },
          "metadata": {},
          "execution_count": 42
        }
      ]
    },
    {
      "cell_type": "code",
      "source": [
        "pred_xgb = XGB_Classifier.predict(X_test)"
      ],
      "metadata": {
        "id": "3pRMyr9rI9nO"
      },
      "execution_count": null,
      "outputs": []
    },
    {
      "cell_type": "code",
      "source": [
        "print(metrics.classification_report(Y_test, pred_xgb))"
      ],
      "metadata": {
        "colab": {
          "base_uri": "https://localhost:8080/"
        },
        "id": "sW07DggoIeOe",
        "outputId": "27c36265-f459-4db4-a2e5-80a53ee37167"
      },
      "execution_count": null,
      "outputs": [
        {
          "output_type": "stream",
          "name": "stdout",
          "text": [
            "              precision    recall  f1-score   support\n",
            "\n",
            "           0       0.86      0.55      0.67        33\n",
            "           1       0.42      0.79      0.55        14\n",
            "\n",
            "    accuracy                           0.62        47\n",
            "   macro avg       0.64      0.67      0.61        47\n",
            "weighted avg       0.73      0.62      0.63        47\n",
            "\n"
          ]
        }
      ]
    },
    {
      "cell_type": "code",
      "source": [
        "#confusion matrix\n",
        "from sklearn.metrics import confusion_matrix\n",
        "cm = confusion_matrix(Y_test, pred_xgb)\n",
        "ax = sns.heatmap(cm, linecolor='white', cmap='BuPu', linewidth=1, annot=True, fmt='')"
      ],
      "metadata": {
        "colab": {
          "base_uri": "https://localhost:8080/",
          "height": 265
        },
        "id": "Z07UOVKLoNkh",
        "outputId": "89b7f952-4472-47e9-b51a-588723fa9b87"
      },
      "execution_count": null,
      "outputs": [
        {
          "output_type": "display_data",
          "data": {
            "text/plain": [
              "<Figure size 432x288 with 2 Axes>"
            ],
            "image/png": "[encoded data removed]"
          },
          "metadata": {
            "needs_background": "light"
          }
        }
      ]
    },
    {
      "cell_type": "code",
      "source": [
        "import lightgbm as lgb\n",
        "from lightgbm import LGBMClassifier"
      ],
      "metadata": {
        "id": "KPh8IZhYHLBO"
      },
      "execution_count": null,
      "outputs": []
    },
    {
      "cell_type": "code",
      "source": [
        "def hyperopt_lgb_score(params):\n",
        "    clf = LGBMClassifier(**params)\n",
        "    current_score = cross_val_score(clf, X_train, Y_train, cv=10).mean()\n",
        "    print(current_score, params)\n",
        "    return current_score \n",
        " \n",
        "space_lgb = {\n",
        "            'learning_rate': hp.quniform('learning_rate', 0, 0.05, 0.0001),\n",
        "            'n_estimators': hp.choice('n_estimators', range(100, 1000)),\n",
        "            'max_depth':  hp.choice('max_depth', np.arange(2, 12, dtype=int)),\n",
        "            'num_leaves': hp.choice('num_leaves', 2*np.arange(2, 2**11, dtype=int)),\n",
        "            'min_child_weight': hp.quniform('min_child_weight', 1, 9, 0.025),\n",
        "            'colsample_bytree': hp.quniform('colsample_bytree', 0.5, 1, 0.005),\n",
        "            'objective': 'binary',\n",
        "            'boosting_type': 'gbdt',\n",
        "            }\n",
        " \n",
        "best = fmin(fn=hyperopt_lgb_score, space=space_lgb, algo=tpe.suggest, max_evals=10)\n",
        "print('best:')\n",
        "print(best)"
      ],
      "metadata": {
        "colab": {
          "base_uri": "https://localhost:8080/"
        },
        "id": "_hUe0Vf0HK_C",
        "outputId": "6e591f07-1e21-46aa-fc34-ff1141d62e23"
      },
      "execution_count": null,
      "outputs": [
        {
          "output_type": "stream",
          "name": "stdout",
          "text": [
            "0.5722222222222222\n",
            "{'boosting_type': 'gbdt', 'colsample_bytree': 0.92, 'learning_rate': 0.01, 'max_depth': 2, 'min_child_weight': 8.575000000000001, 'n_estimators': 465, 'num_leaves': 3858, 'objective': 'binary'}\n",
            "0.43472222222222223\n",
            "{'boosting_type': 'gbdt', 'colsample_bytree': 0.785, 'learning_rate': 0.034, 'max_depth': 3, 'min_child_weight': 5.675000000000001, 'n_estimators': 883, 'num_leaves': 2096, 'objective': 'binary'}\n",
            "0.5347222222222222\n",
            "{'boosting_type': 'gbdt', 'colsample_bytree': 0.52, 'learning_rate': 0.0123, 'max_depth': 10, 'min_child_weight': 5.025, 'n_estimators': 325, 'num_leaves': 1252, 'objective': 'binary'}\n",
            "0.5736111111111111\n",
            "{'boosting_type': 'gbdt', 'colsample_bytree': 0.86, 'learning_rate': 0.0159, 'max_depth': 3, 'min_child_weight': 2.75, 'n_estimators': 455, 'num_leaves': 168, 'objective': 'binary'}\n",
            "0.5722222222222222\n",
            "{'boosting_type': 'gbdt', 'colsample_bytree': 0.765, 'learning_rate': 0.0413, 'max_depth': 9, 'min_child_weight': 2.1750000000000003, 'n_estimators': 821, 'num_leaves': 2668, 'objective': 'binary'}\n",
            "0.5097222222222222\n",
            "{'boosting_type': 'gbdt', 'colsample_bytree': 0.99, 'learning_rate': 0.0017000000000000001, 'max_depth': 7, 'min_child_weight': 2.75, 'n_estimators': 777, 'num_leaves': 2818, 'objective': 'binary'}\n",
            "0.5597222222222222\n",
            "{'boosting_type': 'gbdt', 'colsample_bytree': 0.845, 'learning_rate': 0.0128, 'max_depth': 3, 'min_child_weight': 4.1000000000000005, 'n_estimators': 689, 'num_leaves': 2268, 'objective': 'binary'}\n",
            "0.5111111111111111\n",
            "{'boosting_type': 'gbdt', 'colsample_bytree': 0.9550000000000001, 'learning_rate': 0.0253, 'max_depth': 2, 'min_child_weight': 7.65, 'n_estimators': 293, 'num_leaves': 2490, 'objective': 'binary'}\n",
            "0.5222222222222223\n",
            "{'boosting_type': 'gbdt', 'colsample_bytree': 0.91, 'learning_rate': 0.017400000000000002, 'max_depth': 2, 'min_child_weight': 4.425, 'n_estimators': 708, 'num_leaves': 3682, 'objective': 'binary'}\n",
            "0.5361111111111111\n",
            "{'boosting_type': 'gbdt', 'colsample_bytree': 0.805, 'learning_rate': 0.0373, 'max_depth': 4, 'min_child_weight': 2.475, 'n_estimators': 394, 'num_leaves': 2678, 'objective': 'binary'}\n",
            "100%|██████████| 10/10 [00:57<00:00,  5.71s/it, best loss: 0.43472222222222223]\n",
            "best:\n",
            "{'colsample_bytree': 0.785, 'learning_rate': 0.034, 'max_depth': 1, 'min_child_weight': 5.675000000000001, 'n_estimators': 783, 'num_leaves': 1046}\n"
          ]
        }
      ]
    },
    {
      "cell_type": "code",
      "source": [
        "params = space_eval(space_lgb, best)\n",
        "params"
      ],
      "metadata": {
        "colab": {
          "base_uri": "https://localhost:8080/"
        },
        "id": "8EatXVv9HQyt",
        "outputId": "32c9bc2c-a885-4777-a8af-f67102dce194"
      },
      "execution_count": null,
      "outputs": [
        {
          "output_type": "execute_result",
          "data": {
            "text/plain": [
              "{'boosting_type': 'gbdt',\n",
              " 'colsample_bytree': 0.605,\n",
              " 'learning_rate': 0.048100000000000004,\n",
              " 'max_depth': 5,\n",
              " 'min_child_weight': 4.9750000000000005,\n",
              " 'n_estimators': 755,\n",
              " 'num_leaves': 1144,\n",
              " 'objective': 'binary'}"
            ]
          },
          "metadata": {},
          "execution_count": 35
        }
      ]
    },
    {
      "cell_type": "code",
      "source": [
        "LGB_Classifier = LGBMClassifier(**params)\n",
        "LGB_Classifier.fit(X_train, Y_train)\n",
        "acc_LGB_Classifier = round(LGB_Classifier.score(X_train, Y_train) * 100, 2)\n",
        "acc_LGB_Classifier"
      ],
      "metadata": {
        "colab": {
          "base_uri": "https://localhost:8080/"
        },
        "id": "vTDQOKWuHQpN",
        "outputId": "7b17a7f4-8906-4c51-a2c8-cb53bef624a0"
      },
      "execution_count": null,
      "outputs": [
        {
          "output_type": "execute_result",
          "data": {
            "text/plain": [
              "96.3"
            ]
          },
          "metadata": {},
          "execution_count": 36
        }
      ]
    },
    {
      "cell_type": "code",
      "source": [
        "acc_test_LGB_Classifier = round(LGB_Classifier.score(X_test, Y_test) * 100, 2)\n",
        "acc_test_LGB_Classifier"
      ],
      "metadata": {
        "colab": {
          "base_uri": "https://localhost:8080/"
        },
        "id": "WwXiY1_sGmBZ",
        "outputId": "41cb17e0-d893-4499-fe61-0f36a9560770"
      },
      "execution_count": null,
      "outputs": [
        {
          "output_type": "execute_result",
          "data": {
            "text/plain": [
              "63.83"
            ]
          },
          "metadata": {},
          "execution_count": 37
        }
      ]
    },
    {
      "cell_type": "code",
      "source": [
        "pred_lgb = LGB_Classifier.predict(X_test)"
      ],
      "metadata": {
        "id": "J4GSkNN7J0LR"
      },
      "execution_count": null,
      "outputs": []
    },
    {
      "cell_type": "code",
      "source": [
        "print(metrics.classification_report(Y_test, pred_lgb))"
      ],
      "metadata": {
        "colab": {
          "base_uri": "https://localhost:8080/"
        },
        "id": "FheBtKioJ3r5",
        "outputId": "7e7ccd10-fbe1-4fec-8090-49cb958b4a29"
      },
      "execution_count": null,
      "outputs": [
        {
          "output_type": "stream",
          "name": "stdout",
          "text": [
            "              precision    recall  f1-score   support\n",
            "\n",
            "           0       0.90      0.55      0.68        33\n",
            "           1       0.44      0.86      0.59        14\n",
            "\n",
            "    accuracy                           0.64        47\n",
            "   macro avg       0.67      0.70      0.63        47\n",
            "weighted avg       0.76      0.64      0.65        47\n",
            "\n"
          ]
        }
      ]
    },
    {
      "cell_type": "code",
      "source": [
        "#confusion matrix\n",
        "from sklearn.metrics import confusion_matrix\n",
        "cm = confusion_matrix(Y_test, pred_lgb)\n",
        "ax = sns.heatmap(cm, linecolor='white', cmap='Greens', linewidth=1, annot=True, fmt='')"
      ],
      "metadata": {
        "id": "Y8hp6JDiJ3ob"
      },
      "execution_count": null,
      "outputs": []
    },
    {
      "cell_type": "code",
      "source": [
        "bagging_classifier = BaggingClassifier()\n",
        "bagging_classifier.fit(X_train, Y_train)\n",
        "Y_pred = bagging_classifier.predict(X_test).astype(int)\n",
        "acc_bagging_classifier = round(bagging_classifier.score(X_train, Y_train) * 100, 2)\n",
        "acc_bagging_classifier"
      ],
      "metadata": {
        "colab": {
          "base_uri": "https://localhost:8080/"
        },
        "id": "n9bN3o1UHXck",
        "outputId": "0181560c-7ee9-46e7-d3a1-2e6444bdb117"
      },
      "execution_count": null,
      "outputs": [
        {
          "output_type": "execute_result",
          "data": {
            "text/plain": [
              "100.0"
            ]
          },
          "metadata": {},
          "execution_count": 40
        }
      ]
    },
    {
      "cell_type": "code",
      "source": [
        "acc_test_bagging_classifier = round(bagging_classifier.score(X_test, Y_test) * 100, 2)\n",
        "acc_test_bagging_classifier"
      ],
      "metadata": {
        "colab": {
          "base_uri": "https://localhost:8080/"
        },
        "id": "jzMlVxCWHXaF",
        "outputId": "c8cd3252-39eb-4a2d-b2b1-a15c22d80611"
      },
      "execution_count": null,
      "outputs": [
        {
          "output_type": "execute_result",
          "data": {
            "text/plain": [
              "51.06"
            ]
          },
          "metadata": {},
          "execution_count": 41
        }
      ]
    },
    {
      "cell_type": "markdown",
      "source": [
        "# nn"
      ],
      "metadata": {
        "id": "X4sq1iAisq1g"
      }
    },
    {
      "cell_type": "code",
      "source": [],
      "metadata": {
        "id": "skL7TbBsHXXv"
      },
      "execution_count": null,
      "outputs": []
    },
    {
      "cell_type": "code",
      "source": [],
      "metadata": {
        "id": "d60zrH_VCz4g"
      },
      "execution_count": null,
      "outputs": []
    },
    {
      "cell_type": "code",
      "source": [
        "# Importing the Keras libraries and packages\n",
        "from keras.models import Sequential\n",
        "from keras.layers import Conv1D\n",
        "from keras.layers import MaxPooling1D\n",
        "from keras.layers import Flatten\n",
        "from keras.layers import Dense\n",
        "from keras.layers import Dropout\n",
        "from keras import metrics\n",
        "from sklearn.metrics import classification_report\n",
        "from keras import models\n",
        "from keras import layers"
      ],
      "metadata": {
        "id": "u_KdTfkI2Mg0"
      },
      "execution_count": null,
      "outputs": []
    },
    {
      "cell_type": "code",
      "source": [
        "from sklearn.preprocessing import StandardScaler"
      ],
      "metadata": {
        "id": "tgK8tf-zAGj8"
      },
      "execution_count": null,
      "outputs": []
    },
    {
      "cell_type": "code",
      "source": [
        "## 1. scale\n",
        "# 2. without scale"
      ],
      "metadata": {
        "id": "QPDdDpH9jkIq"
      },
      "execution_count": null,
      "outputs": []
    },
    {
      "cell_type": "code",
      "source": [
        "scaler = StandardScaler()\n",
        "X_train = scaler.fit_transform(X_train)\n",
        "X_test = scaler.transform(X_test)\n",
        "print(X_train)\n",
        "print(X_test)"
      ],
      "metadata": {
        "colab": {
          "base_uri": "https://localhost:8080/"
        },
        "id": "1IAePzBpAGcr",
        "outputId": "c85acaba-9fca-4394-ec10-a9f9895e549b"
      },
      "execution_count": null,
      "outputs": [
        {
          "output_type": "stream",
          "name": "stdout",
          "text": [
            "[[ 0.10597545  0.7562539   0.49019156 ... -1.79536994  0.17531763\n",
            "  -0.31491738]\n",
            " [-0.52555507 -0.90887952  0.6385864  ... -1.42678952  0.28582234\n",
            "  -0.90343702]\n",
            " [ 2.45928632  0.60050928  0.4057917  ... -1.35444052  1.22340489\n",
            "  -0.31916397]\n",
            " ...\n",
            " [ 1.24938957 -0.04655008  3.69939457 ... -0.14465841  0.14506043\n",
            "   0.4184208 ]\n",
            " [ 1.50997096 -0.56469359  0.81869417 ... -0.28571969  1.22988828\n",
            "  -0.69636632]\n",
            " [ 2.0434696  -0.85899382 -0.46430977 ...  1.43894123 -1.47238811\n",
            "  -1.89642009]]\n",
            "[[-0.99737441  0.60996015  0.28578804 ... -0.07797502  0.58869598\n",
            "  -2.23244013]\n",
            " [-0.42282901  0.77070598 -1.73254779 ...  0.18290487 -1.04139004\n",
            "  -0.54808756]\n",
            " [-0.31115127  0.72214897 -0.28977623 ... -1.5734965  -1.34253206\n",
            "  -1.08963453]\n",
            " ...\n",
            " [ 0.00739774  0.60056331  0.79091778 ...  1.52879386  0.00398596\n",
            "  -1.81896955]\n",
            " [-0.28647955 -2.26268319 -0.67844973 ... -0.42977991  2.74780748\n",
            "  -2.38416019]\n",
            " [ 0.5345647   0.19975499  1.5999336  ... -0.89852531 -0.02213174\n",
            "  -1.01777375]]\n"
          ]
        }
      ]
    },
    {
      "cell_type": "code",
      "source": [
        "X_train = np.asarray(X_train).astype(np.float32)\n",
        "X_test = np.asarray(X_test).astype(np.float32)"
      ],
      "metadata": {
        "id": "Zc9uOaZ88-v7"
      },
      "execution_count": null,
      "outputs": []
    },
    {
      "cell_type": "code",
      "source": [
        "# creating a model\n",
        "model = models.Sequential()\n",
        "model.add(layers.Dense(128, activation='relu'))\n",
        "\n",
        "model.add(layers.Dense(64, activation='relu'))\n",
        "\n",
        "model.add(layers.Dense(32, activation='relu'))\n",
        "model.add(layers.Dense(16, activation='relu'))\n",
        "model.add(layers.Dense(8, activation='relu'))\n",
        "model.add(layers.Dense(1, activation='sigmoid'))\n",
        "\n",
        "model.compile(optimizer='adam',\n",
        "              loss='binary_crossentropy',\n",
        "              metrics=['accuracy'])"
      ],
      "metadata": {
        "id": "2MAlxXk52GqI"
      },
      "execution_count": null,
      "outputs": []
    },
    {
      "cell_type": "code",
      "source": [
        "print((X_train.shape[1],))"
      ],
      "metadata": {
        "colab": {
          "base_uri": "https://localhost:8080/"
        },
        "id": "Y1TuaAJvArQO",
        "outputId": "da898095-b724-44a3-e8ef-d0e7abb52500"
      },
      "execution_count": null,
      "outputs": [
        {
          "output_type": "stream",
          "name": "stdout",
          "text": [
            "(388,)\n"
          ]
        }
      ]
    },
    {
      "cell_type": "code",
      "source": [
        "history = model.fit(X_train,\n",
        "                    Y_train,\n",
        "                    epochs=50,\n",
        "                    batch_size=128)"
      ],
      "metadata": {
        "colab": {
          "base_uri": "https://localhost:8080/"
        },
        "id": "7Dyq1SwO2ISj",
        "outputId": "194418af-da9f-4c00-af40-758c71e743e8"
      },
      "execution_count": null,
      "outputs": [
        {
          "output_type": "stream",
          "name": "stdout",
          "text": [
            "Epoch 1/50\n",
            "1/1 [==============================] - 1s 516ms/step - loss: 0.7013 - accuracy: 0.4568\n",
            "Epoch 2/50\n",
            "1/1 [==============================] - 0s 6ms/step - loss: 0.6709 - accuracy: 0.4938\n",
            "Epoch 3/50\n",
            "1/1 [==============================] - 0s 6ms/step - loss: 0.6571 - accuracy: 0.5679\n",
            "Epoch 4/50\n",
            "1/1 [==============================] - 0s 6ms/step - loss: 0.6379 - accuracy: 0.5679\n",
            "Epoch 5/50\n",
            "1/1 [==============================] - 0s 6ms/step - loss: 0.6180 - accuracy: 0.5679\n",
            "Epoch 6/50\n",
            "1/1 [==============================] - 0s 6ms/step - loss: 0.6009 - accuracy: 0.6049\n",
            "Epoch 7/50\n",
            "1/1 [==============================] - 0s 5ms/step - loss: 0.5853 - accuracy: 0.6420\n",
            "Epoch 8/50\n",
            "1/1 [==============================] - 0s 5ms/step - loss: 0.5683 - accuracy: 0.6790\n",
            "Epoch 9/50\n",
            "1/1 [==============================] - 0s 5ms/step - loss: 0.5517 - accuracy: 0.7037\n",
            "Epoch 10/50\n",
            "1/1 [==============================] - 0s 6ms/step - loss: 0.5345 - accuracy: 0.7407\n",
            "Epoch 11/50\n",
            "1/1 [==============================] - 0s 5ms/step - loss: 0.5194 - accuracy: 0.7654\n",
            "Epoch 12/50\n",
            "1/1 [==============================] - 0s 7ms/step - loss: 0.5038 - accuracy: 0.7901\n",
            "Epoch 13/50\n",
            "1/1 [==============================] - 0s 5ms/step - loss: 0.4879 - accuracy: 0.8025\n",
            "Epoch 14/50\n",
            "1/1 [==============================] - 0s 5ms/step - loss: 0.4699 - accuracy: 0.8025\n",
            "Epoch 15/50\n",
            "1/1 [==============================] - 0s 6ms/step - loss: 0.4526 - accuracy: 0.8272\n",
            "Epoch 16/50\n",
            "1/1 [==============================] - 0s 6ms/step - loss: 0.4342 - accuracy: 0.8395\n",
            "Epoch 17/50\n",
            "1/1 [==============================] - 0s 5ms/step - loss: 0.4171 - accuracy: 0.8642\n",
            "Epoch 18/50\n",
            "1/1 [==============================] - 0s 6ms/step - loss: 0.3989 - accuracy: 0.8889\n",
            "Epoch 19/50\n",
            "1/1 [==============================] - 0s 6ms/step - loss: 0.3810 - accuracy: 0.8765\n",
            "Epoch 20/50\n",
            "1/1 [==============================] - 0s 6ms/step - loss: 0.3637 - accuracy: 0.9012\n",
            "Epoch 21/50\n",
            "1/1 [==============================] - 0s 6ms/step - loss: 0.3475 - accuracy: 0.8889\n",
            "Epoch 22/50\n",
            "1/1 [==============================] - 0s 6ms/step - loss: 0.3317 - accuracy: 0.9012\n",
            "Epoch 23/50\n",
            "1/1 [==============================] - 0s 6ms/step - loss: 0.3163 - accuracy: 0.9136\n",
            "Epoch 24/50\n",
            "1/1 [==============================] - 0s 6ms/step - loss: 0.3011 - accuracy: 0.9136\n",
            "Epoch 25/50\n",
            "1/1 [==============================] - 0s 5ms/step - loss: 0.2856 - accuracy: 0.9136\n",
            "Epoch 26/50\n",
            "1/1 [==============================] - 0s 5ms/step - loss: 0.2723 - accuracy: 0.9136\n",
            "Epoch 27/50\n",
            "1/1 [==============================] - 0s 6ms/step - loss: 0.2590 - accuracy: 0.9259\n",
            "Epoch 28/50\n",
            "1/1 [==============================] - 0s 5ms/step - loss: 0.2468 - accuracy: 0.9259\n",
            "Epoch 29/50\n",
            "1/1 [==============================] - 0s 6ms/step - loss: 0.2345 - accuracy: 0.9259\n",
            "Epoch 30/50\n",
            "1/1 [==============================] - 0s 5ms/step - loss: 0.2227 - accuracy: 0.9259\n",
            "Epoch 31/50\n",
            "1/1 [==============================] - 0s 5ms/step - loss: 0.2098 - accuracy: 0.9383\n",
            "Epoch 32/50\n",
            "1/1 [==============================] - 0s 6ms/step - loss: 0.1968 - accuracy: 0.9383\n",
            "Epoch 33/50\n",
            "1/1 [==============================] - 0s 6ms/step - loss: 0.1856 - accuracy: 0.9383\n",
            "Epoch 34/50\n",
            "1/1 [==============================] - 0s 7ms/step - loss: 0.1749 - accuracy: 0.9383\n",
            "Epoch 35/50\n",
            "1/1 [==============================] - 0s 5ms/step - loss: 0.1639 - accuracy: 0.9383\n",
            "Epoch 36/50\n",
            "1/1 [==============================] - 0s 6ms/step - loss: 0.1518 - accuracy: 0.9506\n",
            "Epoch 37/50\n",
            "1/1 [==============================] - 0s 5ms/step - loss: 0.1406 - accuracy: 0.9753\n",
            "Epoch 38/50\n",
            "1/1 [==============================] - 0s 5ms/step - loss: 0.1298 - accuracy: 0.9753\n",
            "Epoch 39/50\n",
            "1/1 [==============================] - 0s 5ms/step - loss: 0.1190 - accuracy: 0.9877\n",
            "Epoch 40/50\n",
            "1/1 [==============================] - 0s 6ms/step - loss: 0.1093 - accuracy: 0.9877\n",
            "Epoch 41/50\n",
            "1/1 [==============================] - 0s 7ms/step - loss: 0.1004 - accuracy: 1.0000\n",
            "Epoch 42/50\n",
            "1/1 [==============================] - 0s 5ms/step - loss: 0.0918 - accuracy: 1.0000\n",
            "Epoch 43/50\n",
            "1/1 [==============================] - 0s 5ms/step - loss: 0.0837 - accuracy: 1.0000\n",
            "Epoch 44/50\n",
            "1/1 [==============================] - 0s 6ms/step - loss: 0.0764 - accuracy: 1.0000\n",
            "Epoch 45/50\n",
            "1/1 [==============================] - 0s 6ms/step - loss: 0.0699 - accuracy: 1.0000\n",
            "Epoch 46/50\n",
            "1/1 [==============================] - 0s 7ms/step - loss: 0.0639 - accuracy: 1.0000\n",
            "Epoch 47/50\n",
            "1/1 [==============================] - 0s 5ms/step - loss: 0.0581 - accuracy: 1.0000\n",
            "Epoch 48/50\n",
            "1/1 [==============================] - 0s 6ms/step - loss: 0.0531 - accuracy: 1.0000\n",
            "Epoch 49/50\n",
            "1/1 [==============================] - 0s 5ms/step - loss: 0.0485 - accuracy: 1.0000\n",
            "Epoch 50/50\n",
            "1/1 [==============================] - 0s 6ms/step - loss: 0.0441 - accuracy: 1.0000\n"
          ]
        }
      ]
    },
    {
      "cell_type": "code",
      "source": [
        "test_loss, test_acc = model.evaluate(X_test,Y_test)\n",
        "print('test_acc: ',test_acc)\n"
      ],
      "metadata": {
        "colab": {
          "base_uri": "https://localhost:8080/"
        },
        "id": "ALU6RAu27z6_",
        "outputId": "0c68711f-09e5-4dae-b094-bd56a15a7ff4"
      },
      "execution_count": null,
      "outputs": [
        {
          "output_type": "stream",
          "name": "stdout",
          "text": [
            "2/2 [==============================] - 0s 4ms/step - loss: 2.7261 - accuracy: 0.4468\n",
            "test_acc:  0.44680851697921753\n"
          ]
        }
      ]
    },
    {
      "cell_type": "code",
      "source": [
        "predictions = model.predict(X_test)\n",
        "print(predictions.round())"
      ],
      "metadata": {
        "colab": {
          "base_uri": "https://localhost:8080/"
        },
        "id": "7wm0FYoC9elo",
        "outputId": "8e2e4624-5ba3-4f32-b9fd-428d04268d8c"
      },
      "execution_count": null,
      "outputs": [
        {
          "output_type": "stream",
          "name": "stdout",
          "text": [
            "[[0.]\n",
            " [0.]\n",
            " [0.]\n",
            " [0.]\n",
            " [1.]\n",
            " [1.]\n",
            " [1.]\n",
            " [0.]\n",
            " [1.]\n",
            " [0.]\n",
            " [1.]\n",
            " [0.]\n",
            " [1.]\n",
            " [0.]\n",
            " [0.]\n",
            " [0.]\n",
            " [1.]\n",
            " [1.]\n",
            " [0.]\n",
            " [1.]\n",
            " [0.]\n",
            " [0.]\n",
            " [1.]\n",
            " [1.]\n",
            " [0.]\n",
            " [0.]\n",
            " [1.]\n",
            " [1.]\n",
            " [1.]\n",
            " [1.]\n",
            " [0.]\n",
            " [1.]\n",
            " [1.]\n",
            " [1.]\n",
            " [1.]\n",
            " [1.]\n",
            " [0.]\n",
            " [1.]\n",
            " [1.]\n",
            " [1.]\n",
            " [1.]\n",
            " [1.]\n",
            " [1.]\n",
            " [1.]\n",
            " [1.]\n",
            " [1.]\n",
            " [1.]]\n"
          ]
        }
      ]
    },
    {
      "cell_type": "code",
      "source": [
        "print(classification_report(Y_test, predictions.round()))"
      ],
      "metadata": {
        "id": "1YjGUvVMty5w",
        "colab": {
          "base_uri": "https://localhost:8080/"
        },
        "outputId": "c7d3a57e-f11d-4cfe-dd4e-951212c3f829"
      },
      "execution_count": null,
      "outputs": [
        {
          "output_type": "stream",
          "name": "stdout",
          "text": [
            "              precision    recall  f1-score   support\n",
            "\n",
            "           0       0.70      0.42      0.53        33\n",
            "           1       0.30      0.57      0.39        14\n",
            "\n",
            "    accuracy                           0.47        47\n",
            "   macro avg       0.50      0.50      0.46        47\n",
            "weighted avg       0.58      0.47      0.49        47\n",
            "\n"
          ]
        }
      ]
    },
    {
      "cell_type": "code",
      "source": [],
      "metadata": {
        "id": "K_WMtL0YwiHK"
      },
      "execution_count": null,
      "outputs": []
    }
  ]
}