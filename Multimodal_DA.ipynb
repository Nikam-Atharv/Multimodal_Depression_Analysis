{
  "cells": [
    {
      "cell_type": "code",
      "execution_count": null,
      "metadata": {
        "colab": {
          "base_uri": "https://localhost:8080/"
        },
        "id": "sj6iCWJdGLUy",
        "outputId": "3e536260-f3be-45cb-cb7c-a9757bb713af"
      },
      "outputs": [
        {
          "output_type": "stream",
          "name": "stdout",
          "text": [
            "Mounted at /content/drive\n"
          ]
        }
      ],
      "source": [
        "from google.colab import drive\n",
        "drive.mount('/content/drive')"
      ]
    },
    {
      "cell_type": "code",
      "source": [
        "import numpy as np\n",
        "import pandas as pd\n",
        "\n",
        "from sklearn.preprocessing import StandardScaler\n",
        "import tensorflow as tf\n",
        "import librosa\n",
        "\n",
        "#to save trained models\n",
        "import joblib\n",
        "import pickle\n",
        "import json"
      ],
      "metadata": {
        "id": "tQUtwH_jD5Zp"
      },
      "execution_count": null,
      "outputs": []
    },
    {
      "cell_type": "markdown",
      "metadata": {
        "id": "U8fzaNbN9yPr"
      },
      "source": [
        "#EEG Module\n"
      ]
    },
    {
      "cell_type": "code",
      "execution_count": null,
      "metadata": {
        "id": "cxawtnV6-VIJ"
      },
      "outputs": [],
      "source": [
        "#Libraries helping with file retrival\n",
        "import os\n",
        "from os import listdir\n",
        "from os.path import isfile, join\n",
        "\n",
        "#Visualization and data manipulation libraries\n",
        "import matplotlib.pyplot as plt\n",
        "import scipy.io\n",
        "from scipy.signal import butter, lfilter\n",
        "\n",
        "import pandas as pd\n",
        "import numpy as np\n",
        "\n",
        "import seaborn as sns\n",
        "sns.set(font_scale=1.2)\n",
        "\n",
        "#Model development and understanding\n",
        "from sklearn.ensemble import RandomForestClassifier\n",
        "from sklearn.linear_model import LogisticRegression\n",
        "from sklearn.neighbors import KNeighborsClassifier\n",
        "from sklearn.svm import SVC\n",
        "from sklearn.metrics import confusion_matrix,accuracy_score,precision_score,recall_score\n",
        "from sklearn.preprocessing import StandardScaler\n",
        "from sklearn.decomposition import PCA\n",
        "from sklearn.inspection import permutation_importance\n",
        "from sklearn.model_selection import cross_val_score\n",
        "from sklearn.model_selection import StratifiedKFold\n",
        "from sklearn  import metrics\n"
      ]
    },
    {
      "cell_type": "code",
      "execution_count": null,
      "metadata": {
        "id": "d8meTUJfXPGU"
      },
      "outputs": [],
      "source": [
        "from sklearn.ensemble import BaggingClassifier\n",
        "from sklearn.metrics import classification_report"
      ]
    },
    {
      "cell_type": "code",
      "execution_count": null,
      "metadata": {
        "id": "rQR8Ezm9O-dC"
      },
      "outputs": [],
      "source": [
        "df = pd.read_csv('/content/drive/My Drive/audio_data/eeg_df.csv')"
      ]
    },
    {
      "cell_type": "code",
      "source": [
        "df.head()"
      ],
      "metadata": {
        "colab": {
          "base_uri": "https://localhost:8080/",
          "height": 299
        },
        "id": "JPSZGvJb4quX",
        "outputId": "93fa560f-bdbc-4c20-d03a-9b11b6e432ed"
      },
      "execution_count": null,
      "outputs": [
        {
          "output_type": "execute_result",
          "data": {
            "text/plain": [
              "   patient_identifier  lf_alpha_fear_E36  lf_beta_fear_E36  lf_delta_fear_E36  \\\n",
              "0             2010008           0.003473          0.003368           0.015247   \n",
              "1             2010011           0.004254          0.002348           0.016904   \n",
              "2             2010015           0.001797          0.001225           0.005069   \n",
              "3             2010013           0.002016          0.001013           0.003829   \n",
              "4             2010012           0.009081          0.004736           0.040018   \n",
              "\n",
              "   lf_theta_fear_E36  lf_mean_fear_E36  lf_max_fear_E36  lf_min_fear_E36  \\\n",
              "0           0.007565          0.059222       517.229278         0.000041   \n",
              "1           0.006377          0.089253       867.522513         0.000025   \n",
              "2           0.002325          0.011508        60.477420         0.000012   \n",
              "3           0.002445          0.024019       241.903701         0.000014   \n",
              "4           0.015150          0.038334       180.524548         0.000026   \n",
              "\n",
              "   lf_median_fear_E36  lf_alpha_happy_E36  ...  lf_fear_min  lf_fear_max  \\\n",
              "0            0.003682            0.002941  ...     0.000031   723.153946   \n",
              "1            0.002415            0.002548  ...     0.000150   953.367554   \n",
              "2            0.001242            0.002351  ...     0.000040   249.871548   \n",
              "3            0.001012            0.003692  ...     0.000024   468.864574   \n",
              "4            0.005003            0.003708  ...     0.000102   533.492279   \n",
              "\n",
              "   lf_sad_mean  lf_sad_median  lf_sad_min  lf_sad_max  lf_resting_mean  \\\n",
              "0     0.072019       0.002149    0.000171  629.557370    108281.564986   \n",
              "1     0.107683       0.004103    0.000072  984.899036     85553.767649   \n",
              "2     0.048740       0.004281    0.000191  286.843937     81978.488000   \n",
              "3     0.049950       0.002874    0.000037  462.087615     54210.252136   \n",
              "4     0.054746       0.003305    0.000029  497.015771     91590.362795   \n",
              "\n",
              "   lf_resting_median  lf_resting_min  lf_resting_max  \n",
              "0        6288.040454     1128.528637    9.583322e+08  \n",
              "1        4110.453724       45.625631    8.476602e+08  \n",
              "2        5941.513906      823.625097    5.838479e+08  \n",
              "3        1901.610336       14.034971    5.524028e+08  \n",
              "4        9364.358228      570.766807    4.573432e+08  \n",
              "\n",
              "[5 rows x 746 columns]"
            ],
            "text/html": [
              "\n",
              "  <div id=\"df-22f29126-d14b-456e-a329-97fc687e15bd\">\n",
              "    <div class=\"colab-df-container\">\n",
              "      <div>\n",
              "<style scoped>\n",
              "    .dataframe tbody tr th:only-of-type {\n",
              "        vertical-align: middle;\n",
              "    }\n",
              "\n",
              "    .dataframe tbody tr th {\n",
              "        vertical-align: top;\n",
              "    }\n",
              "\n",
              "    .dataframe thead th {\n",
              "        text-align: right;\n",
              "    }\n",
              "</style>\n",
              "<table border=\"1\" class=\"dataframe\">\n",
              "  <thead>\n",
              "    <tr style=\"text-align: right;\">\n",
              "      <th></th>\n",
              "      <th>patient_identifier</th>\n",
              "      <th>lf_alpha_fear_E36</th>\n",
              "      <th>lf_beta_fear_E36</th>\n",
              "      <th>lf_delta_fear_E36</th>\n",
              "      <th>lf_theta_fear_E36</th>\n",
              "      <th>lf_mean_fear_E36</th>\n",
              "      <th>lf_max_fear_E36</th>\n",
              "      <th>lf_min_fear_E36</th>\n",
              "      <th>lf_median_fear_E36</th>\n",
              "      <th>lf_alpha_happy_E36</th>\n",
              "      <th>...</th>\n",
              "      <th>lf_fear_min</th>\n",
              "      <th>lf_fear_max</th>\n",
              "      <th>lf_sad_mean</th>\n",
              "      <th>lf_sad_median</th>\n",
              "      <th>lf_sad_min</th>\n",
              "      <th>lf_sad_max</th>\n",
              "      <th>lf_resting_mean</th>\n",
              "      <th>lf_resting_median</th>\n",
              "      <th>lf_resting_min</th>\n",
              "      <th>lf_resting_max</th>\n",
              "    </tr>\n",
              "  </thead>\n",
              "  <tbody>\n",
              "    <tr>\n",
              "      <th>0</th>\n",
              "      <td>2010008</td>\n",
              "      <td>0.003473</td>\n",
              "      <td>0.003368</td>\n",
              "      <td>0.015247</td>\n",
              "      <td>0.007565</td>\n",
              "      <td>0.059222</td>\n",
              "      <td>517.229278</td>\n",
              "      <td>0.000041</td>\n",
              "      <td>0.003682</td>\n",
              "      <td>0.002941</td>\n",
              "      <td>...</td>\n",
              "      <td>0.000031</td>\n",
              "      <td>723.153946</td>\n",
              "      <td>0.072019</td>\n",
              "      <td>0.002149</td>\n",
              "      <td>0.000171</td>\n",
              "      <td>629.557370</td>\n",
              "      <td>108281.564986</td>\n",
              "      <td>6288.040454</td>\n",
              "      <td>1128.528637</td>\n",
              "      <td>9.583322e+08</td>\n",
              "    </tr>\n",
              "    <tr>\n",
              "      <th>1</th>\n",
              "      <td>2010011</td>\n",
              "      <td>0.004254</td>\n",
              "      <td>0.002348</td>\n",
              "      <td>0.016904</td>\n",
              "      <td>0.006377</td>\n",
              "      <td>0.089253</td>\n",
              "      <td>867.522513</td>\n",
              "      <td>0.000025</td>\n",
              "      <td>0.002415</td>\n",
              "      <td>0.002548</td>\n",
              "      <td>...</td>\n",
              "      <td>0.000150</td>\n",
              "      <td>953.367554</td>\n",
              "      <td>0.107683</td>\n",
              "      <td>0.004103</td>\n",
              "      <td>0.000072</td>\n",
              "      <td>984.899036</td>\n",
              "      <td>85553.767649</td>\n",
              "      <td>4110.453724</td>\n",
              "      <td>45.625631</td>\n",
              "      <td>8.476602e+08</td>\n",
              "    </tr>\n",
              "    <tr>\n",
              "      <th>2</th>\n",
              "      <td>2010015</td>\n",
              "      <td>0.001797</td>\n",
              "      <td>0.001225</td>\n",
              "      <td>0.005069</td>\n",
              "      <td>0.002325</td>\n",
              "      <td>0.011508</td>\n",
              "      <td>60.477420</td>\n",
              "      <td>0.000012</td>\n",
              "      <td>0.001242</td>\n",
              "      <td>0.002351</td>\n",
              "      <td>...</td>\n",
              "      <td>0.000040</td>\n",
              "      <td>249.871548</td>\n",
              "      <td>0.048740</td>\n",
              "      <td>0.004281</td>\n",
              "      <td>0.000191</td>\n",
              "      <td>286.843937</td>\n",
              "      <td>81978.488000</td>\n",
              "      <td>5941.513906</td>\n",
              "      <td>823.625097</td>\n",
              "      <td>5.838479e+08</td>\n",
              "    </tr>\n",
              "    <tr>\n",
              "      <th>3</th>\n",
              "      <td>2010013</td>\n",
              "      <td>0.002016</td>\n",
              "      <td>0.001013</td>\n",
              "      <td>0.003829</td>\n",
              "      <td>0.002445</td>\n",
              "      <td>0.024019</td>\n",
              "      <td>241.903701</td>\n",
              "      <td>0.000014</td>\n",
              "      <td>0.001012</td>\n",
              "      <td>0.003692</td>\n",
              "      <td>...</td>\n",
              "      <td>0.000024</td>\n",
              "      <td>468.864574</td>\n",
              "      <td>0.049950</td>\n",
              "      <td>0.002874</td>\n",
              "      <td>0.000037</td>\n",
              "      <td>462.087615</td>\n",
              "      <td>54210.252136</td>\n",
              "      <td>1901.610336</td>\n",
              "      <td>14.034971</td>\n",
              "      <td>5.524028e+08</td>\n",
              "    </tr>\n",
              "    <tr>\n",
              "      <th>4</th>\n",
              "      <td>2010012</td>\n",
              "      <td>0.009081</td>\n",
              "      <td>0.004736</td>\n",
              "      <td>0.040018</td>\n",
              "      <td>0.015150</td>\n",
              "      <td>0.038334</td>\n",
              "      <td>180.524548</td>\n",
              "      <td>0.000026</td>\n",
              "      <td>0.005003</td>\n",
              "      <td>0.003708</td>\n",
              "      <td>...</td>\n",
              "      <td>0.000102</td>\n",
              "      <td>533.492279</td>\n",
              "      <td>0.054746</td>\n",
              "      <td>0.003305</td>\n",
              "      <td>0.000029</td>\n",
              "      <td>497.015771</td>\n",
              "      <td>91590.362795</td>\n",
              "      <td>9364.358228</td>\n",
              "      <td>570.766807</td>\n",
              "      <td>4.573432e+08</td>\n",
              "    </tr>\n",
              "  </tbody>\n",
              "</table>\n",
              "<p>5 rows × 746 columns</p>\n",
              "</div>\n",
              "      <button class=\"colab-df-convert\" onclick=\"convertToInteractive('df-22f29126-d14b-456e-a329-97fc687e15bd')\"\n",
              "              title=\"Convert this dataframe to an interactive table.\"\n",
              "              style=\"display:none;\">\n",
              "        \n",
              "  <svg xmlns=\"http://www.w3.org/2000/svg\" height=\"24px\"viewBox=\"0 0 24 24\"\n",
              "       width=\"24px\">\n",
              "    <path d=\"M0 0h24v24H0V0z\" fill=\"none\"/>\n",
              "    <path d=\"M18.56 5.44l.94 2.06.94-2.06 2.06-.94-2.06-.94-.94-2.06-.94 2.06-2.06.94zm-11 1L8.5 8.5l.94-2.06 2.06-.94-2.06-.94L8.5 2.5l-.94 2.06-2.06.94zm10 10l.94 2.06.94-2.06 2.06-.94-2.06-.94-.94-2.06-.94 2.06-2.06.94z\"/><path d=\"M17.41 7.96l-1.37-1.37c-.4-.4-.92-.59-1.43-.59-.52 0-1.04.2-1.43.59L10.3 9.45l-7.72 7.72c-.78.78-.78 2.05 0 2.83L4 21.41c.39.39.9.59 1.41.59.51 0 1.02-.2 1.41-.59l7.78-7.78 2.81-2.81c.8-.78.8-2.07 0-2.86zM5.41 20L4 18.59l7.72-7.72 1.47 1.35L5.41 20z\"/>\n",
              "  </svg>\n",
              "      </button>\n",
              "      \n",
              "  <style>\n",
              "    .colab-df-container {\n",
              "      display:flex;\n",
              "      flex-wrap:wrap;\n",
              "      gap: 12px;\n",
              "    }\n",
              "\n",
              "    .colab-df-convert {\n",
              "      background-color: #E8F0FE;\n",
              "      border: none;\n",
              "      border-radius: 50%;\n",
              "      cursor: pointer;\n",
              "      display: none;\n",
              "      fill: #1967D2;\n",
              "      height: 32px;\n",
              "      padding: 0 0 0 0;\n",
              "      width: 32px;\n",
              "    }\n",
              "\n",
              "    .colab-df-convert:hover {\n",
              "      background-color: #E2EBFA;\n",
              "      box-shadow: 0px 1px 2px rgba(60, 64, 67, 0.3), 0px 1px 3px 1px rgba(60, 64, 67, 0.15);\n",
              "      fill: #174EA6;\n",
              "    }\n",
              "\n",
              "    [theme=dark] .colab-df-convert {\n",
              "      background-color: #3B4455;\n",
              "      fill: #D2E3FC;\n",
              "    }\n",
              "\n",
              "    [theme=dark] .colab-df-convert:hover {\n",
              "      background-color: #434B5C;\n",
              "      box-shadow: 0px 1px 3px 1px rgba(0, 0, 0, 0.15);\n",
              "      filter: drop-shadow(0px 1px 2px rgba(0, 0, 0, 0.3));\n",
              "      fill: #FFFFFF;\n",
              "    }\n",
              "  </style>\n",
              "\n",
              "      <script>\n",
              "        const buttonEl =\n",
              "          document.querySelector('#df-22f29126-d14b-456e-a329-97fc687e15bd button.colab-df-convert');\n",
              "        buttonEl.style.display =\n",
              "          google.colab.kernel.accessAllowed ? 'block' : 'none';\n",
              "\n",
              "        async function convertToInteractive(key) {\n",
              "          const element = document.querySelector('#df-22f29126-d14b-456e-a329-97fc687e15bd');\n",
              "          const dataTable =\n",
              "            await google.colab.kernel.invokeFunction('convertToInteractive',\n",
              "                                                     [key], {});\n",
              "          if (!dataTable) return;\n",
              "\n",
              "          const docLinkHtml = 'Like what you see? Visit the ' +\n",
              "            '<a target=\"_blank\" href=https://colab.research.google.com/notebooks/data_table.ipynb>data table notebook</a>'\n",
              "            + ' to learn more about interactive tables.';\n",
              "          element.innerHTML = '';\n",
              "          dataTable['output_type'] = 'display_data';\n",
              "          await google.colab.output.renderOutput(dataTable, element);\n",
              "          const docLink = document.createElement('div');\n",
              "          docLink.innerHTML = docLinkHtml;\n",
              "          element.appendChild(docLink);\n",
              "        }\n",
              "      </script>\n",
              "    </div>\n",
              "  </div>\n",
              "  "
            ]
          },
          "metadata": {},
          "execution_count": 119
        }
      ]
    },
    {
      "cell_type": "code",
      "execution_count": null,
      "metadata": {
        "id": "mvdVxCI2sY6Y"
      },
      "outputs": [],
      "source": [
        "#dividing the data set into test and train. Here we have to create a stratified\n",
        "#sample to create the train and test datasets.\n",
        "sample = df.groupby('type', group_keys=False).apply(lambda x: x.sample(round(30*0.7),random_state=42))\n",
        "left_over = df[~(df.index.isin(list(sample.index)))]"
      ]
    },
    {
      "cell_type": "code",
      "source": [
        "# eeg_df = df.loc[df['patient_identifier'] == 2010013]"
      ],
      "metadata": {
        "id": "O7be9DK-z5zY"
      },
      "execution_count": null,
      "outputs": []
    },
    {
      "cell_type": "code",
      "source": [
        "# eeg_df.head()"
      ],
      "metadata": {
        "id": "6WaHY5664bfO"
      },
      "execution_count": null,
      "outputs": []
    },
    {
      "cell_type": "code",
      "source": [
        "# print(eeg_df['type'])"
      ],
      "metadata": {
        "colab": {
          "base_uri": "https://localhost:8080/"
        },
        "id": "nSClZuiD7oPi",
        "outputId": "7ceba162-1558-47a9-c8ce-0856da4db5ca"
      },
      "execution_count": null,
      "outputs": [
        {
          "output_type": "stream",
          "name": "stdout",
          "text": [
            "0    1\n",
            "Name: type, dtype: int64\n"
          ]
        }
      ]
    },
    {
      "cell_type": "code",
      "execution_count": null,
      "metadata": {
        "id": "Eihb3rRnsb7u"
      },
      "outputs": [],
      "source": [
        "#variables for test and train\n",
        "y = sample['type']\n",
        "X = sample.drop(columns = 'type')\n",
        "X_test = left_over.drop(columns = 'type')\n",
        "y_test = left_over['type']"
      ]
    },
    {
      "cell_type": "code",
      "source": [
        "np.save('/content/drive/My Drive/audio_data/eeg_xtrain.npy', X)"
      ],
      "metadata": {
        "id": "oj7vx8kfgbvm"
      },
      "execution_count": null,
      "outputs": []
    },
    {
      "cell_type": "code",
      "source": [
        "\n",
        "scalar = StandardScaler()\n",
        "X_scale = scalar.fit(X).transform(X)\n",
        "X_scale_test = scalar.transform(X_test)"
      ],
      "metadata": {
        "id": "HmOrK4k3Aqh_"
      },
      "execution_count": null,
      "outputs": []
    },
    {
      "cell_type": "code",
      "source": [
        "# #variables for test and train\n",
        "# y = eeg_df['type']\n",
        "# X = eeg_df.drop(columns = 'type')"
      ],
      "metadata": {
        "id": "A39_eaay70rC"
      },
      "execution_count": null,
      "outputs": []
    },
    {
      "cell_type": "code",
      "execution_count": null,
      "metadata": {
        "id": "LEA3HRRUsd9C"
      },
      "outputs": [],
      "source": [
        "# #Before building the PCA, we will first scale the dataset to ensure that\n",
        "# #there are no differences in the possible range of values\n",
        "# scalar = StandardScaler()\n",
        "# eeg_df = scalar.fit(X).transform(X)"
      ]
    },
    {
      "cell_type": "code",
      "execution_count": null,
      "metadata": {
        "id": "mQSpIMfFkroQ"
      },
      "outputs": [],
      "source": [
        "def classifier(X,y,X_test,y_test):\n",
        "  \"\"\"\n",
        "  Input:\n",
        "\n",
        "  X - Training set\n",
        "  y - Training outcome\n",
        "  X_test - Test set\n",
        "  y_test - Test outcome\n",
        "  \n",
        "  Output :\n",
        "  total - dictionary summarizing performances of various models\n",
        "\n",
        "  \"\"\"\n",
        "  total = dict()\n",
        "  # rf = RandomForestClassifier(random_state=42)\n",
        "  # lr = LogisticRegression(random_state=42)\n",
        "  # knn = KNeighborsClassifier()\n",
        "  # svc = SVC(random_state=42)\n",
        "  # xgb = XGB_Classifier\n",
        "  # lgbm = LGB_Classifier\n",
        "  bg = BaggingClassifier()\n",
        "  # dt = DecisionTreeClassifier()\n",
        "  # nn = model1\n",
        "  # lda1 = LinearDiscriminantAnalysis()\n",
        "  model_array = [bg]\n",
        "  model_vals = ['bagging classifier']\n",
        "  i = 0\n",
        "  for clf in model_array:\n",
        "    result = dict()\n",
        "    kfold = StratifiedKFold(n_splits=10, random_state=42, shuffle=True)\n",
        "    cv_results = cross_val_score(clf, X, y, cv=kfold, scoring='accuracy')\n",
        "    clf.fit(X, y)\n",
        "    y_pred = clf.predict(X_test)\n",
        "    result['accuracy']=round(accuracy_score(y_test, y_pred),2)\n",
        "    result['precision']=round(precision_score(y_test, y_pred),2)\n",
        "    result['recall']=round(recall_score(y_test, y_pred),2)\n",
        "\n",
        "    print(\"predictions: \", y_pred)\n",
        "    print(\"classifier: \", clf)\n",
        "    print(classification_report(y_test, y_pred))\n",
        "    test_acc_e = metrics.accuracy_score(y_test, y_pred)\n",
        "    # cm = confusion_matrix(y_test, y_pred)\n",
        "    # ax = sns.heatmap(cm, linecolor='white', cmap='PiYG', linewidth=1, annot=True, fmt='')\n",
        "\n",
        "    joblib.dump(bg, '/content/drive/My Drive/saved_models/eeg_model3.pkl')\n",
        "\n",
        "    total[model_vals[i]]=result\n",
        "    i = i+1\n",
        "    \n",
        "  return total, test_acc_e"
      ]
    },
    {
      "cell_type": "code",
      "execution_count": null,
      "metadata": {
        "id": "XKG2H0njTMpy"
      },
      "outputs": [],
      "source": [
        "Vals = list(X.columns)"
      ]
    },
    {
      "cell_type": "code",
      "execution_count": null,
      "metadata": {
        "colab": {
          "base_uri": "https://localhost:8080/"
        },
        "id": "q_Y1umEuk2py",
        "outputId": "722d854b-09be-43e1-e997-d21310db0549"
      },
      "outputs": [
        {
          "output_type": "stream",
          "name": "stdout",
          "text": [
            "emotion:  sad\n",
            "features:  lf\n",
            "predictions:  [0 1 0 0 1 0 1 0 0 0 1]\n",
            "classifier:  BaggingClassifier()\n",
            "              precision    recall  f1-score   support\n",
            "\n",
            "           0       0.86      0.75      0.80         8\n",
            "           1       0.50      0.67      0.57         3\n",
            "\n",
            "    accuracy                           0.73        11\n",
            "   macro avg       0.68      0.71      0.69        11\n",
            "weighted avg       0.76      0.73      0.74        11\n",
            "\n",
            "{'bagging classifier': {'accuracy': 0.73, 'precision': 0.5, 'recall': 0.67}, 'base': 'lf', 'emotion': 'sad'}\n"
          ]
        }
      ],
      "source": [
        "for emotion in ['fear','sad','happy','resting','erp','all']:\n",
        "  for type_vars in ['nl','lf','all']:  \n",
        "\n",
        "    if( emotion == 'sad' and type_vars == 'lf'):\n",
        "      print(\"emotion: \", emotion)\n",
        "      print(\"features: \", type_vars)\n",
        "\n",
        "      if emotion =='erp':\n",
        "        indices_to_keep = [i for i in range(len(Vals)) if type_vars in Vals[i] and 'resting' not in Vals[i]]\n",
        "        if type_vars =='all':\n",
        "          indices_to_keep = [i for i in range(len(Vals)) if 'resting' not in Vals[i]]\n",
        "      elif emotion =='all':\n",
        "        indices_to_keep = [i for i in range(len(Vals)) if type_vars in Vals[i]]\n",
        "        if type_vars =='all':\n",
        "          indices_to_keep = [i for i in range(len(Vals))]\n",
        "      else:\n",
        "        indices_to_keep = [i for i in range(len(Vals)) if type_vars in Vals[i] and emotion in Vals[i]]\n",
        "        if type_vars =='all':\n",
        "          indices_to_keep = [i for i in range(len(Vals)) if emotion in Vals[i]]\n",
        "        \n",
        "      temp, test_acc_e = classifier(X_scale[:,indices_to_keep],y,X_scale_test[:,indices_to_keep],y_test)\n",
        "      temp['base'] = type_vars\n",
        "      temp['emotion'] = emotion\n",
        "      # final = pd.DataFrame(temp).reset_index()\n",
        "      print(temp)\n"
      ]
    },
    {
      "cell_type": "code",
      "source": [
        "###\n",
        "print(indices_to_keep)"
      ],
      "metadata": {
        "colab": {
          "base_uri": "https://localhost:8080/"
        },
        "id": "ZW9k3ndKA08a",
        "outputId": "9b9d6b2e-20ba-4921-9f72-b819b4a009fc"
      },
      "execution_count": null,
      "outputs": [
        {
          "output_type": "stream",
          "name": "stdout",
          "text": [
            "[17, 18, 19, 20, 21, 22, 23, 24, 50, 51, 52, 53, 54, 55, 56, 57, 83, 84, 85, 86, 87, 88, 89, 90, 116, 117, 118, 119, 120, 121, 122, 123, 149, 150, 151, 152, 153, 154, 155, 156, 182, 183, 184, 185, 186, 187, 188, 189, 215, 216, 217, 218, 219, 220, 221, 222, 248, 249, 250, 251, 252, 253, 254, 255, 281, 282, 283, 284, 285, 286, 287, 288, 314, 315, 316, 317, 318, 319, 320, 321, 347, 348, 349, 350, 351, 352, 353, 354, 380, 381, 382, 383, 384, 385, 386, 387, 413, 414, 415, 416, 417, 418, 419, 420, 446, 447, 448, 449, 450, 451, 452, 453, 479, 480, 481, 482, 483, 484, 485, 486, 512, 513, 514, 515, 516, 517, 518, 519, 721, 722, 723, 724, 737, 738, 739, 740]\n"
          ]
        }
      ]
    },
    {
      "cell_type": "code",
      "source": [
        "with open(\"/content/drive/My Drive/saved_models/indices_to_keep.json\", 'w') as f:\n",
        "    # indent=2 is not needed but makes the file human-readable \n",
        "    # if the data is nested\n",
        "    json.dump(indices_to_keep, f) \n",
        "\n",
        "# with open(\"file.json\", 'r') as f:\n",
        "#     score = json.load(f)\n",
        "\n"
      ],
      "metadata": {
        "id": "PSMYmBWlBSqD"
      },
      "execution_count": null,
      "outputs": []
    },
    {
      "cell_type": "code",
      "execution_count": null,
      "metadata": {
        "id": "8Qh0WqJqvmrC",
        "colab": {
          "base_uri": "https://localhost:8080/"
        },
        "outputId": "3d31108d-ae87-4f20-d06d-da89625a3652"
      },
      "outputs": [
        {
          "output_type": "stream",
          "name": "stdout",
          "text": [
            "0.91\n"
          ]
        }
      ],
      "source": [
        "print(test_acc_e.round(2))"
      ]
    },
    {
      "cell_type": "code",
      "source": [
        "# Save the model as a pickle in a file\n",
        "# joblib.dump(bg, '/content/drive/My Drive/saved_models/eeg_model.pkl')"
      ],
      "metadata": {
        "id": "Zr0vVNK3Id4G"
      },
      "execution_count": null,
      "outputs": []
    },
    {
      "cell_type": "code",
      "source": [],
      "metadata": {
        "id": "bSPSGFRqIdvT"
      },
      "execution_count": null,
      "outputs": []
    },
    {
      "cell_type": "markdown",
      "metadata": {
        "id": "R01Sx-eJzw3d"
      },
      "source": [
        "# Audio Module\n",
        "\n",
        "---\n",
        "\n"
      ]
    },
    {
      "cell_type": "code",
      "execution_count": null,
      "metadata": {
        "id": "jiOt-B8dzyzG"
      },
      "outputs": [],
      "source": [
        "import numpy as np\n",
        "import pandas as pd"
      ]
    },
    {
      "cell_type": "code",
      "execution_count": null,
      "metadata": {
        "id": "7-wxldtV6XPH"
      },
      "outputs": [],
      "source": [
        "from sklearn.model_selection import train_test_split\n",
        "from sklearn.preprocessing import StandardScaler\n",
        "#Keras\n",
        "import keras\n",
        "from keras import models\n",
        "from keras import layers"
      ]
    },
    {
      "cell_type": "code",
      "execution_count": null,
      "metadata": {
        "id": "v-tqIZtn9tGb"
      },
      "outputs": [],
      "source": [
        "# Importing the Keras libraries and packages\n",
        "from keras.models import Sequential\n",
        "from keras.layers import Conv1D\n",
        "from keras.layers import MaxPooling1D\n",
        "from keras.layers import Flatten\n",
        "from keras.layers import Dense\n",
        "from keras.layers import Dropout\n",
        "from keras import metrics\n",
        "from sklearn.metrics import classification_report"
      ]
    },
    {
      "cell_type": "code",
      "execution_count": null,
      "metadata": {
        "id": "S-5DpDII0AtV"
      },
      "outputs": [],
      "source": [
        "# df = pd.read_csv('/content/drive/My Drive/audio_data/combined_df.csv', header=None)"
      ]
    },
    {
      "cell_type": "code",
      "execution_count": null,
      "metadata": {
        "id": "2ZwFQrcLfTAl"
      },
      "outputs": [],
      "source": [
        "X_train = np.load('/content/drive/My Drive/audio_data/xtrain.npy')\n",
        "X_test = np.load('/content/drive/My Drive/audio_data/xtest.npy')\n",
        "y_train = np.load('/content/drive/My Drive/audio_data/ytrain.npy')\n",
        "y_test = np.load('/content/drive/My Drive/audio_data/ytest.npy')\n"
      ]
    },
    {
      "cell_type": "code",
      "execution_count": null,
      "metadata": {
        "id": "2Xu5c9o_xvx3"
      },
      "outputs": [],
      "source": [
        "#normalizing\n",
        "scaler = StandardScaler()\n",
        "X_train = scaler.fit_transform(X_train)\n",
        "X_test = scaler.transform(X_test)"
      ]
    },
    {
      "cell_type": "code",
      "execution_count": null,
      "metadata": {
        "id": "TE0q5DWf7AVR"
      },
      "outputs": [],
      "source": [
        "# creating a model\n",
        "model = models.Sequential()\n",
        "model.add(layers.Dense(128, activation='relu' ))\n",
        "\n",
        "model.add(layers.Dense(64, activation='relu'))\n",
        "\n",
        "model.add(layers.Dense(32, activation='relu'))\n",
        "\n",
        "model.add(layers.Dense(1, activation='sigmoid'))\n",
        "\n",
        "model.compile(optimizer='adam',\n",
        "              loss='binary_crossentropy',\n",
        "              metrics=['accuracy'])"
      ]
    },
    {
      "cell_type": "code",
      "execution_count": null,
      "metadata": {
        "colab": {
          "base_uri": "https://localhost:8080/"
        },
        "id": "Wv21Sr_h7D9m",
        "outputId": "36e0ff7b-b36d-473f-dbbc-5f427008dca3"
      },
      "outputs": [
        {
          "output_type": "stream",
          "name": "stdout",
          "text": [
            "Epoch 1/100\n",
            "16/16 [==============================] - 3s 3ms/step - loss: 0.6552 - accuracy: 0.6172\n",
            "Epoch 2/100\n",
            "16/16 [==============================] - 0s 2ms/step - loss: 0.6127 - accuracy: 0.6797\n",
            "Epoch 3/100\n",
            "16/16 [==============================] - 0s 3ms/step - loss: 0.5843 - accuracy: 0.6816\n",
            "Epoch 4/100\n",
            "16/16 [==============================] - 0s 2ms/step - loss: 0.5577 - accuracy: 0.6875\n",
            "Epoch 5/100\n",
            "16/16 [==============================] - 0s 3ms/step - loss: 0.5330 - accuracy: 0.7285\n",
            "Epoch 6/100\n",
            "16/16 [==============================] - 0s 2ms/step - loss: 0.5079 - accuracy: 0.7520\n",
            "Epoch 7/100\n",
            "16/16 [==============================] - 0s 2ms/step - loss: 0.4768 - accuracy: 0.7773\n",
            "Epoch 8/100\n",
            "16/16 [==============================] - 0s 2ms/step - loss: 0.4463 - accuracy: 0.7910\n",
            "Epoch 9/100\n",
            "16/16 [==============================] - 0s 3ms/step - loss: 0.4238 - accuracy: 0.8047\n",
            "Epoch 10/100\n",
            "16/16 [==============================] - 0s 3ms/step - loss: 0.3845 - accuracy: 0.8496\n",
            "Epoch 11/100\n",
            "16/16 [==============================] - 0s 3ms/step - loss: 0.3529 - accuracy: 0.8535\n",
            "Epoch 12/100\n",
            "16/16 [==============================] - 0s 3ms/step - loss: 0.3211 - accuracy: 0.8711\n",
            "Epoch 13/100\n",
            "16/16 [==============================] - 0s 3ms/step - loss: 0.2992 - accuracy: 0.8770\n",
            "Epoch 14/100\n",
            "16/16 [==============================] - 0s 3ms/step - loss: 0.2714 - accuracy: 0.8926\n",
            "Epoch 15/100\n",
            "16/16 [==============================] - 0s 3ms/step - loss: 0.2561 - accuracy: 0.8926\n",
            "Epoch 16/100\n",
            "16/16 [==============================] - 0s 3ms/step - loss: 0.2322 - accuracy: 0.9043\n",
            "Epoch 17/100\n",
            "16/16 [==============================] - 0s 3ms/step - loss: 0.2115 - accuracy: 0.9121\n",
            "Epoch 18/100\n",
            "16/16 [==============================] - 0s 3ms/step - loss: 0.1929 - accuracy: 0.9277\n",
            "Epoch 19/100\n",
            "16/16 [==============================] - 0s 2ms/step - loss: 0.1706 - accuracy: 0.9453\n",
            "Epoch 20/100\n",
            "16/16 [==============================] - 0s 2ms/step - loss: 0.1607 - accuracy: 0.9336\n",
            "Epoch 21/100\n",
            "16/16 [==============================] - 0s 3ms/step - loss: 0.1453 - accuracy: 0.9414\n",
            "Epoch 22/100\n",
            "16/16 [==============================] - 0s 3ms/step - loss: 0.1399 - accuracy: 0.9492\n",
            "Epoch 23/100\n",
            "16/16 [==============================] - 0s 3ms/step - loss: 0.1303 - accuracy: 0.9492\n",
            "Epoch 24/100\n",
            "16/16 [==============================] - 0s 3ms/step - loss: 0.1336 - accuracy: 0.9434\n",
            "Epoch 25/100\n",
            "16/16 [==============================] - 0s 3ms/step - loss: 0.1266 - accuracy: 0.9434\n",
            "Epoch 26/100\n",
            "16/16 [==============================] - 0s 3ms/step - loss: 0.1169 - accuracy: 0.9551\n",
            "Epoch 27/100\n",
            "16/16 [==============================] - 0s 3ms/step - loss: 0.1120 - accuracy: 0.9512\n",
            "Epoch 28/100\n",
            "16/16 [==============================] - 0s 3ms/step - loss: 0.1036 - accuracy: 0.9629\n",
            "Epoch 29/100\n",
            "16/16 [==============================] - 0s 3ms/step - loss: 0.1012 - accuracy: 0.9473\n",
            "Epoch 30/100\n",
            "16/16 [==============================] - 0s 2ms/step - loss: 0.0921 - accuracy: 0.9609\n",
            "Epoch 31/100\n",
            "16/16 [==============================] - 0s 3ms/step - loss: 0.0976 - accuracy: 0.9551\n",
            "Epoch 32/100\n",
            "16/16 [==============================] - 0s 3ms/step - loss: 0.0848 - accuracy: 0.9668\n",
            "Epoch 33/100\n",
            "16/16 [==============================] - 0s 3ms/step - loss: 0.0856 - accuracy: 0.9629\n",
            "Epoch 34/100\n",
            "16/16 [==============================] - 0s 3ms/step - loss: 0.0784 - accuracy: 0.9707\n",
            "Epoch 35/100\n",
            "16/16 [==============================] - 0s 3ms/step - loss: 0.0806 - accuracy: 0.9688\n",
            "Epoch 36/100\n",
            "16/16 [==============================] - 0s 3ms/step - loss: 0.1158 - accuracy: 0.9434\n",
            "Epoch 37/100\n",
            "16/16 [==============================] - 0s 3ms/step - loss: 0.0750 - accuracy: 0.9688\n",
            "Epoch 38/100\n",
            "16/16 [==============================] - 0s 2ms/step - loss: 0.0748 - accuracy: 0.9648\n",
            "Epoch 39/100\n",
            "16/16 [==============================] - 0s 2ms/step - loss: 0.0695 - accuracy: 0.9746\n",
            "Epoch 40/100\n",
            "16/16 [==============================] - 0s 2ms/step - loss: 0.0706 - accuracy: 0.9707\n",
            "Epoch 41/100\n",
            "16/16 [==============================] - 0s 2ms/step - loss: 0.0690 - accuracy: 0.9629\n",
            "Epoch 42/100\n",
            "16/16 [==============================] - 0s 3ms/step - loss: 0.0657 - accuracy: 0.9688\n",
            "Epoch 43/100\n",
            "16/16 [==============================] - 0s 2ms/step - loss: 0.0572 - accuracy: 0.9785\n",
            "Epoch 44/100\n",
            "16/16 [==============================] - 0s 2ms/step - loss: 0.0766 - accuracy: 0.9590\n",
            "Epoch 45/100\n",
            "16/16 [==============================] - 0s 3ms/step - loss: 0.0695 - accuracy: 0.9668\n",
            "Epoch 46/100\n",
            "16/16 [==============================] - 0s 3ms/step - loss: 0.0707 - accuracy: 0.9629\n",
            "Epoch 47/100\n",
            "16/16 [==============================] - 0s 3ms/step - loss: 0.0686 - accuracy: 0.9727\n",
            "Epoch 48/100\n",
            "16/16 [==============================] - 0s 3ms/step - loss: 0.0646 - accuracy: 0.9707\n",
            "Epoch 49/100\n",
            "16/16 [==============================] - 0s 3ms/step - loss: 0.0574 - accuracy: 0.9824\n",
            "Epoch 50/100\n",
            "16/16 [==============================] - 0s 3ms/step - loss: 0.0579 - accuracy: 0.9707\n",
            "Epoch 51/100\n",
            "16/16 [==============================] - 0s 3ms/step - loss: 0.0535 - accuracy: 0.9805\n",
            "Epoch 52/100\n",
            "16/16 [==============================] - 0s 3ms/step - loss: 0.0583 - accuracy: 0.9688\n",
            "Epoch 53/100\n",
            "16/16 [==============================] - 0s 3ms/step - loss: 0.0562 - accuracy: 0.9805\n",
            "Epoch 54/100\n",
            "16/16 [==============================] - 0s 3ms/step - loss: 0.0520 - accuracy: 0.9844\n",
            "Epoch 55/100\n",
            "16/16 [==============================] - 0s 3ms/step - loss: 0.0512 - accuracy: 0.9805\n",
            "Epoch 56/100\n",
            "16/16 [==============================] - 0s 3ms/step - loss: 0.0498 - accuracy: 0.9844\n",
            "Epoch 57/100\n",
            "16/16 [==============================] - 0s 3ms/step - loss: 0.0485 - accuracy: 0.9844\n",
            "Epoch 58/100\n",
            "16/16 [==============================] - 0s 3ms/step - loss: 0.0505 - accuracy: 0.9766\n",
            "Epoch 59/100\n",
            "16/16 [==============================] - 0s 2ms/step - loss: 0.0490 - accuracy: 0.9746\n",
            "Epoch 60/100\n",
            "16/16 [==============================] - 0s 2ms/step - loss: 0.0570 - accuracy: 0.9766\n",
            "Epoch 61/100\n",
            "16/16 [==============================] - 0s 3ms/step - loss: 0.0793 - accuracy: 0.9590\n",
            "Epoch 62/100\n",
            "16/16 [==============================] - 0s 3ms/step - loss: 0.0665 - accuracy: 0.9727\n",
            "Epoch 63/100\n",
            "16/16 [==============================] - 0s 3ms/step - loss: 0.0475 - accuracy: 0.9844\n",
            "Epoch 64/100\n",
            "16/16 [==============================] - 0s 3ms/step - loss: 0.0435 - accuracy: 0.9844\n",
            "Epoch 65/100\n",
            "16/16 [==============================] - 0s 3ms/step - loss: 0.0432 - accuracy: 0.9844\n",
            "Epoch 66/100\n",
            "16/16 [==============================] - 0s 3ms/step - loss: 0.0391 - accuracy: 0.9863\n",
            "Epoch 67/100\n",
            "16/16 [==============================] - 0s 2ms/step - loss: 0.0385 - accuracy: 0.9863\n",
            "Epoch 68/100\n",
            "16/16 [==============================] - 0s 3ms/step - loss: 0.0369 - accuracy: 0.9922\n",
            "Epoch 69/100\n",
            "16/16 [==============================] - 0s 3ms/step - loss: 0.0371 - accuracy: 0.9844\n",
            "Epoch 70/100\n",
            "16/16 [==============================] - 0s 3ms/step - loss: 0.0387 - accuracy: 0.9883\n",
            "Epoch 71/100\n",
            "16/16 [==============================] - 0s 2ms/step - loss: 0.0390 - accuracy: 0.9863\n",
            "Epoch 72/100\n",
            "16/16 [==============================] - 0s 3ms/step - loss: 0.0455 - accuracy: 0.9785\n",
            "Epoch 73/100\n",
            "16/16 [==============================] - 0s 3ms/step - loss: 0.0533 - accuracy: 0.9688\n",
            "Epoch 74/100\n",
            "16/16 [==============================] - 0s 3ms/step - loss: 0.0465 - accuracy: 0.9785\n",
            "Epoch 75/100\n",
            "16/16 [==============================] - 0s 3ms/step - loss: 0.0392 - accuracy: 0.9883\n",
            "Epoch 76/100\n",
            "16/16 [==============================] - 0s 3ms/step - loss: 0.0352 - accuracy: 0.9863\n",
            "Epoch 77/100\n",
            "16/16 [==============================] - 0s 3ms/step - loss: 0.0344 - accuracy: 0.9883\n",
            "Epoch 78/100\n",
            "16/16 [==============================] - 0s 3ms/step - loss: 0.0466 - accuracy: 0.9844\n",
            "Epoch 79/100\n",
            "16/16 [==============================] - 0s 3ms/step - loss: 0.0566 - accuracy: 0.9688\n",
            "Epoch 80/100\n",
            "16/16 [==============================] - 0s 3ms/step - loss: 0.0384 - accuracy: 0.9844\n",
            "Epoch 81/100\n",
            "16/16 [==============================] - 0s 3ms/step - loss: 0.0416 - accuracy: 0.9785\n",
            "Epoch 82/100\n",
            "16/16 [==============================] - 0s 3ms/step - loss: 0.0340 - accuracy: 0.9863\n",
            "Epoch 83/100\n",
            "16/16 [==============================] - 0s 2ms/step - loss: 0.0514 - accuracy: 0.9727\n",
            "Epoch 84/100\n",
            "16/16 [==============================] - 0s 3ms/step - loss: 0.0441 - accuracy: 0.9785\n",
            "Epoch 85/100\n",
            "16/16 [==============================] - 0s 3ms/step - loss: 0.0364 - accuracy: 0.9902\n",
            "Epoch 86/100\n",
            "16/16 [==============================] - 0s 2ms/step - loss: 0.0492 - accuracy: 0.9824\n",
            "Epoch 87/100\n",
            "16/16 [==============================] - 0s 3ms/step - loss: 0.1022 - accuracy: 0.9609\n",
            "Epoch 88/100\n",
            "16/16 [==============================] - 0s 2ms/step - loss: 0.2048 - accuracy: 0.9355\n",
            "Epoch 89/100\n",
            "16/16 [==============================] - 0s 3ms/step - loss: 0.1556 - accuracy: 0.9492\n",
            "Epoch 90/100\n",
            "16/16 [==============================] - 0s 3ms/step - loss: 0.1077 - accuracy: 0.9629\n",
            "Epoch 91/100\n",
            "16/16 [==============================] - 0s 3ms/step - loss: 0.0605 - accuracy: 0.9844\n",
            "Epoch 92/100\n",
            "16/16 [==============================] - 0s 3ms/step - loss: 0.0414 - accuracy: 0.9844\n",
            "Epoch 93/100\n",
            "16/16 [==============================] - 0s 3ms/step - loss: 0.0342 - accuracy: 0.9902\n",
            "Epoch 94/100\n",
            "16/16 [==============================] - 0s 3ms/step - loss: 0.0324 - accuracy: 0.9902\n",
            "Epoch 95/100\n",
            "16/16 [==============================] - 0s 3ms/step - loss: 0.0306 - accuracy: 0.9922\n",
            "Epoch 96/100\n",
            "16/16 [==============================] - 0s 3ms/step - loss: 0.0297 - accuracy: 0.9922\n",
            "Epoch 97/100\n",
            "16/16 [==============================] - 0s 2ms/step - loss: 0.0330 - accuracy: 0.9902\n",
            "Epoch 98/100\n",
            "16/16 [==============================] - 0s 3ms/step - loss: 0.0312 - accuracy: 0.9902\n",
            "Epoch 99/100\n",
            "16/16 [==============================] - 0s 3ms/step - loss: 0.0573 - accuracy: 0.9707\n",
            "Epoch 100/100\n",
            "16/16 [==============================] - 0s 2ms/step - loss: 0.0481 - accuracy: 0.9805\n"
          ]
        }
      ],
      "source": [
        "history = model.fit(X_train,\n",
        "                    y_train,\n",
        "                    epochs=100,\n",
        "                    batch_size=32)"
      ]
    },
    {
      "cell_type": "code",
      "execution_count": null,
      "metadata": {
        "colab": {
          "base_uri": "https://localhost:8080/"
        },
        "id": "s3zLT_Ty7HgG",
        "outputId": "20973f3d-85b6-403e-cf79-f6565b4c38ea"
      },
      "outputs": [
        {
          "output_type": "stream",
          "name": "stdout",
          "text": [
            "4/4 [==============================] - 0s 3ms/step - loss: 0.8847 - accuracy: 0.8281\n",
            "test_acc:  0.828125\n"
          ]
        }
      ],
      "source": [
        "# calculate accuracy\n",
        "test_loss_a, test_acc_a = model.evaluate(X_test,y_test)\n",
        "print('test_acc: ',test_acc_a)\n",
        "\n",
        "\n"
      ]
    },
    {
      "cell_type": "code",
      "execution_count": null,
      "metadata": {
        "id": "PHK8UNQUmyHq"
      },
      "outputs": [],
      "source": [
        "# predictions\n",
        "predictions = model.predict(X_test)\n",
        "# print(predictions)"
      ]
    },
    {
      "cell_type": "code",
      "execution_count": null,
      "metadata": {
        "colab": {
          "base_uri": "https://localhost:8080/"
        },
        "id": "du6CAPDYhss2",
        "outputId": "e2906de2-02d4-469c-8b6e-f1b8da5e4ae8"
      },
      "outputs": [
        {
          "output_type": "stream",
          "name": "stdout",
          "text": [
            "              precision    recall  f1-score   support\n",
            "\n",
            "           0       0.88      0.90      0.89        96\n",
            "           1       0.67      0.62      0.65        32\n",
            "\n",
            "    accuracy                           0.83       128\n",
            "   macro avg       0.77      0.76      0.77       128\n",
            "weighted avg       0.82      0.83      0.83       128\n",
            "\n"
          ]
        }
      ],
      "source": [
        "print(classification_report(y_test, predictions.round()))"
      ]
    },
    {
      "cell_type": "code",
      "source": [
        "########################## To save the model #############################################"
      ],
      "metadata": {
        "id": "IYfdZeiNOzCr"
      },
      "execution_count": null,
      "outputs": []
    },
    {
      "cell_type": "code",
      "source": [
        "#save model\n",
        "model.save('/content/drive/My Drive/saved_models/audio_model')"
      ],
      "metadata": {
        "colab": {
          "base_uri": "https://localhost:8080/"
        },
        "id": "TWVDHZFeKGUc",
        "outputId": "bf197917-47a9-405d-9c60-84f53865d448"
      },
      "execution_count": null,
      "outputs": [
        {
          "output_type": "stream",
          "name": "stdout",
          "text": [
            "INFO:tensorflow:Assets written to: /content/drive/My Drive/saved_models/audio_model/assets\n"
          ]
        }
      ]
    },
    {
      "cell_type": "code",
      "execution_count": null,
      "metadata": {
        "id": "guGhuj6jlt-i"
      },
      "outputs": [],
      "source": [
        "#load model\n",
        "# new_model = tf.keras.models.load_model('saved_model/my_model')"
      ]
    },
    {
      "cell_type": "markdown",
      "metadata": {
        "id": "h9AvY8KUvkOb"
      },
      "source": [
        "#Video Module"
      ]
    },
    {
      "cell_type": "code",
      "execution_count": null,
      "metadata": {
        "id": "p0UeUpiL_V1r"
      },
      "outputs": [],
      "source": [
        "from sklearn.ensemble import RandomForestClassifier\n",
        "import pandas as pd\n",
        "import numpy as np\n",
        "from sklearn.svm import SVC\n",
        "from sklearn.metrics import classification_report\n",
        "from sklearn import metrics"
      ]
    },
    {
      "cell_type": "code",
      "execution_count": null,
      "metadata": {
        "id": "nS6ZgonfC0HG"
      },
      "outputs": [],
      "source": [
        "#Video\n",
        "\n",
        "# print(\"Video : \")\n",
        "\n",
        "from sklearn.ensemble import RandomForestClassifier\n",
        "import pandas as pd\n",
        "import numpy as np\n",
        "\n",
        "def processData(data):\n",
        "    # print(data)\n",
        "    X = data.iloc[:,:].values\n",
        "    X = np.delete(X, 0, 1)\n",
        "    X = np.delete(X, 1, 1)\n",
        "    for i in range(len(X)):\n",
        "        if(isinstance(X[i][5],str) or isinstance(X[i][7],str)):\n",
        "            X[i] = np.zeros((1, X.shape[1]))\n",
        "\n",
        "    X = np.mean(X, 0)\n",
        "    X = np.array(X.reshape(1, -1))\n",
        "    # print(X)\n",
        "    # print(X.shape)\n",
        "    return X\n",
        "\n",
        "def getData(filename):\n",
        "    # print(filename)\n",
        "    data = pd.read_csv(filename,delimiter=',')\n",
        "    X = processData(data)\n",
        "    return X\n",
        "\n",
        "def makeDataPoint(patientNo):\n",
        "    file1 = (patientNo)+\"_CLNF_AUs.txt\"\n",
        "    file2 = (patientNo)+\"_CLNF_features.txt\"\n",
        "    file3 = (patientNo)+\"_CLNF_features3D.txt\"\n",
        "    file4 = (patientNo)+\"_CLNF_gaze.txt\"\n",
        "    file5 = (patientNo)+\"_CLNF_hog.txt\"\n",
        "    file6 = (patientNo)+\"_CLNF_pose.txt\"\n",
        "\n",
        "    X1 = getData(file1)\n",
        "    X2 = getData(file2)\n",
        "    X3 = getData(file3)\n",
        "    X4 = getData(file4)\n",
        "    # X5 = getData(file5)\n",
        "    X6 = getData(file6)\n",
        "\n",
        "    X = np.concatenate((X1, X2, X3, X4, X6), 1)\n",
        "    # print(X)\n",
        "    # print(X.shape)\n",
        "    return X\n",
        "\n",
        "count0 = 0\n",
        "count1 = 0\n",
        "\n",
        "def makeDataset(location, folder):\n",
        "    global count0\n",
        "    global count1\n",
        "    file  = np.array(pd.read_csv(location,delimiter=',',encoding='utf-8', low_memory=False))[:, 0:2]\n",
        "    X_temp = np.zeros((1,388))\n",
        "    Y_temp = []\n",
        "    for i in range(len(file)):\n",
        "      if(int(file[i][1]) == 0):\n",
        "        count0 += 1\n",
        "        if(count0 >39):\n",
        "          continue\n",
        "      patientID = (str(int(file[i][0])))\n",
        "      #print(patientID)\n",
        "      string = '/content/drive/My Drive/MCA Dataset/' + folder +\"/\"+ patientID\n",
        "      X_temp = np.concatenate((X_temp, makeDataPoint(string)), 0)\n",
        "      Y_temp.append(int(file[i][1]))\n",
        "    X_temp = np.delete(X_temp,0,0)\n",
        "    Y_temp = np.asarray(Y_temp)\n",
        "    return X_temp, Y_temp\n",
        "\n",
        "\n",
        "\n"
      ]
    },
    {
      "cell_type": "code",
      "execution_count": null,
      "metadata": {
        "colab": {
          "base_uri": "https://localhost:8080/"
        },
        "id": "MQSMK0ahC0C9",
        "outputId": "f2c90380-b72d-45b4-b8e6-a8175270e797"
      },
      "outputs": [
        {
          "output_type": "stream",
          "name": "stdout",
          "text": [
            "train\n",
            "dev\n"
          ]
        },
        {
          "output_type": "stream",
          "name": "stderr",
          "text": [
            "/usr/local/lib/python3.7/dist-packages/ipykernel_launcher.py:39: DtypeWarning: Columns (4,5,6,7,8,9,10,11,12,13,14,15,16,17,18,19,20,21,22,23,24,25,26,27,28,29,30,31,32,33,34,35,36,37,38,39,40,41,42,43,44,45,46,47,48,49,50,51,52,53,54,55,56,57,58,59,60,61,62,63,64,65,66,67,68,69,70,71,72,73,74,75,76,77,78,79,80,81,82,83,84,85,86,87,88,89,90,91,92,93,94,95,96,97,98,99,100,101,102,103,104,105,106,107,108,109,110,111,112,113,114,115,116,117,118,119,120,121,122,123,124,125,126,127,128,129,130,131,132,133,134,135,136,137,138,139) have mixed types.Specify dtype option on import or set low_memory=False.\n",
            "/usr/local/lib/python3.7/dist-packages/ipykernel_launcher.py:40: DtypeWarning: Columns (4,5,6,7,8,9,10,11,12,13,14,15,16,17,18,19,20,21,22,23,24,25,26,27,28,29,30,31,32,33,34,35,36,37,38,39,40,41,42,43,44,45,46,47,48,49,50,51,52,53,54,55,56,57,58,59,60,61,62,63,64,65,66,67,68,69,70,71,72,73,74,75,76,77,78,79,80,81,82,83,84,85,86,87,88,89,90,91,92,93,94,95,96,97,98,99,100,101,102,103,104,105,106,107,108,109,110,111,112,113,114,115,116,117,118,119,120,121,122,123,124,125,126,127,128,129,130,131,132,133,134,135,136,137,138,139,140,141,142,143,144,145,146,147,148,149,150,151,152,153,154,155,156,157,158,159,160,161,162,163,164,165,166,167,168,169,170,171,172,173,174,175,176,177,178,179,180,181,182,183,184,185,186,187,188,189,190,191,192,193,194,195,196,197,198,199,200,201,202,203,204,205,206,207) have mixed types.Specify dtype option on import or set low_memory=False.\n"
          ]
        },
        {
          "output_type": "stream",
          "name": "stdout",
          "text": [
            "test\n",
            "[0 0 0 0 0 0 0 0 0 0 1 1 1 0 0 1 0 0 0 1 0 0 1 1 0 0 0 1 1 1 1 1 1 1 1 1 1\n",
            " 0 0 0 1 0 0 0 0 0 0 0 1 0 0 1 0 1 0 0 1 0 0 0 0 1 1 1 1 1 1 1 1 1 1 1 1 1\n",
            " 1 1 1 1 1 1 1]\n"
          ]
        }
      ],
      "source": [
        "print(\"train\")\n",
        "X_train, Y_train = makeDataset('/content/drive/My Drive/MCA Dataset/train_split_Depression_AVEC2017.csv', 'train_data')\n",
        "print(\"dev\")\n",
        "X_dev, Y_dev = makeDataset('/content/drive/My Drive/MCA Dataset/dev_split_Depression_AVEC2017.csv', 'dev_data')\n",
        "count0 = 0\n",
        "X_train = np.concatenate((X_train, X_dev), 0  )\n",
        "Y_train = np.concatenate((Y_train, Y_dev), 0  )\n",
        "\n",
        "print(\"test\")\n",
        "X_test, Y_test = makeDataset('/content/drive/My Drive/MCA Dataset/full_test_split.csv', 'test_data')\n",
        "\n",
        "print(Y_train)"
      ]
    },
    {
      "cell_type": "code",
      "execution_count": null,
      "metadata": {
        "id": "8yPlOm8CUpMe"
      },
      "outputs": [],
      "source": [
        "# np.save('/content/drive/My Drive/audio_data/videoML_xtrain.npy', X_train)\n",
        "# np.save('/content/drive/My Drive/audio_data/videoML_xtest.npy', X_test)\n",
        "# np.save('/content/drive/My Drive/audio_data/videoML_ytrain.npy', Y_train)\n",
        "# np.save('/content/drive/My Drive/audio_data/videoML_ytest.npy', Y_test)"
      ]
    },
    {
      "cell_type": "code",
      "execution_count": null,
      "metadata": {
        "id": "53VanjzvVP_7"
      },
      "outputs": [],
      "source": [
        "# X_train = np.load('/content/drive/My Drive/audio_data/videoML_xtrain.npy')\n",
        "# X_test = np.load('/content/drive/My Drive/audio_data/videoML_xtest.npy')\n",
        "# Y_train = np.load('/content/drive/My Drive/audio_data/videoML_ytrain.npy')\n",
        "# Y_test = np.load('/content/drive/My Drive/audio_data/videoML_ytest.npy')"
      ]
    },
    {
      "cell_type": "code",
      "execution_count": null,
      "metadata": {
        "colab": {
          "base_uri": "https://localhost:8080/"
        },
        "id": "wIGzplfC1yY8",
        "outputId": "445cda08-1d3b-490b-d422-0b3c70496797"
      },
      "outputs": [
        {
          "output_type": "stream",
          "name": "stdout",
          "text": [
            "[[ 0.10597545  0.7562539   0.49019156 ... -1.79536994  0.17531763\n",
            "  -0.31491738]\n",
            " [-0.52555507 -0.90887952  0.6385864  ... -1.42678952  0.28582234\n",
            "  -0.90343702]\n",
            " [ 2.45928632  0.60050928  0.4057917  ... -1.35444052  1.22340489\n",
            "  -0.31916397]\n",
            " ...\n",
            " [ 1.24938957 -0.04655008  3.69939457 ... -0.14465841  0.14506043\n",
            "   0.4184208 ]\n",
            " [ 1.50997096 -0.56469359  0.81869417 ... -0.28571969  1.22988828\n",
            "  -0.69636632]\n",
            " [ 2.0434696  -0.85899382 -0.46430977 ...  1.43894123 -1.47238811\n",
            "  -1.89642009]]\n",
            "[[-0.99737441  0.60996015  0.28578804 ... -0.07797502  0.58869598\n",
            "  -2.23244013]\n",
            " [-0.42282901  0.77070598 -1.73254779 ...  0.18290487 -1.04139004\n",
            "  -0.54808756]\n",
            " [-0.31115127  0.72214897 -0.28977623 ... -1.5734965  -1.34253206\n",
            "  -1.08963453]\n",
            " ...\n",
            " [ 0.00739774  0.60056331  0.79091778 ...  1.52879386  0.00398596\n",
            "  -1.81896955]\n",
            " [-0.28647955 -2.26268319 -0.67844973 ... -0.42977991  2.74780748\n",
            "  -2.38416019]\n",
            " [ 0.5345647   0.19975499  1.5999336  ... -0.89852531 -0.02213174\n",
            "  -1.01777375]]\n"
          ]
        }
      ],
      "source": [
        "scaler = StandardScaler()\n",
        "X_train = scaler.fit_transform(X_train)\n",
        "X_test = scaler.transform(X_test)\n",
        "print(X_train)\n",
        "print(X_test)"
      ]
    },
    {
      "cell_type": "code",
      "execution_count": null,
      "metadata": {
        "colab": {
          "base_uri": "https://localhost:8080/"
        },
        "id": "GBoVdWu5Fh66",
        "outputId": "f142602c-cc44-4998-d038-d81fbd826609"
      },
      "outputs": [
        {
          "output_type": "stream",
          "name": "stdout",
          "text": [
            "The best accuracy was with 0.6595744680851063 with k= 2\n"
          ]
        }
      ],
      "source": [
        "k = 45\n",
        "#Training and Predicting  \n",
        "neigh = KNeighborsClassifier(n_neighbors = k).fit(X_train,Y_train)\n",
        "pred_knn = neigh.predict(X_train)\n",
        "pred_test_knn = neigh.predict(X_test)\n",
        "pred_test_knn[0:5]\n",
        "\n",
        "Ks = 50\n",
        "mean_acc = np.zeros((Ks-1))\n",
        "std_acc = np.zeros((Ks-1))\n",
        "ConfustionMx = [];\n",
        "for n in range(1,Ks):\n",
        "    \n",
        "    #Train Model and Predict  \n",
        "    neigh = KNeighborsClassifier(n_neighbors = n).fit(X_train,Y_train)\n",
        "    pred_test_knn=neigh.predict(X_test)\n",
        "    mean_acc[n-1] = metrics.accuracy_score(Y_test, pred_test_knn)\n",
        "\n",
        "    \n",
        "    std_acc[n-1]=np.std(pred_test_knn==Y_test)/np.sqrt(pred_test_knn.shape[0])\n",
        "\n",
        "mean_acc\n",
        "\n",
        "print( \"The best accuracy was with\", mean_acc.max(), \"with k=\", mean_acc.argmax()+1) "
      ]
    },
    {
      "cell_type": "code",
      "execution_count": null,
      "metadata": {
        "id": "dj96J7rtGcEB"
      },
      "outputs": [],
      "source": [
        "neigh = KNeighborsClassifier(n_neighbors = 2).fit(X_train,Y_train)\n",
        "pred_test_knn=neigh.predict(X_test)"
      ]
    },
    {
      "cell_type": "code",
      "execution_count": null,
      "metadata": {
        "colab": {
          "base_uri": "https://localhost:8080/"
        },
        "id": "NK78ysewGHRt",
        "outputId": "64907164-93e3-4029-c270-fee487339bec"
      },
      "outputs": [
        {
          "output_type": "stream",
          "name": "stdout",
          "text": [
            "              precision    recall  f1-score   support\n",
            "\n",
            "           0       0.77      0.73      0.75        33\n",
            "           1       0.44      0.50      0.47        14\n",
            "\n",
            "    accuracy                           0.66        47\n",
            "   macro avg       0.61      0.61      0.61        47\n",
            "weighted avg       0.67      0.66      0.67        47\n",
            "\n"
          ]
        }
      ],
      "source": [
        "print(metrics.classification_report(Y_test, pred_test_knn))"
      ]
    },
    {
      "cell_type": "code",
      "source": [
        "test_acc_v = metrics.accuracy_score(Y_test, pred_test_knn)\n",
        "print(test_acc_v.round(2))"
      ],
      "metadata": {
        "colab": {
          "base_uri": "https://localhost:8080/"
        },
        "id": "-IPa2HQ2xVK7",
        "outputId": "daebab63-3c68-41f2-9ad7-162cdf2ce136"
      },
      "execution_count": null,
      "outputs": [
        {
          "output_type": "stream",
          "name": "stdout",
          "text": [
            "0.66\n"
          ]
        }
      ]
    },
    {
      "cell_type": "code",
      "source": [
        "########################## To save the model #############################################"
      ],
      "metadata": {
        "id": "wlWF9pMhD5o2"
      },
      "execution_count": null,
      "outputs": []
    },
    {
      "cell_type": "code",
      "source": [
        "# Save the model as a pickle in a file\n",
        "joblib.dump(neigh, '/content/drive/My Drive/saved_models/video_model.pkl')\n",
        " \n",
        "# # Load the model from the file\n",
        "# knn_from_joblib = joblib.load('filename.pkl')\n",
        " \n",
        "# # Use the loaded model to make predictions\n",
        "# knn_from_joblib.predict(X_test)"
      ],
      "metadata": {
        "colab": {
          "base_uri": "https://localhost:8080/"
        },
        "id": "VRw604wqEUCm",
        "outputId": "b267f6f8-81d1-47cd-ca3a-3106f9effdab"
      },
      "execution_count": null,
      "outputs": [
        {
          "output_type": "execute_result",
          "data": {
            "text/plain": [
              "['/content/drive/My Drive/saved_models/video_model.pkl']"
            ]
          },
          "metadata": {},
          "execution_count": 12
        }
      ]
    },
    {
      "cell_type": "code",
      "source": [],
      "metadata": {
        "id": "xlBGcUmCEUAI"
      },
      "execution_count": null,
      "outputs": []
    },
    {
      "cell_type": "markdown",
      "source": [
        "# Fusion for Depression Detection (0 | 1)"
      ],
      "metadata": {
        "id": "7PflSMG4A0yF"
      }
    },
    {
      "cell_type": "code",
      "source": [
        "#load models\n",
        "eeg_model = joblib.load('/content/drive/My Drive/saved_models/eeg_model.pkl')\n",
        "video_model = joblib.load('/content/drive/My Drive/saved_models/video_model.pkl')\n",
        "# audio_model = joblib.load('/content/drive/My Drive/saved_models/audio_knn.pkl')\n",
        "audio_model = tf.keras.models.load_model('/content/drive/My Drive/saved_models/audio_model')"
      ],
      "metadata": {
        "id": "FNE6VR1xOoqB"
      },
      "execution_count": null,
      "outputs": []
    },
    {
      "cell_type": "markdown",
      "source": [
        "## Get data instances"
      ],
      "metadata": {
        "id": "w3V-6Qd3TrCv"
      }
    },
    {
      "cell_type": "markdown",
      "source": [
        "### audio data"
      ],
      "metadata": {
        "id": "Bj-zB16bHSsg"
      }
    },
    {
      "cell_type": "code",
      "source": [
        "audio_1 = pd.DataFrame([[-0.2596735, -0.50194013, -0.46613182, -0.5643582, -0.47627463, -0.46204195, -0.40727931, 0.74268959, -1.7024481, 0.28516535, -0.85800545, -1.18019641, -1.05231356, -2.73309019, 1.14803668, -1.3624679, -0.87839032, 1.85343487, -2.07122509, -0.61635689, 1.03520932, -1.1271249, -1.83945593, -0.24893407, 0.46151611, -1.82637981]])"
      ],
      "metadata": {
        "id": "UP4CLbZVTuI9"
      },
      "execution_count": null,
      "outputs": []
    },
    {
      "cell_type": "code",
      "source": [
        "audio_2 = pd.DataFrame([[0.569320023, 0.017553795, 1179.037573, 1526.276326, 2431.840489, 0.04723667, -378.723999, 89.88813019, 34.43695068, 23.43453407, 9.176048279, 14.36908436, 2.037665129, -0.586535037, 3.183698654, -2.697319269, 3.535515547, 3.85468936, -0.833142698, 2.360462666, 3.653418779, 2.640903234, 2.180514812, -0.018858721,\t2.898318291, 0.768064797, 1]])"
      ],
      "metadata": {
        "id": "VLLs6x4xZXnO"
      },
      "execution_count": null,
      "outputs": []
    },
    {
      "cell_type": "code",
      "source": [
        "audio_df = audio_1"
      ],
      "metadata": {
        "id": "4eF0PDPlqkgR"
      },
      "execution_count": null,
      "outputs": []
    },
    {
      "cell_type": "code",
      "source": [
        "audio_df.head()"
      ],
      "metadata": {
        "colab": {
          "base_uri": "https://localhost:8080/",
          "height": 174
        },
        "id": "ht0-pPVcXGCN",
        "outputId": "bed9c20f-d173-42ff-8119-cf86084c2eee"
      },
      "execution_count": null,
      "outputs": [
        {
          "output_type": "execute_result",
          "data": {
            "text/plain": [
              "         0        1         2         3         4         5         6   \\\n",
              "0 -0.259674 -0.50194 -0.466132 -0.564358 -0.476275 -0.462042 -0.407279   \n",
              "\n",
              "        7         8         9   ...       16        17        18        19  \\\n",
              "0  0.74269 -1.702448  0.285165  ... -0.87839  1.853435 -2.071225 -0.616357   \n",
              "\n",
              "         20        21        22        23        24       25  \n",
              "0  1.035209 -1.127125 -1.839456 -0.248934  0.461516 -1.82638  \n",
              "\n",
              "[1 rows x 26 columns]"
            ],
            "text/html": [
              "\n",
              "  <div id=\"df-4f7a4349-52a2-46c6-85d3-048d5626cbbf\">\n",
              "    <div class=\"colab-df-container\">\n",
              "      <div>\n",
              "<style scoped>\n",
              "    .dataframe tbody tr th:only-of-type {\n",
              "        vertical-align: middle;\n",
              "    }\n",
              "\n",
              "    .dataframe tbody tr th {\n",
              "        vertical-align: top;\n",
              "    }\n",
              "\n",
              "    .dataframe thead th {\n",
              "        text-align: right;\n",
              "    }\n",
              "</style>\n",
              "<table border=\"1\" class=\"dataframe\">\n",
              "  <thead>\n",
              "    <tr style=\"text-align: right;\">\n",
              "      <th></th>\n",
              "      <th>0</th>\n",
              "      <th>1</th>\n",
              "      <th>2</th>\n",
              "      <th>3</th>\n",
              "      <th>4</th>\n",
              "      <th>5</th>\n",
              "      <th>6</th>\n",
              "      <th>7</th>\n",
              "      <th>8</th>\n",
              "      <th>9</th>\n",
              "      <th>...</th>\n",
              "      <th>16</th>\n",
              "      <th>17</th>\n",
              "      <th>18</th>\n",
              "      <th>19</th>\n",
              "      <th>20</th>\n",
              "      <th>21</th>\n",
              "      <th>22</th>\n",
              "      <th>23</th>\n",
              "      <th>24</th>\n",
              "      <th>25</th>\n",
              "    </tr>\n",
              "  </thead>\n",
              "  <tbody>\n",
              "    <tr>\n",
              "      <th>0</th>\n",
              "      <td>-0.259674</td>\n",
              "      <td>-0.50194</td>\n",
              "      <td>-0.466132</td>\n",
              "      <td>-0.564358</td>\n",
              "      <td>-0.476275</td>\n",
              "      <td>-0.462042</td>\n",
              "      <td>-0.407279</td>\n",
              "      <td>0.74269</td>\n",
              "      <td>-1.702448</td>\n",
              "      <td>0.285165</td>\n",
              "      <td>...</td>\n",
              "      <td>-0.87839</td>\n",
              "      <td>1.853435</td>\n",
              "      <td>-2.071225</td>\n",
              "      <td>-0.616357</td>\n",
              "      <td>1.035209</td>\n",
              "      <td>-1.127125</td>\n",
              "      <td>-1.839456</td>\n",
              "      <td>-0.248934</td>\n",
              "      <td>0.461516</td>\n",
              "      <td>-1.82638</td>\n",
              "    </tr>\n",
              "  </tbody>\n",
              "</table>\n",
              "<p>1 rows × 26 columns</p>\n",
              "</div>\n",
              "      <button class=\"colab-df-convert\" onclick=\"convertToInteractive('df-4f7a4349-52a2-46c6-85d3-048d5626cbbf')\"\n",
              "              title=\"Convert this dataframe to an interactive table.\"\n",
              "              style=\"display:none;\">\n",
              "        \n",
              "  <svg xmlns=\"http://www.w3.org/2000/svg\" height=\"24px\"viewBox=\"0 0 24 24\"\n",
              "       width=\"24px\">\n",
              "    <path d=\"M0 0h24v24H0V0z\" fill=\"none\"/>\n",
              "    <path d=\"M18.56 5.44l.94 2.06.94-2.06 2.06-.94-2.06-.94-.94-2.06-.94 2.06-2.06.94zm-11 1L8.5 8.5l.94-2.06 2.06-.94-2.06-.94L8.5 2.5l-.94 2.06-2.06.94zm10 10l.94 2.06.94-2.06 2.06-.94-2.06-.94-.94-2.06-.94 2.06-2.06.94z\"/><path d=\"M17.41 7.96l-1.37-1.37c-.4-.4-.92-.59-1.43-.59-.52 0-1.04.2-1.43.59L10.3 9.45l-7.72 7.72c-.78.78-.78 2.05 0 2.83L4 21.41c.39.39.9.59 1.41.59.51 0 1.02-.2 1.41-.59l7.78-7.78 2.81-2.81c.8-.78.8-2.07 0-2.86zM5.41 20L4 18.59l7.72-7.72 1.47 1.35L5.41 20z\"/>\n",
              "  </svg>\n",
              "      </button>\n",
              "      \n",
              "  <style>\n",
              "    .colab-df-container {\n",
              "      display:flex;\n",
              "      flex-wrap:wrap;\n",
              "      gap: 12px;\n",
              "    }\n",
              "\n",
              "    .colab-df-convert {\n",
              "      background-color: #E8F0FE;\n",
              "      border: none;\n",
              "      border-radius: 50%;\n",
              "      cursor: pointer;\n",
              "      display: none;\n",
              "      fill: #1967D2;\n",
              "      height: 32px;\n",
              "      padding: 0 0 0 0;\n",
              "      width: 32px;\n",
              "    }\n",
              "\n",
              "    .colab-df-convert:hover {\n",
              "      background-color: #E2EBFA;\n",
              "      box-shadow: 0px 1px 2px rgba(60, 64, 67, 0.3), 0px 1px 3px 1px rgba(60, 64, 67, 0.15);\n",
              "      fill: #174EA6;\n",
              "    }\n",
              "\n",
              "    [theme=dark] .colab-df-convert {\n",
              "      background-color: #3B4455;\n",
              "      fill: #D2E3FC;\n",
              "    }\n",
              "\n",
              "    [theme=dark] .colab-df-convert:hover {\n",
              "      background-color: #434B5C;\n",
              "      box-shadow: 0px 1px 3px 1px rgba(0, 0, 0, 0.15);\n",
              "      filter: drop-shadow(0px 1px 2px rgba(0, 0, 0, 0.3));\n",
              "      fill: #FFFFFF;\n",
              "    }\n",
              "  </style>\n",
              "\n",
              "      <script>\n",
              "        const buttonEl =\n",
              "          document.querySelector('#df-4f7a4349-52a2-46c6-85d3-048d5626cbbf button.colab-df-convert');\n",
              "        buttonEl.style.display =\n",
              "          google.colab.kernel.accessAllowed ? 'block' : 'none';\n",
              "\n",
              "        async function convertToInteractive(key) {\n",
              "          const element = document.querySelector('#df-4f7a4349-52a2-46c6-85d3-048d5626cbbf');\n",
              "          const dataTable =\n",
              "            await google.colab.kernel.invokeFunction('convertToInteractive',\n",
              "                                                     [key], {});\n",
              "          if (!dataTable) return;\n",
              "\n",
              "          const docLinkHtml = 'Like what you see? Visit the ' +\n",
              "            '<a target=\"_blank\" href=https://colab.research.google.com/notebooks/data_table.ipynb>data table notebook</a>'\n",
              "            + ' to learn more about interactive tables.';\n",
              "          element.innerHTML = '';\n",
              "          dataTable['output_type'] = 'display_data';\n",
              "          await google.colab.output.renderOutput(dataTable, element);\n",
              "          const docLink = document.createElement('div');\n",
              "          docLink.innerHTML = docLinkHtml;\n",
              "          element.appendChild(docLink);\n",
              "        }\n",
              "      </script>\n",
              "    </div>\n",
              "  </div>\n",
              "  "
            ]
          },
          "metadata": {},
          "execution_count": 7
        }
      ]
    },
    {
      "cell_type": "markdown",
      "source": [
        "### Video data"
      ],
      "metadata": {
        "id": "S3yjaGq4Hlgy"
      }
    },
    {
      "cell_type": "code",
      "source": [
        "from sklearn.ensemble import RandomForestClassifier\n",
        "import pandas as pd\n",
        "import numpy as np\n",
        "\n",
        "def processData(data):\n",
        "    # print(data)\n",
        "    X = data.iloc[:,:].values\n",
        "    X = np.delete(X, 0, 1)\n",
        "    X = np.delete(X, 1, 1)\n",
        "    for i in range(len(X)):\n",
        "        if(isinstance(X[i][5],str) or isinstance(X[i][7],str)):\n",
        "            X[i] = np.zeros((1, X.shape[1]))\n",
        "\n",
        "    X = np.mean(X, 0)\n",
        "    X = np.array(X.reshape(1, -1))\n",
        "    # print(X)\n",
        "    # print(X.shape)\n",
        "    return X\n",
        "\n",
        "def getData(filename):\n",
        "    # print(filename)\n",
        "    data = pd.read_csv(filename,delimiter=',')\n",
        "    X = processData(data)\n",
        "    return X\n",
        "\n",
        "def makeDataPoint(patientNo):\n",
        "    file1 = (patientNo)+\"_CLNF_AUs.txt\"\n",
        "    file2 = (patientNo)+\"_CLNF_features.txt\"\n",
        "    file3 = (patientNo)+\"_CLNF_features3D.txt\"\n",
        "    file4 = (patientNo)+\"_CLNF_gaze.txt\"\n",
        "    file5 = (patientNo)+\"_CLNF_hog.txt\"\n",
        "    file6 = (patientNo)+\"_CLNF_pose.txt\"\n",
        "\n",
        "    X1 = getData(file1)\n",
        "    X2 = getData(file2)\n",
        "    X3 = getData(file3)\n",
        "    X4 = getData(file4)\n",
        "    # X5 = getData(file5)\n",
        "    X6 = getData(file6)\n",
        "\n",
        "    X = np.concatenate((X1, X2, X3, X4, X6), 1)\n",
        "    # print(X)\n",
        "    # print(X.shape)\n",
        "    return X\n",
        "\n",
        "count0 = 0\n",
        "count1 = 0\n",
        "\n",
        "def makeDataset(location, folder):\n",
        "    global count0\n",
        "    global count1\n",
        "    file  = np.array(pd.read_csv(location,delimiter=',',encoding='utf-8', low_memory=False))[:, 0:2]\n",
        "    X_temp = np.zeros((1,388))\n",
        "    Y_temp = []\n",
        "    for i in range(len(file)):\n",
        "      if(int(file[i][1]) == 0):\n",
        "        count0 += 1\n",
        "        if(count0 >39):\n",
        "          continue\n",
        "      patientID = (str(int(file[i][0])))\n",
        "      #print(patientID)\n",
        "      ############## patientID check ###################################################################421\n",
        "      if(patientID == '421'):\n",
        "      ################################################################################  \n",
        "        string = '/content/drive/My Drive/MCA Dataset/' + folder +\"/\"+ patientID\n",
        "        X_temp = np.concatenate((X_temp, makeDataPoint(string)), 0)\n",
        "        Y_temp.append(int(file[i][1]))\n",
        "    X_temp = np.delete(X_temp,0,0)\n",
        "    Y_temp = np.asarray(Y_temp)\n",
        "    return X_temp, Y_temp"
      ],
      "metadata": {
        "id": "qnhTeN3BYLkR"
      },
      "execution_count": null,
      "outputs": []
    },
    {
      "cell_type": "code",
      "source": [
        "X_test, Y_test = makeDataset('/content/drive/My Drive/MCA Dataset/full_test_split.csv', 'test_data')"
      ],
      "metadata": {
        "id": "4hz8Ndx5XfWS"
      },
      "execution_count": null,
      "outputs": []
    },
    {
      "cell_type": "code",
      "source": [
        "X_train = np.load('/content/drive/My Drive/audio_data/videoML_xtrain.npy', allow_pickle=True)"
      ],
      "metadata": {
        "id": "rIzVBphWexI5"
      },
      "execution_count": null,
      "outputs": []
    },
    {
      "cell_type": "code",
      "source": [
        "print(Y_test)"
      ],
      "metadata": {
        "colab": {
          "base_uri": "https://localhost:8080/"
        },
        "id": "FFQBvAu7Z7XS",
        "outputId": "cfe2fd47-88a6-41e6-833a-6f496b429f6d"
      },
      "execution_count": null,
      "outputs": [
        {
          "output_type": "stream",
          "name": "stdout",
          "text": [
            "[1]\n"
          ]
        }
      ]
    },
    {
      "cell_type": "code",
      "source": [
        "video_df = X_test"
      ],
      "metadata": {
        "id": "v0rjXAhvZ9N8"
      },
      "execution_count": null,
      "outputs": []
    },
    {
      "cell_type": "code",
      "source": [
        "from sklearn.preprocessing import StandardScaler\n",
        "scaler = StandardScaler()\n",
        "X_train = scaler.fit_transform(X_train)\n",
        "video_df = scaler.transform(X_test)"
      ],
      "metadata": {
        "id": "80p2-Yc1aKQ_"
      },
      "execution_count": null,
      "outputs": []
    },
    {
      "cell_type": "code",
      "source": [
        "# print(video_df)"
      ],
      "metadata": {
        "id": "ipT0EtxRdXji"
      },
      "execution_count": null,
      "outputs": []
    },
    {
      "cell_type": "markdown",
      "source": [
        "### EEG Data"
      ],
      "metadata": {
        "id": "WFgjesTHH3sl"
      }
    },
    {
      "cell_type": "code",
      "execution_count": null,
      "metadata": {
        "id": "lQHWvt6x81EW"
      },
      "outputs": [],
      "source": [
        "df = pd.read_csv('/content/drive/My Drive/audio_data/eeg_df.csv')\n",
        "#2010008  #2020029"
      ]
    },
    {
      "cell_type": "code",
      "source": [
        "eeg_df = df.loc[df['patient_identifier'] == 2010008]"
      ],
      "metadata": {
        "id": "-nV3cZDE81EX"
      },
      "execution_count": null,
      "outputs": []
    },
    {
      "cell_type": "code",
      "source": [
        "eeg_df.head()"
      ],
      "metadata": {
        "colab": {
          "base_uri": "https://localhost:8080/",
          "height": 174
        },
        "outputId": "fbef1477-4cea-4e0f-ba21-62299c86e03f",
        "id": "-W3SrPnq81EY"
      },
      "execution_count": null,
      "outputs": [
        {
          "output_type": "execute_result",
          "data": {
            "text/plain": [
              "   patient_identifier  lf_alpha_fear_E36  lf_beta_fear_E36  lf_delta_fear_E36  \\\n",
              "0             2010008           0.003473          0.003368           0.015247   \n",
              "\n",
              "   lf_theta_fear_E36  lf_mean_fear_E36  lf_max_fear_E36  lf_min_fear_E36  \\\n",
              "0           0.007565          0.059222       517.229278         0.000041   \n",
              "\n",
              "   lf_median_fear_E36  lf_alpha_happy_E36  ...  lf_fear_min  lf_fear_max  \\\n",
              "0            0.003682            0.002941  ...     0.000031   723.153946   \n",
              "\n",
              "   lf_sad_mean  lf_sad_median  lf_sad_min  lf_sad_max  lf_resting_mean  \\\n",
              "0     0.072019       0.002149    0.000171   629.55737    108281.564986   \n",
              "\n",
              "   lf_resting_median  lf_resting_min  lf_resting_max  \n",
              "0        6288.040454     1128.528637    9.583322e+08  \n",
              "\n",
              "[1 rows x 746 columns]"
            ],
            "text/html": [
              "\n",
              "  <div id=\"df-52fc1a2f-0960-48bd-9ab8-072e95174abb\">\n",
              "    <div class=\"colab-df-container\">\n",
              "      <div>\n",
              "<style scoped>\n",
              "    .dataframe tbody tr th:only-of-type {\n",
              "        vertical-align: middle;\n",
              "    }\n",
              "\n",
              "    .dataframe tbody tr th {\n",
              "        vertical-align: top;\n",
              "    }\n",
              "\n",
              "    .dataframe thead th {\n",
              "        text-align: right;\n",
              "    }\n",
              "</style>\n",
              "<table border=\"1\" class=\"dataframe\">\n",
              "  <thead>\n",
              "    <tr style=\"text-align: right;\">\n",
              "      <th></th>\n",
              "      <th>patient_identifier</th>\n",
              "      <th>lf_alpha_fear_E36</th>\n",
              "      <th>lf_beta_fear_E36</th>\n",
              "      <th>lf_delta_fear_E36</th>\n",
              "      <th>lf_theta_fear_E36</th>\n",
              "      <th>lf_mean_fear_E36</th>\n",
              "      <th>lf_max_fear_E36</th>\n",
              "      <th>lf_min_fear_E36</th>\n",
              "      <th>lf_median_fear_E36</th>\n",
              "      <th>lf_alpha_happy_E36</th>\n",
              "      <th>...</th>\n",
              "      <th>lf_fear_min</th>\n",
              "      <th>lf_fear_max</th>\n",
              "      <th>lf_sad_mean</th>\n",
              "      <th>lf_sad_median</th>\n",
              "      <th>lf_sad_min</th>\n",
              "      <th>lf_sad_max</th>\n",
              "      <th>lf_resting_mean</th>\n",
              "      <th>lf_resting_median</th>\n",
              "      <th>lf_resting_min</th>\n",
              "      <th>lf_resting_max</th>\n",
              "    </tr>\n",
              "  </thead>\n",
              "  <tbody>\n",
              "    <tr>\n",
              "      <th>0</th>\n",
              "      <td>2010008</td>\n",
              "      <td>0.003473</td>\n",
              "      <td>0.003368</td>\n",
              "      <td>0.015247</td>\n",
              "      <td>0.007565</td>\n",
              "      <td>0.059222</td>\n",
              "      <td>517.229278</td>\n",
              "      <td>0.000041</td>\n",
              "      <td>0.003682</td>\n",
              "      <td>0.002941</td>\n",
              "      <td>...</td>\n",
              "      <td>0.000031</td>\n",
              "      <td>723.153946</td>\n",
              "      <td>0.072019</td>\n",
              "      <td>0.002149</td>\n",
              "      <td>0.000171</td>\n",
              "      <td>629.55737</td>\n",
              "      <td>108281.564986</td>\n",
              "      <td>6288.040454</td>\n",
              "      <td>1128.528637</td>\n",
              "      <td>9.583322e+08</td>\n",
              "    </tr>\n",
              "  </tbody>\n",
              "</table>\n",
              "<p>1 rows × 746 columns</p>\n",
              "</div>\n",
              "      <button class=\"colab-df-convert\" onclick=\"convertToInteractive('df-52fc1a2f-0960-48bd-9ab8-072e95174abb')\"\n",
              "              title=\"Convert this dataframe to an interactive table.\"\n",
              "              style=\"display:none;\">\n",
              "        \n",
              "  <svg xmlns=\"http://www.w3.org/2000/svg\" height=\"24px\"viewBox=\"0 0 24 24\"\n",
              "       width=\"24px\">\n",
              "    <path d=\"M0 0h24v24H0V0z\" fill=\"none\"/>\n",
              "    <path d=\"M18.56 5.44l.94 2.06.94-2.06 2.06-.94-2.06-.94-.94-2.06-.94 2.06-2.06.94zm-11 1L8.5 8.5l.94-2.06 2.06-.94-2.06-.94L8.5 2.5l-.94 2.06-2.06.94zm10 10l.94 2.06.94-2.06 2.06-.94-2.06-.94-.94-2.06-.94 2.06-2.06.94z\"/><path d=\"M17.41 7.96l-1.37-1.37c-.4-.4-.92-.59-1.43-.59-.52 0-1.04.2-1.43.59L10.3 9.45l-7.72 7.72c-.78.78-.78 2.05 0 2.83L4 21.41c.39.39.9.59 1.41.59.51 0 1.02-.2 1.41-.59l7.78-7.78 2.81-2.81c.8-.78.8-2.07 0-2.86zM5.41 20L4 18.59l7.72-7.72 1.47 1.35L5.41 20z\"/>\n",
              "  </svg>\n",
              "      </button>\n",
              "      \n",
              "  <style>\n",
              "    .colab-df-container {\n",
              "      display:flex;\n",
              "      flex-wrap:wrap;\n",
              "      gap: 12px;\n",
              "    }\n",
              "\n",
              "    .colab-df-convert {\n",
              "      background-color: #E8F0FE;\n",
              "      border: none;\n",
              "      border-radius: 50%;\n",
              "      cursor: pointer;\n",
              "      display: none;\n",
              "      fill: #1967D2;\n",
              "      height: 32px;\n",
              "      padding: 0 0 0 0;\n",
              "      width: 32px;\n",
              "    }\n",
              "\n",
              "    .colab-df-convert:hover {\n",
              "      background-color: #E2EBFA;\n",
              "      box-shadow: 0px 1px 2px rgba(60, 64, 67, 0.3), 0px 1px 3px 1px rgba(60, 64, 67, 0.15);\n",
              "      fill: #174EA6;\n",
              "    }\n",
              "\n",
              "    [theme=dark] .colab-df-convert {\n",
              "      background-color: #3B4455;\n",
              "      fill: #D2E3FC;\n",
              "    }\n",
              "\n",
              "    [theme=dark] .colab-df-convert:hover {\n",
              "      background-color: #434B5C;\n",
              "      box-shadow: 0px 1px 3px 1px rgba(0, 0, 0, 0.15);\n",
              "      filter: drop-shadow(0px 1px 2px rgba(0, 0, 0, 0.3));\n",
              "      fill: #FFFFFF;\n",
              "    }\n",
              "  </style>\n",
              "\n",
              "      <script>\n",
              "        const buttonEl =\n",
              "          document.querySelector('#df-52fc1a2f-0960-48bd-9ab8-072e95174abb button.colab-df-convert');\n",
              "        buttonEl.style.display =\n",
              "          google.colab.kernel.accessAllowed ? 'block' : 'none';\n",
              "\n",
              "        async function convertToInteractive(key) {\n",
              "          const element = document.querySelector('#df-52fc1a2f-0960-48bd-9ab8-072e95174abb');\n",
              "          const dataTable =\n",
              "            await google.colab.kernel.invokeFunction('convertToInteractive',\n",
              "                                                     [key], {});\n",
              "          if (!dataTable) return;\n",
              "\n",
              "          const docLinkHtml = 'Like what you see? Visit the ' +\n",
              "            '<a target=\"_blank\" href=https://colab.research.google.com/notebooks/data_table.ipynb>data table notebook</a>'\n",
              "            + ' to learn more about interactive tables.';\n",
              "          element.innerHTML = '';\n",
              "          dataTable['output_type'] = 'display_data';\n",
              "          await google.colab.output.renderOutput(dataTable, element);\n",
              "          const docLink = document.createElement('div');\n",
              "          docLink.innerHTML = docLinkHtml;\n",
              "          element.appendChild(docLink);\n",
              "        }\n",
              "      </script>\n",
              "    </div>\n",
              "  </div>\n",
              "  "
            ]
          },
          "metadata": {},
          "execution_count": 19
        }
      ]
    },
    {
      "cell_type": "code",
      "source": [
        "print(eeg_df['type'])"
      ],
      "metadata": {
        "colab": {
          "base_uri": "https://localhost:8080/"
        },
        "outputId": "1a385ad3-0b24-4472-c0f9-a22b3e43a21c",
        "id": "BHzXupQ281EY"
      },
      "execution_count": null,
      "outputs": [
        {
          "output_type": "stream",
          "name": "stdout",
          "text": [
            "0    1\n",
            "Name: type, dtype: int64\n"
          ]
        }
      ]
    },
    {
      "cell_type": "code",
      "source": [
        "eeg_X_train = np.load('/content/drive/My Drive/audio_data/eeg_xtrain.npy')\n"
      ],
      "metadata": {
        "id": "0lE9FgEUgl0v"
      },
      "execution_count": null,
      "outputs": []
    },
    {
      "cell_type": "code",
      "execution_count": null,
      "metadata": {
        "id": "3MDS2i1P81Ea",
        "colab": {
          "base_uri": "https://localhost:8080/"
        },
        "outputId": "70579a95-03c3-4f56-906a-e192dc4de615"
      },
      "outputs": [
        {
          "output_type": "stream",
          "name": "stderr",
          "text": [
            "/usr/local/lib/python3.7/dist-packages/sklearn/base.py:444: UserWarning: X has feature names, but StandardScaler was fitted without feature names\n",
            "  f\"X has feature names, but {self.__class__.__name__} was fitted without\"\n"
          ]
        }
      ],
      "source": [
        "scalar = StandardScaler()\n",
        "eeg_X_train = scalar.fit_transform(eeg_X_train)\n",
        "eeg_df = scalar.transform(eeg_df.drop(columns = 'type'))"
      ]
    },
    {
      "cell_type": "code",
      "source": [
        "print(eeg_df)"
      ],
      "metadata": {
        "colab": {
          "base_uri": "https://localhost:8080/"
        },
        "id": "sm95EvDkhTuT",
        "outputId": "92ebd4ac-5d6a-4252-a437-0ab194d1fc4b"
      },
      "execution_count": null,
      "outputs": [
        {
          "output_type": "stream",
          "name": "stdout",
          "text": [
            "[[ 1.61563819e+00 -4.50894713e-01 -4.60140967e-01 -4.56727841e-01\n",
            "  -4.58313071e-01 -4.10939620e-01 -3.87063717e-01 -3.04562619e-01\n",
            "  -4.84490727e-01 -3.26429852e-01 -2.82589942e-01 -3.20362385e-01\n",
            "  -3.25881864e-01 -3.21790877e-01 -3.14155764e-01 -2.78849050e-01\n",
            "  -2.31495806e-01 -3.15056489e-01 -2.91984225e-01 -3.15082806e-01\n",
            "  -3.11006815e-01 -3.57021763e-01 -3.73870920e-01 -3.15851054e-01\n",
            "  -2.66286122e-01 -3.94232546e-01 -2.53590613e-01  2.39326147e+00\n",
            "  -2.10358706e-01 -6.54344760e-01  2.66331747e+00 -3.23366705e-01\n",
            "  -7.69734460e-01  2.81577246e+00 -7.02643332e-01 -7.73557838e-01\n",
            "  -1.06787995e+00 -9.81897280e-01 -5.57356105e-01 -4.35917411e-01\n",
            "  -3.45091381e-01 -8.99188337e-01 -1.37939763e-01 -1.94068637e-01\n",
            "  -3.38828700e-01 -3.54616060e-01 -3.72831111e-01 -3.29243308e-01\n",
            "  -2.03981784e-01 -5.20414160e-02 -2.60978423e-01 -2.11474405e-01\n",
            "  -4.12473953e-01 -3.87287520e-01 -4.36664484e-01 -4.26630100e-01\n",
            "  -1.45448812e-01 -1.51939289e-01 -5.86184782e-01 -7.02900056e-02\n",
            "   1.69604015e+00 -2.92203738e-01 -4.14724107e-01  2.40484680e+00\n",
            "  -3.70689880e-01 -5.28412464e-01  2.43303885e+00 -3.70010080e-01\n",
            "  -3.89816223e-01 -3.72687131e-01 -3.73323509e-01 -4.53432313e-01\n",
            "  -4.52223625e-01 -3.14244118e-01 -3.97524287e-01 -3.62526652e-01\n",
            "  -3.43380334e-01 -3.91121799e-01 -3.94256380e-01 -4.47219516e-01\n",
            "  -4.21815684e-01 -3.15839496e-01 -3.15474723e-01 -3.84262514e-01\n",
            "  -3.60688718e-01 -3.98609110e-01 -4.00632278e-01 -4.52976139e-01\n",
            "  -4.66729566e-01 -3.41354424e-01 -3.46643144e-01 -1.52458689e-02\n",
            "  -4.50822399e-02  2.11339108e+00  3.00857692e-01 -1.24307499e-01\n",
            "   2.65481145e+00  1.88089150e-01 -2.70131136e-01  2.51331888e+00\n",
            "  -3.34183706e-01 -3.45577936e-01 -3.35592954e-01 -3.35918219e-01\n",
            "  -2.96863948e-01 -2.74656608e-01 -3.17982362e-01 -3.39851527e-01\n",
            "  -2.52485263e-01 -2.34961097e-01 -2.92997148e-01 -2.86955073e-01\n",
            "  -2.31209822e-01 -1.96417150e-01 -2.60057720e-01 -1.76995371e-01\n",
            "  -3.08685622e-01 -2.82942221e-01 -3.32907676e-01 -3.28389562e-01\n",
            "  -2.45065356e-01 -2.04153757e-01 -2.98181633e-01 -2.55367217e-01\n",
            "  -1.35328966e-01  3.11969324e-01  1.94252010e+00  1.98567531e-01\n",
            "  -7.13765302e-02  2.95184656e+00  7.68103297e-02 -1.50278817e-01\n",
            "   2.70687489e+00 -3.29235198e-01 -3.37052679e-01 -2.35810308e-01\n",
            "  -2.64048636e-01 -4.32118137e-01 -4.35525826e-01 -2.83086928e-01\n",
            "  -3.20186264e-01 -1.66401456e-01 -8.04133988e-02 -1.57376127e-01\n",
            "  -1.60562728e-01 -2.82280874e-01 -3.02678663e-01 -2.32650376e-01\n",
            "   4.64625045e-03 -3.27223167e-01 -2.49326338e-01 -3.07025982e-01\n",
            "  -3.08781489e-01 -3.68399777e-01 -3.87169728e-01 -2.86537198e-01\n",
            "  -1.87481432e-01 -2.36593602e-01 -1.41352474e-01  2.15631466e+00\n",
            "   3.14777508e-02 -2.31169489e-01  2.72995700e+00 -9.57697024e-02\n",
            "  -4.66636480e-01  2.68961951e+00 -8.20197412e-01 -8.97495085e-01\n",
            "  -9.31196542e-01 -9.04707846e-01  1.89529545e-01  4.88472711e-01\n",
            "  -3.30659314e-01 -9.63399874e-01 -4.32888060e-01 -4.24944444e-01\n",
            "  -6.10558540e-01 -5.96769924e-01  5.01289950e-01  7.70322280e-01\n",
            "  -1.50639154e-01 -2.20491669e-01 -2.08965947e-02  6.57694101e-02\n",
            "  -4.20152484e-02 -4.01404713e-02  5.44711512e-01  5.44688921e-01\n",
            "  -1.41155349e-01  1.60970643e-01 -3.91726497e-01 -2.02209278e-01\n",
            "   2.45185569e+00 -1.28333278e-02 -3.51840891e-01  2.92902922e+00\n",
            "  -1.81319766e-01 -6.02284035e-01  2.90669766e+00  3.96956643e-01\n",
            "   6.48828279e-01  2.85841965e-01  2.81601297e-01  1.60412421e-01\n",
            "   9.93987769e-02 -2.29984031e-01  7.51553626e-01 -4.47538742e-01\n",
            "   8.34948413e-02 -3.29392130e-01 -5.40102851e-01  1.08057403e-01\n",
            "   1.85034766e-01 -2.36802020e-01  2.08809155e-02 -3.96159898e-01\n",
            "  -9.87754171e-03 -3.20365674e-01 -4.48944121e-01  1.38917543e-01\n",
            "   3.11073856e-01 -3.14492598e-01 -5.21086841e-02  7.01180074e-01\n",
            "   3.65990347e-01  6.26889845e-01  8.27196491e-01  4.53627347e-03\n",
            "   9.80349969e-01  7.52184097e-01  4.77520421e-02  7.36660098e-01\n",
            "   3.59451761e-01  1.65036674e+00  2.76834652e-01  1.22049273e-01\n",
            "   3.50564094e-01  2.38870449e-01 -4.66849859e-02  1.43184147e+00\n",
            "  -5.70220293e-01  1.01975944e-01 -2.71188028e-01 -6.67515629e-01\n",
            "  -8.42734293e-02  7.96592778e-02 -2.22475855e-01  5.07295012e-02\n",
            "  -4.87864702e-01  9.99042200e-01  5.31842296e-02 -4.90081348e-01\n",
            "  -3.04326019e-02  5.21551863e-02 -1.61701244e-01  7.19517080e-01\n",
            "   7.05407413e-01  4.19744800e-01  2.14084945e-01  3.49776483e-01\n",
            "  -4.96450991e-01  8.93424546e-01  5.56077540e-01 -1.18773850e-01\n",
            "   4.01452391e-01  1.35373556e-01  2.17454769e-01  2.64126921e-01\n",
            "   2.28949216e-01 -3.50643958e-01 -4.06176722e-01 -2.13084318e-01\n",
            "   2.94708843e-01 -3.44407060e-01 -1.62751854e-01 -3.29267999e-01\n",
            "  -3.61488753e-01 -4.04846973e-01 -3.87916094e-01 -2.11712049e-01\n",
            "   3.26323923e-02 -2.60715087e-01 -1.92271765e-01 -2.64399387e-01\n",
            "  -2.66527601e-01 -4.14587043e-01 -4.54613530e-01 -2.03585211e-01\n",
            "  -1.59415303e-01 -2.21222051e-01  7.10209530e-01  1.42548771e+00\n",
            "  -2.10143359e-02 -4.03609345e-01  2.57019925e+00 -2.96006239e-01\n",
            "  -5.36597494e-01  2.42912680e+00 -7.61117560e-01 -7.80682908e-01\n",
            "  -7.22856314e-01 -7.72560298e-01 -8.75598713e-01 -6.66075875e-01\n",
            "  -1.93777504e-01 -8.44669428e-01 -5.78942728e-02  7.26435895e-02\n",
            "  -4.43238745e-02 -1.18659697e-01 -4.75968410e-01 -5.31925633e-01\n",
            "   3.91684593e-02  3.34518410e-01 -8.97950446e-01 -7.48924807e-01\n",
            "  -9.29148345e-01 -1.14463000e+00 -8.78738896e-01 -7.31814347e-01\n",
            "  -9.26121590e-02 -5.74389740e-01 -3.72157963e-01  9.31525277e-02\n",
            "   2.18997540e+00  1.17875997e-01  3.89178666e-02  2.25743552e+00\n",
            "  -1.80930022e-01 -4.58738472e-01  2.50731870e+00 -2.52104108e-01\n",
            "  -2.64894733e-01 -1.65443964e-01 -1.92178855e-01 -5.70702408e-01\n",
            "  -6.29123265e-01 -2.74485217e-01 -2.69449659e-01 -1.29106504e-01\n",
            "  -6.16662796e-02 -7.91964523e-02 -9.58590287e-02 -4.46016692e-01\n",
            "  -5.25688509e-01 -1.77768883e-01 -1.09273825e-02 -2.26536550e-01\n",
            "  -1.89770756e-01 -1.84246207e-01 -1.93633599e-01 -5.14041037e-01\n",
            "  -6.32808407e-01 -2.00499787e-01 -1.58319202e-01 -3.95873492e-01\n",
            "  -9.03505922e-02  2.11048318e+00  1.54831141e-02 -6.42841689e-01\n",
            "   2.52333258e+00 -2.99253217e-01 -8.73377054e-01  2.43325858e+00\n",
            "  -2.81155787e-01 -3.00015792e-01 -2.79738724e-01 -2.88068507e-01\n",
            "  -4.45155306e-01 -4.71022121e-01 -2.72964401e-01 -3.12873042e-01\n",
            "  -1.56219844e-01 -1.48301405e-01 -2.01219294e-01 -2.07524715e-01\n",
            "  -3.37217112e-01 -3.65824745e-01 -2.75600401e-01 -9.89595084e-02\n",
            "  -2.16460488e-01 -2.03927726e-01 -2.35355518e-01 -2.38193336e-01\n",
            "  -4.03301103e-01 -4.80388297e-01 -2.59960636e-01 -1.78651635e-01\n",
            "  -3.11054329e-01 -9.03486475e-02  2.34957888e+00 -7.42896973e-03\n",
            "  -2.37608179e-01  2.38035677e+00 -2.67428152e-01 -6.89450619e-01\n",
            "   2.71565045e+00 -5.90583349e-01 -6.36951536e-01 -4.30148049e-01\n",
            "  -4.96751867e-01 -8.96421612e-01 -8.64033781e-01 -2.54562170e-01\n",
            "  -6.72186756e-01 -1.49250139e-01 -2.25261946e-01 -1.34738180e-02\n",
            "  -6.82969116e-02 -6.06706956e-01 -6.57210362e-01 -1.55803344e-01\n",
            "  -1.44413758e-01 -3.86282261e-01 -4.01147033e-01 -3.28905059e-01\n",
            "  -3.54649611e-01 -8.32178437e-01 -9.38446774e-01 -1.96253222e-01\n",
            "  -4.04634479e-01 -3.38973829e-01 -2.72846696e-01  7.23937434e-01\n",
            "  -5.62507339e-01 -6.58304920e-01  1.35200056e+00 -6.61578003e-01\n",
            "  -8.03350813e-01  1.02931417e+00 -2.16452611e-01 -4.44623327e-01\n",
            "  -6.07139114e-02 -1.13162030e-01  8.20403396e-01  9.23067435e-01\n",
            "  -1.93754125e-01 -4.98424044e-01  2.09573527e-01  1.44892728e-01\n",
            "   2.11529542e-01  2.02947862e-01  1.38160440e+00  1.33236464e+00\n",
            "   5.19842503e+00  2.52128514e-01  2.74529028e-01  4.15624647e-02\n",
            "   3.58711234e-01  3.30089293e-01  1.21073972e+00  1.07905750e+00\n",
            "   1.99915156e+00  1.49811610e-01 -8.56503394e-01 -4.57595595e-01\n",
            "   2.25568224e+00 -4.99759942e-01 -7.27882775e-01  2.86668141e+00\n",
            "  -8.22420425e-01 -1.05150697e+00  2.79372706e+00 -7.34500773e-01\n",
            "  -7.63076774e-01 -5.59541129e-01 -6.30893975e-01 -9.16550364e-01\n",
            "  -7.26519526e-01 -2.06567552e-01 -7.91249538e-01 -7.66333538e-01\n",
            "  -9.29076315e-01 -3.47639649e-01 -5.38042679e-01 -5.49767669e-01\n",
            "  -4.94583742e-01  8.40425574e-01 -9.10859871e-01 -1.01030542e+00\n",
            "  -1.09668550e+00 -4.52917559e-01 -6.77293908e-01 -7.24328988e-01\n",
            "  -6.47839755e-01  1.20759650e-01 -1.06895175e+00  1.33941493e-01\n",
            "   6.51864083e-01  2.40358239e-01  5.45746480e-02  4.32639650e-01\n",
            "   6.25920870e-01 -1.77875815e-01  2.22748907e-01  2.56780703e-01\n",
            "  -2.96936390e-01 -3.17678000e-01 -2.51337897e-01 -2.72383115e-01\n",
            "  -3.71787840e-01 -3.79334995e-01 -2.63386425e-01 -3.27805671e-01\n",
            "  -2.20580204e-01 -2.24458176e-01 -2.35877420e-01 -2.49114908e-01\n",
            "  -2.83865420e-01 -2.87933492e-01 -2.60304172e-01 -1.85259385e-01\n",
            "  -2.29275250e-01 -2.25065233e-01 -2.22620872e-01 -2.32824483e-01\n",
            "  -3.22651316e-01 -3.68922923e-01 -2.48134277e-01 -2.06999280e-01\n",
            "  -3.18576010e-01  2.02315906e-01  2.01103718e+00  1.10971992e-01\n",
            "   7.32928244e-02  2.23934985e+00 -1.86025267e-01 -3.37574195e-01\n",
            "   2.31399765e+00 -9.88447631e-01  1.34969790e+00 -1.29809244e+00\n",
            "  -1.16135185e+00  3.54754430e-01  6.27175114e-01 -9.21730858e-01\n",
            "  -1.33901888e+00 -3.82071951e-01 -4.09457072e-01 -4.92773731e-01\n",
            "  -4.78610709e-01 -5.58459448e-01 -5.72129162e-01 -3.73872933e-01\n",
            "  -3.93293450e-01 -2.04031857e-01 -6.81405282e-01  2.21366308e+00\n",
            "   7.38175762e-01  3.81755217e-01  3.10693873e-01  2.92152411e-01\n",
            "  -4.80155961e-01 -5.81045012e-01 -2.59297020e-01  2.34426086e-01\n",
            "  -2.60665116e-01  1.32718404e-01  2.26148680e-01 -3.37081020e-01\n",
            "  -3.63785035e-01 -4.66039993e-01 -4.44105295e-01 -5.55465742e-01\n",
            "  -5.93104690e-01 -3.68971437e-01 -3.52753404e-01  2.44935046e-01\n",
            "   2.10344855e-02  2.14607625e+00 -2.51288386e-01 -2.75062452e-01\n",
            "  -3.52187670e-01 -3.46170886e-01 -3.68084401e-01 -3.53401836e-01\n",
            "  -3.16031224e-01 -2.47724107e-01  1.15021673e-01 -2.18901172e-01\n",
            "   2.01896120e+00 -3.90697729e-01 -3.48041108e-01 -6.04341511e-01\n",
            "  -5.73209175e-01 -6.37302912e-01 -5.99389076e-01 -3.76244701e-01\n",
            "  -2.87270860e-01  6.08059983e-02 -5.89267488e-01  2.87107951e+00\n",
            "  -4.74416294e-02 -2.95344834e-02 -2.20390178e-01 -2.24690515e-01\n",
            "  -2.47644340e-02  1.64309519e-01 -2.09360591e-01  7.64709525e-02\n",
            "  -1.26489241e-02 -5.71720847e-01  2.88911038e+00 -2.93708455e-01\n",
            "  -2.77300240e-01 -5.62685275e-01 -5.12181345e-01 -1.06857154e-01\n",
            "   1.44598865e-01 -3.42329379e-01 -2.25192645e-01  4.12092555e-01\n",
            "  -1.86765891e-01  2.80298674e+00  9.03197323e-01  9.42496334e-01\n",
            "   4.33913298e-01  5.04368002e-01  9.31774252e-02 -1.05178307e-01\n",
            "  -2.50303870e-01  1.08860376e+00  3.67465423e-01 -1.28567611e-01\n",
            "   2.48931876e+00 -3.17229404e-01 -2.14158306e-01 -2.77985820e-01\n",
            "  -2.77736991e-01 -4.13495942e-01 -4.91860302e-01 -1.76365857e-01\n",
            "  -1.74968413e-01 -2.82837286e-01 -1.32524245e+00  2.72853390e+00\n",
            "  -7.24899792e-01 -3.31151481e-01 -7.63372345e-01 -7.42806391e-01\n",
            "  -1.24295170e+00 -1.22598399e+00 -2.06127751e-01 -1.02116980e-01\n",
            "  -1.43751947e-01 -5.54367187e-01  2.55273018e+00 -8.46404916e-01\n",
            "  -6.18228681e-01 -6.79826756e-01 -6.83628191e-01 -7.34303855e-01\n",
            "  -7.07426465e-01 -3.01799523e-01 -5.53411566e-01 -1.11783140e-01\n",
            "  -1.10437406e+00  2.72360689e+00 -2.03974411e-01 -1.66305938e-01\n",
            "  -1.94327231e-01 -1.94885415e-01 -3.90029966e-01 -4.91470791e-01\n",
            "  -3.01093956e-01 -1.56668256e-01 -1.68719643e-01 -1.87513013e-01\n",
            "   2.18504513e+00 -6.60878325e-01 -6.94737760e-01 -7.75111771e-01\n",
            "  -7.64121425e-01 -1.06035622e+00 -9.68218848e-01 -3.20346512e-01\n",
            "  -7.60800389e-01  1.97943346e-01  2.74610501e-01  1.49909180e-01\n",
            "  -2.13746241e-01 -9.19705663e-02 -2.77654355e-01 -3.17167818e-01\n",
            "   5.74180654e-01  7.88045592e-01 -1.50380352e-01  2.85281382e-02\n",
            "  -3.43641525e-01 -7.26200581e-01  2.61326418e+00 -1.33255492e+00\n",
            "  -8.77589785e-01 -8.39513103e-01 -8.92167856e-01 -9.82127336e-01\n",
            "  -7.74916452e-01 -3.47453742e-01 -7.51576828e-01 -6.09134685e-02\n",
            "   6.03669502e-01  2.72677842e+00 -3.79356353e-01 -3.47437603e-01\n",
            "  -3.55103036e-01 -3.63050706e-01 -4.10429638e-01 -4.22078562e-01\n",
            "  -2.70250729e-01 -3.41320587e-01 -1.96806770e-02  2.96512245e-01\n",
            "   1.32379916e+00 -3.17030742e-01 -2.11033625e-01 -3.07413195e-01\n",
            "  -3.56453712e-01 -3.96426198e-01 -3.55035387e-01 -3.69324592e-01\n",
            "  -3.90768970e-01 -3.79603692e-01 -2.82112325e-01 -3.59304884e-01\n",
            "  -3.90883812e-01 -4.63637706e-01 -3.95024820e-01 -5.50933643e-01\n",
            "  -5.37015314e-01 -3.12963633e-01 -1.45770227e-01 -2.74846539e-01\n",
            "  -2.96612805e-01 -4.12322067e-01 -3.66664833e-01 -3.46317795e-01\n",
            "  -4.03015381e-01 -3.70463340e-01 -2.55087333e-01 -3.13800717e-01\n",
            "  -3.68761707e-01 -5.48409548e-01 -3.45712738e-01 -4.04763919e-01\n",
            "  -5.20617581e-01]]\n"
          ]
        }
      ]
    },
    {
      "cell_type": "code",
      "source": [
        "with open(\"/content/drive/My Drive/saved_models/indices_to_keep.json\", 'r') as f:\n",
        "    indices_to_keep = json.load(f)\n",
        "\n"
      ],
      "metadata": {
        "id": "zQH9no5o864n"
      },
      "execution_count": null,
      "outputs": []
    },
    {
      "cell_type": "markdown",
      "source": [
        "## Fusion"
      ],
      "metadata": {
        "id": "P-LH1_rFp5VS"
      }
    },
    {
      "cell_type": "code",
      "source": [
        "audio_pred = audio_model.predict(audio_df)\n",
        "print(audio_pred)\n",
        "print(int(audio_pred.round()))"
      ],
      "metadata": {
        "colab": {
          "base_uri": "https://localhost:8080/"
        },
        "id": "Ie3atRiCpEQN",
        "outputId": "93317d9b-e978-4e1e-90e2-cb92095a5532"
      },
      "execution_count": null,
      "outputs": [
        {
          "output_type": "stream",
          "name": "stdout",
          "text": [
            "[[0.99999106]]\n",
            "1\n"
          ]
        }
      ]
    },
    {
      "cell_type": "code",
      "source": [
        "video_pred = video_model.predict(video_df)\n",
        "print(video_pred)"
      ],
      "metadata": {
        "colab": {
          "base_uri": "https://localhost:8080/"
        },
        "id": "o_mV9WRQpEB6",
        "outputId": "af64b759-8c6d-4ad0-e79c-10b0f48ad3e9"
      },
      "execution_count": null,
      "outputs": [
        {
          "output_type": "stream",
          "name": "stdout",
          "text": [
            "[1]\n"
          ]
        }
      ]
    },
    {
      "cell_type": "code",
      "source": [
        "eeg_pred = eeg_model.predict(eeg_df[:,indices_to_keep])\n",
        "print(eeg_pred)"
      ],
      "metadata": {
        "colab": {
          "base_uri": "https://localhost:8080/"
        },
        "id": "JHGs21DepD-p",
        "outputId": "9acbc8ff-c582-4038-ebbc-915ea5693b81"
      },
      "execution_count": null,
      "outputs": [
        {
          "output_type": "stream",
          "name": "stdout",
          "text": [
            "[1]\n"
          ]
        }
      ]
    },
    {
      "cell_type": "code",
      "source": [
        "if(eeg_pred == 1 or int(audio_pred.round()) == 1 or video_pred == 1):\n",
        "  print(\"1: Depressed\")\n",
        "else:\n",
        "  print(\"0: Not Depressed\")"
      ],
      "metadata": {
        "colab": {
          "base_uri": "https://localhost:8080/"
        },
        "id": "2GVrD-54ENy3",
        "outputId": "6bbf9124-d49d-4fd4-8bc5-98d2f1846822"
      },
      "execution_count": null,
      "outputs": [
        {
          "output_type": "stream",
          "name": "stdout",
          "text": [
            "1: Depressed\n"
          ]
        }
      ]
    },
    {
      "cell_type": "code",
      "source": [],
      "metadata": {
        "id": "L3ZFewR8ENvd"
      },
      "execution_count": null,
      "outputs": []
    },
    {
      "cell_type": "markdown",
      "metadata": {
        "id": "TZoCfLMn8inB"
      },
      "source": [
        "#Fusion for Depression Sevierty calculation"
      ]
    },
    {
      "cell_type": "code",
      "source": [
        "# print(test_acc_e,test_acc_a,test_acc_v )"
      ],
      "metadata": {
        "id": "Zsl_6C9l4yTX"
      },
      "execution_count": null,
      "outputs": []
    },
    {
      "cell_type": "code",
      "execution_count": null,
      "metadata": {
        "id": "9Zo1RlKS8kLZ"
      },
      "outputs": [],
      "source": [
        "#EEG testing accuracy contribution in multimodal system in percent\n",
        "Y_E = 100 * test_acc_e / (test_acc_a + test_acc_e + test_acc_v)\n",
        "print(Y_E.round(2))"
      ]
    },
    {
      "cell_type": "code",
      "source": [
        "#Audio module testing accuracy contribution in multimodal system in percent\n",
        "Y_A = 100 * test_acc_a / (test_acc_a + test_acc_e + test_acc_v)\n",
        "print(Y_A.round(2))"
      ],
      "metadata": {
        "id": "Xlr8MgM63WMh"
      },
      "execution_count": null,
      "outputs": []
    },
    {
      "cell_type": "code",
      "source": [
        "#Video module testing accuracy contribution in multimodal system in percent\n",
        "Y_V = 100 * test_acc_v / (test_acc_a + test_acc_e + test_acc_v)\n",
        "print(Y_V.round(2))"
      ],
      "metadata": {
        "id": "q1Ca133L3Y1T"
      },
      "execution_count": null,
      "outputs": []
    },
    {
      "cell_type": "markdown",
      "source": [
        "While calulating complete accuracy (severity of depression by considering all three factors of patient or user ) \n",
        "\n",
        "Accuracy of test sample in percent"
      ],
      "metadata": {
        "id": "IDwsq4zr3i2g"
      }
    },
    {
      "cell_type": "code",
      "source": [
        "test_accuracy = Y_E * test_acc_e + Y_A * test_acc_a + Y_V * test_acc_v\n",
        "print(test_accuracy.round(2))"
      ],
      "metadata": {
        "id": "ljsROGL63cyb"
      },
      "execution_count": null,
      "outputs": []
    },
    {
      "cell_type": "markdown",
      "source": [
        "# --------------------------------------------------------------------------------------------------"
      ],
      "metadata": {
        "id": "Sh5gdrUcp2j-"
      }
    },
    {
      "cell_type": "code",
      "source": [
        "audio_path = '/content/drive/My Drive/audio_data/interim/P462/P462_no_silence.wav'\n",
        "\n",
        "###############################################\n",
        "#load the audio file\n",
        "x , sr = librosa.load(audio_path)\n",
        "\n",
        "chroma_stft = librosa.feature.chroma_stft(y=x, sr=sr)\n",
        "\n",
        "#indicates loudness(root mean square energy)\n",
        "rmse = librosa.feature.rms(x)\n",
        "\n",
        "spec_bw = librosa.feature.spectral_bandwidth(y=x, sr=sr)\n",
        "           \n",
        "X = librosa.stft(x)\n",
        "Xdb = librosa.amplitude_to_db(abs(X))\n",
        "\n",
        "#number of times a signal croses the horizontal axis\n",
        "zero_crossings = librosa.feature.zero_crossing_rate(x)\n",
        "\n",
        "spectral_centroids = librosa.feature.spectral_centroid(x, sr=sr)\n",
        "              \n",
        "spectral_rolloff = librosa.feature.spectral_rolloff(x, sr=sr)\n",
        "              \n",
        "mfccs = librosa.feature.mfcc(x, sr=sr)\n",
        "print(mfccs.shape)\n",
        "             \n",
        "\n",
        "#append all features together in one file\n",
        "to_append = f' {np.mean(chroma_stft)} {np.mean(rmse)} {np.mean(spectral_centroids)} {np.mean(spec_bw)} {np.mean(spectral_rolloff)} {np.mean(zero_crossings)}'\n",
        "\n",
        "for e in mfccs:\n",
        "  to_append += f' {np.mean(e)}'\n",
        "\n",
        "###################################################\n",
        "\n",
        "to_append2 =  to_append.split()\n",
        "to_append3 = np.array(to_append2)\n",
        "\n",
        "###############################################\n",
        "X_train_audio = np.load('/content/drive/My Drive/audio_data/xtrain.npy')\n",
        "\n",
        "scaler = StandardScaler()\n",
        "X_train_audio = scaler.fit_transform(X_train_audio)\n",
        "audio_df = scaler.transform(to_append3.reshape(1, -1))"
      ],
      "metadata": {
        "colab": {
          "base_uri": "https://localhost:8080/"
        },
        "id": "CxMfZLAhKq8w",
        "outputId": "5696e06b-4ae2-44ae-b05f-e6238e24c387"
      },
      "execution_count": null,
      "outputs": [
        {
          "output_type": "stream",
          "name": "stdout",
          "text": [
            "(20, 55639)\n"
          ]
        }
      ]
    }
  ],
  "metadata": {
    "accelerator": "GPU",
    "colab": {
      "collapsed_sections": [
        "R01Sx-eJzw3d",
        "h9AvY8KUvkOb",
        "Sh5gdrUcp2j-"
      ],
      "machine_shape": "hm",
      "provenance": []
    },
    "kernelspec": {
      "display_name": "Python 3",
      "name": "python3"
    },
    "language_info": {
      "name": "python"
    }
  },
  "nbformat": 4,
  "nbformat_minor": 0
}