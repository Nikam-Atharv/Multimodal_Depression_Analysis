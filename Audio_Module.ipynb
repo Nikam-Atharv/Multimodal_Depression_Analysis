{
  "nbformat": 4,
  "nbformat_minor": 0,
  "metadata": {
    "colab": {
      "provenance": [],
      "collapsed_sections": [
        "9ji_ksU636Va",
        "7qr5fbw-73V0"
      ],
      "machine_shape": "hm"
    },
    "kernelspec": {
      "name": "python3",
      "display_name": "Python 3"
    },
    "language_info": {
      "name": "python"
    },
    "accelerator": "GPU"
  },
  "cells": [
    {
      "cell_type": "code",
      "source": [
        "from google.colab import drive\n",
        "drive.mount('/content/drive')"
      ],
      "metadata": {
        "id": "sj6iCWJdGLUy",
        "colab": {
          "base_uri": "https://localhost:8080/"
        },
        "outputId": "63cc358f-8885-49cf-a38c-73ec8d2a19b0"
      },
      "execution_count": null,
      "outputs": [
        {
          "output_type": "stream",
          "name": "stdout",
          "text": [
            "Mounted at /content/drive\n"
          ]
        }
      ]
    },
    {
      "cell_type": "markdown",
      "source": [
        "#install packages"
      ],
      "metadata": {
        "id": "9ji_ksU636Va"
      }
    },
    {
      "cell_type": "code",
      "source": [
        "pip install pyAudioAnalysis"
      ],
      "metadata": {
        "colab": {
          "base_uri": "https://localhost:8080/"
        },
        "id": "h2SA2IXgGqOZ",
        "outputId": "f1c39011-d64d-460f-9e3b-075ff5ab6013"
      },
      "execution_count": null,
      "outputs": [
        {
          "output_type": "stream",
          "name": "stdout",
          "text": [
            "Looking in indexes: https://pypi.org/simple, https://us-python.pkg.dev/colab-wheels/public/simple/\n",
            "Collecting pyAudioAnalysis\n",
            "  Downloading pyAudioAnalysis-0.3.14.tar.gz (41.3 MB)\n",
            "\u001b[K     |████████████████████████████████| 41.3 MB 9.1 MB/s \n",
            "\u001b[?25hBuilding wheels for collected packages: pyAudioAnalysis\n",
            "  Building wheel for pyAudioAnalysis (setup.py) ... \u001b[?25l\u001b[?25hdone\n",
            "  Created wheel for pyAudioAnalysis: filename=pyAudioAnalysis-0.3.14-py3-none-any.whl size=41264389 sha256=98a547ff31a248dd673e3e6341ca77dd5e97466f4db9dfb971be4555f8866a1a\n",
            "  Stored in directory: /root/.cache/pip/wheels/85/b4/52/c6a5bdc8517a9bc4cc95aca9839f118d25139aee7881a8d210\n",
            "Successfully built pyAudioAnalysis\n",
            "Installing collected packages: pyAudioAnalysis\n",
            "Successfully installed pyAudioAnalysis-0.3.14\n"
          ]
        }
      ]
    },
    {
      "cell_type": "code",
      "source": [
        "pip install eyed3"
      ],
      "metadata": {
        "colab": {
          "base_uri": "https://localhost:8080/"
        },
        "id": "64ISb-0-G0Nl",
        "outputId": "f23fc510-0be1-4a2b-8995-79cbf7092b2c"
      },
      "execution_count": null,
      "outputs": [
        {
          "output_type": "stream",
          "name": "stdout",
          "text": [
            "Looking in indexes: https://pypi.org/simple, https://us-python.pkg.dev/colab-wheels/public/simple/\n",
            "Collecting eyed3\n",
            "  Downloading eyeD3-0.9.6-py3-none-any.whl (245 kB)\n",
            "\u001b[K     |████████████████████████████████| 245 kB 5.2 MB/s \n",
            "\u001b[?25hCollecting coverage[toml]<6.0.0,>=5.3.1\n",
            "  Downloading coverage-5.5-cp37-cp37m-manylinux2010_x86_64.whl (242 kB)\n",
            "\u001b[K     |████████████████████████████████| 242 kB 58.2 MB/s \n",
            "\u001b[?25hCollecting filetype<2.0.0,>=1.0.7\n",
            "  Downloading filetype-1.0.13-py2.py3-none-any.whl (17 kB)\n",
            "Collecting deprecation<3.0.0,>=2.1.0\n",
            "  Downloading deprecation-2.1.0-py2.py3-none-any.whl (11 kB)\n",
            "Collecting toml\n",
            "  Downloading toml-0.10.2-py2.py3-none-any.whl (16 kB)\n",
            "Requirement already satisfied: packaging in /usr/local/lib/python3.7/dist-packages (from deprecation<3.0.0,>=2.1.0->eyed3) (21.3)\n",
            "Requirement already satisfied: pyparsing!=3.0.5,>=2.0.2 in /usr/local/lib/python3.7/dist-packages (from packaging->deprecation<3.0.0,>=2.1.0->eyed3) (3.0.9)\n",
            "Installing collected packages: toml, coverage, filetype, deprecation, eyed3\n",
            "  Attempting uninstall: coverage\n",
            "    Found existing installation: coverage 3.7.1\n",
            "    Uninstalling coverage-3.7.1:\n",
            "      Successfully uninstalled coverage-3.7.1\n",
            "\u001b[31mERROR: pip's dependency resolver does not currently take into account all the packages that are installed. This behaviour is the source of the following dependency conflicts.\n",
            "datascience 0.10.6 requires coverage==3.7.1, but you have coverage 5.5 which is incompatible.\n",
            "datascience 0.10.6 requires folium==0.2.1, but you have folium 0.8.3 which is incompatible.\n",
            "coveralls 0.5 requires coverage<3.999,>=3.6, but you have coverage 5.5 which is incompatible.\u001b[0m\n",
            "Successfully installed coverage-5.5 deprecation-2.1.0 eyed3-0.9.6 filetype-1.0.13 toml-0.10.2\n"
          ]
        }
      ]
    },
    {
      "cell_type": "code",
      "source": [
        "pip install pydub"
      ],
      "metadata": {
        "colab": {
          "base_uri": "https://localhost:8080/"
        },
        "id": "jSPX1xmrG5Zn",
        "outputId": "73773a7e-9428-4744-9bea-cf4d56fdb024"
      },
      "execution_count": null,
      "outputs": [
        {
          "output_type": "stream",
          "name": "stdout",
          "text": [
            "Looking in indexes: https://pypi.org/simple, https://us-python.pkg.dev/colab-wheels/public/simple/\n",
            "Collecting pydub\n",
            "  Downloading pydub-0.25.1-py2.py3-none-any.whl (32 kB)\n",
            "Installing collected packages: pydub\n",
            "Successfully installed pydub-0.25.1\n"
          ]
        }
      ]
    },
    {
      "cell_type": "code",
      "source": [
        "pip install hmmlearn"
      ],
      "metadata": {
        "colab": {
          "base_uri": "https://localhost:8080/"
        },
        "id": "sPBaFmnUG_E8",
        "outputId": "c1aee64d-334f-4d07-823c-78a355756619"
      },
      "execution_count": null,
      "outputs": [
        {
          "output_type": "stream",
          "name": "stdout",
          "text": [
            "Looking in indexes: https://pypi.org/simple, https://us-python.pkg.dev/colab-wheels/public/simple/\n",
            "Collecting hmmlearn\n",
            "  Downloading hmmlearn-0.2.7-cp37-cp37m-manylinux_2_12_x86_64.manylinux2010_x86_64.whl (129 kB)\n",
            "\u001b[K     |████████████████████████████████| 129 kB 5.2 MB/s \n",
            "\u001b[?25hRequirement already satisfied: scikit-learn>=0.16 in /usr/local/lib/python3.7/dist-packages (from hmmlearn) (1.0.2)\n",
            "Requirement already satisfied: scipy>=0.19 in /usr/local/lib/python3.7/dist-packages (from hmmlearn) (1.4.1)\n",
            "Requirement already satisfied: numpy>=1.10 in /usr/local/lib/python3.7/dist-packages (from hmmlearn) (1.21.6)\n",
            "Requirement already satisfied: joblib>=0.11 in /usr/local/lib/python3.7/dist-packages (from scikit-learn>=0.16->hmmlearn) (1.1.0)\n",
            "Requirement already satisfied: threadpoolctl>=2.0.0 in /usr/local/lib/python3.7/dist-packages (from scikit-learn>=0.16->hmmlearn) (3.1.0)\n",
            "Installing collected packages: hmmlearn\n",
            "Successfully installed hmmlearn-0.2.7\n"
          ]
        }
      ]
    },
    {
      "cell_type": "code",
      "source": [
        "#### DO NOT IMPLEMENT THIS CELL ####\n",
        "## to remove the error of incomplete wave chunk- \n",
        "# open files with librosa and write them back with scipy.io.wavfile.write\n",
        "\n",
        "import os\n",
        "import sys\n",
        "import glob\n",
        "import numpy as np\n",
        "import librosa\n",
        "from scipy.io import wavfile\n",
        "\n",
        "def main(pathAudio):\n",
        "\t# for dirs in os.listdir(pathAudio):\n",
        "\tauds = glob.glob(os.path.join(pathAudio))\n",
        "\tfor aud in auds:\n",
        "\t\twavs = glob.glob(os.path.join(pathAudio, aud + '/*.wav'))\n",
        "\t\tfor wav in wavs:\n",
        "\t\t\tprint(wav)\n",
        "\t\t\ty, sr = librosa.load(wav, sr = 16000, mono=True)\n",
        "\t\t\ty = y * 32767 / max(0.01, np.max(np.abs(y)))\n",
        "\t\t\twavfile.write(wav, sr, y.astype(np.int16))\n",
        "\n",
        "if __name__ == '__main__':\n",
        "\tmain('/content/drive/My Drive/audio_data/audio')"
      ],
      "metadata": {
        "id": "wHGrupsRTNhi"
      },
      "execution_count": null,
      "outputs": []
    },
    {
      "cell_type": "markdown",
      "source": [
        "# segmentation"
      ],
      "metadata": {
        "id": "Na9cgcMUGIbz"
      }
    },
    {
      "cell_type": "code",
      "source": [
        "import os\n",
        "from pyAudioAnalysis import audioBasicIO as aIO\n",
        "from pyAudioAnalysis import audioSegmentation as aS\n",
        "import scipy.io.wavfile as wavfile\n",
        "import wave"
      ],
      "metadata": {
        "id": "ub1mWhqFGE6h"
      },
      "execution_count": null,
      "outputs": []
    },
    {
      "cell_type": "code",
      "execution_count": null,
      "metadata": {
        "id": "VvoYHbC5Fxn5"
      },
      "outputs": [],
      "source": [
        "\"\"\"\n",
        "A script that iterates through the extracted wav files and uses\n",
        "pyAudioAnalysis' silence extraction module to make a wav file containing the\n",
        "segmented audio (when the participant is speaking -- silence and virtual\n",
        "interviewer speech removed)\n",
        "\"\"\""
      ]
    },
    {
      "cell_type": "code",
      "source": [
        "def concatenate_segments(participant_dir, partic_id, remove_segment=True):\n",
        "    \"\"\"\n",
        "    A function that concatenates all the wave files in a participants\n",
        "    directory in to single wav file (with silence and other speakers removed)\n",
        "    and writes in to the participant's directory, then removes the individual\n",
        "    segments (when remove_segment=True).\n",
        "    \"\"\"\n",
        "    infiles = os.listdir(participant_dir)  # list of wav files in directory\n",
        "    outfile = '{}_no_silence.wav'.format(partic_id)\n",
        "\n",
        "    data = []\n",
        "    for infile in infiles:\n",
        "        print(\"infile:\", infile)\n",
        "        w = wave.open(infile, 'rb')\n",
        "        data.append([w.getparams(), w.readframes(w.getnframes())])\n",
        "        w.close()\n",
        "        if remove_segment:\n",
        "            os.remove(infile)\n",
        "\n",
        "    output = wave.open(outfile, 'wb')\n",
        "    # details of the files must be the same (channel, frame rates, etc.)\n",
        "    output.setparams(data[0][0])\n",
        "\n",
        "    # write each segment to output\n",
        "    for idx in range(len(data)):\n",
        "        output.writeframes(data[idx][1])\n",
        "    output.close()\n"
      ],
      "metadata": {
        "id": "F8lAr7oFHQ1e"
      },
      "execution_count": null,
      "outputs": []
    },
    {
      "cell_type": "code",
      "source": [
        "def remove_silence(filename, out_dir, smoothing=1.0, weight=0.3, plot=False):\n",
        "    \"\"\"\n",
        "    A function that implements pyAudioAnalysis' silence extraction module\n",
        "    and creates wav files of the participant specific portions of audio. The\n",
        "    smoothing and weight parameters were tuned for the AVEC 2016 dataset.\n",
        "    Parameters\n",
        "    ----------\n",
        "    filename : filepath\n",
        "        path to the input wav file\n",
        "    out_dir : filepath\n",
        "        path to the desired directory (where a participant folder will\n",
        "        be created containing a 'PXXX_no_silence.wav' file)\n",
        "    smoothing : float\n",
        "        tunable parameter to compensate for sparseness of recordings\n",
        "    weight : float\n",
        "        probability threshold for silence removal used in SVM\n",
        "    plot : bool\n",
        "        plots SVM probabilities of silence (used in tuning)\n",
        "    Returns\n",
        "    -------\n",
        "    A folder for each participant containing a single wav file\n",
        "    (named 'PXXX_no_silence.wav') with the vast majority of silence\n",
        "    and virtual interviewer speech removed. Feature extraction is\n",
        "    performed on these segmented wav files.\n",
        "    \"\"\"\n",
        "    partic_id = 'P' + filename.split('/')[-1].split('_')[0]  # PXXX\n",
        "    if is_segmentable(partic_id):\n",
        "        # create participant directory for segmented wav files\n",
        "        participant_dir = os.path.join(out_dir, partic_id)\n",
        "        if not os.path.exists(participant_dir):\n",
        "            os.makedirs(participant_dir)\n",
        "\n",
        "        os.chdir(participant_dir)\n",
        "\n",
        "        [Fs, x] = aIO.read_audio_file(filename)\n",
        "        segments = aS.silence_removal(x, Fs, 0.020, 0.020,\n",
        "                                     smooth_window=smoothing,\n",
        "                                     weight=weight,\n",
        "                                     plot=plot)\n",
        "\n",
        "        for s in segments:\n",
        "            seg_name = \"{:s}_{:.2f}-{:.2f}.wav\".format(partic_id, s[0], s[1])\n",
        "            wavfile.write(seg_name, Fs, x[int(Fs * s[0]):int(Fs * s[1])])\n",
        "\n",
        "        # concatenate segmented wave files within participant directory\n",
        "        concatenate_segments(participant_dir, partic_id)\n"
      ],
      "metadata": {
        "id": "PpGwpWKEHFts"
      },
      "execution_count": null,
      "outputs": []
    },
    {
      "cell_type": "code",
      "source": [
        "def is_segmentable(partic_id):\n",
        "    \"\"\"\n",
        "    A function that returns True if the participant's interview clip is not\n",
        "    in the manually identified set of troubled clips. The clips below were\n",
        "    not segmentable do to excessive static, proximity to the virtual\n",
        "    interviewer, volume levels, etc.\n",
        "    \"\"\"\n",
        "    troubled = set(['P300', 'P305', 'P306', 'P308', 'P315', 'P316', 'P343',\n",
        "                    'P354', 'P362', 'P375', 'P378', 'P381', 'P382', 'P385',\n",
        "                    'P387', 'P388', 'P390', 'P392', 'P393', 'P395', 'P408',\n",
        "                    'P413', 'P421', 'P438', 'P473', 'P476', 'P479', 'P490',\n",
        "                    'P492'])\n",
        "    return partic_id not in troubled"
      ],
      "metadata": {
        "id": "CH7_feK9HMMP"
      },
      "execution_count": null,
      "outputs": []
    },
    {
      "cell_type": "code",
      "source": [
        "if __name__ == '__main__':\n",
        "    # directory containing raw wav files\n",
        "    dir_name = '/content/drive/My Drive/audio_data/audio'\n",
        "\n",
        "    # directory where a participant folder will be created containing their\n",
        "    # segmented wav file\n",
        "    out_dir = '/content/drive/My Drive/audio_data/interim'\n",
        "\n",
        "    # iterate through wav files in dir_name and create a segmented wav_file\n",
        "    for file in os.listdir(dir_name):\n",
        "        if file.endswith('.wav'):\n",
        "            filename = os.path.join(dir_name, file)\n",
        "            remove_silence(filename, out_dir)"
      ],
      "metadata": {
        "id": "2QI4P0a4HUsE"
      },
      "execution_count": null,
      "outputs": []
    },
    {
      "cell_type": "markdown",
      "source": [
        "# Augmentation"
      ],
      "metadata": {
        "id": "77A2QF-zF9sL"
      }
    },
    {
      "cell_type": "code",
      "source": [
        "import numpy as np\n",
        "import pandas as pd\n",
        "\n",
        "import librosa\n",
        "import os\n",
        "import csv"
      ],
      "metadata": {
        "id": "Y8dy3GT9DAsa"
      },
      "execution_count": null,
      "outputs": []
    },
    {
      "cell_type": "code",
      "source": [
        "## required for adding noise\n",
        "# FUNCTION TO ADD WHITE NOISE\n",
        "def noise(x):\n",
        "    noise_amp = 0.05*np.random.uniform()*np.amax(x)   \n",
        "    x = x.astype('float64') + noise_amp * np.random.normal(size=x.shape[0])\n",
        "    return x"
      ],
      "metadata": {
        "id": "uhI5Jw0jGAXl"
      },
      "execution_count": null,
      "outputs": []
    },
    {
      "cell_type": "code",
      "source": [
        "# FUNCTION TO INCREASE SPEED AND PITCH \n",
        "def speedNpitch(x):\n",
        "    length_change = np.random.uniform(low=0.8, high = 1)\n",
        "    speed_fac = 1.4  / length_change \n",
        "    tmp = np.interp(np.arange(0,len(x),speed_fac),np.arange(0,len(x)),x)\n",
        "    minlen = min(x.shape[0], tmp.shape[0])\n",
        "    x *= 0\n",
        "    x[0:minlen] = tmp[0:minlen]\n",
        "    return x"
      ],
      "metadata": {
        "id": "nldpjq0zGCWs"
      },
      "execution_count": null,
      "outputs": []
    },
    {
      "cell_type": "code",
      "source": [
        "# FUNCTION TO STRETCH THE SOUND\n",
        "def stretch(x, rate=0.8):\n",
        "    data = librosa.effects.time_stretch(x, rate)\n",
        "    return data"
      ],
      "metadata": {
        "id": "I58NBG0KGCUX"
      },
      "execution_count": null,
      "outputs": []
    },
    {
      "cell_type": "code",
      "source": [
        "dir_name= '/content/drive/My Drive/audio_data/interim'"
      ],
      "metadata": {
        "id": "uR1BpF8KKlln"
      },
      "execution_count": null,
      "outputs": []
    },
    {
      "cell_type": "markdown",
      "source": [
        "## To add noise"
      ],
      "metadata": {
        "id": "HDhFqz3J4uLB"
      }
    },
    {
      "cell_type": "code",
      "source": [
        "# generating a dataset\n",
        "header = 'filename chroma_stft rmse spectral_centroid spectral_bandwidth rolloff zero_crossing_rate'\n",
        "for i in range(1, 21):\n",
        "    header += f' mfcc{i}'\n",
        "header += ' label'\n",
        "header = header.split()"
      ],
      "metadata": {
        "id": "-Dk8Gef3QYox"
      },
      "execution_count": null,
      "outputs": []
    },
    {
      "cell_type": "code",
      "source": [
        "file = open('/content/drive/My Drive/audio_data/noise_data.csv', 'w', newline='')\n",
        "with file:\n",
        "    writer = csv.writer(file)\n",
        "    writer.writerow(header)"
      ],
      "metadata": {
        "id": "eDhhqlwaQZ6i"
      },
      "execution_count": null,
      "outputs": []
    },
    {
      "cell_type": "code",
      "source": [
        "for subdir, dirs, files in os.walk(dir_name):\n",
        "        for file in files:\n",
        "            if file.endswith('.wav'):\n",
        "              wav_file = os.path.join(subdir, file)\n",
        "              png_name = subdir + '/' + file[:-4] + '.png'\n",
        "              print('Processing ' + file + '...')\n",
        "\n",
        "              x , sr = librosa.load(wav_file)\n",
        "\n",
        "              aug = noise(x)\n",
        "\n",
        "              chroma_stft = librosa.feature.chroma_stft(y=aug, sr=sr)\n",
        "              # chroma_stft = librosa.stft(x)\n",
        "              rmse = librosa.feature.rms(aug)\n",
        "              spec_bw = librosa.feature.spectral_bandwidth(y=aug, sr=sr)\n",
        "              #display Spectrogram\n",
        "              X = librosa.stft(aug)\n",
        "              Xdb = librosa.amplitude_to_db(abs(X))\n",
        "\n",
        "              zero_crossings = librosa.feature.zero_crossing_rate(aug)\n",
        "\n",
        "              spectral_centroids = librosa.feature.spectral_centroid(aug, sr=sr)\n",
        "\n",
        "              spectral_rolloff = librosa.feature.spectral_rolloff(aug, sr=sr)\n",
        "              mfccs = librosa.feature.mfcc(aug, sr=sr)\n",
        "              print(mfccs.shape)\n",
        "\n",
        "              to_append = f'{wav_file} {np.mean(chroma_stft)} {np.mean(rmse)} {np.mean(spectral_centroids)} {np.mean(spec_bw)} {np.mean(spectral_rolloff)} {np.mean(zero_crossings)}'\n",
        "\n",
        "              for e in mfccs:\n",
        "                  to_append += f' {np.mean(e)}'\n",
        "              to_append += f' {file}'\n",
        "              file = open('/content/drive/My Drive/audio_data/noise_data.csv', 'a', newline='')\n",
        "              with file:\n",
        "                  writer = csv.writer(file)\n",
        "                  writer.writerow(to_append.split())"
      ],
      "metadata": {
        "colab": {
          "base_uri": "https://localhost:8080/"
        },
        "id": "q28IKFlQKHmV",
        "outputId": "cad05510-096f-48fe-db52-c444463dde10"
      },
      "execution_count": null,
      "outputs": [
        {
          "output_type": "stream",
          "name": "stdout",
          "text": [
            "Processing P301_no_silence.wav...\n",
            "(20, 40907)\n",
            "Processing P365_no_silence.wav...\n",
            "(20, 75003)\n",
            "Processing P325_no_silence.wav...\n",
            "(20, 46369)\n",
            "Processing P336_no_silence.wav...\n",
            "(20, 40915)\n",
            "Processing P332_no_silence.wav...\n",
            "(20, 36064)\n",
            "Processing P340_no_silence.wav...\n",
            "(20, 18097)\n",
            "Processing P326_no_silence.wav...\n",
            "(20, 25834)\n",
            "Processing P334_no_silence.wav...\n",
            "(20, 44154)\n",
            "Processing P383_no_silence.wav...\n",
            "(20, 80074)\n",
            "Processing P327_no_silence.wav...\n",
            "(20, 27388)\n",
            "Processing P319_no_silence.wav...\n",
            "(20, 24657)\n",
            "Processing P324_no_silence.wav...\n",
            "(20, 30839)\n",
            "Processing P369_no_silence.wav...\n",
            "(20, 66210)\n",
            "Processing P328_no_silence.wav...\n",
            "(20, 52921)\n",
            "Processing P320_no_silence.wav...\n",
            "(20, 29118)\n",
            "Processing P318_no_silence.wav...\n",
            "(20, 23757)\n",
            "Processing P333_no_silence.wav...\n",
            "(20, 41412)\n",
            "Processing P409_no_silence.wav...\n",
            "(20, 60417)\n",
            "Processing P312_no_silence.wav...\n",
            "(20, 53303)\n",
            "Processing P377_no_silence.wav...\n",
            "(20, 90292)\n",
            "Processing P307_no_silence.wav...\n",
            "(20, 66839)\n",
            "Processing P311_no_silence.wav...\n",
            "(20, 33444)\n",
            "Processing P337_no_silence.wav...\n",
            "(20, 113243)\n",
            "Processing P313_no_silence.wav...\n",
            "(20, 35720)\n",
            "Processing P364_no_silence.wav...\n",
            "(20, 106510)\n",
            "Processing P331_no_silence.wav...\n",
            "(20, 37234)\n",
            "Processing P323_no_silence.wav...\n",
            "(20, 41502)\n",
            "Processing P322_no_silence.wav...\n",
            "(20, 50523)\n",
            "Processing P304_no_silence.wav...\n",
            "(20, 32111)\n",
            "Processing P309_no_silence.wav...\n",
            "(20, 20872)\n",
            "Processing P302_no_silence.wav...\n",
            "(20, 27044)\n",
            "Processing P350_no_silence.wav...\n",
            "(20, 44522)\n",
            "Processing P303_no_silence.wav...\n",
            "(20, 52275)\n",
            "Processing P321_no_silence.wav...\n",
            "(20, 31332)\n",
            "Processing P329_no_silence.wav...\n",
            "(20, 34110)\n",
            "Processing P310_no_silence.wav...\n",
            "(20, 33239)\n",
            "Processing P314_no_silence.wav...\n",
            "(20, 90836)\n",
            "Processing P341_no_silence.wav...\n",
            "(20, 40038)\n",
            "Processing P335_no_silence.wav...\n",
            "(20, 40532)\n",
            "Processing P317_no_silence.wav...\n",
            "(20, 26114)\n",
            "Processing P374_no_silence.wav...\n",
            "(20, 71866)\n",
            "Processing P356_no_silence.wav...\n",
            "(20, 54167)\n",
            "Processing P353_no_silence.wav...\n",
            "(20, 42735)\n",
            "Processing P480_no_silence.wav...\n",
            "(20, 33299)\n",
            "Processing P472_no_silence.wav...\n",
            "(20, 40704)\n",
            "Processing P484_no_silence.wav...\n",
            "(20, 54677)\n",
            "Processing P462_no_silence.wav...\n",
            "(20, 55639)\n",
            "Processing P491_no_silence.wav...\n",
            "(20, 45765)\n",
            "Processing P488_no_silence.wav...\n",
            "(20, 41252)\n",
            "Processing P467_no_silence.wav...\n",
            "(20, 35171)\n",
            "Processing P463_no_silence.wav...\n",
            "(20, 33641)\n",
            "Processing P465_no_silence.wav...\n",
            "(20, 66138)\n",
            "Processing P485_no_silence.wav...\n",
            "(20, 23114)\n",
            "Processing P471_no_silence.wav...\n",
            "(20, 55306)\n",
            "Processing P468_no_silence.wav...\n",
            "(20, 47528)\n",
            "Processing P458_no_silence.wav...\n",
            "(20, 50278)\n",
            "Processing P464_no_silence.wav...\n",
            "(20, 55509)\n",
            "Processing P456_no_silence.wav...\n",
            "(20, 45080)\n",
            "Processing P454_no_silence.wav...\n",
            "(20, 29271)\n",
            "Processing P470_no_silence.wav...\n",
            "(20, 48638)\n",
            "Processing P457_no_silence.wav...\n",
            "(20, 56529)\n",
            "Processing P486_no_silence.wav...\n",
            "(20, 26120)\n",
            "Processing P478_no_silence.wav...\n",
            "(20, 37988)\n",
            "Processing P474_no_silence.wav...\n",
            "(20, 45499)\n",
            "Processing P475_no_silence.wav...\n",
            "(20, 25531)\n",
            "Processing P483_no_silence.wav...\n",
            "(20, 78805)\n",
            "Processing P477_no_silence.wav...\n",
            "(20, 68809)\n",
            "Processing P469_no_silence.wav...\n",
            "(20, 60082)\n",
            "Processing P489_no_silence.wav...\n",
            "(20, 22079)\n",
            "Processing P445_no_silence.wav...\n",
            "(20, 35242)\n",
            "Processing P443_no_silence.wav...\n",
            "(20, 24308)\n",
            "Processing P482_no_silence.wav...\n",
            "(20, 51103)\n",
            "Processing P455_no_silence.wav...\n",
            "(20, 41220)\n",
            "Processing P453_no_silence.wav...\n",
            "(20, 54352)\n",
            "Processing P441_no_silence.wav...\n",
            "(20, 35487)\n",
            "Processing P436_no_silence.wav...\n",
            "(20, 33206)\n",
            "Processing P447_no_silence.wav...\n",
            "(20, 37836)\n",
            "Processing P451_no_silence.wav...\n",
            "(20, 59051)\n",
            "Processing P439_no_silence.wav...\n",
            "(20, 84136)\n",
            "Processing P428_no_silence.wav...\n",
            "(20, 25692)\n",
            "Processing P437_no_silence.wav...\n",
            "(20, 44943)\n",
            "Processing P449_no_silence.wav...\n",
            "(20, 63969)\n",
            "Processing P425_no_silence.wav...\n",
            "(20, 61107)\n",
            "Processing P466_no_silence.wav...\n",
            "(20, 98231)\n",
            "Processing P424_no_silence.wav...\n",
            "(20, 66530)\n",
            "Processing P423_no_silence.wav...\n",
            "(20, 45242)\n",
            "Processing P459_no_silence.wav...\n",
            "(20, 34073)\n",
            "Processing P429_no_silence.wav...\n",
            "(20, 40581)\n",
            "Processing P432_no_silence.wav...\n",
            "(20, 48855)\n",
            "Processing P419_no_silence.wav...\n",
            "(20, 56016)\n",
            "Processing P481_no_silence.wav...\n",
            "(20, 55197)\n",
            "Processing P431_no_silence.wav...\n",
            "(20, 43042)\n",
            "Processing P430_no_silence.wav...\n",
            "(20, 44268)\n",
            "Processing P487_no_silence.wav...\n",
            "(20, 60061)\n",
            "Processing P426_no_silence.wav...\n",
            "(20, 39815)\n",
            "Processing P440_no_silence.wav...\n",
            "(20, 77610)\n",
            "Processing P433_no_silence.wav...\n",
            "(20, 36396)\n",
            "Processing P414_no_silence.wav...\n",
            "(20, 50347)\n",
            "Processing P406_no_silence.wav...\n",
            "(20, 33529)\n",
            "Processing P442_no_silence.wav...\n",
            "(20, 48972)\n",
            "Processing P446_no_silence.wav...\n",
            "(20, 57933)\n",
            "Processing P411_no_silence.wav...\n",
            "(20, 86452)\n",
            "Processing P448_no_silence.wav...\n",
            "(20, 64399)\n",
            "Processing P418_no_silence.wav...\n",
            "(20, 64824)\n",
            "Processing P417_no_silence.wav...\n",
            "(20, 42586)\n",
            "Processing P415_no_silence.wav...\n",
            "(20, 38788)\n",
            "Processing P434_no_silence.wav...\n",
            "(20, 78845)\n",
            "Processing P420_no_silence.wav...\n",
            "(20, 40411)\n",
            "Processing P416_no_silence.wav...\n",
            "(20, 58178)\n",
            "Processing P402_no_silence.wav...\n",
            "(20, 47312)\n",
            "Processing P403_no_silence.wav...\n",
            "(20, 42052)\n",
            "Processing P450_no_silence.wav...\n",
            "(20, 68964)\n",
            "Processing P407_no_silence.wav...\n",
            "(20, 77236)\n",
            "Processing P452_no_silence.wav...\n",
            "(20, 16193)\n",
            "Processing P389_no_silence.wav...\n",
            "(20, 12799)\n",
            "Processing P422_no_silence.wav...\n",
            "(20, 38413)\n",
            "Processing P399_no_silence.wav...\n",
            "(20, 34034)\n",
            "Processing P461_no_silence.wav...\n",
            "(20, 16963)\n",
            "Processing P391_no_silence.wav...\n",
            "(20, 16300)\n",
            "Processing P397_no_silence.wav...\n",
            "(20, 21850)\n",
            "Processing P400_no_silence.wav...\n",
            "(20, 22908)\n",
            "Processing P427_no_silence.wav...\n",
            "(20, 19425)\n",
            "Processing P404_no_silence.wav...\n",
            "(20, 25770)\n",
            "Processing P435_no_silence.wav...\n",
            "(20, 18224)\n",
            "Processing P444_no_silence.wav...\n",
            "(20, 41428)\n",
            "Processing P412_no_silence.wav...\n",
            "(20, 17050)\n",
            "Processing P396_no_silence.wav...\n",
            "(20, 17918)\n",
            "Processing P401_no_silence.wav...\n",
            "(20, 24883)\n",
            "Processing P405_no_silence.wav...\n",
            "(20, 43032)\n",
            "Processing P366_no_silence.wav...\n",
            "(20, 35321)\n",
            "Processing P376_no_silence.wav...\n",
            "(20, 26354)\n",
            "Processing P368_no_silence.wav...\n",
            "(20, 42728)\n",
            "Processing P373_no_silence.wav...\n",
            "(20, 40445)\n",
            "Processing P357_no_silence.wav...\n",
            "(20, 7205)\n",
            "Processing P363_no_silence.wav...\n",
            "(20, 37300)\n",
            "Processing P360_no_silence.wav...\n",
            "(20, 9991)\n",
            "Processing P386_no_silence.wav...\n",
            "(20, 29355)\n",
            "Processing P359_no_silence.wav...\n",
            "(20, 28515)\n",
            "Processing P371_no_silence.wav...\n",
            "(20, 28833)\n",
            "Processing P384_no_silence.wav...\n",
            "(20, 21759)\n",
            "Processing P351_no_silence.wav...\n",
            "(20, 39667)\n",
            "Processing P355_no_silence.wav...\n",
            "(20, 32658)\n",
            "Processing P361_no_silence.wav...\n",
            "(20, 34135)\n",
            "Processing P410_no_silence.wav...\n",
            "(20, 57009)\n",
            "Processing P347_no_silence.wav...\n",
            "(20, 15184)\n",
            "Processing P372_no_silence.wav...\n",
            "(20, 70899)\n",
            "Processing P348_no_silence.wav...\n",
            "(20, 28819)\n",
            "Processing P358_no_silence.wav...\n",
            "(20, 28893)\n",
            "Processing P380_no_silence.wav...\n",
            "(20, 113021)\n",
            "Processing P370_no_silence.wav...\n",
            "(20, 70050)\n",
            "Processing P345_no_silence.wav...\n",
            "(20, 44903)\n",
            "Processing P344_no_silence.wav...\n",
            "(20, 57795)\n",
            "Processing P367_no_silence.wav...\n",
            "(20, 90047)\n",
            "Processing P349_no_silence.wav...\n",
            "(20, 52022)\n",
            "Processing P339_no_silence.wav...\n",
            "(20, 42566)\n",
            "Processing P379_no_silence.wav...\n",
            "(20, 59354)\n",
            "Processing P330_no_silence.wav...\n",
            "(20, 22199)\n",
            "Processing P346_no_silence.wav...\n",
            "(20, 64146)\n",
            "Processing P338_no_silence.wav...\n",
            "(20, 27342)\n",
            "Processing P352_no_silence.wav...\n",
            "(20, 46565)\n"
          ]
        }
      ]
    },
    {
      "cell_type": "markdown",
      "source": [
        "## To increase pitch and speed"
      ],
      "metadata": {
        "id": "2SwXIYhA42z4"
      }
    },
    {
      "cell_type": "code",
      "source": [
        "# generating a dataset\n",
        "header = 'filename chroma_stft rmse spectral_centroid spectral_bandwidth rolloff zero_crossing_rate'\n",
        "for i in range(1, 21):\n",
        "    header += f' mfcc{i}'\n",
        "header += ' label'\n",
        "header = header.split()"
      ],
      "metadata": {
        "id": "LWjFCqWqR4JF"
      },
      "execution_count": null,
      "outputs": []
    },
    {
      "cell_type": "code",
      "source": [
        "file = open('/content/drive/My Drive/audio_data/speedp_data.csv', 'w', newline='')\n",
        "with file:\n",
        "    writer = csv.writer(file)\n",
        "    writer.writerow(header)"
      ],
      "metadata": {
        "id": "KhuXev-aR4F6"
      },
      "execution_count": null,
      "outputs": []
    },
    {
      "cell_type": "code",
      "source": [
        "for subdir, dirs, files in os.walk(dir_name):\n",
        "        for file in files:\n",
        "            if file.endswith('.wav'):\n",
        "              wav_file = os.path.join(subdir, file)\n",
        "              png_name = subdir + '/' + file[:-4] + '.png'\n",
        "              print('Processing ' + file + '...')\n",
        "\n",
        "              x , sr = librosa.load(wav_file)\n",
        "\n",
        "              aug = speedNpitch(x)\n",
        "\n",
        "              chroma_stft = librosa.feature.chroma_stft(y=aug, sr=sr)\n",
        "              # chroma_stft = librosa.stft(x)\n",
        "              rmse = librosa.feature.rms(aug)\n",
        "              spec_bw = librosa.feature.spectral_bandwidth(y=aug, sr=sr)\n",
        "              #display Spectrogram\n",
        "              X = librosa.stft(aug)\n",
        "              Xdb = librosa.amplitude_to_db(abs(X))\n",
        "\n",
        "              zero_crossings = librosa.feature.zero_crossing_rate(aug)\n",
        "\n",
        "              spectral_centroids = librosa.feature.spectral_centroid(aug, sr=sr)\n",
        "\n",
        "              spectral_rolloff = librosa.feature.spectral_rolloff(aug, sr=sr)\n",
        "              mfccs = librosa.feature.mfcc(aug, sr=sr)\n",
        "              print(mfccs.shape)\n",
        "\n",
        "              to_append = f'{wav_file} {np.mean(chroma_stft)} {np.mean(rmse)} {np.mean(spectral_centroids)} {np.mean(spec_bw)} {np.mean(spectral_rolloff)} {np.mean(zero_crossings)}'\n",
        "\n",
        "              for e in mfccs:\n",
        "                  to_append += f' {np.mean(e)}'\n",
        "              to_append += f' {file}'\n",
        "              file = open('/content/drive/My Drive/audio_data/speedp_data.csv', 'a', newline='')\n",
        "              with file:\n",
        "                  writer = csv.writer(file)\n",
        "                  writer.writerow(to_append.split())"
      ],
      "metadata": {
        "colab": {
          "base_uri": "https://localhost:8080/"
        },
        "id": "wQ7Sz_RIRa5z",
        "outputId": "0da89d3b-f6e6-4564-a7f4-e80e6f208999"
      },
      "execution_count": null,
      "outputs": [
        {
          "output_type": "stream",
          "name": "stdout",
          "text": [
            "Processing P301_no_silence.wav...\n",
            "(20, 40907)\n",
            "Processing P365_no_silence.wav...\n",
            "(20, 75003)\n",
            "Processing P325_no_silence.wav...\n",
            "(20, 46369)\n",
            "Processing P336_no_silence.wav...\n",
            "(20, 40915)\n",
            "Processing P332_no_silence.wav...\n",
            "(20, 36064)\n",
            "Processing P340_no_silence.wav...\n",
            "(20, 18097)\n",
            "Processing P326_no_silence.wav...\n",
            "(20, 25834)\n",
            "Processing P334_no_silence.wav...\n",
            "(20, 44154)\n",
            "Processing P383_no_silence.wav...\n",
            "(20, 80074)\n",
            "Processing P327_no_silence.wav...\n",
            "(20, 27388)\n",
            "Processing P319_no_silence.wav...\n",
            "(20, 24657)\n",
            "Processing P324_no_silence.wav...\n",
            "(20, 30839)\n",
            "Processing P369_no_silence.wav...\n",
            "(20, 66210)\n",
            "Processing P328_no_silence.wav...\n",
            "(20, 52921)\n",
            "Processing P320_no_silence.wav...\n",
            "(20, 29118)\n",
            "Processing P318_no_silence.wav...\n",
            "(20, 23757)\n",
            "Processing P333_no_silence.wav...\n",
            "(20, 41412)\n",
            "Processing P409_no_silence.wav...\n",
            "(20, 60417)\n",
            "Processing P312_no_silence.wav...\n",
            "(20, 53303)\n",
            "Processing P377_no_silence.wav...\n",
            "(20, 90292)\n",
            "Processing P307_no_silence.wav...\n",
            "(20, 66839)\n",
            "Processing P311_no_silence.wav...\n",
            "(20, 33444)\n",
            "Processing P337_no_silence.wav...\n",
            "(20, 113243)\n",
            "Processing P313_no_silence.wav...\n",
            "(20, 35720)\n",
            "Processing P364_no_silence.wav...\n",
            "(20, 106510)\n",
            "Processing P331_no_silence.wav...\n",
            "(20, 37234)\n",
            "Processing P323_no_silence.wav...\n",
            "(20, 41502)\n",
            "Processing P322_no_silence.wav...\n",
            "(20, 50523)\n",
            "Processing P304_no_silence.wav...\n",
            "(20, 32111)\n",
            "Processing P309_no_silence.wav...\n",
            "(20, 20872)\n",
            "Processing P302_no_silence.wav...\n",
            "(20, 27044)\n",
            "Processing P350_no_silence.wav...\n",
            "(20, 44522)\n",
            "Processing P303_no_silence.wav...\n",
            "(20, 52275)\n",
            "Processing P321_no_silence.wav...\n",
            "(20, 31332)\n",
            "Processing P329_no_silence.wav...\n",
            "(20, 34110)\n",
            "Processing P310_no_silence.wav...\n",
            "(20, 33239)\n",
            "Processing P314_no_silence.wav...\n",
            "(20, 90836)\n",
            "Processing P341_no_silence.wav...\n",
            "(20, 40038)\n",
            "Processing P335_no_silence.wav...\n",
            "(20, 40532)\n",
            "Processing P317_no_silence.wav...\n",
            "(20, 26114)\n",
            "Processing P374_no_silence.wav...\n",
            "(20, 71866)\n",
            "Processing P356_no_silence.wav...\n",
            "(20, 54167)\n",
            "Processing P353_no_silence.wav...\n",
            "(20, 42735)\n",
            "Processing P480_no_silence.wav...\n",
            "(20, 33299)\n",
            "Processing P472_no_silence.wav...\n",
            "(20, 40704)\n",
            "Processing P484_no_silence.wav...\n",
            "(20, 54677)\n",
            "Processing P462_no_silence.wav...\n",
            "(20, 55639)\n",
            "Processing P491_no_silence.wav...\n",
            "(20, 45765)\n",
            "Processing P488_no_silence.wav...\n",
            "(20, 41252)\n",
            "Processing P467_no_silence.wav...\n",
            "(20, 35171)\n",
            "Processing P463_no_silence.wav...\n",
            "(20, 33641)\n",
            "Processing P465_no_silence.wav...\n",
            "(20, 66138)\n",
            "Processing P485_no_silence.wav...\n",
            "(20, 23114)\n",
            "Processing P471_no_silence.wav...\n",
            "(20, 55306)\n",
            "Processing P468_no_silence.wav...\n",
            "(20, 47528)\n",
            "Processing P458_no_silence.wav...\n",
            "(20, 50278)\n",
            "Processing P464_no_silence.wav...\n",
            "(20, 55509)\n",
            "Processing P456_no_silence.wav...\n",
            "(20, 45080)\n",
            "Processing P454_no_silence.wav...\n",
            "(20, 29271)\n",
            "Processing P470_no_silence.wav...\n",
            "(20, 48638)\n",
            "Processing P457_no_silence.wav...\n",
            "(20, 56529)\n",
            "Processing P486_no_silence.wav...\n",
            "(20, 26120)\n",
            "Processing P478_no_silence.wav...\n",
            "(20, 37988)\n",
            "Processing P474_no_silence.wav...\n",
            "(20, 45499)\n",
            "Processing P475_no_silence.wav...\n",
            "(20, 25531)\n",
            "Processing P483_no_silence.wav...\n",
            "(20, 78805)\n",
            "Processing P477_no_silence.wav...\n",
            "(20, 68809)\n",
            "Processing P469_no_silence.wav...\n",
            "(20, 60082)\n",
            "Processing P489_no_silence.wav...\n",
            "(20, 22079)\n",
            "Processing P445_no_silence.wav...\n",
            "(20, 35242)\n",
            "Processing P443_no_silence.wav...\n",
            "(20, 24308)\n",
            "Processing P482_no_silence.wav...\n",
            "(20, 51103)\n",
            "Processing P455_no_silence.wav...\n",
            "(20, 41220)\n",
            "Processing P453_no_silence.wav...\n",
            "(20, 54352)\n",
            "Processing P441_no_silence.wav...\n",
            "(20, 35487)\n",
            "Processing P436_no_silence.wav...\n",
            "(20, 33206)\n",
            "Processing P447_no_silence.wav...\n",
            "(20, 37836)\n",
            "Processing P451_no_silence.wav...\n",
            "(20, 59051)\n",
            "Processing P439_no_silence.wav...\n",
            "(20, 84136)\n",
            "Processing P428_no_silence.wav...\n",
            "(20, 25692)\n",
            "Processing P437_no_silence.wav...\n",
            "(20, 44943)\n",
            "Processing P449_no_silence.wav...\n",
            "(20, 63969)\n",
            "Processing P425_no_silence.wav...\n",
            "(20, 61107)\n",
            "Processing P466_no_silence.wav...\n",
            "(20, 98231)\n",
            "Processing P424_no_silence.wav...\n",
            "(20, 66530)\n",
            "Processing P423_no_silence.wav...\n",
            "(20, 45242)\n",
            "Processing P459_no_silence.wav...\n",
            "(20, 34073)\n",
            "Processing P429_no_silence.wav...\n",
            "(20, 40581)\n",
            "Processing P432_no_silence.wav...\n",
            "(20, 48855)\n",
            "Processing P419_no_silence.wav...\n",
            "(20, 56016)\n",
            "Processing P481_no_silence.wav...\n",
            "(20, 55197)\n",
            "Processing P431_no_silence.wav...\n",
            "(20, 43042)\n",
            "Processing P430_no_silence.wav...\n",
            "(20, 44268)\n",
            "Processing P487_no_silence.wav...\n",
            "(20, 60061)\n",
            "Processing P426_no_silence.wav...\n",
            "(20, 39815)\n",
            "Processing P440_no_silence.wav...\n",
            "(20, 77610)\n",
            "Processing P433_no_silence.wav...\n",
            "(20, 36396)\n",
            "Processing P414_no_silence.wav...\n",
            "(20, 50347)\n",
            "Processing P406_no_silence.wav...\n",
            "(20, 33529)\n",
            "Processing P442_no_silence.wav...\n",
            "(20, 48972)\n",
            "Processing P446_no_silence.wav...\n",
            "(20, 57933)\n",
            "Processing P411_no_silence.wav...\n",
            "(20, 86452)\n",
            "Processing P448_no_silence.wav...\n",
            "(20, 64399)\n",
            "Processing P418_no_silence.wav...\n",
            "(20, 64824)\n",
            "Processing P417_no_silence.wav...\n",
            "(20, 42586)\n",
            "Processing P415_no_silence.wav...\n",
            "(20, 38788)\n",
            "Processing P434_no_silence.wav...\n",
            "(20, 78845)\n",
            "Processing P420_no_silence.wav...\n",
            "(20, 40411)\n",
            "Processing P416_no_silence.wav...\n",
            "(20, 58178)\n",
            "Processing P402_no_silence.wav...\n",
            "(20, 47312)\n",
            "Processing P403_no_silence.wav...\n",
            "(20, 42052)\n",
            "Processing P450_no_silence.wav...\n",
            "(20, 68964)\n",
            "Processing P407_no_silence.wav...\n",
            "(20, 77236)\n",
            "Processing P452_no_silence.wav...\n",
            "(20, 16193)\n",
            "Processing P389_no_silence.wav...\n",
            "(20, 12799)\n",
            "Processing P422_no_silence.wav...\n",
            "(20, 38413)\n",
            "Processing P399_no_silence.wav...\n",
            "(20, 34034)\n",
            "Processing P461_no_silence.wav...\n",
            "(20, 16963)\n",
            "Processing P391_no_silence.wav...\n",
            "(20, 16300)\n",
            "Processing P397_no_silence.wav...\n",
            "(20, 21850)\n",
            "Processing P400_no_silence.wav...\n",
            "(20, 22908)\n",
            "Processing P427_no_silence.wav...\n",
            "(20, 19425)\n",
            "Processing P404_no_silence.wav...\n",
            "(20, 25770)\n",
            "Processing P435_no_silence.wav...\n",
            "(20, 18224)\n",
            "Processing P444_no_silence.wav...\n",
            "(20, 41428)\n",
            "Processing P412_no_silence.wav...\n",
            "(20, 17050)\n",
            "Processing P396_no_silence.wav...\n",
            "(20, 17918)\n",
            "Processing P401_no_silence.wav...\n",
            "(20, 24883)\n",
            "Processing P405_no_silence.wav...\n",
            "(20, 43032)\n",
            "Processing P366_no_silence.wav...\n",
            "(20, 35321)\n",
            "Processing P376_no_silence.wav...\n",
            "(20, 26354)\n",
            "Processing P368_no_silence.wav...\n",
            "(20, 42728)\n",
            "Processing P373_no_silence.wav...\n",
            "(20, 40445)\n",
            "Processing P357_no_silence.wav...\n",
            "(20, 7205)\n",
            "Processing P363_no_silence.wav...\n",
            "(20, 37300)\n",
            "Processing P360_no_silence.wav...\n",
            "(20, 9991)\n",
            "Processing P386_no_silence.wav...\n",
            "(20, 29355)\n",
            "Processing P359_no_silence.wav...\n",
            "(20, 28515)\n",
            "Processing P371_no_silence.wav...\n",
            "(20, 28833)\n",
            "Processing P384_no_silence.wav...\n",
            "(20, 21759)\n",
            "Processing P351_no_silence.wav...\n",
            "(20, 39667)\n",
            "Processing P355_no_silence.wav...\n",
            "(20, 32658)\n",
            "Processing P361_no_silence.wav...\n",
            "(20, 34135)\n",
            "Processing P410_no_silence.wav...\n",
            "(20, 57009)\n",
            "Processing P347_no_silence.wav...\n",
            "(20, 15184)\n",
            "Processing P372_no_silence.wav...\n",
            "(20, 70899)\n",
            "Processing P348_no_silence.wav...\n",
            "(20, 28819)\n",
            "Processing P358_no_silence.wav...\n",
            "(20, 28893)\n",
            "Processing P380_no_silence.wav...\n",
            "(20, 113021)\n",
            "Processing P370_no_silence.wav...\n",
            "(20, 70050)\n",
            "Processing P345_no_silence.wav...\n",
            "(20, 44903)\n",
            "Processing P344_no_silence.wav...\n",
            "(20, 57795)\n",
            "Processing P367_no_silence.wav...\n",
            "(20, 90047)\n",
            "Processing P349_no_silence.wav...\n",
            "(20, 52022)\n",
            "Processing P339_no_silence.wav...\n"
          ]
        }
      ]
    },
    {
      "cell_type": "markdown",
      "source": [
        "## To add stretch"
      ],
      "metadata": {
        "id": "wqsyB-mL49_3"
      }
    },
    {
      "cell_type": "code",
      "source": [
        "# generating a dataset\n",
        "header = 'filename chroma_stft rmse spectral_centroid spectral_bandwidth rolloff zero_crossing_rate'\n",
        "for i in range(1, 21):\n",
        "    header += f' mfcc{i}'\n",
        "header += ' label'\n",
        "header = header.split()"
      ],
      "metadata": {
        "id": "wLzHp7krRvoR"
      },
      "execution_count": null,
      "outputs": []
    },
    {
      "cell_type": "code",
      "source": [
        "file = open('/content/drive/My Drive/audio_data/stretch_data.csv', 'w', newline='')\n",
        "with file:\n",
        "    writer = csv.writer(file)\n",
        "    writer.writerow(header)"
      ],
      "metadata": {
        "id": "WDwYR9mARvlS"
      },
      "execution_count": null,
      "outputs": []
    },
    {
      "cell_type": "code",
      "source": [
        "for subdir, dirs, files in os.walk(dir_name):\n",
        "        for file in files:\n",
        "            if file.endswith('.wav'):\n",
        "              wav_file = os.path.join(subdir, file)\n",
        "              png_name = subdir + '/' + file[:-4] + '.png'\n",
        "              print('Processing ' + file + '...')\n",
        "\n",
        "              x , sr = librosa.load(wav_file)\n",
        "\n",
        "              aug = stretch(x)\n",
        "\n",
        "              chroma_stft = librosa.feature.chroma_stft(y=aug, sr=sr)\n",
        "              # chroma_stft = librosa.stft(x)\n",
        "              rmse = librosa.feature.rms(aug)\n",
        "              spec_bw = librosa.feature.spectral_bandwidth(y=aug, sr=sr)\n",
        "              #display Spectrogram\n",
        "              X = librosa.stft(aug)\n",
        "              Xdb = librosa.amplitude_to_db(abs(X))\n",
        "\n",
        "              zero_crossings = librosa.feature.zero_crossing_rate(aug)\n",
        "\n",
        "              spectral_centroids = librosa.feature.spectral_centroid(aug, sr=sr)\n",
        "\n",
        "              spectral_rolloff = librosa.feature.spectral_rolloff(aug, sr=sr)\n",
        "              mfccs = librosa.feature.mfcc(aug, sr=sr)\n",
        "              print(mfccs.shape)\n",
        "\n",
        "              to_append = f'{wav_file} {np.mean(chroma_stft)} {np.mean(rmse)} {np.mean(spectral_centroids)} {np.mean(spec_bw)} {np.mean(spectral_rolloff)} {np.mean(zero_crossings)}'\n",
        "\n",
        "              for e in mfccs:\n",
        "                  to_append += f' {np.mean(e)}'\n",
        "              to_append += f' {file}'\n",
        "              file = open('/content/drive/My Drive/audio_data/stretch_data.csv', 'a', newline='')\n",
        "              with file:\n",
        "                  writer = csv.writer(file)\n",
        "                  writer.writerow(to_append.split())"
      ],
      "metadata": {
        "id": "MtUgAn9zGCRx"
      },
      "execution_count": null,
      "outputs": []
    },
    {
      "cell_type": "markdown",
      "source": [
        "## Combining all data"
      ],
      "metadata": {
        "id": "_TBQm3C15EL2"
      }
    },
    {
      "cell_type": "code",
      "source": [
        "df = pd.read_csv('/content/drive/My Drive/audio_data/data.csv', header=None)"
      ],
      "metadata": {
        "id": "xSlGA8BDd1xK"
      },
      "execution_count": null,
      "outputs": []
    },
    {
      "cell_type": "code",
      "source": [
        "noise_df = pd.read_csv('/content/drive/My Drive/audio_data/noise_data.csv', header=None)\n",
        "speedp_df = pd.read_csv('/content/drive/My Drive/audio_data/speedp_data.csv', header=None)\n",
        "stretch_df = pd.read_csv('/content/drive/My Drive/audio_data/stretch_data.csv', header=None)"
      ],
      "metadata": {
        "id": "dXaMjI-VGAL9"
      },
      "execution_count": null,
      "outputs": []
    },
    {
      "cell_type": "code",
      "source": [
        "#### concatenate files\n",
        "combined_df = pd.concat([df, noise_df, speedp_df,stretch_df], ignore_index=True)\n"
      ],
      "metadata": {
        "id": "93iLGbR8SiRd"
      },
      "execution_count": null,
      "outputs": []
    },
    {
      "cell_type": "code",
      "source": [
        "combined_df.head()"
      ],
      "metadata": {
        "colab": {
          "base_uri": "https://localhost:8080/",
          "height": 299
        },
        "id": "_uSV71X6d_oN",
        "outputId": "19867ad4-16d5-4afe-affa-268cdfbd0a74"
      },
      "execution_count": null,
      "outputs": [
        {
          "output_type": "execute_result",
          "data": {
            "text/plain": [
              "                  0                                                  1   \\\n",
              "0  /content/drive/My  Drive/audio_data/interim/P365/P365_no_silence.wav   \n",
              "1  /content/drive/My  Drive/audio_data/interim/P325/P325_no_silence.wav   \n",
              "2  /content/drive/My  Drive/audio_data/interim/P336/P336_no_silence.wav   \n",
              "3  /content/drive/My  Drive/audio_data/interim/P332/P332_no_silence.wav   \n",
              "4  /content/drive/My  Drive/audio_data/interim/P340/P340_no_silence.wav   \n",
              "\n",
              "         2         3            4            5            6         7   \\\n",
              "0  0.569320  0.017554  1179.037573  1526.276326  2431.840489  0.047237   \n",
              "1  0.358157  0.027760  1358.624741  1415.536135  2604.327427  0.065088   \n",
              "2  0.440538  0.027978  1197.019446  1392.292686  2500.084620  0.049712   \n",
              "3  0.463018  0.013304  1498.399575  1611.700862  3021.572803  0.066246   \n",
              "4  0.461996  0.028187  1304.979257  1494.103505  2674.776216  0.054946   \n",
              "\n",
              "           8           9   ...        20        21        22        23  \\\n",
              "0 -378.723999   89.888130  ... -0.833143  2.360463  3.653419  2.640903   \n",
              "1 -358.913391  100.120476  ... -0.269885 -1.964366  3.397129 -3.236047   \n",
              "2 -379.248291  104.145782  ...  0.443118  2.786901  0.584616  1.343224   \n",
              "3 -408.170197   76.551636  ... -0.163474  2.424940  2.928302 -2.229471   \n",
              "4 -353.486176  112.376045  ...  6.677998 -1.790910  2.357386  4.616292   \n",
              "\n",
              "         24        25        26        27                   28  29  \n",
              "0  2.180515 -0.018859  2.898318  0.768065  P365_no_silence.wav   1  \n",
              "1 -1.490361  1.393715 -2.004146 -2.106658  P325_no_silence.wav   1  \n",
              "2  0.827890 -0.831182  0.379470  0.331436  P336_no_silence.wav   0  \n",
              "3 -0.469260  1.866178 -0.473763 -0.938451  P332_no_silence.wav   1  \n",
              "4 -0.267873 -0.669441  1.354952  0.971203  P340_no_silence.wav   0  \n",
              "\n",
              "[5 rows x 30 columns]"
            ],
            "text/html": [
              "\n",
              "  <div id=\"df-a209b56b-f654-49d9-9ddf-e8358ec4e476\">\n",
              "    <div class=\"colab-df-container\">\n",
              "      <div>\n",
              "<style scoped>\n",
              "    .dataframe tbody tr th:only-of-type {\n",
              "        vertical-align: middle;\n",
              "    }\n",
              "\n",
              "    .dataframe tbody tr th {\n",
              "        vertical-align: top;\n",
              "    }\n",
              "\n",
              "    .dataframe thead th {\n",
              "        text-align: right;\n",
              "    }\n",
              "</style>\n",
              "<table border=\"1\" class=\"dataframe\">\n",
              "  <thead>\n",
              "    <tr style=\"text-align: right;\">\n",
              "      <th></th>\n",
              "      <th>0</th>\n",
              "      <th>1</th>\n",
              "      <th>2</th>\n",
              "      <th>3</th>\n",
              "      <th>4</th>\n",
              "      <th>5</th>\n",
              "      <th>6</th>\n",
              "      <th>7</th>\n",
              "      <th>8</th>\n",
              "      <th>9</th>\n",
              "      <th>...</th>\n",
              "      <th>20</th>\n",
              "      <th>21</th>\n",
              "      <th>22</th>\n",
              "      <th>23</th>\n",
              "      <th>24</th>\n",
              "      <th>25</th>\n",
              "      <th>26</th>\n",
              "      <th>27</th>\n",
              "      <th>28</th>\n",
              "      <th>29</th>\n",
              "    </tr>\n",
              "  </thead>\n",
              "  <tbody>\n",
              "    <tr>\n",
              "      <th>0</th>\n",
              "      <td>/content/drive/My</td>\n",
              "      <td>Drive/audio_data/interim/P365/P365_no_silence.wav</td>\n",
              "      <td>0.569320</td>\n",
              "      <td>0.017554</td>\n",
              "      <td>1179.037573</td>\n",
              "      <td>1526.276326</td>\n",
              "      <td>2431.840489</td>\n",
              "      <td>0.047237</td>\n",
              "      <td>-378.723999</td>\n",
              "      <td>89.888130</td>\n",
              "      <td>...</td>\n",
              "      <td>-0.833143</td>\n",
              "      <td>2.360463</td>\n",
              "      <td>3.653419</td>\n",
              "      <td>2.640903</td>\n",
              "      <td>2.180515</td>\n",
              "      <td>-0.018859</td>\n",
              "      <td>2.898318</td>\n",
              "      <td>0.768065</td>\n",
              "      <td>P365_no_silence.wav</td>\n",
              "      <td>1</td>\n",
              "    </tr>\n",
              "    <tr>\n",
              "      <th>1</th>\n",
              "      <td>/content/drive/My</td>\n",
              "      <td>Drive/audio_data/interim/P325/P325_no_silence.wav</td>\n",
              "      <td>0.358157</td>\n",
              "      <td>0.027760</td>\n",
              "      <td>1358.624741</td>\n",
              "      <td>1415.536135</td>\n",
              "      <td>2604.327427</td>\n",
              "      <td>0.065088</td>\n",
              "      <td>-358.913391</td>\n",
              "      <td>100.120476</td>\n",
              "      <td>...</td>\n",
              "      <td>-0.269885</td>\n",
              "      <td>-1.964366</td>\n",
              "      <td>3.397129</td>\n",
              "      <td>-3.236047</td>\n",
              "      <td>-1.490361</td>\n",
              "      <td>1.393715</td>\n",
              "      <td>-2.004146</td>\n",
              "      <td>-2.106658</td>\n",
              "      <td>P325_no_silence.wav</td>\n",
              "      <td>1</td>\n",
              "    </tr>\n",
              "    <tr>\n",
              "      <th>2</th>\n",
              "      <td>/content/drive/My</td>\n",
              "      <td>Drive/audio_data/interim/P336/P336_no_silence.wav</td>\n",
              "      <td>0.440538</td>\n",
              "      <td>0.027978</td>\n",
              "      <td>1197.019446</td>\n",
              "      <td>1392.292686</td>\n",
              "      <td>2500.084620</td>\n",
              "      <td>0.049712</td>\n",
              "      <td>-379.248291</td>\n",
              "      <td>104.145782</td>\n",
              "      <td>...</td>\n",
              "      <td>0.443118</td>\n",
              "      <td>2.786901</td>\n",
              "      <td>0.584616</td>\n",
              "      <td>1.343224</td>\n",
              "      <td>0.827890</td>\n",
              "      <td>-0.831182</td>\n",
              "      <td>0.379470</td>\n",
              "      <td>0.331436</td>\n",
              "      <td>P336_no_silence.wav</td>\n",
              "      <td>0</td>\n",
              "    </tr>\n",
              "    <tr>\n",
              "      <th>3</th>\n",
              "      <td>/content/drive/My</td>\n",
              "      <td>Drive/audio_data/interim/P332/P332_no_silence.wav</td>\n",
              "      <td>0.463018</td>\n",
              "      <td>0.013304</td>\n",
              "      <td>1498.399575</td>\n",
              "      <td>1611.700862</td>\n",
              "      <td>3021.572803</td>\n",
              "      <td>0.066246</td>\n",
              "      <td>-408.170197</td>\n",
              "      <td>76.551636</td>\n",
              "      <td>...</td>\n",
              "      <td>-0.163474</td>\n",
              "      <td>2.424940</td>\n",
              "      <td>2.928302</td>\n",
              "      <td>-2.229471</td>\n",
              "      <td>-0.469260</td>\n",
              "      <td>1.866178</td>\n",
              "      <td>-0.473763</td>\n",
              "      <td>-0.938451</td>\n",
              "      <td>P332_no_silence.wav</td>\n",
              "      <td>1</td>\n",
              "    </tr>\n",
              "    <tr>\n",
              "      <th>4</th>\n",
              "      <td>/content/drive/My</td>\n",
              "      <td>Drive/audio_data/interim/P340/P340_no_silence.wav</td>\n",
              "      <td>0.461996</td>\n",
              "      <td>0.028187</td>\n",
              "      <td>1304.979257</td>\n",
              "      <td>1494.103505</td>\n",
              "      <td>2674.776216</td>\n",
              "      <td>0.054946</td>\n",
              "      <td>-353.486176</td>\n",
              "      <td>112.376045</td>\n",
              "      <td>...</td>\n",
              "      <td>6.677998</td>\n",
              "      <td>-1.790910</td>\n",
              "      <td>2.357386</td>\n",
              "      <td>4.616292</td>\n",
              "      <td>-0.267873</td>\n",
              "      <td>-0.669441</td>\n",
              "      <td>1.354952</td>\n",
              "      <td>0.971203</td>\n",
              "      <td>P340_no_silence.wav</td>\n",
              "      <td>0</td>\n",
              "    </tr>\n",
              "  </tbody>\n",
              "</table>\n",
              "<p>5 rows × 30 columns</p>\n",
              "</div>\n",
              "      <button class=\"colab-df-convert\" onclick=\"convertToInteractive('df-a209b56b-f654-49d9-9ddf-e8358ec4e476')\"\n",
              "              title=\"Convert this dataframe to an interactive table.\"\n",
              "              style=\"display:none;\">\n",
              "        \n",
              "  <svg xmlns=\"http://www.w3.org/2000/svg\" height=\"24px\"viewBox=\"0 0 24 24\"\n",
              "       width=\"24px\">\n",
              "    <path d=\"M0 0h24v24H0V0z\" fill=\"none\"/>\n",
              "    <path d=\"M18.56 5.44l.94 2.06.94-2.06 2.06-.94-2.06-.94-.94-2.06-.94 2.06-2.06.94zm-11 1L8.5 8.5l.94-2.06 2.06-.94-2.06-.94L8.5 2.5l-.94 2.06-2.06.94zm10 10l.94 2.06.94-2.06 2.06-.94-2.06-.94-.94-2.06-.94 2.06-2.06.94z\"/><path d=\"M17.41 7.96l-1.37-1.37c-.4-.4-.92-.59-1.43-.59-.52 0-1.04.2-1.43.59L10.3 9.45l-7.72 7.72c-.78.78-.78 2.05 0 2.83L4 21.41c.39.39.9.59 1.41.59.51 0 1.02-.2 1.41-.59l7.78-7.78 2.81-2.81c.8-.78.8-2.07 0-2.86zM5.41 20L4 18.59l7.72-7.72 1.47 1.35L5.41 20z\"/>\n",
              "  </svg>\n",
              "      </button>\n",
              "      \n",
              "  <style>\n",
              "    .colab-df-container {\n",
              "      display:flex;\n",
              "      flex-wrap:wrap;\n",
              "      gap: 12px;\n",
              "    }\n",
              "\n",
              "    .colab-df-convert {\n",
              "      background-color: #E8F0FE;\n",
              "      border: none;\n",
              "      border-radius: 50%;\n",
              "      cursor: pointer;\n",
              "      display: none;\n",
              "      fill: #1967D2;\n",
              "      height: 32px;\n",
              "      padding: 0 0 0 0;\n",
              "      width: 32px;\n",
              "    }\n",
              "\n",
              "    .colab-df-convert:hover {\n",
              "      background-color: #E2EBFA;\n",
              "      box-shadow: 0px 1px 2px rgba(60, 64, 67, 0.3), 0px 1px 3px 1px rgba(60, 64, 67, 0.15);\n",
              "      fill: #174EA6;\n",
              "    }\n",
              "\n",
              "    [theme=dark] .colab-df-convert {\n",
              "      background-color: #3B4455;\n",
              "      fill: #D2E3FC;\n",
              "    }\n",
              "\n",
              "    [theme=dark] .colab-df-convert:hover {\n",
              "      background-color: #434B5C;\n",
              "      box-shadow: 0px 1px 3px 1px rgba(0, 0, 0, 0.15);\n",
              "      filter: drop-shadow(0px 1px 2px rgba(0, 0, 0, 0.3));\n",
              "      fill: #FFFFFF;\n",
              "    }\n",
              "  </style>\n",
              "\n",
              "      <script>\n",
              "        const buttonEl =\n",
              "          document.querySelector('#df-a209b56b-f654-49d9-9ddf-e8358ec4e476 button.colab-df-convert');\n",
              "        buttonEl.style.display =\n",
              "          google.colab.kernel.accessAllowed ? 'block' : 'none';\n",
              "\n",
              "        async function convertToInteractive(key) {\n",
              "          const element = document.querySelector('#df-a209b56b-f654-49d9-9ddf-e8358ec4e476');\n",
              "          const dataTable =\n",
              "            await google.colab.kernel.invokeFunction('convertToInteractive',\n",
              "                                                     [key], {});\n",
              "          if (!dataTable) return;\n",
              "\n",
              "          const docLinkHtml = 'Like what you see? Visit the ' +\n",
              "            '<a target=\"_blank\" href=https://colab.research.google.com/notebooks/data_table.ipynb>data table notebook</a>'\n",
              "            + ' to learn more about interactive tables.';\n",
              "          element.innerHTML = '';\n",
              "          dataTable['output_type'] = 'display_data';\n",
              "          await google.colab.output.renderOutput(dataTable, element);\n",
              "          const docLink = document.createElement('div');\n",
              "          docLink.innerHTML = docLinkHtml;\n",
              "          element.appendChild(docLink);\n",
              "        }\n",
              "      </script>\n",
              "    </div>\n",
              "  </div>\n",
              "  "
            ]
          },
          "metadata": {},
          "execution_count": 6
        }
      ]
    },
    {
      "cell_type": "code",
      "source": [
        "combined_df.shape"
      ],
      "metadata": {
        "colab": {
          "base_uri": "https://localhost:8080/"
        },
        "id": "Qvic_tJzeDTZ",
        "outputId": "8a4d66b8-e3a0-47c7-c78e-5ecc081f1dcc"
      },
      "execution_count": null,
      "outputs": [
        {
          "output_type": "execute_result",
          "data": {
            "text/plain": [
              "(640, 30)"
            ]
          },
          "metadata": {},
          "execution_count": 7
        }
      ]
    },
    {
      "cell_type": "code",
      "source": [
        "df = combined_df"
      ],
      "metadata": {
        "id": "rJSRpyVPeSrX"
      },
      "execution_count": null,
      "outputs": []
    },
    {
      "cell_type": "code",
      "source": [
        "df.to_csv('/content/drive/My Drive/audio_data/combined_df.csv')"
      ],
      "metadata": {
        "id": "ZJqwHwhFeYc0"
      },
      "execution_count": null,
      "outputs": []
    },
    {
      "cell_type": "code",
      "source": [
        "df.shape"
      ],
      "metadata": {
        "colab": {
          "base_uri": "https://localhost:8080/"
        },
        "id": "Cci3F-X8eWCA",
        "outputId": "3e29e318-01b9-4572-e474-3668479762f0"
      },
      "execution_count": null,
      "outputs": [
        {
          "output_type": "execute_result",
          "data": {
            "text/plain": [
              "(640, 30)"
            ]
          },
          "metadata": {},
          "execution_count": 9
        }
      ]
    },
    {
      "cell_type": "markdown",
      "source": [
        "# MFCC"
      ],
      "metadata": {
        "id": "6J3FYByhT3RU"
      }
    },
    {
      "cell_type": "code",
      "source": [
        "import librosa\n",
        "from matplotlib import pyplot as plt\n",
        "import librosa.display\n",
        "\n",
        "import csv\n",
        "import os\n",
        "import numpy as np\n"
      ],
      "metadata": {
        "id": "aqY975NyT09U"
      },
      "execution_count": null,
      "outputs": []
    },
    {
      "cell_type": "markdown",
      "source": [
        "## MFCC for single audio file"
      ],
      "metadata": {
        "id": "-XqWE8Y65aux"
      }
    },
    {
      "cell_type": "code",
      "source": [
        "audio_path = '/content/drive/My Drive/audio_data/interim/P301/P301_no_silence.wav'"
      ],
      "metadata": {
        "id": "jzpdicwjVlh-"
      },
      "execution_count": null,
      "outputs": []
    },
    {
      "cell_type": "code",
      "source": [
        "x , sr = librosa.load(audio_path)\n",
        "print(type(x), type(sr))"
      ],
      "metadata": {
        "colab": {
          "base_uri": "https://localhost:8080/"
        },
        "id": "fY0674M_V-cZ",
        "outputId": "d51ee152-109c-404b-8fa4-9feab6767c1e"
      },
      "execution_count": null,
      "outputs": [
        {
          "output_type": "stream",
          "name": "stdout",
          "text": [
            "<class 'numpy.ndarray'> <class 'int'>\n"
          ]
        }
      ]
    },
    {
      "cell_type": "code",
      "source": [
        "#display Spectrogram\n",
        "X = librosa.stft(x)\n",
        "Xdb = librosa.amplitude_to_db(abs(X))\n",
        "plt.figure(figsize=(14, 5))\n",
        "librosa.display.specshow(Xdb, sr=sr, x_axis='time', y_axis='hz') \n",
        "#If to pring log of frequencies  \n",
        "#librosa.display.specshow(Xdb, sr=sr, x_axis='time', y_axis='log')\n",
        "plt.colorbar()"
      ],
      "metadata": {
        "colab": {
          "base_uri": "https://localhost:8080/",
          "height": 351
        },
        "id": "_Lk3UKG0WBXt",
        "outputId": "3447bee3-bd7f-41e8-913e-59f4ba86e9e6"
      },
      "execution_count": null,
      "outputs": [
        {
          "output_type": "execute_result",
          "data": {
            "text/plain": [
              "<matplotlib.colorbar.Colorbar at 0x7f0e689d72d0>"
            ]
          },
          "metadata": {},
          "execution_count": 10
        },
        {
          "output_type": "display_data",
          "data": {
            "text/plain": [
              "<Figure size 1008x360 with 2 Axes>"
            ],
            "image/png": "[encoded data removed]"
          },
          "metadata": {
            "needs_background": "light"
          }
        }
      ]
    },
    {
      "cell_type": "code",
      "source": [
        "#feature extraction\n",
        "##zero crossing rate\n",
        "x, sr = librosa.load(audio_path)\n",
        "#Plot the signal:\n",
        "plt.figure(figsize=(14, 5))\n",
        "librosa.display.waveplot(x, sr=sr)"
      ],
      "metadata": {
        "colab": {
          "base_uri": "https://localhost:8080/",
          "height": 397
        },
        "id": "7W3vNdEmWuz4",
        "outputId": "e42dc1e0-0075-46f0-fc55-94ce2e2fddf4"
      },
      "execution_count": null,
      "outputs": [
        {
          "output_type": "error",
          "ename": "TypeError",
          "evalue": "ignored",
          "traceback": [
            "\u001b[0;31m---------------------------------------------------------------------------\u001b[0m",
            "\u001b[0;31mTypeError\u001b[0m                                 Traceback (most recent call last)",
            "\u001b[0;32m<ipython-input-24-019b1deb7ad1>\u001b[0m in \u001b[0;36m<module>\u001b[0;34m()\u001b[0m\n\u001b[1;32m      4\u001b[0m \u001b[0;31m#Plot the signal:\u001b[0m\u001b[0;34m\u001b[0m\u001b[0;34m\u001b[0m\u001b[0;34m\u001b[0m\u001b[0m\n\u001b[1;32m      5\u001b[0m \u001b[0mplt\u001b[0m\u001b[0;34m.\u001b[0m\u001b[0mfigure\u001b[0m\u001b[0;34m(\u001b[0m\u001b[0mfigsize\u001b[0m\u001b[0;34m=\u001b[0m\u001b[0;34m(\u001b[0m\u001b[0;36m14\u001b[0m\u001b[0;34m,\u001b[0m \u001b[0;36m5\u001b[0m\u001b[0;34m)\u001b[0m\u001b[0;34m)\u001b[0m\u001b[0;34m\u001b[0m\u001b[0;34m\u001b[0m\u001b[0m\n\u001b[0;32m----> 6\u001b[0;31m \u001b[0mlibrosa\u001b[0m\u001b[0;34m.\u001b[0m\u001b[0mdisplay\u001b[0m\u001b[0;34m.\u001b[0m\u001b[0mwaveplot\u001b[0m\u001b[0;34m(\u001b[0m\u001b[0mx\u001b[0m\u001b[0;34m,\u001b[0m \u001b[0msr\u001b[0m\u001b[0;34m=\u001b[0m\u001b[0msr\u001b[0m\u001b[0;34m)\u001b[0m\u001b[0;34m\u001b[0m\u001b[0;34m\u001b[0m\u001b[0m\n\u001b[0m",
            "\u001b[0;32m<decorator-gen-118>\u001b[0m in \u001b[0;36mwaveplot\u001b[0;34m(y, sr, max_points, x_axis, offset, max_sr, ax, **kwargs)\u001b[0m\n",
            "\u001b[0;32m/usr/local/lib/python3.7/dist-packages/librosa/util/decorators.py\u001b[0m in \u001b[0;36m__wrapper\u001b[0;34m(func, *args, **kwargs)\u001b[0m\n\u001b[1;32m     54\u001b[0m             \u001b[0mlineno\u001b[0m\u001b[0;34m=\u001b[0m\u001b[0mcode\u001b[0m\u001b[0;34m.\u001b[0m\u001b[0mco_firstlineno\u001b[0m \u001b[0;34m+\u001b[0m \u001b[0;36m1\u001b[0m\u001b[0;34m,\u001b[0m\u001b[0;34m\u001b[0m\u001b[0;34m\u001b[0m\u001b[0m\n\u001b[1;32m     55\u001b[0m         )\n\u001b[0;32m---> 56\u001b[0;31m         \u001b[0;32mreturn\u001b[0m \u001b[0mfunc\u001b[0m\u001b[0;34m(\u001b[0m\u001b[0;34m*\u001b[0m\u001b[0margs\u001b[0m\u001b[0;34m,\u001b[0m \u001b[0;34m**\u001b[0m\u001b[0mkwargs\u001b[0m\u001b[0;34m)\u001b[0m\u001b[0;34m\u001b[0m\u001b[0;34m\u001b[0m\u001b[0m\n\u001b[0m\u001b[1;32m     57\u001b[0m \u001b[0;34m\u001b[0m\u001b[0m\n\u001b[1;32m     58\u001b[0m     \u001b[0;32mreturn\u001b[0m \u001b[0mdecorator\u001b[0m\u001b[0;34m(\u001b[0m\u001b[0m__wrapper\u001b[0m\u001b[0;34m)\u001b[0m\u001b[0;34m\u001b[0m\u001b[0;34m\u001b[0m\u001b[0m\n",
            "\u001b[0;32m/usr/local/lib/python3.7/dist-packages/librosa/display.py\u001b[0m in \u001b[0;36mwaveplot\u001b[0;34m(y, sr, max_points, x_axis, offset, max_sr, ax, **kwargs)\u001b[0m\n\u001b[1;32m    723\u001b[0m \u001b[0;34m\u001b[0m\u001b[0m\n\u001b[1;32m    724\u001b[0m     \u001b[0;31m# Reduce by envelope calculation\u001b[0m\u001b[0;34m\u001b[0m\u001b[0;34m\u001b[0m\u001b[0;34m\u001b[0m\u001b[0m\n\u001b[0;32m--> 725\u001b[0;31m     \u001b[0my\u001b[0m \u001b[0;34m=\u001b[0m \u001b[0m__envelope\u001b[0m\u001b[0;34m(\u001b[0m\u001b[0my\u001b[0m\u001b[0;34m,\u001b[0m \u001b[0mhop_length\u001b[0m\u001b[0;34m)\u001b[0m\u001b[0;34m\u001b[0m\u001b[0;34m\u001b[0m\u001b[0m\n\u001b[0m\u001b[1;32m    726\u001b[0m \u001b[0;34m\u001b[0m\u001b[0m\n\u001b[1;32m    727\u001b[0m     \u001b[0my_top\u001b[0m \u001b[0;34m=\u001b[0m \u001b[0my\u001b[0m\u001b[0;34m[\u001b[0m\u001b[0;36m0\u001b[0m\u001b[0;34m]\u001b[0m\u001b[0;34m\u001b[0m\u001b[0;34m\u001b[0m\u001b[0m\n",
            "\u001b[0;32m/usr/local/lib/python3.7/dist-packages/librosa/display.py\u001b[0m in \u001b[0;36m__envelope\u001b[0;34m(x, hop)\u001b[0m\n\u001b[1;32m    587\u001b[0m     \u001b[0mx\u001b[0m \u001b[0;32mis\u001b[0m \u001b[0massumed\u001b[0m \u001b[0mto\u001b[0m \u001b[0mbe\u001b[0m \u001b[0mmulti\u001b[0m\u001b[0;34m-\u001b[0m\u001b[0mchannel\u001b[0m\u001b[0;34m,\u001b[0m \u001b[0mof\u001b[0m \u001b[0mshape\u001b[0m \u001b[0;34m(\u001b[0m\u001b[0mn_channels\u001b[0m\u001b[0;34m,\u001b[0m \u001b[0mn_samples\u001b[0m\u001b[0;34m)\u001b[0m\u001b[0;34m.\u001b[0m\u001b[0;34m\u001b[0m\u001b[0;34m\u001b[0m\u001b[0m\n\u001b[1;32m    588\u001b[0m     \"\"\"\n\u001b[0;32m--> 589\u001b[0;31m     \u001b[0mx_frame\u001b[0m \u001b[0;34m=\u001b[0m \u001b[0mnp\u001b[0m\u001b[0;34m.\u001b[0m\u001b[0mabs\u001b[0m\u001b[0;34m(\u001b[0m\u001b[0mutil\u001b[0m\u001b[0;34m.\u001b[0m\u001b[0mframe\u001b[0m\u001b[0;34m(\u001b[0m\u001b[0mx\u001b[0m\u001b[0;34m,\u001b[0m \u001b[0mframe_length\u001b[0m\u001b[0;34m=\u001b[0m\u001b[0mhop\u001b[0m\u001b[0;34m,\u001b[0m \u001b[0mhop_length\u001b[0m\u001b[0;34m=\u001b[0m\u001b[0mhop\u001b[0m\u001b[0;34m)\u001b[0m\u001b[0;34m)\u001b[0m\u001b[0;34m\u001b[0m\u001b[0;34m\u001b[0m\u001b[0m\n\u001b[0m\u001b[1;32m    590\u001b[0m     \u001b[0;32mreturn\u001b[0m \u001b[0mx_frame\u001b[0m\u001b[0;34m.\u001b[0m\u001b[0mmax\u001b[0m\u001b[0;34m(\u001b[0m\u001b[0maxis\u001b[0m\u001b[0;34m=\u001b[0m\u001b[0;36m1\u001b[0m\u001b[0;34m)\u001b[0m\u001b[0;34m\u001b[0m\u001b[0;34m\u001b[0m\u001b[0m\n\u001b[1;32m    591\u001b[0m \u001b[0;34m\u001b[0m\u001b[0m\n",
            "\u001b[0;32m/usr/local/lib/python3.7/dist-packages/librosa/util/utils.py\u001b[0m in \u001b[0;36mframe\u001b[0;34m(x, frame_length, hop_length, axis)\u001b[0m\n\u001b[1;32m    224\u001b[0m         \u001b[0;32mraise\u001b[0m \u001b[0mParameterError\u001b[0m\u001b[0;34m(\u001b[0m\u001b[0;34m\"Frame axis={} must be either 0 or -1\"\u001b[0m\u001b[0;34m.\u001b[0m\u001b[0mformat\u001b[0m\u001b[0;34m(\u001b[0m\u001b[0maxis\u001b[0m\u001b[0;34m)\u001b[0m\u001b[0;34m)\u001b[0m\u001b[0;34m\u001b[0m\u001b[0;34m\u001b[0m\u001b[0m\n\u001b[1;32m    225\u001b[0m \u001b[0;34m\u001b[0m\u001b[0m\n\u001b[0;32m--> 226\u001b[0;31m     \u001b[0;32mreturn\u001b[0m \u001b[0mas_strided\u001b[0m\u001b[0;34m(\u001b[0m\u001b[0mx\u001b[0m\u001b[0;34m,\u001b[0m \u001b[0mshape\u001b[0m\u001b[0;34m=\u001b[0m\u001b[0mshape\u001b[0m\u001b[0;34m,\u001b[0m \u001b[0mstrides\u001b[0m\u001b[0;34m=\u001b[0m\u001b[0mstrides\u001b[0m\u001b[0;34m)\u001b[0m\u001b[0;34m\u001b[0m\u001b[0;34m\u001b[0m\u001b[0m\n\u001b[0m\u001b[1;32m    227\u001b[0m \u001b[0;34m\u001b[0m\u001b[0m\n\u001b[1;32m    228\u001b[0m \u001b[0;34m\u001b[0m\u001b[0m\n",
            "\u001b[0;32m/usr/local/lib/python3.7/dist-packages/numpy/lib/stride_tricks.py\u001b[0m in \u001b[0;36mas_strided\u001b[0;34m(x, shape, strides, subok, writeable)\u001b[0m\n\u001b[1;32m     98\u001b[0m     \u001b[0minterface\u001b[0m \u001b[0;34m=\u001b[0m \u001b[0mdict\u001b[0m\u001b[0;34m(\u001b[0m\u001b[0mx\u001b[0m\u001b[0;34m.\u001b[0m\u001b[0m__array_interface__\u001b[0m\u001b[0;34m)\u001b[0m\u001b[0;34m\u001b[0m\u001b[0;34m\u001b[0m\u001b[0m\n\u001b[1;32m     99\u001b[0m     \u001b[0;32mif\u001b[0m \u001b[0mshape\u001b[0m \u001b[0;32mis\u001b[0m \u001b[0;32mnot\u001b[0m \u001b[0;32mNone\u001b[0m\u001b[0;34m:\u001b[0m\u001b[0;34m\u001b[0m\u001b[0;34m\u001b[0m\u001b[0m\n\u001b[0;32m--> 100\u001b[0;31m         \u001b[0minterface\u001b[0m\u001b[0;34m[\u001b[0m\u001b[0;34m'shape'\u001b[0m\u001b[0;34m]\u001b[0m \u001b[0;34m=\u001b[0m \u001b[0mint\u001b[0m\u001b[0;34m(\u001b[0m\u001b[0mtuple\u001b[0m\u001b[0;34m(\u001b[0m\u001b[0mshape\u001b[0m\u001b[0;34m)\u001b[0m\u001b[0;34m)\u001b[0m\u001b[0;34m\u001b[0m\u001b[0;34m\u001b[0m\u001b[0m\n\u001b[0m\u001b[1;32m    101\u001b[0m     \u001b[0;32mif\u001b[0m \u001b[0mstrides\u001b[0m \u001b[0;32mis\u001b[0m \u001b[0;32mnot\u001b[0m \u001b[0;32mNone\u001b[0m\u001b[0;34m:\u001b[0m\u001b[0;34m\u001b[0m\u001b[0;34m\u001b[0m\u001b[0m\n\u001b[1;32m    102\u001b[0m         \u001b[0minterface\u001b[0m\u001b[0;34m[\u001b[0m\u001b[0;34m'strides'\u001b[0m\u001b[0;34m]\u001b[0m \u001b[0;34m=\u001b[0m \u001b[0mint\u001b[0m\u001b[0;34m(\u001b[0m\u001b[0mtuple\u001b[0m\u001b[0;34m(\u001b[0m\u001b[0mstrides\u001b[0m\u001b[0;34m)\u001b[0m\u001b[0;34m)\u001b[0m\u001b[0;34m\u001b[0m\u001b[0;34m\u001b[0m\u001b[0m\n",
            "\u001b[0;31mTypeError\u001b[0m: int() argument must be a string, a bytes-like object or a number, not 'tuple'"
          ]
        },
        {
          "output_type": "display_data",
          "data": {
            "text/plain": [
              "<Figure size 1008x360 with 0 Axes>"
            ]
          },
          "metadata": {}
        }
      ]
    },
    {
      "cell_type": "code",
      "source": [
        "# zooming in\n",
        "# Zooming in\n",
        "n0 = 9000\n",
        "n1 = 9100\n",
        "plt.figure(figsize=(14, 5))\n",
        "plt.plot(x[n0:n1])\n",
        "plt.grid()"
      ],
      "metadata": {
        "colab": {
          "base_uri": "https://localhost:8080/",
          "height": 320
        },
        "id": "N5LMTJ5MW1zo",
        "outputId": "b63329ac-6c67-4dc5-a7ed-18a4cea905f6"
      },
      "execution_count": null,
      "outputs": [
        {
          "output_type": "display_data",
          "data": {
            "text/plain": [
              "<Figure size 1008x360 with 1 Axes>"
            ],
            "image/png": "[encoded data removed]"
          },
          "metadata": {
            "needs_background": "light"
          }
        }
      ]
    },
    {
      "cell_type": "code",
      "source": [
        "zero_crossings = librosa.zero_crossings(x[n0:n1], pad=False)\n",
        "print(sum(zero_crossings))"
      ],
      "metadata": {
        "colab": {
          "base_uri": "https://localhost:8080/"
        },
        "id": "Tel2Ol2IW31W",
        "outputId": "67d86650-8f0a-4415-c30b-d7943e51f410"
      },
      "execution_count": null,
      "outputs": [
        {
          "output_type": "stream",
          "name": "stdout",
          "text": [
            "7\n"
          ]
        }
      ]
    },
    {
      "cell_type": "code",
      "source": [
        "#spectral centroid\n",
        "#spectral centroid -- centre of mass -- weighted mean of the frequencies present in the sound\n",
        "import sklearn\n",
        "spectral_centroids = librosa.feature.spectral_centroid(x, sr=sr)[0]\n",
        "spectral_centroids.shape\n",
        "# Computing the time variable for visualization\n",
        "frames = range(len(spectral_centroids))\n",
        "t = librosa.frames_to_time(frames)\n",
        "# Normalising the spectral centroid for visualisation\n",
        "def normalize(x, axis=0):\n",
        "    return sklearn.preprocessing.minmax_scale(x, axis=axis)\n",
        "#Plotting the Spectral Centroid along the waveform\n",
        "librosa.display.waveplot(x, sr=sr, alpha=0.4)\n",
        "plt.plot(t, normalize(spectral_centroids), color='r')"
      ],
      "metadata": {
        "colab": {
          "base_uri": "https://localhost:8080/",
          "height": 296
        },
        "id": "gU-95IuyW6W0",
        "outputId": "447c84ab-9cc9-43a0-ad83-75d6c1a64c71"
      },
      "execution_count": null,
      "outputs": [
        {
          "output_type": "execute_result",
          "data": {
            "text/plain": [
              "[<matplotlib.lines.Line2D at 0x7f05464d7410>]"
            ]
          },
          "metadata": {},
          "execution_count": 59
        },
        {
          "output_type": "display_data",
          "data": {
            "text/plain": [
              "<Figure size 432x288 with 1 Axes>"
            ],
            "image/png": "[encoded data removed]"
          },
          "metadata": {
            "needs_background": "light"
          }
        }
      ]
    },
    {
      "cell_type": "code",
      "source": [
        "# spectral rolloff\n",
        "spectral_rolloff = librosa.feature.spectral_rolloff(x, sr=sr)[0]\n",
        "librosa.display.waveplot(x, sr=sr, alpha=0.4)\n",
        "plt.plot(t, normalize(spectral_rolloff), color='r')"
      ],
      "metadata": {
        "colab": {
          "base_uri": "https://localhost:8080/",
          "height": 296
        },
        "id": "cTtt1oZPW97H",
        "outputId": "e9339990-2959-473e-fd29-d037ed869ded"
      },
      "execution_count": null,
      "outputs": [
        {
          "output_type": "execute_result",
          "data": {
            "text/plain": [
              "[<matplotlib.lines.Line2D at 0x7f054334e910>]"
            ]
          },
          "metadata": {},
          "execution_count": 60
        },
        {
          "output_type": "display_data",
          "data": {
            "text/plain": [
              "<Figure size 432x288 with 1 Axes>"
            ],
            "image/png": "[encoded data removed]"
          },
          "metadata": {
            "needs_background": "light"
          }
        }
      ]
    },
    {
      "cell_type": "code",
      "source": [
        "mfccs = librosa.feature.mfcc(x, sr=sr)\n",
        "print(mfccs.shape)\n",
        "#Displaying  the MFCCs:\n",
        "librosa.display.specshow(mfccs, sr=sr, x_axis='time')"
      ],
      "metadata": {
        "colab": {
          "base_uri": "https://localhost:8080/",
          "height": 314
        },
        "id": "dnObaEkSXGW0",
        "outputId": "7f057bac-d4e2-4cd9-9655-27f45d78cd25"
      },
      "execution_count": null,
      "outputs": [
        {
          "output_type": "stream",
          "name": "stdout",
          "text": [
            "(20, 20293)\n"
          ]
        },
        {
          "output_type": "execute_result",
          "data": {
            "text/plain": [
              "<matplotlib.collections.QuadMesh at 0x7f05432cd050>"
            ]
          },
          "metadata": {},
          "execution_count": 61
        },
        {
          "output_type": "display_data",
          "data": {
            "text/plain": [
              "<Figure size 432x288 with 1 Axes>"
            ],
            "image/png": "[encoded data removed]"
          },
          "metadata": {
            "needs_background": "light"
          }
        }
      ]
    },
    {
      "cell_type": "markdown",
      "source": [
        "## MFCC for all data"
      ],
      "metadata": {
        "id": "cTNtkOfg5fkL"
      }
    },
    {
      "cell_type": "code",
      "source": [
        "dir_name= '/content/drive/My Drive/audio_data/interim'"
      ],
      "metadata": {
        "id": "YMlYK4_JYWZ7"
      },
      "execution_count": null,
      "outputs": []
    },
    {
      "cell_type": "code",
      "source": [
        "# generating a dataset\n",
        "header = 'filename chroma_stft rmse spectral_centroid spectral_bandwidth rolloff zero_crossing_rate'\n",
        "for i in range(1, 21):\n",
        "    header += f' mfcc{i}'\n",
        "header += ' label'\n",
        "header = header.split()"
      ],
      "metadata": {
        "id": "dgdJqFD-bkNo"
      },
      "execution_count": null,
      "outputs": []
    },
    {
      "cell_type": "code",
      "source": [
        "file = open('/content/drive/My Drive/audio_data/data.csv', 'w', newline='')\n",
        "with file:\n",
        "    writer = csv.writer(file)\n",
        "    writer.writerow(header)"
      ],
      "metadata": {
        "id": "hHL1_Zokbt50"
      },
      "execution_count": null,
      "outputs": []
    },
    {
      "cell_type": "code",
      "source": [
        "for subdir, dirs, files in os.walk(dir_name):\n",
        "        for file in files:\n",
        "            if file.endswith('.wav'):\n",
        "              wav_file = os.path.join(subdir, file)\n",
        "              png_name = subdir + '/' + file[:-4] + '.png'\n",
        "              print('Processing ' + file + '...')\n",
        "#sr=sampling rate\n",
        "\n",
        "              #load the audio file\n",
        "              x , sr = librosa.load(wav_file)\n",
        "\n",
        "              chroma_stft = librosa.feature.chroma_stft(y=x, sr=sr)\n",
        "\n",
        "              #indicates loudness(root mean square energy)\n",
        "              rmse = librosa.feature.rms(x)\n",
        "\n",
        "              spec_bw = librosa.feature.spectral_bandwidth(y=x, sr=sr)\n",
        "           \n",
        "           \n",
        "              X = librosa.stft(x)\n",
        "              #convert and amplitude spectrogram into decibel scale(to indicate sound)\n",
        "              Xdb = librosa.amplitude_to_db(abs(X))\n",
        "\n",
        "              #number of times a signal croses the horizontal axis\n",
        "              zero_crossings = librosa.feature.zero_crossing_rate(x)\n",
        "\n",
        "              #Frequency band where most of the energy is concentrated\n",
        "              spectral_centroids = librosa.feature.spectral_centroid(x, sr=sr)\n",
        "\n",
        "              spectral_rolloff = librosa.feature.spectral_rolloff(x, sr=sr)\n",
        "              \n",
        "              mfccs = librosa.feature.mfcc(x, sr=sr)\n",
        "              print(mfccs.shape)\n",
        "             \n",
        "\n",
        "             #append all features together in one file\n",
        "              to_append = f'{wav_file} {np.mean(chroma_stft)} {np.mean(rmse)} {np.mean(spectral_centroids)} {np.mean(spec_bw)} {np.mean(spectral_rolloff)} {np.mean(zero_crossings)}'\n",
        "\n",
        "              for e in mfccs:\n",
        "                  to_append += f' {np.mean(e)}'\n",
        "              to_append += f' {file}'\n",
        "              file = open('/content/drive/My Drive/audio_data/data.csv', 'a', newline='')\n",
        "              with file:\n",
        "                  writer = csv.writer(file)\n",
        "                  writer.writerow(to_append.split())"
      ],
      "metadata": {
        "colab": {
          "base_uri": "https://localhost:8080/"
        },
        "id": "HYgnjUaFYVH5",
        "outputId": "c88490e2-b1b1-4ba4-831e-fe390a5f17bd"
      },
      "execution_count": null,
      "outputs": [
        {
          "output_type": "stream",
          "name": "stdout",
          "text": [
            "Processing P365_no_silence.wav...\n",
            "(20, 36988)\n",
            "Processing P325_no_silence.wav...\n",
            "(20, 23195)\n",
            "Processing P336_no_silence.wav...\n",
            "(20, 20308)\n",
            "Processing P332_no_silence.wav...\n",
            "(20, 18074)\n",
            "Processing P340_no_silence.wav...\n",
            "(20, 9001)\n",
            "Processing P326_no_silence.wav...\n",
            "(20, 13207)\n",
            "Processing P334_no_silence.wav...\n",
            "(20, 22033)\n",
            "Processing P383_no_silence.wav...\n",
            "(20, 39964)\n",
            "Processing P327_no_silence.wav...\n",
            "(20, 13516)\n",
            "Processing P319_no_silence.wav...\n",
            "(20, 12355)\n",
            "Processing P324_no_silence.wav...\n",
            "(20, 15593)\n",
            "Processing P369_no_silence.wav...\n",
            "(20, 33104)\n",
            "Processing P328_no_silence.wav...\n",
            "(20, 26429)\n",
            "Processing P320_no_silence.wav...\n",
            "(20, 14550)\n",
            "Processing P318_no_silence.wav...\n",
            "(20, 11848)\n",
            "Processing P333_no_silence.wav...\n",
            "(20, 20720)\n",
            "Processing P409_no_silence.wav...\n",
            "(20, 30217)\n",
            "Processing P312_no_silence.wav...\n",
            "(20, 26790)\n",
            "Processing P377_no_silence.wav...\n",
            "(20, 45108)\n",
            "Processing P307_no_silence.wav...\n",
            "(20, 33406)\n",
            "Processing P311_no_silence.wav...\n",
            "(20, 16572)\n",
            "Processing P337_no_silence.wav...\n",
            "(20, 56556)\n",
            "Processing P313_no_silence.wav...\n",
            "(20, 18099)\n",
            "Processing P364_no_silence.wav...\n",
            "(20, 53101)\n",
            "Processing P331_no_silence.wav...\n",
            "(20, 18510)\n",
            "Processing P323_no_silence.wav...\n",
            "(20, 20630)\n",
            "Processing P322_no_silence.wav...\n",
            "(20, 25293)\n",
            "Processing P304_no_silence.wav...\n",
            "(20, 16054)\n",
            "Processing P309_no_silence.wav...\n",
            "(20, 10451)\n",
            "Processing P302_no_silence.wav...\n",
            "(20, 13500)\n",
            "Processing P301_no_silence.wav...\n",
            "(20, 20293)\n",
            "Processing P350_no_silence.wav...\n",
            "(20, 22313)\n",
            "Processing P303_no_silence.wav...\n",
            "(20, 26200)\n",
            "Processing P321_no_silence.wav...\n",
            "(20, 15584)\n",
            "Processing P329_no_silence.wav...\n",
            "(20, 17057)\n",
            "Processing P310_no_silence.wav...\n",
            "(20, 16693)\n",
            "Processing P314_no_silence.wav...\n",
            "(20, 45490)\n",
            "Processing P341_no_silence.wav...\n",
            "(20, 20074)\n",
            "Processing P335_no_silence.wav...\n",
            "(20, 20198)\n",
            "Processing P317_no_silence.wav...\n",
            "(20, 13048)\n",
            "Processing P374_no_silence.wav...\n",
            "(20, 35946)\n",
            "Processing P356_no_silence.wav...\n",
            "(20, 27075)\n",
            "Processing P353_no_silence.wav...\n",
            "(20, 21440)\n",
            "Processing P480_no_silence.wav...\n",
            "(20, 16659)\n",
            "Processing P472_no_silence.wav...\n",
            "(20, 20303)\n",
            "Processing P484_no_silence.wav...\n",
            "(20, 27346)\n",
            "Processing P462_no_silence.wav...\n",
            "(20, 27782)\n",
            "Processing P491_no_silence.wav...\n",
            "(20, 22725)\n",
            "Processing P488_no_silence.wav...\n",
            "(20, 20762)\n",
            "Processing P467_no_silence.wav...\n",
            "(20, 17732)\n",
            "Processing P463_no_silence.wav...\n",
            "(20, 16765)\n",
            "Processing P465_no_silence.wav...\n",
            "(20, 33186)\n",
            "Processing P485_no_silence.wav...\n",
            "(20, 11554)\n",
            "Processing P471_no_silence.wav...\n",
            "(20, 27665)\n",
            "Processing P468_no_silence.wav...\n",
            "(20, 23734)\n",
            "Processing P458_no_silence.wav...\n",
            "(20, 25133)\n",
            "Processing P464_no_silence.wav...\n",
            "(20, 27752)\n",
            "Processing P456_no_silence.wav...\n",
            "(20, 22504)\n",
            "Processing P454_no_silence.wav...\n",
            "(20, 14670)\n",
            "Processing P470_no_silence.wav...\n",
            "(20, 24243)\n",
            "Processing P457_no_silence.wav...\n",
            "(20, 28226)\n",
            "Processing P486_no_silence.wav...\n",
            "(20, 13067)\n",
            "Processing P478_no_silence.wav...\n",
            "(20, 19006)\n",
            "Processing P474_no_silence.wav...\n",
            "(20, 22802)\n",
            "Processing P475_no_silence.wav...\n",
            "(20, 12834)\n",
            "Processing P483_no_silence.wav...\n",
            "(20, 39427)\n",
            "Processing P477_no_silence.wav...\n",
            "(20, 34320)\n",
            "Processing P469_no_silence.wav...\n",
            "(20, 29845)\n",
            "Processing P489_no_silence.wav...\n",
            "(20, 11112)\n",
            "Processing P445_no_silence.wav...\n",
            "(20, 17559)\n",
            "Processing P443_no_silence.wav...\n",
            "(20, 12296)\n",
            "Processing P482_no_silence.wav...\n",
            "(20, 25552)\n",
            "Processing P455_no_silence.wav...\n",
            "(20, 20596)\n",
            "Processing P453_no_silence.wav...\n",
            "(20, 27196)\n",
            "Processing P441_no_silence.wav...\n",
            "(20, 17423)\n",
            "Processing P436_no_silence.wav...\n",
            "(20, 16595)\n",
            "Processing P447_no_silence.wav...\n",
            "(20, 18958)\n",
            "Processing P451_no_silence.wav...\n",
            "(20, 29616)\n",
            "Processing P439_no_silence.wav...\n",
            "(20, 42037)\n",
            "Processing P428_no_silence.wav...\n",
            "(20, 12853)\n",
            "Processing P437_no_silence.wav...\n",
            "(20, 22455)\n",
            "Processing P449_no_silence.wav...\n",
            "(20, 32015)\n",
            "Processing P425_no_silence.wav...\n",
            "(20, 30548)\n",
            "Processing P466_no_silence.wav...\n",
            "(20, 49124)\n",
            "Processing P424_no_silence.wav...\n",
            "(20, 33259)\n",
            "Processing P423_no_silence.wav...\n",
            "(20, 22489)\n",
            "Processing P459_no_silence.wav...\n",
            "(20, 17089)\n",
            "Processing P429_no_silence.wav...\n",
            "(20, 20109)\n",
            "Processing P432_no_silence.wav...\n",
            "(20, 24342)\n",
            "Processing P419_no_silence.wav...\n",
            "(20, 28026)\n",
            "Processing P481_no_silence.wav...\n",
            "(20, 27647)\n",
            "Processing P431_no_silence.wav...\n",
            "(20, 21509)\n",
            "Processing P430_no_silence.wav...\n",
            "(20, 22088)\n",
            "Processing P487_no_silence.wav...\n",
            "(20, 30011)\n",
            "Processing P426_no_silence.wav...\n",
            "(20, 19910)\n",
            "Processing P440_no_silence.wav...\n",
            "(20, 38624)\n",
            "Processing P433_no_silence.wav...\n",
            "(20, 18506)\n",
            "Processing P414_no_silence.wav...\n",
            "(20, 25250)\n",
            "Processing P406_no_silence.wav...\n",
            "(20, 16818)\n",
            "Processing P442_no_silence.wav...\n",
            "(20, 24518)\n",
            "Processing P446_no_silence.wav...\n",
            "(20, 28906)\n",
            "Processing P411_no_silence.wav...\n",
            "(20, 43144)\n",
            "Processing P448_no_silence.wav...\n",
            "(20, 32217)\n",
            "Processing P418_no_silence.wav...\n",
            "(20, 32374)\n",
            "Processing P417_no_silence.wav...\n",
            "(20, 21274)\n",
            "Processing P415_no_silence.wav...\n",
            "(20, 19435)\n",
            "Processing P434_no_silence.wav...\n",
            "(20, 39507)\n",
            "Processing P420_no_silence.wav...\n",
            "(20, 20069)\n",
            "Processing P416_no_silence.wav...\n",
            "(20, 29169)\n",
            "Processing P402_no_silence.wav...\n",
            "(20, 23610)\n",
            "Processing P403_no_silence.wav...\n",
            "(20, 20964)\n",
            "Processing P450_no_silence.wav...\n",
            "(20, 34508)\n",
            "Processing P407_no_silence.wav...\n",
            "(20, 38617)\n",
            "Processing P452_no_silence.wav...\n",
            "(20, 16193)\n",
            "Processing P389_no_silence.wav...\n",
            "(20, 12799)\n",
            "Processing P422_no_silence.wav...\n",
            "(20, 38413)\n",
            "Processing P399_no_silence.wav...\n",
            "(20, 16977)\n",
            "Processing P461_no_silence.wav...\n",
            "(20, 16963)\n",
            "Processing P391_no_silence.wav...\n",
            "(20, 16300)\n",
            "Processing P397_no_silence.wav...\n",
            "(20, 21850)\n",
            "Processing P400_no_silence.wav...\n",
            "(20, 22908)\n",
            "Processing P427_no_silence.wav...\n",
            "(20, 19425)\n",
            "Processing P404_no_silence.wav...\n",
            "(20, 25770)\n",
            "Processing P435_no_silence.wav...\n",
            "(20, 18224)\n",
            "Processing P444_no_silence.wav...\n",
            "(20, 41428)\n",
            "Processing P412_no_silence.wav...\n",
            "(20, 17050)\n",
            "Processing P396_no_silence.wav...\n",
            "(20, 17918)\n",
            "Processing P401_no_silence.wav...\n",
            "(20, 24883)\n",
            "Processing P405_no_silence.wav...\n",
            "(20, 43032)\n",
            "Processing P366_no_silence.wav...\n",
            "(20, 35321)\n",
            "Processing P376_no_silence.wav...\n",
            "(20, 26354)\n",
            "Processing P368_no_silence.wav...\n",
            "(20, 42728)\n",
            "Processing P373_no_silence.wav...\n",
            "(20, 40445)\n",
            "Processing P357_no_silence.wav...\n",
            "(20, 7205)\n",
            "Processing P363_no_silence.wav...\n",
            "(20, 37300)\n",
            "Processing P360_no_silence.wav...\n",
            "(20, 9991)\n",
            "Processing P386_no_silence.wav...\n",
            "(20, 29355)\n",
            "Processing P359_no_silence.wav...\n",
            "(20, 28515)\n",
            "Processing P371_no_silence.wav...\n",
            "(20, 14418)\n",
            "Processing P384_no_silence.wav...\n",
            "(20, 21759)\n",
            "Processing P351_no_silence.wav...\n",
            "(20, 19798)\n",
            "Processing P355_no_silence.wav...\n",
            "(20, 16313)\n",
            "Processing P361_no_silence.wav...\n",
            "(20, 17079)\n",
            "Processing P410_no_silence.wav...\n",
            "(20, 28399)\n",
            "Processing P347_no_silence.wav...\n",
            "(20, 7640)\n",
            "Processing P372_no_silence.wav...\n",
            "(20, 35599)\n",
            "Processing P348_no_silence.wav...\n",
            "(20, 14491)\n",
            "Processing P358_no_silence.wav...\n",
            "(20, 14351)\n",
            "Processing P380_no_silence.wav...\n",
            "(20, 56509)\n",
            "Processing P370_no_silence.wav...\n",
            "(20, 34982)\n",
            "Processing P345_no_silence.wav...\n",
            "(20, 22429)\n",
            "Processing P344_no_silence.wav...\n",
            "(20, 28859)\n",
            "Processing P367_no_silence.wav...\n",
            "(20, 45036)\n",
            "Processing P349_no_silence.wav...\n",
            "(20, 25980)\n",
            "Processing P339_no_silence.wav...\n",
            "(20, 21287)\n",
            "Processing P379_no_silence.wav...\n",
            "(20, 29651)\n",
            "Processing P330_no_silence.wav...\n",
            "(20, 11126)\n",
            "Processing P346_no_silence.wav...\n",
            "(20, 32100)\n",
            "Processing P338_no_silence.wav...\n",
            "(20, 13608)\n",
            "Processing P352_no_silence.wav...\n",
            "(20, 23330)\n"
          ]
        }
      ]
    },
    {
      "cell_type": "code",
      "source": [],
      "metadata": {
        "id": "pev9xv71alK_"
      },
      "execution_count": null,
      "outputs": []
    },
    {
      "cell_type": "markdown",
      "source": [
        "# Models"
      ],
      "metadata": {
        "id": "R01Sx-eJzw3d"
      }
    },
    {
      "cell_type": "code",
      "source": [
        "import numpy as np\n",
        "import pandas as pd\n",
        "import seaborn as sns"
      ],
      "metadata": {
        "id": "jiOt-B8dzyzG"
      },
      "execution_count": null,
      "outputs": []
    },
    {
      "cell_type": "code",
      "source": [
        "################ DONT EXECUTE FOLLOWING CELLS #################################\n",
        "################ IMPLEMENT FROM \"START HERE\" COMMENT ##########################"
      ],
      "metadata": {
        "id": "UX7GPVSJ18O2"
      },
      "execution_count": null,
      "outputs": []
    },
    {
      "cell_type": "code",
      "source": [
        "df = pd.read_csv('/content/drive/My Drive/audio_data/combined_df.csv', header=None)"
      ],
      "metadata": {
        "id": "S-5DpDII0AtV"
      },
      "execution_count": null,
      "outputs": []
    },
    {
      "cell_type": "code",
      "source": [
        "df.head()"
      ],
      "metadata": {
        "colab": {
          "base_uri": "https://localhost:8080/",
          "height": 299
        },
        "id": "0UnIN5YU0Jvc",
        "outputId": "36892915-efa3-43bc-ff44-8163d5e8e91d"
      },
      "execution_count": null,
      "outputs": [
        {
          "output_type": "execute_result",
          "data": {
            "text/plain": [
              "         2         3            4            5            6         7   \\\n",
              "0  0.569320  0.017554  1179.037573  1526.276326  2431.840489  0.047237   \n",
              "1  0.358157  0.027760  1358.624741  1415.536135  2604.327427  0.065088   \n",
              "2  0.440538  0.027978  1197.019446  1392.292686  2500.084620  0.049712   \n",
              "3  0.463018  0.013304  1498.399575  1611.700862  3021.572803  0.066246   \n",
              "4  0.461996  0.028187  1304.979257  1494.103505  2674.776216  0.054946   \n",
              "\n",
              "           8           9          10         11  ...        19        20  \\\n",
              "0 -378.723999   89.888130  34.436951  23.434534  ...  3.854689 -0.833143   \n",
              "1 -358.913391  100.120476   7.161822  15.062524  ... -3.080664 -0.269885   \n",
              "2 -379.248291  104.145782  13.680271  29.738724  ... -2.571175  0.443118   \n",
              "3 -408.170197   76.551636  10.367766  16.630489  ... -0.760586 -0.163474   \n",
              "4 -353.486176  112.376045  10.709586  24.575321  ...  2.108073  6.677998   \n",
              "\n",
              "         21        22        23        24        25        26        27  29  \n",
              "0  2.360463  3.653419  2.640903  2.180515 -0.018859  2.898318  0.768065   1  \n",
              "1 -1.964366  3.397129 -3.236047 -1.490361  1.393715 -2.004146 -2.106658   1  \n",
              "2  2.786901  0.584616  1.343224  0.827890 -0.831182  0.379470  0.331436   0  \n",
              "3  2.424940  2.928302 -2.229471 -0.469260  1.866178 -0.473763 -0.938451   1  \n",
              "4 -1.790910  2.357386  4.616292 -0.267873 -0.669441  1.354952  0.971203   0  \n",
              "\n",
              "[5 rows x 27 columns]"
            ],
            "text/html": [
              "\n",
              "  <div id=\"df-95e1f67a-6a53-4da6-b6ae-b9bbf2c04362\">\n",
              "    <div class=\"colab-df-container\">\n",
              "      <div>\n",
              "<style scoped>\n",
              "    .dataframe tbody tr th:only-of-type {\n",
              "        vertical-align: middle;\n",
              "    }\n",
              "\n",
              "    .dataframe tbody tr th {\n",
              "        vertical-align: top;\n",
              "    }\n",
              "\n",
              "    .dataframe thead th {\n",
              "        text-align: right;\n",
              "    }\n",
              "</style>\n",
              "<table border=\"1\" class=\"dataframe\">\n",
              "  <thead>\n",
              "    <tr style=\"text-align: right;\">\n",
              "      <th></th>\n",
              "      <th>2</th>\n",
              "      <th>3</th>\n",
              "      <th>4</th>\n",
              "      <th>5</th>\n",
              "      <th>6</th>\n",
              "      <th>7</th>\n",
              "      <th>8</th>\n",
              "      <th>9</th>\n",
              "      <th>10</th>\n",
              "      <th>11</th>\n",
              "      <th>...</th>\n",
              "      <th>19</th>\n",
              "      <th>20</th>\n",
              "      <th>21</th>\n",
              "      <th>22</th>\n",
              "      <th>23</th>\n",
              "      <th>24</th>\n",
              "      <th>25</th>\n",
              "      <th>26</th>\n",
              "      <th>27</th>\n",
              "      <th>29</th>\n",
              "    </tr>\n",
              "  </thead>\n",
              "  <tbody>\n",
              "    <tr>\n",
              "      <th>0</th>\n",
              "      <td>0.569320</td>\n",
              "      <td>0.017554</td>\n",
              "      <td>1179.037573</td>\n",
              "      <td>1526.276326</td>\n",
              "      <td>2431.840489</td>\n",
              "      <td>0.047237</td>\n",
              "      <td>-378.723999</td>\n",
              "      <td>89.888130</td>\n",
              "      <td>34.436951</td>\n",
              "      <td>23.434534</td>\n",
              "      <td>...</td>\n",
              "      <td>3.854689</td>\n",
              "      <td>-0.833143</td>\n",
              "      <td>2.360463</td>\n",
              "      <td>3.653419</td>\n",
              "      <td>2.640903</td>\n",
              "      <td>2.180515</td>\n",
              "      <td>-0.018859</td>\n",
              "      <td>2.898318</td>\n",
              "      <td>0.768065</td>\n",
              "      <td>1</td>\n",
              "    </tr>\n",
              "    <tr>\n",
              "      <th>1</th>\n",
              "      <td>0.358157</td>\n",
              "      <td>0.027760</td>\n",
              "      <td>1358.624741</td>\n",
              "      <td>1415.536135</td>\n",
              "      <td>2604.327427</td>\n",
              "      <td>0.065088</td>\n",
              "      <td>-358.913391</td>\n",
              "      <td>100.120476</td>\n",
              "      <td>7.161822</td>\n",
              "      <td>15.062524</td>\n",
              "      <td>...</td>\n",
              "      <td>-3.080664</td>\n",
              "      <td>-0.269885</td>\n",
              "      <td>-1.964366</td>\n",
              "      <td>3.397129</td>\n",
              "      <td>-3.236047</td>\n",
              "      <td>-1.490361</td>\n",
              "      <td>1.393715</td>\n",
              "      <td>-2.004146</td>\n",
              "      <td>-2.106658</td>\n",
              "      <td>1</td>\n",
              "    </tr>\n",
              "    <tr>\n",
              "      <th>2</th>\n",
              "      <td>0.440538</td>\n",
              "      <td>0.027978</td>\n",
              "      <td>1197.019446</td>\n",
              "      <td>1392.292686</td>\n",
              "      <td>2500.084620</td>\n",
              "      <td>0.049712</td>\n",
              "      <td>-379.248291</td>\n",
              "      <td>104.145782</td>\n",
              "      <td>13.680271</td>\n",
              "      <td>29.738724</td>\n",
              "      <td>...</td>\n",
              "      <td>-2.571175</td>\n",
              "      <td>0.443118</td>\n",
              "      <td>2.786901</td>\n",
              "      <td>0.584616</td>\n",
              "      <td>1.343224</td>\n",
              "      <td>0.827890</td>\n",
              "      <td>-0.831182</td>\n",
              "      <td>0.379470</td>\n",
              "      <td>0.331436</td>\n",
              "      <td>0</td>\n",
              "    </tr>\n",
              "    <tr>\n",
              "      <th>3</th>\n",
              "      <td>0.463018</td>\n",
              "      <td>0.013304</td>\n",
              "      <td>1498.399575</td>\n",
              "      <td>1611.700862</td>\n",
              "      <td>3021.572803</td>\n",
              "      <td>0.066246</td>\n",
              "      <td>-408.170197</td>\n",
              "      <td>76.551636</td>\n",
              "      <td>10.367766</td>\n",
              "      <td>16.630489</td>\n",
              "      <td>...</td>\n",
              "      <td>-0.760586</td>\n",
              "      <td>-0.163474</td>\n",
              "      <td>2.424940</td>\n",
              "      <td>2.928302</td>\n",
              "      <td>-2.229471</td>\n",
              "      <td>-0.469260</td>\n",
              "      <td>1.866178</td>\n",
              "      <td>-0.473763</td>\n",
              "      <td>-0.938451</td>\n",
              "      <td>1</td>\n",
              "    </tr>\n",
              "    <tr>\n",
              "      <th>4</th>\n",
              "      <td>0.461996</td>\n",
              "      <td>0.028187</td>\n",
              "      <td>1304.979257</td>\n",
              "      <td>1494.103505</td>\n",
              "      <td>2674.776216</td>\n",
              "      <td>0.054946</td>\n",
              "      <td>-353.486176</td>\n",
              "      <td>112.376045</td>\n",
              "      <td>10.709586</td>\n",
              "      <td>24.575321</td>\n",
              "      <td>...</td>\n",
              "      <td>2.108073</td>\n",
              "      <td>6.677998</td>\n",
              "      <td>-1.790910</td>\n",
              "      <td>2.357386</td>\n",
              "      <td>4.616292</td>\n",
              "      <td>-0.267873</td>\n",
              "      <td>-0.669441</td>\n",
              "      <td>1.354952</td>\n",
              "      <td>0.971203</td>\n",
              "      <td>0</td>\n",
              "    </tr>\n",
              "  </tbody>\n",
              "</table>\n",
              "<p>5 rows × 27 columns</p>\n",
              "</div>\n",
              "      <button class=\"colab-df-convert\" onclick=\"convertToInteractive('df-95e1f67a-6a53-4da6-b6ae-b9bbf2c04362')\"\n",
              "              title=\"Convert this dataframe to an interactive table.\"\n",
              "              style=\"display:none;\">\n",
              "        \n",
              "  <svg xmlns=\"http://www.w3.org/2000/svg\" height=\"24px\"viewBox=\"0 0 24 24\"\n",
              "       width=\"24px\">\n",
              "    <path d=\"M0 0h24v24H0V0z\" fill=\"none\"/>\n",
              "    <path d=\"M18.56 5.44l.94 2.06.94-2.06 2.06-.94-2.06-.94-.94-2.06-.94 2.06-2.06.94zm-11 1L8.5 8.5l.94-2.06 2.06-.94-2.06-.94L8.5 2.5l-.94 2.06-2.06.94zm10 10l.94 2.06.94-2.06 2.06-.94-2.06-.94-.94-2.06-.94 2.06-2.06.94z\"/><path d=\"M17.41 7.96l-1.37-1.37c-.4-.4-.92-.59-1.43-.59-.52 0-1.04.2-1.43.59L10.3 9.45l-7.72 7.72c-.78.78-.78 2.05 0 2.83L4 21.41c.39.39.9.59 1.41.59.51 0 1.02-.2 1.41-.59l7.78-7.78 2.81-2.81c.8-.78.8-2.07 0-2.86zM5.41 20L4 18.59l7.72-7.72 1.47 1.35L5.41 20z\"/>\n",
              "  </svg>\n",
              "      </button>\n",
              "      \n",
              "  <style>\n",
              "    .colab-df-container {\n",
              "      display:flex;\n",
              "      flex-wrap:wrap;\n",
              "      gap: 12px;\n",
              "    }\n",
              "\n",
              "    .colab-df-convert {\n",
              "      background-color: #E8F0FE;\n",
              "      border: none;\n",
              "      border-radius: 50%;\n",
              "      cursor: pointer;\n",
              "      display: none;\n",
              "      fill: #1967D2;\n",
              "      height: 32px;\n",
              "      padding: 0 0 0 0;\n",
              "      width: 32px;\n",
              "    }\n",
              "\n",
              "    .colab-df-convert:hover {\n",
              "      background-color: #E2EBFA;\n",
              "      box-shadow: 0px 1px 2px rgba(60, 64, 67, 0.3), 0px 1px 3px 1px rgba(60, 64, 67, 0.15);\n",
              "      fill: #174EA6;\n",
              "    }\n",
              "\n",
              "    [theme=dark] .colab-df-convert {\n",
              "      background-color: #3B4455;\n",
              "      fill: #D2E3FC;\n",
              "    }\n",
              "\n",
              "    [theme=dark] .colab-df-convert:hover {\n",
              "      background-color: #434B5C;\n",
              "      box-shadow: 0px 1px 3px 1px rgba(0, 0, 0, 0.15);\n",
              "      filter: drop-shadow(0px 1px 2px rgba(0, 0, 0, 0.3));\n",
              "      fill: #FFFFFF;\n",
              "    }\n",
              "  </style>\n",
              "\n",
              "      <script>\n",
              "        const buttonEl =\n",
              "          document.querySelector('#df-95e1f67a-6a53-4da6-b6ae-b9bbf2c04362 button.colab-df-convert');\n",
              "        buttonEl.style.display =\n",
              "          google.colab.kernel.accessAllowed ? 'block' : 'none';\n",
              "\n",
              "        async function convertToInteractive(key) {\n",
              "          const element = document.querySelector('#df-95e1f67a-6a53-4da6-b6ae-b9bbf2c04362');\n",
              "          const dataTable =\n",
              "            await google.colab.kernel.invokeFunction('convertToInteractive',\n",
              "                                                     [key], {});\n",
              "          if (!dataTable) return;\n",
              "\n",
              "          const docLinkHtml = 'Like what you see? Visit the ' +\n",
              "            '<a target=\"_blank\" href=https://colab.research.google.com/notebooks/data_table.ipynb>data table notebook</a>'\n",
              "            + ' to learn more about interactive tables.';\n",
              "          element.innerHTML = '';\n",
              "          dataTable['output_type'] = 'display_data';\n",
              "          await google.colab.output.renderOutput(dataTable, element);\n",
              "          const docLink = document.createElement('div');\n",
              "          docLink.innerHTML = docLinkHtml;\n",
              "          element.appendChild(docLink);\n",
              "        }\n",
              "      </script>\n",
              "    </div>\n",
              "  </div>\n",
              "  "
            ]
          },
          "metadata": {},
          "execution_count": 35
        }
      ]
    },
    {
      "cell_type": "code",
      "source": [
        "# df.drop(df.columns[[0,1,28]], inplace=True, axis=1)\n",
        "# df.head()"
      ],
      "metadata": {
        "id": "e83zM5540V2y"
      },
      "execution_count": null,
      "outputs": []
    },
    {
      "cell_type": "code",
      "source": [
        "df.shape"
      ],
      "metadata": {
        "id": "M2fSrHy-1VVO",
        "colab": {
          "base_uri": "https://localhost:8080/"
        },
        "outputId": "758559ea-728a-4ea6-b2ef-b2ba4d0f842f"
      },
      "execution_count": null,
      "outputs": [
        {
          "output_type": "execute_result",
          "data": {
            "text/plain": [
              "(640, 27)"
            ]
          },
          "metadata": {},
          "execution_count": 7
        }
      ]
    },
    {
      "cell_type": "code",
      "source": [
        "df.info()"
      ],
      "metadata": {
        "colab": {
          "base_uri": "https://localhost:8080/"
        },
        "id": "1miYEhuQ4kXh",
        "outputId": "868b7628-290e-4a05-b8c4-37e8adc4da75"
      },
      "execution_count": null,
      "outputs": [
        {
          "output_type": "stream",
          "name": "stdout",
          "text": [
            "<class 'pandas.core.frame.DataFrame'>\n",
            "RangeIndex: 640 entries, 0 to 639\n",
            "Data columns (total 27 columns):\n",
            " #   Column  Non-Null Count  Dtype  \n",
            "---  ------  --------------  -----  \n",
            " 0   2       640 non-null    float64\n",
            " 1   3       640 non-null    float64\n",
            " 2   4       640 non-null    float64\n",
            " 3   5       640 non-null    float64\n",
            " 4   6       640 non-null    float64\n",
            " 5   7       640 non-null    float64\n",
            " 6   8       640 non-null    float64\n",
            " 7   9       640 non-null    float64\n",
            " 8   10      640 non-null    float64\n",
            " 9   11      640 non-null    float64\n",
            " 10  12      640 non-null    float64\n",
            " 11  13      640 non-null    float64\n",
            " 12  14      640 non-null    float64\n",
            " 13  15      640 non-null    float64\n",
            " 14  16      640 non-null    float64\n",
            " 15  17      640 non-null    float64\n",
            " 16  18      640 non-null    float64\n",
            " 17  19      640 non-null    float64\n",
            " 18  20      640 non-null    float64\n",
            " 19  21      640 non-null    float64\n",
            " 20  22      640 non-null    float64\n",
            " 21  23      640 non-null    float64\n",
            " 22  24      640 non-null    float64\n",
            " 23  25      640 non-null    float64\n",
            " 24  26      640 non-null    float64\n",
            " 25  27      640 non-null    float64\n",
            " 26  29      640 non-null    int64  \n",
            "dtypes: float64(26), int64(1)\n",
            "memory usage: 135.1 KB\n"
          ]
        }
      ]
    },
    {
      "cell_type": "code",
      "source": [
        "df.iloc[:,:-1].head()"
      ],
      "metadata": {
        "colab": {
          "base_uri": "https://localhost:8080/",
          "height": 299
        },
        "id": "LehPHWlRT8l7",
        "outputId": "2157348c-0c0b-49b0-87e0-11a7cc18e5ad"
      },
      "execution_count": null,
      "outputs": [
        {
          "output_type": "execute_result",
          "data": {
            "text/plain": [
              "         2         3            4            5            6         7   \\\n",
              "0  0.569320  0.017554  1179.037573  1526.276326  2431.840489  0.047237   \n",
              "1  0.358157  0.027760  1358.624741  1415.536135  2604.327427  0.065088   \n",
              "2  0.440538  0.027978  1197.019446  1392.292686  2500.084620  0.049712   \n",
              "3  0.463018  0.013304  1498.399575  1611.700862  3021.572803  0.066246   \n",
              "4  0.461996  0.028187  1304.979257  1494.103505  2674.776216  0.054946   \n",
              "\n",
              "           8           9          10         11  ...        18        19  \\\n",
              "0 -378.723999   89.888130  34.436951  23.434534  ...  3.535516  3.854689   \n",
              "1 -358.913391  100.120476   7.161822  15.062524  ...  1.107063 -3.080664   \n",
              "2 -379.248291  104.145782  13.680271  29.738724  ...  7.812723 -2.571175   \n",
              "3 -408.170197   76.551636  10.367766  16.630489  ...  2.336517 -0.760586   \n",
              "4 -353.486176  112.376045  10.709586  24.575321  ...  3.695489  2.108073   \n",
              "\n",
              "         20        21        22        23        24        25        26  \\\n",
              "0 -0.833143  2.360463  3.653419  2.640903  2.180515 -0.018859  2.898318   \n",
              "1 -0.269885 -1.964366  3.397129 -3.236047 -1.490361  1.393715 -2.004146   \n",
              "2  0.443118  2.786901  0.584616  1.343224  0.827890 -0.831182  0.379470   \n",
              "3 -0.163474  2.424940  2.928302 -2.229471 -0.469260  1.866178 -0.473763   \n",
              "4  6.677998 -1.790910  2.357386  4.616292 -0.267873 -0.669441  1.354952   \n",
              "\n",
              "         27  \n",
              "0  0.768065  \n",
              "1 -2.106658  \n",
              "2  0.331436  \n",
              "3 -0.938451  \n",
              "4  0.971203  \n",
              "\n",
              "[5 rows x 26 columns]"
            ],
            "text/html": [
              "\n",
              "  <div id=\"df-81f1146d-1cae-4021-8191-358a3734dc57\">\n",
              "    <div class=\"colab-df-container\">\n",
              "      <div>\n",
              "<style scoped>\n",
              "    .dataframe tbody tr th:only-of-type {\n",
              "        vertical-align: middle;\n",
              "    }\n",
              "\n",
              "    .dataframe tbody tr th {\n",
              "        vertical-align: top;\n",
              "    }\n",
              "\n",
              "    .dataframe thead th {\n",
              "        text-align: right;\n",
              "    }\n",
              "</style>\n",
              "<table border=\"1\" class=\"dataframe\">\n",
              "  <thead>\n",
              "    <tr style=\"text-align: right;\">\n",
              "      <th></th>\n",
              "      <th>2</th>\n",
              "      <th>3</th>\n",
              "      <th>4</th>\n",
              "      <th>5</th>\n",
              "      <th>6</th>\n",
              "      <th>7</th>\n",
              "      <th>8</th>\n",
              "      <th>9</th>\n",
              "      <th>10</th>\n",
              "      <th>11</th>\n",
              "      <th>...</th>\n",
              "      <th>18</th>\n",
              "      <th>19</th>\n",
              "      <th>20</th>\n",
              "      <th>21</th>\n",
              "      <th>22</th>\n",
              "      <th>23</th>\n",
              "      <th>24</th>\n",
              "      <th>25</th>\n",
              "      <th>26</th>\n",
              "      <th>27</th>\n",
              "    </tr>\n",
              "  </thead>\n",
              "  <tbody>\n",
              "    <tr>\n",
              "      <th>0</th>\n",
              "      <td>0.569320</td>\n",
              "      <td>0.017554</td>\n",
              "      <td>1179.037573</td>\n",
              "      <td>1526.276326</td>\n",
              "      <td>2431.840489</td>\n",
              "      <td>0.047237</td>\n",
              "      <td>-378.723999</td>\n",
              "      <td>89.888130</td>\n",
              "      <td>34.436951</td>\n",
              "      <td>23.434534</td>\n",
              "      <td>...</td>\n",
              "      <td>3.535516</td>\n",
              "      <td>3.854689</td>\n",
              "      <td>-0.833143</td>\n",
              "      <td>2.360463</td>\n",
              "      <td>3.653419</td>\n",
              "      <td>2.640903</td>\n",
              "      <td>2.180515</td>\n",
              "      <td>-0.018859</td>\n",
              "      <td>2.898318</td>\n",
              "      <td>0.768065</td>\n",
              "    </tr>\n",
              "    <tr>\n",
              "      <th>1</th>\n",
              "      <td>0.358157</td>\n",
              "      <td>0.027760</td>\n",
              "      <td>1358.624741</td>\n",
              "      <td>1415.536135</td>\n",
              "      <td>2604.327427</td>\n",
              "      <td>0.065088</td>\n",
              "      <td>-358.913391</td>\n",
              "      <td>100.120476</td>\n",
              "      <td>7.161822</td>\n",
              "      <td>15.062524</td>\n",
              "      <td>...</td>\n",
              "      <td>1.107063</td>\n",
              "      <td>-3.080664</td>\n",
              "      <td>-0.269885</td>\n",
              "      <td>-1.964366</td>\n",
              "      <td>3.397129</td>\n",
              "      <td>-3.236047</td>\n",
              "      <td>-1.490361</td>\n",
              "      <td>1.393715</td>\n",
              "      <td>-2.004146</td>\n",
              "      <td>-2.106658</td>\n",
              "    </tr>\n",
              "    <tr>\n",
              "      <th>2</th>\n",
              "      <td>0.440538</td>\n",
              "      <td>0.027978</td>\n",
              "      <td>1197.019446</td>\n",
              "      <td>1392.292686</td>\n",
              "      <td>2500.084620</td>\n",
              "      <td>0.049712</td>\n",
              "      <td>-379.248291</td>\n",
              "      <td>104.145782</td>\n",
              "      <td>13.680271</td>\n",
              "      <td>29.738724</td>\n",
              "      <td>...</td>\n",
              "      <td>7.812723</td>\n",
              "      <td>-2.571175</td>\n",
              "      <td>0.443118</td>\n",
              "      <td>2.786901</td>\n",
              "      <td>0.584616</td>\n",
              "      <td>1.343224</td>\n",
              "      <td>0.827890</td>\n",
              "      <td>-0.831182</td>\n",
              "      <td>0.379470</td>\n",
              "      <td>0.331436</td>\n",
              "    </tr>\n",
              "    <tr>\n",
              "      <th>3</th>\n",
              "      <td>0.463018</td>\n",
              "      <td>0.013304</td>\n",
              "      <td>1498.399575</td>\n",
              "      <td>1611.700862</td>\n",
              "      <td>3021.572803</td>\n",
              "      <td>0.066246</td>\n",
              "      <td>-408.170197</td>\n",
              "      <td>76.551636</td>\n",
              "      <td>10.367766</td>\n",
              "      <td>16.630489</td>\n",
              "      <td>...</td>\n",
              "      <td>2.336517</td>\n",
              "      <td>-0.760586</td>\n",
              "      <td>-0.163474</td>\n",
              "      <td>2.424940</td>\n",
              "      <td>2.928302</td>\n",
              "      <td>-2.229471</td>\n",
              "      <td>-0.469260</td>\n",
              "      <td>1.866178</td>\n",
              "      <td>-0.473763</td>\n",
              "      <td>-0.938451</td>\n",
              "    </tr>\n",
              "    <tr>\n",
              "      <th>4</th>\n",
              "      <td>0.461996</td>\n",
              "      <td>0.028187</td>\n",
              "      <td>1304.979257</td>\n",
              "      <td>1494.103505</td>\n",
              "      <td>2674.776216</td>\n",
              "      <td>0.054946</td>\n",
              "      <td>-353.486176</td>\n",
              "      <td>112.376045</td>\n",
              "      <td>10.709586</td>\n",
              "      <td>24.575321</td>\n",
              "      <td>...</td>\n",
              "      <td>3.695489</td>\n",
              "      <td>2.108073</td>\n",
              "      <td>6.677998</td>\n",
              "      <td>-1.790910</td>\n",
              "      <td>2.357386</td>\n",
              "      <td>4.616292</td>\n",
              "      <td>-0.267873</td>\n",
              "      <td>-0.669441</td>\n",
              "      <td>1.354952</td>\n",
              "      <td>0.971203</td>\n",
              "    </tr>\n",
              "  </tbody>\n",
              "</table>\n",
              "<p>5 rows × 26 columns</p>\n",
              "</div>\n",
              "      <button class=\"colab-df-convert\" onclick=\"convertToInteractive('df-81f1146d-1cae-4021-8191-358a3734dc57')\"\n",
              "              title=\"Convert this dataframe to an interactive table.\"\n",
              "              style=\"display:none;\">\n",
              "        \n",
              "  <svg xmlns=\"http://www.w3.org/2000/svg\" height=\"24px\"viewBox=\"0 0 24 24\"\n",
              "       width=\"24px\">\n",
              "    <path d=\"M0 0h24v24H0V0z\" fill=\"none\"/>\n",
              "    <path d=\"M18.56 5.44l.94 2.06.94-2.06 2.06-.94-2.06-.94-.94-2.06-.94 2.06-2.06.94zm-11 1L8.5 8.5l.94-2.06 2.06-.94-2.06-.94L8.5 2.5l-.94 2.06-2.06.94zm10 10l.94 2.06.94-2.06 2.06-.94-2.06-.94-.94-2.06-.94 2.06-2.06.94z\"/><path d=\"M17.41 7.96l-1.37-1.37c-.4-.4-.92-.59-1.43-.59-.52 0-1.04.2-1.43.59L10.3 9.45l-7.72 7.72c-.78.78-.78 2.05 0 2.83L4 21.41c.39.39.9.59 1.41.59.51 0 1.02-.2 1.41-.59l7.78-7.78 2.81-2.81c.8-.78.8-2.07 0-2.86zM5.41 20L4 18.59l7.72-7.72 1.47 1.35L5.41 20z\"/>\n",
              "  </svg>\n",
              "      </button>\n",
              "      \n",
              "  <style>\n",
              "    .colab-df-container {\n",
              "      display:flex;\n",
              "      flex-wrap:wrap;\n",
              "      gap: 12px;\n",
              "    }\n",
              "\n",
              "    .colab-df-convert {\n",
              "      background-color: #E8F0FE;\n",
              "      border: none;\n",
              "      border-radius: 50%;\n",
              "      cursor: pointer;\n",
              "      display: none;\n",
              "      fill: #1967D2;\n",
              "      height: 32px;\n",
              "      padding: 0 0 0 0;\n",
              "      width: 32px;\n",
              "    }\n",
              "\n",
              "    .colab-df-convert:hover {\n",
              "      background-color: #E2EBFA;\n",
              "      box-shadow: 0px 1px 2px rgba(60, 64, 67, 0.3), 0px 1px 3px 1px rgba(60, 64, 67, 0.15);\n",
              "      fill: #174EA6;\n",
              "    }\n",
              "\n",
              "    [theme=dark] .colab-df-convert {\n",
              "      background-color: #3B4455;\n",
              "      fill: #D2E3FC;\n",
              "    }\n",
              "\n",
              "    [theme=dark] .colab-df-convert:hover {\n",
              "      background-color: #434B5C;\n",
              "      box-shadow: 0px 1px 3px 1px rgba(0, 0, 0, 0.15);\n",
              "      filter: drop-shadow(0px 1px 2px rgba(0, 0, 0, 0.3));\n",
              "      fill: #FFFFFF;\n",
              "    }\n",
              "  </style>\n",
              "\n",
              "      <script>\n",
              "        const buttonEl =\n",
              "          document.querySelector('#df-81f1146d-1cae-4021-8191-358a3734dc57 button.colab-df-convert');\n",
              "        buttonEl.style.display =\n",
              "          google.colab.kernel.accessAllowed ? 'block' : 'none';\n",
              "\n",
              "        async function convertToInteractive(key) {\n",
              "          const element = document.querySelector('#df-81f1146d-1cae-4021-8191-358a3734dc57');\n",
              "          const dataTable =\n",
              "            await google.colab.kernel.invokeFunction('convertToInteractive',\n",
              "                                                     [key], {});\n",
              "          if (!dataTable) return;\n",
              "\n",
              "          const docLinkHtml = 'Like what you see? Visit the ' +\n",
              "            '<a target=\"_blank\" href=https://colab.research.google.com/notebooks/data_table.ipynb>data table notebook</a>'\n",
              "            + ' to learn more about interactive tables.';\n",
              "          element.innerHTML = '';\n",
              "          dataTable['output_type'] = 'display_data';\n",
              "          await google.colab.output.renderOutput(dataTable, element);\n",
              "          const docLink = document.createElement('div');\n",
              "          docLink.innerHTML = docLinkHtml;\n",
              "          element.appendChild(docLink);\n",
              "        }\n",
              "      </script>\n",
              "    </div>\n",
              "  </div>\n",
              "  "
            ]
          },
          "metadata": {},
          "execution_count": 63
        }
      ]
    },
    {
      "cell_type": "code",
      "source": [
        "y = df.iloc[:, -1]\n",
        "y.head()"
      ],
      "metadata": {
        "colab": {
          "base_uri": "https://localhost:8080/"
        },
        "id": "P3vegqMs6iCz",
        "outputId": "78da8222-e1c2-42d9-cdea-8db3400fce39"
      },
      "execution_count": null,
      "outputs": [
        {
          "output_type": "execute_result",
          "data": {
            "text/plain": [
              "0    1\n",
              "1    1\n",
              "2    0\n",
              "3    1\n",
              "4    0\n",
              "Name: 29, dtype: int64"
            ]
          },
          "metadata": {},
          "execution_count": 15
        }
      ]
    },
    {
      "cell_type": "code",
      "source": [
        "X_train, X_test, y_train, y_test = train_test_split(X, y, test_size=0.2, random_state = 42)"
      ],
      "metadata": {
        "id": "5cMFV-sl618I"
      },
      "execution_count": null,
      "outputs": []
    },
    {
      "cell_type": "code",
      "source": [
        "from sklearn.preprocessing import StandardScaler\n",
        "scaler = StandardScaler()"
      ],
      "metadata": {
        "id": "R7bbl3vXgyf9"
      },
      "execution_count": null,
      "outputs": []
    },
    {
      "cell_type": "code",
      "source": [
        "print(X_train)"
      ],
      "metadata": {
        "colab": {
          "base_uri": "https://localhost:8080/"
        },
        "id": "tjqyNyHIYtaW",
        "outputId": "714d5187-5e35-4abc-e716-629ba86bf9bd"
      },
      "execution_count": null,
      "outputs": [
        {
          "output_type": "stream",
          "name": "stdout",
          "text": [
            "[[-6.41113139e-01  6.39490264e-01 -6.78568656e-01 ... -1.89074930e+00\n",
            "  -1.77751176e+00  2.17086370e+00]\n",
            " [-1.54367598e+00  7.81024766e-01 -9.03912024e-01 ...  2.26483228e-01\n",
            "  -3.51914418e-01 -1.12104387e-04]\n",
            " [-8.86728123e-01 -1.29453987e-01 -9.94904484e-01 ... -2.29044270e+00\n",
            "   1.82873117e+00 -1.06253078e+00]\n",
            " ...\n",
            " [-1.15656325e+00 -4.20244381e-02  1.35317762e+00 ...  1.09713318e+00\n",
            "  -1.76823169e+00 -1.69800910e-01]\n",
            " [-4.38262990e-01  1.84421272e+00 -9.26034105e-01 ... -1.90818932e+00\n",
            "  -2.53762471e+00 -1.55675474e+00]\n",
            " [-1.09712073e+00 -5.20688100e-01 -4.06987094e-01 ...  2.09638178e-01\n",
            "  -5.61189943e-01 -1.67388188e+00]]\n"
          ]
        }
      ]
    },
    {
      "cell_type": "code",
      "source": [
        "np.save('/content/drive/My Drive/audio_data/xtrain.npy', X_train)\n",
        "np.save('/content/drive/My Drive/audio_data/xtest.npy', X_test)\n",
        "np.save('/content/drive/My Drive/audio_data/ytrain.npy', y_train)\n",
        "np.save('/content/drive/My Drive/audio_data/ytest.npy', y_test)"
      ],
      "metadata": {
        "id": "oNcyCgizXzp9"
      },
      "execution_count": null,
      "outputs": []
    },
    {
      "cell_type": "code",
      "source": [
        "###################### START HERE #################################################"
      ],
      "metadata": {
        "id": "rO9eH03g2Em7"
      },
      "execution_count": null,
      "outputs": []
    },
    {
      "cell_type": "code",
      "source": [
        "X_train = np.load('/content/drive/My Drive/audio_data/xtrain.npy')\n",
        "X_test = np.load('/content/drive/My Drive/audio_data/xtest.npy')\n",
        "y_train = np.load('/content/drive/My Drive/audio_data/ytrain.npy')\n",
        "y_test = np.load('/content/drive/My Drive/audio_data/ytest.npy')\n"
      ],
      "metadata": {
        "id": "2ZwFQrcLfTAl"
      },
      "execution_count": null,
      "outputs": []
    },
    {
      "cell_type": "code",
      "source": [
        "# #normalizing\n",
        "# scaler = StandardScaler()\n",
        "# X_train = scaler.fit_transform(X_train)\n",
        "# X_test = scaler.transform(X_test)"
      ],
      "metadata": {
        "id": "Y8ewafqC5vd4"
      },
      "execution_count": null,
      "outputs": []
    },
    {
      "cell_type": "code",
      "source": [
        "X_train.shape"
      ],
      "metadata": {
        "colab": {
          "base_uri": "https://localhost:8080/"
        },
        "id": "XocLM-VILqRr",
        "outputId": "b8665af8-32f3-4eb7-81fb-2d4a7550e677"
      },
      "execution_count": null,
      "outputs": [
        {
          "output_type": "execute_result",
          "data": {
            "text/plain": [
              "(512, 26)"
            ]
          },
          "metadata": {},
          "execution_count": 4
        }
      ]
    },
    {
      "cell_type": "code",
      "source": [
        "from sklearn.model_selection import train_test_split\n",
        "from sklearn.preprocessing import StandardScaler\n",
        "#Keras\n",
        "import keras\n",
        "from keras import models\n",
        "from keras import layers\n",
        "\n",
        "from sklearn.metrics import classification_report"
      ],
      "metadata": {
        "id": "7-wxldtV6XPH"
      },
      "execution_count": null,
      "outputs": []
    },
    {
      "cell_type": "code",
      "source": [
        "# models\n",
        "from sklearn.linear_model import LogisticRegression, Perceptron, RidgeClassifier, SGDClassifier\n",
        "from sklearn import svm\n",
        "from sklearn.svm import SVC, LinearSVC\n",
        "from sklearn.ensemble import RandomForestClassifier, GradientBoostingClassifier, ExtraTreesClassifier \n",
        "from sklearn.ensemble import BaggingClassifier, AdaBoostClassifier, VotingClassifier \n",
        "from sklearn.neighbors import KNeighborsClassifier\n",
        "from sklearn.naive_bayes import GaussianNB\n",
        "from sklearn.tree import DecisionTreeClassifier\n",
        "from sklearn import metrics\n",
        "import xgboost as xgb\n",
        "from xgboost import XGBClassifier"
      ],
      "metadata": {
        "id": "uqL9pZdG9tDF"
      },
      "execution_count": null,
      "outputs": []
    },
    {
      "cell_type": "code",
      "source": [
        "# model tuning\n",
        "from hyperopt import STATUS_OK, Trials, fmin, hp, tpe, space_eval\n",
        "from sklearn.model_selection import cross_val_score"
      ],
      "metadata": {
        "id": "Mwz26kal4q_7"
      },
      "execution_count": null,
      "outputs": []
    },
    {
      "cell_type": "code",
      "source": [
        "# creating a model\n",
        "model = models.Sequential()\n",
        "model.add(layers.Dense(128, activation='relu' ))\n",
        "\n",
        "model.add(layers.Dense(64, activation='relu'))\n",
        "\n",
        "model.add(layers.Dense(32, activation='relu'))\n",
        "\n",
        "model.add(layers.Dense(1, activation='sigmoid'))\n",
        "\n",
        "model.compile(optimizer='adam',\n",
        "              loss='binary_crossentropy',\n",
        "              metrics=['accuracy'])"
      ],
      "metadata": {
        "id": "TE0q5DWf7AVR"
      },
      "execution_count": null,
      "outputs": []
    },
    {
      "cell_type": "code",
      "source": [
        "history = model.fit(X_train,\n",
        "                    y_train,\n",
        "                    epochs=100,\n",
        "                    batch_size=32)"
      ],
      "metadata": {
        "colab": {
          "base_uri": "https://localhost:8080/"
        },
        "id": "Wv21Sr_h7D9m",
        "outputId": "cd2f5c67-d070-4499-d9d5-5ac4df919be9"
      },
      "execution_count": null,
      "outputs": [
        {
          "output_type": "stream",
          "name": "stdout",
          "text": [
            "Epoch 1/100\n",
            "16/16 [==============================] - 4s 3ms/step - loss: 0.6745 - accuracy: 0.5820\n",
            "Epoch 2/100\n",
            "16/16 [==============================] - 0s 3ms/step - loss: 0.6137 - accuracy: 0.6797\n",
            "Epoch 3/100\n",
            "16/16 [==============================] - 0s 3ms/step - loss: 0.5843 - accuracy: 0.6797\n",
            "Epoch 4/100\n",
            "16/16 [==============================] - 0s 3ms/step - loss: 0.5591 - accuracy: 0.6875\n",
            "Epoch 5/100\n",
            "16/16 [==============================] - 0s 3ms/step - loss: 0.5398 - accuracy: 0.7109\n",
            "Epoch 6/100\n",
            "16/16 [==============================] - 0s 3ms/step - loss: 0.5128 - accuracy: 0.7402\n",
            "Epoch 7/100\n",
            "16/16 [==============================] - 0s 3ms/step - loss: 0.4848 - accuracy: 0.7617\n",
            "Epoch 8/100\n",
            "16/16 [==============================] - 0s 3ms/step - loss: 0.4600 - accuracy: 0.7793\n",
            "Epoch 9/100\n",
            "16/16 [==============================] - 0s 3ms/step - loss: 0.4270 - accuracy: 0.8047\n",
            "Epoch 10/100\n",
            "16/16 [==============================] - 0s 3ms/step - loss: 0.3982 - accuracy: 0.8301\n",
            "Epoch 11/100\n",
            "16/16 [==============================] - 0s 3ms/step - loss: 0.3634 - accuracy: 0.8516\n",
            "Epoch 12/100\n",
            "16/16 [==============================] - 0s 3ms/step - loss: 0.3418 - accuracy: 0.8691\n",
            "Epoch 13/100\n",
            "16/16 [==============================] - 0s 3ms/step - loss: 0.3185 - accuracy: 0.8828\n",
            "Epoch 14/100\n",
            "16/16 [==============================] - 0s 3ms/step - loss: 0.2881 - accuracy: 0.8984\n",
            "Epoch 15/100\n",
            "16/16 [==============================] - 0s 3ms/step - loss: 0.2710 - accuracy: 0.8906\n",
            "Epoch 16/100\n",
            "16/16 [==============================] - 0s 3ms/step - loss: 0.2502 - accuracy: 0.9180\n",
            "Epoch 17/100\n",
            "16/16 [==============================] - 0s 3ms/step - loss: 0.2226 - accuracy: 0.9258\n",
            "Epoch 18/100\n",
            "16/16 [==============================] - 0s 3ms/step - loss: 0.2078 - accuracy: 0.9277\n",
            "Epoch 19/100\n",
            "16/16 [==============================] - 0s 3ms/step - loss: 0.1928 - accuracy: 0.9277\n",
            "Epoch 20/100\n",
            "16/16 [==============================] - 0s 3ms/step - loss: 0.1867 - accuracy: 0.9219\n",
            "Epoch 21/100\n",
            "16/16 [==============================] - 0s 3ms/step - loss: 0.1708 - accuracy: 0.9434\n",
            "Epoch 22/100\n",
            "16/16 [==============================] - 0s 3ms/step - loss: 0.1800 - accuracy: 0.9121\n",
            "Epoch 23/100\n",
            "16/16 [==============================] - 0s 3ms/step - loss: 0.1483 - accuracy: 0.9375\n",
            "Epoch 24/100\n",
            "16/16 [==============================] - 0s 3ms/step - loss: 0.1418 - accuracy: 0.9395\n",
            "Epoch 25/100\n",
            "16/16 [==============================] - 0s 3ms/step - loss: 0.1344 - accuracy: 0.9414\n",
            "Epoch 26/100\n",
            "16/16 [==============================] - 0s 3ms/step - loss: 0.1289 - accuracy: 0.9492\n",
            "Epoch 27/100\n",
            "16/16 [==============================] - 0s 3ms/step - loss: 0.1147 - accuracy: 0.9609\n",
            "Epoch 28/100\n",
            "16/16 [==============================] - 0s 3ms/step - loss: 0.1177 - accuracy: 0.9512\n",
            "Epoch 29/100\n",
            "16/16 [==============================] - 0s 3ms/step - loss: 0.1081 - accuracy: 0.9492\n",
            "Epoch 30/100\n",
            "16/16 [==============================] - 0s 3ms/step - loss: 0.1086 - accuracy: 0.9512\n",
            "Epoch 31/100\n",
            "16/16 [==============================] - 0s 3ms/step - loss: 0.1028 - accuracy: 0.9512\n",
            "Epoch 32/100\n",
            "16/16 [==============================] - 0s 3ms/step - loss: 0.1019 - accuracy: 0.9590\n",
            "Epoch 33/100\n",
            "16/16 [==============================] - 0s 3ms/step - loss: 0.0989 - accuracy: 0.9590\n",
            "Epoch 34/100\n",
            "16/16 [==============================] - 0s 3ms/step - loss: 0.0914 - accuracy: 0.9590\n",
            "Epoch 35/100\n",
            "16/16 [==============================] - 0s 3ms/step - loss: 0.0902 - accuracy: 0.9629\n",
            "Epoch 36/100\n",
            "16/16 [==============================] - 0s 2ms/step - loss: 0.0888 - accuracy: 0.9531\n",
            "Epoch 37/100\n",
            "16/16 [==============================] - 0s 3ms/step - loss: 0.0835 - accuracy: 0.9668\n",
            "Epoch 38/100\n",
            "16/16 [==============================] - 0s 3ms/step - loss: 0.0856 - accuracy: 0.9590\n",
            "Epoch 39/100\n",
            "16/16 [==============================] - 0s 3ms/step - loss: 0.0781 - accuracy: 0.9648\n",
            "Epoch 40/100\n",
            "16/16 [==============================] - 0s 3ms/step - loss: 0.0762 - accuracy: 0.9727\n",
            "Epoch 41/100\n",
            "16/16 [==============================] - 0s 2ms/step - loss: 0.0751 - accuracy: 0.9668\n",
            "Epoch 42/100\n",
            "16/16 [==============================] - 0s 3ms/step - loss: 0.0753 - accuracy: 0.9668\n",
            "Epoch 43/100\n",
            "16/16 [==============================] - 0s 3ms/step - loss: 0.0753 - accuracy: 0.9668\n",
            "Epoch 44/100\n",
            "16/16 [==============================] - 0s 3ms/step - loss: 0.0694 - accuracy: 0.9727\n",
            "Epoch 45/100\n",
            "16/16 [==============================] - 0s 3ms/step - loss: 0.0667 - accuracy: 0.9746\n",
            "Epoch 46/100\n",
            "16/16 [==============================] - 0s 3ms/step - loss: 0.0703 - accuracy: 0.9766\n",
            "Epoch 47/100\n",
            "16/16 [==============================] - 0s 3ms/step - loss: 0.0910 - accuracy: 0.9570\n",
            "Epoch 48/100\n",
            "16/16 [==============================] - 0s 3ms/step - loss: 0.0780 - accuracy: 0.9629\n",
            "Epoch 49/100\n",
            "16/16 [==============================] - 0s 3ms/step - loss: 0.0631 - accuracy: 0.9727\n",
            "Epoch 50/100\n",
            "16/16 [==============================] - 0s 3ms/step - loss: 0.0601 - accuracy: 0.9746\n",
            "Epoch 51/100\n",
            "16/16 [==============================] - 0s 3ms/step - loss: 0.0660 - accuracy: 0.9746\n",
            "Epoch 52/100\n",
            "16/16 [==============================] - 0s 3ms/step - loss: 0.0620 - accuracy: 0.9707\n",
            "Epoch 53/100\n",
            "16/16 [==============================] - 0s 3ms/step - loss: 0.0565 - accuracy: 0.9727\n",
            "Epoch 54/100\n",
            "16/16 [==============================] - 0s 3ms/step - loss: 0.0508 - accuracy: 0.9824\n",
            "Epoch 55/100\n",
            "16/16 [==============================] - 0s 3ms/step - loss: 0.0550 - accuracy: 0.9688\n",
            "Epoch 56/100\n",
            "16/16 [==============================] - 0s 3ms/step - loss: 0.0519 - accuracy: 0.9785\n",
            "Epoch 57/100\n",
            "16/16 [==============================] - 0s 3ms/step - loss: 0.0555 - accuracy: 0.9746\n",
            "Epoch 58/100\n",
            "16/16 [==============================] - 0s 3ms/step - loss: 0.0683 - accuracy: 0.9688\n",
            "Epoch 59/100\n",
            "16/16 [==============================] - 0s 3ms/step - loss: 0.0650 - accuracy: 0.9707\n",
            "Epoch 60/100\n",
            "16/16 [==============================] - 0s 3ms/step - loss: 0.0565 - accuracy: 0.9824\n",
            "Epoch 61/100\n",
            "16/16 [==============================] - 0s 3ms/step - loss: 0.0556 - accuracy: 0.9785\n",
            "Epoch 62/100\n",
            "16/16 [==============================] - 0s 2ms/step - loss: 0.0480 - accuracy: 0.9766\n",
            "Epoch 63/100\n",
            "16/16 [==============================] - 0s 3ms/step - loss: 0.0619 - accuracy: 0.9746\n",
            "Epoch 64/100\n",
            "16/16 [==============================] - 0s 2ms/step - loss: 0.0471 - accuracy: 0.9824\n",
            "Epoch 65/100\n",
            "16/16 [==============================] - 0s 3ms/step - loss: 0.0454 - accuracy: 0.9785\n",
            "Epoch 66/100\n",
            "16/16 [==============================] - 0s 3ms/step - loss: 0.0423 - accuracy: 0.9805\n",
            "Epoch 67/100\n",
            "16/16 [==============================] - 0s 3ms/step - loss: 0.0418 - accuracy: 0.9883\n",
            "Epoch 68/100\n",
            "16/16 [==============================] - 0s 3ms/step - loss: 0.0406 - accuracy: 0.9844\n",
            "Epoch 69/100\n",
            "16/16 [==============================] - 0s 3ms/step - loss: 0.0420 - accuracy: 0.9805\n",
            "Epoch 70/100\n",
            "16/16 [==============================] - 0s 3ms/step - loss: 0.0391 - accuracy: 0.9824\n",
            "Epoch 71/100\n",
            "16/16 [==============================] - 0s 3ms/step - loss: 0.0384 - accuracy: 0.9883\n",
            "Epoch 72/100\n",
            "16/16 [==============================] - 0s 3ms/step - loss: 0.0391 - accuracy: 0.9902\n",
            "Epoch 73/100\n",
            "16/16 [==============================] - 0s 3ms/step - loss: 0.0494 - accuracy: 0.9766\n",
            "Epoch 74/100\n",
            "16/16 [==============================] - 0s 3ms/step - loss: 0.0553 - accuracy: 0.9746\n",
            "Epoch 75/100\n",
            "16/16 [==============================] - 0s 3ms/step - loss: 0.0595 - accuracy: 0.9688\n",
            "Epoch 76/100\n",
            "16/16 [==============================] - 0s 3ms/step - loss: 0.0977 - accuracy: 0.9531\n",
            "Epoch 77/100\n",
            "16/16 [==============================] - 0s 3ms/step - loss: 0.2757 - accuracy: 0.9199\n",
            "Epoch 78/100\n",
            "16/16 [==============================] - 0s 2ms/step - loss: 0.0883 - accuracy: 0.9707\n",
            "Epoch 79/100\n",
            "16/16 [==============================] - 0s 3ms/step - loss: 0.0750 - accuracy: 0.9688\n",
            "Epoch 80/100\n",
            "16/16 [==============================] - 0s 3ms/step - loss: 0.0504 - accuracy: 0.9805\n",
            "Epoch 81/100\n",
            "16/16 [==============================] - 0s 3ms/step - loss: 0.0401 - accuracy: 0.9863\n",
            "Epoch 82/100\n",
            "16/16 [==============================] - 0s 3ms/step - loss: 0.0386 - accuracy: 0.9824\n",
            "Epoch 83/100\n",
            "16/16 [==============================] - 0s 3ms/step - loss: 0.0357 - accuracy: 0.9863\n",
            "Epoch 84/100\n",
            "16/16 [==============================] - 0s 3ms/step - loss: 0.0354 - accuracy: 0.9863\n",
            "Epoch 85/100\n",
            "16/16 [==============================] - 0s 3ms/step - loss: 0.0354 - accuracy: 0.9883\n",
            "Epoch 86/100\n",
            "16/16 [==============================] - 0s 3ms/step - loss: 0.0376 - accuracy: 0.9883\n",
            "Epoch 87/100\n",
            "16/16 [==============================] - 0s 3ms/step - loss: 0.0340 - accuracy: 0.9883\n",
            "Epoch 88/100\n",
            "16/16 [==============================] - 0s 3ms/step - loss: 0.0322 - accuracy: 0.9863\n",
            "Epoch 89/100\n",
            "16/16 [==============================] - 0s 3ms/step - loss: 0.0353 - accuracy: 0.9863\n",
            "Epoch 90/100\n",
            "16/16 [==============================] - 0s 3ms/step - loss: 0.0403 - accuracy: 0.9824\n",
            "Epoch 91/100\n",
            "16/16 [==============================] - 0s 3ms/step - loss: 0.0354 - accuracy: 0.9863\n",
            "Epoch 92/100\n",
            "16/16 [==============================] - 0s 2ms/step - loss: 0.0331 - accuracy: 0.9883\n",
            "Epoch 93/100\n",
            "16/16 [==============================] - 0s 3ms/step - loss: 0.0318 - accuracy: 0.9902\n",
            "Epoch 94/100\n",
            "16/16 [==============================] - 0s 3ms/step - loss: 0.0324 - accuracy: 0.9863\n",
            "Epoch 95/100\n",
            "16/16 [==============================] - 0s 3ms/step - loss: 0.0295 - accuracy: 0.9902\n",
            "Epoch 96/100\n",
            "16/16 [==============================] - 0s 3ms/step - loss: 0.0285 - accuracy: 0.9844\n",
            "Epoch 97/100\n",
            "16/16 [==============================] - 0s 2ms/step - loss: 0.0377 - accuracy: 0.9863\n",
            "Epoch 98/100\n",
            "16/16 [==============================] - 0s 3ms/step - loss: 0.0388 - accuracy: 0.9844\n",
            "Epoch 99/100\n",
            "16/16 [==============================] - 0s 3ms/step - loss: 0.0288 - accuracy: 0.9883\n",
            "Epoch 100/100\n",
            "16/16 [==============================] - 0s 3ms/step - loss: 0.0337 - accuracy: 0.9883\n"
          ]
        }
      ]
    },
    {
      "cell_type": "code",
      "source": [
        "# calculate accuracy\n",
        "test_loss, test_acc = model.evaluate(X_test,y_test)\n",
        "print('test_acc: ',test_acc)\n",
        "\n",
        "\n"
      ],
      "metadata": {
        "colab": {
          "base_uri": "https://localhost:8080/"
        },
        "id": "s3zLT_Ty7HgG",
        "outputId": "0216f094-787f-4713-ffa7-c0c4180552ce"
      },
      "execution_count": null,
      "outputs": [
        {
          "output_type": "stream",
          "name": "stdout",
          "text": [
            "4/4 [==============================] - 0s 3ms/step - loss: 0.9635 - accuracy: 0.8281\n",
            "test_acc:  0.828125\n"
          ]
        }
      ]
    },
    {
      "cell_type": "code",
      "source": [
        "# predictions\n",
        "predictions = model.predict(X_test)\n",
        "# print(predictions)"
      ],
      "metadata": {
        "id": "PHK8UNQUmyHq"
      },
      "execution_count": null,
      "outputs": []
    },
    {
      "cell_type": "code",
      "source": [
        "print(classification_report(y_test, predictions.round()))"
      ],
      "metadata": {
        "colab": {
          "base_uri": "https://localhost:8080/"
        },
        "id": "du6CAPDYhss2",
        "outputId": "cd9e7999-2eab-4a58-d850-c426e14aab95"
      },
      "execution_count": null,
      "outputs": [
        {
          "output_type": "stream",
          "name": "stdout",
          "text": [
            "              precision    recall  f1-score   support\n",
            "\n",
            "           0       0.89      0.88      0.88        96\n",
            "           1       0.65      0.69      0.67        32\n",
            "\n",
            "    accuracy                           0.83       128\n",
            "   macro avg       0.77      0.78      0.78       128\n",
            "weighted avg       0.83      0.83      0.83       128\n",
            "\n"
          ]
        }
      ]
    },
    {
      "cell_type": "code",
      "source": [
        "#confusion matrix\n",
        "from sklearn.metrics import confusion_matrix\n",
        "cm = confusion_matrix(y_test, predictions.round())\n",
        "ax = sns.heatmap(cm, linecolor='white', cmap='Blues', linewidth=1, annot=True, fmt='')"
      ],
      "metadata": {
        "colab": {
          "base_uri": "https://localhost:8080/",
          "height": 265
        },
        "id": "-U8VUQ2G22Rh",
        "outputId": "85533b29-230d-4a6f-9d77-198f595f0a4d"
      },
      "execution_count": null,
      "outputs": [
        {
          "output_type": "display_data",
          "data": {
            "text/plain": [
              "<Figure size 432x288 with 2 Axes>"
            ],
            "image/png": "[encoded data removed]"
          },
          "metadata": {
            "needs_background": "light"
          }
        }
      ]
    },
    {
      "cell_type": "code",
      "source": [
        "logmodel = LogisticRegression(max_iter=400)\n",
        "logmodel.fit(X_train,y_train)\n",
        "\n",
        "pred_test_log = logmodel.predict(X_test)\n",
        "pred_log = logmodel.predict(X_train)\n",
        "\n",
        "print(classification_report(y_test,pred_test_log))"
      ],
      "metadata": {
        "colab": {
          "base_uri": "https://localhost:8080/"
        },
        "id": "Em-YHT7F_oLo",
        "outputId": "e4c1afed-5db9-4a13-fc86-1cd934f2c16b"
      },
      "execution_count": null,
      "outputs": [
        {
          "output_type": "stream",
          "name": "stdout",
          "text": [
            "              precision    recall  f1-score   support\n",
            "\n",
            "           0       0.77      0.90      0.83        96\n",
            "           1       0.38      0.19      0.25        32\n",
            "\n",
            "    accuracy                           0.72       128\n",
            "   macro avg       0.57      0.54      0.54       128\n",
            "weighted avg       0.67      0.72      0.68       128\n",
            "\n"
          ]
        }
      ]
    },
    {
      "cell_type": "code",
      "source": [
        "#confusion matrix\n",
        "from sklearn.metrics import confusion_matrix\n",
        "cm = confusion_matrix(y_test, pred_test_log)\n",
        "ax = sns.heatmap(cm, linecolor='white', cmap='YlGnBu', linewidth=1, annot=True, fmt='')"
      ],
      "metadata": {
        "colab": {
          "base_uri": "https://localhost:8080/",
          "height": 265
        },
        "id": "31ue5F4O3MBl",
        "outputId": "d9ee009a-d213-40d8-af8e-ea3421475044"
      },
      "execution_count": null,
      "outputs": [
        {
          "output_type": "display_data",
          "data": {
            "text/plain": [
              "<Figure size 432x288 with 2 Axes>"
            ],
            "image/png": "[encoded data removed]"
          },
          "metadata": {
            "needs_background": "light"
          }
        }
      ]
    },
    {
      "cell_type": "code",
      "source": [
        "clf = svm.SVC(kernel='poly')\n",
        "clf.fit(X_train, y_train) \n",
        "\n",
        "pred_svc = clf.predict(X_train)\n",
        "pred_test_svc = clf.predict(X_test)\n",
        "# pred_test_svc [0:5]\n",
        "\n",
        "print (classification_report(y_test, pred_test_svc))"
      ],
      "metadata": {
        "colab": {
          "base_uri": "https://localhost:8080/"
        },
        "id": "pzfm_DcT_1Mg",
        "outputId": "0d567a88-31be-4031-de70-e7d432fce16b"
      },
      "execution_count": null,
      "outputs": [
        {
          "output_type": "stream",
          "name": "stdout",
          "text": [
            "              precision    recall  f1-score   support\n",
            "\n",
            "           0       0.77      0.99      0.87        96\n",
            "           1       0.80      0.12      0.22        32\n",
            "\n",
            "    accuracy                           0.77       128\n",
            "   macro avg       0.79      0.56      0.54       128\n",
            "weighted avg       0.78      0.77      0.70       128\n",
            "\n"
          ]
        }
      ]
    },
    {
      "cell_type": "code",
      "source": [
        "#confusion matrix\n",
        "from sklearn.metrics import confusion_matrix\n",
        "cm = confusion_matrix(y_test, pred_test_svc)\n",
        "ax = sns.heatmap(cm, linecolor='white', cmap='Greens', linewidth=1, annot=True, fmt='')"
      ],
      "metadata": {
        "colab": {
          "base_uri": "https://localhost:8080/",
          "height": 265
        },
        "id": "X5bsjmqd3n5Y",
        "outputId": "f5191a16-1f3b-45da-b614-defc8381f78a"
      },
      "execution_count": null,
      "outputs": [
        {
          "output_type": "display_data",
          "data": {
            "text/plain": [
              "<Figure size 432x288 with 2 Axes>"
            ],
            "image/png": "[encoded data removed]"
          },
          "metadata": {
            "needs_background": "light"
          }
        }
      ]
    },
    {
      "cell_type": "code",
      "source": [
        "k = 45\n",
        "#Training and Predicting  \n",
        "neigh = KNeighborsClassifier(n_neighbors = k).fit(X_train,y_train)\n",
        "pred_knn = neigh.predict(X_train)\n",
        "pred_test_knn = neigh.predict(X_test)\n",
        "pred_test_knn[0:5]\n",
        "\n",
        "Ks = 50\n",
        "mean_acc = np.zeros((Ks-1))\n",
        "std_acc = np.zeros((Ks-1))\n",
        "ConfustionMx = [];\n",
        "for n in range(1,Ks):\n",
        "    \n",
        "    #Train Model and Predict  \n",
        "    neigh = KNeighborsClassifier(n_neighbors = n).fit(X_train,y_train)\n",
        "    pred_test_knn=neigh.predict(X_test)\n",
        "    mean_acc[n-1] = metrics.accuracy_score(y_test, pred_test_knn)\n",
        "\n",
        "    \n",
        "    std_acc[n-1]=np.std(pred_test_knn==y_test)/np.sqrt(pred_test_knn.shape[0])\n",
        "\n",
        "mean_acc\n",
        "\n",
        "print( \"The best accuracy was with\", mean_acc.max(), \"with k=\", mean_acc.argmax()+1) "
      ],
      "metadata": {
        "colab": {
          "base_uri": "https://localhost:8080/"
        },
        "id": "WyKCSlsx_5S2",
        "outputId": "e4e098ce-df9e-4056-d765-4e55bb0dde10"
      },
      "execution_count": null,
      "outputs": [
        {
          "output_type": "stream",
          "name": "stdout",
          "text": [
            "The best accuracy was with 0.8046875 with k= 2\n"
          ]
        }
      ]
    },
    {
      "cell_type": "code",
      "source": [
        "neigh = KNeighborsClassifier(n_neighbors = 2).fit(X_train,y_train)\n",
        "pred_knn = neigh.predict(X_train)\n",
        "pred_test_knn = neigh.predict(X_test)"
      ],
      "metadata": {
        "id": "APMRJxheiJf5"
      },
      "execution_count": null,
      "outputs": []
    },
    {
      "cell_type": "code",
      "source": [
        "print(classification_report(y_test,pred_test_knn))"
      ],
      "metadata": {
        "colab": {
          "base_uri": "https://localhost:8080/"
        },
        "id": "TzUO5vtJbDFV",
        "outputId": "37b89557-bd37-47a0-b994-7702bb0fdf1a"
      },
      "execution_count": null,
      "outputs": [
        {
          "output_type": "stream",
          "name": "stdout",
          "text": [
            "              precision    recall  f1-score   support\n",
            "\n",
            "           0       0.81      0.97      0.88        96\n",
            "           1       0.77      0.31      0.44        32\n",
            "\n",
            "    accuracy                           0.80       128\n",
            "   macro avg       0.79      0.64      0.66       128\n",
            "weighted avg       0.80      0.80      0.77       128\n",
            "\n"
          ]
        }
      ]
    },
    {
      "cell_type": "code",
      "source": [
        "import joblib\n",
        "import pickle\n",
        "import json"
      ],
      "metadata": {
        "id": "exxeIyXFnlbJ"
      },
      "execution_count": null,
      "outputs": []
    },
    {
      "cell_type": "code",
      "source": [
        "joblib.dump(neigh, '/content/drive/My Drive/saved_models/audio_knn.pkl')"
      ],
      "metadata": {
        "colab": {
          "base_uri": "https://localhost:8080/"
        },
        "id": "nFksyGYlnt6Y",
        "outputId": "3371d801-a2d5-4b9a-f026-7ebbfe966e46"
      },
      "execution_count": null,
      "outputs": [
        {
          "output_type": "execute_result",
          "data": {
            "text/plain": [
              "['/content/drive/My Drive/saved_models/audio_knn.pkl']"
            ]
          },
          "metadata": {},
          "execution_count": 12
        }
      ]
    },
    {
      "cell_type": "code",
      "source": [],
      "metadata": {
        "id": "XMznmaIMnt30"
      },
      "execution_count": null,
      "outputs": []
    },
    {
      "cell_type": "code",
      "source": [
        "#confusion matrix\n",
        "from sklearn.metrics import confusion_matrix\n",
        "cm = confusion_matrix(y_test, pred_test_knn)\n",
        "ax = sns.heatmap(cm, linecolor='white', cmap='Reds', linewidth=1, annot=True, fmt='')"
      ],
      "metadata": {
        "colab": {
          "base_uri": "https://localhost:8080/",
          "height": 265
        },
        "id": "A40vCArh4GN_",
        "outputId": "371fb7ba-6765-46dd-8673-5535b732f538"
      },
      "execution_count": null,
      "outputs": [
        {
          "output_type": "display_data",
          "data": {
            "text/plain": [
              "<Figure size 432x288 with 2 Axes>"
            ],
            "image/png": "[encoded data removed]"
          },
          "metadata": {
            "needs_background": "light"
          }
        }
      ]
    },
    {
      "cell_type": "code",
      "source": [
        "DecTree = DecisionTreeClassifier(criterion=\"entropy\", max_depth = 5)\n",
        "DecTree.fit(X_train,y_train)\n",
        "\n",
        "pred_decision_tree = DecTree.predict(X_train)\n",
        "pred_test_decision_tree = DecTree.predict(X_test)\n",
        "\n",
        "acc_decision_tree = metrics.accuracy_score(y_train, pred_decision_tree) * 100\n",
        "acc_test_decision_tree = metrics.accuracy_score(y_test, pred_test_decision_tree) * 100\n",
        "\n",
        "print(\"Accuracy train : \", acc_decision_tree)\n",
        "print(\"Accuracy test : \", acc_test_decision_tree)\n",
        "\n",
        "print(classification_report(y_test, pred_test_decision_tree))"
      ],
      "metadata": {
        "colab": {
          "base_uri": "https://localhost:8080/"
        },
        "id": "U5XgZFpVAOHb",
        "outputId": "1d358cfa-5efd-4388-f3b0-608263649047"
      },
      "execution_count": null,
      "outputs": [
        {
          "output_type": "stream",
          "name": "stdout",
          "text": [
            "Accuracy train :  79.296875\n",
            "Accuracy test :  68.75\n",
            "              precision    recall  f1-score   support\n",
            "\n",
            "           0       0.76      0.85      0.80        96\n",
            "           1       0.30      0.19      0.23        32\n",
            "\n",
            "    accuracy                           0.69       128\n",
            "   macro avg       0.53      0.52      0.52       128\n",
            "weighted avg       0.64      0.69      0.66       128\n",
            "\n"
          ]
        }
      ]
    },
    {
      "cell_type": "code",
      "source": [
        "#confusion matrix\n",
        "from sklearn.metrics import confusion_matrix\n",
        "cm = confusion_matrix(y_test, pred_test_decision_tree)\n",
        "ax = sns.heatmap(cm, linecolor='white', cmap='Blues', linewidth=1, annot=True, fmt='')"
      ],
      "metadata": {
        "colab": {
          "base_uri": "https://localhost:8080/",
          "height": 265
        },
        "id": "L69oF2am4u5R",
        "outputId": "7299425c-1e99-4a70-effa-0b1ff05ca87d"
      },
      "execution_count": null,
      "outputs": [
        {
          "output_type": "display_data",
          "data": {
            "text/plain": [
              "<Figure size 432x288 with 2 Axes>"
            ],
            "image/png": "[encoded data removed]"
          },
          "metadata": {
            "needs_background": "light"
          }
        }
      ]
    },
    {
      "cell_type": "code",
      "source": [
        "def hyperopt_xgb_score(params):\n",
        "    clf = XGBClassifier(**params)\n",
        "    current_score = cross_val_score(clf, X_train, y_train, cv=10).mean()\n",
        "    print(current_score, params)\n",
        "    return current_score \n",
        " \n",
        "space_xgb = {\n",
        "            'learning_rate': hp.quniform('learning_rate', 0, 0.05, 0.0001),\n",
        "            'n_estimators': hp.choice('n_estimators', range(100, 1000)),\n",
        "            'eta': hp.quniform('eta', 0.025, 0.5, 0.005),\n",
        "            'max_depth':  hp.choice('max_depth', np.arange(2, 12, dtype=int)),\n",
        "            'min_child_weight': hp.quniform('min_child_weight', 1, 9, 0.025),\n",
        "            'subsample': hp.quniform('subsample', 0.5, 1, 0.005),\n",
        "            'gamma': hp.quniform('gamma', 0.5, 1, 0.005),\n",
        "            'colsample_bytree': hp.quniform('colsample_bytree', 0.5, 1, 0.005),\n",
        "            'eval_metric': 'auc',\n",
        "            'objective': 'binary:logistic',\n",
        "            'booster': 'gbtree',\n",
        "            'tree_method': 'exact',\n",
        "            'silent': 1,\n",
        "            'missing': None\n",
        "        }\n",
        " \n",
        "best = fmin(fn=hyperopt_xgb_score, space=space_xgb, algo=tpe.suggest, max_evals=10)\n",
        "print('best:')\n",
        "print(best)"
      ],
      "metadata": {
        "colab": {
          "base_uri": "https://localhost:8080/"
        },
        "id": "CJdWoxYzAyOB",
        "outputId": "d8a146ec-a2a6-4e06-c80e-c48ee1d82264"
      },
      "execution_count": null,
      "outputs": [
        {
          "output_type": "stream",
          "name": "stdout",
          "text": [
            "0.7090120663650076\n",
            "{'booster': 'gbtree', 'colsample_bytree': 0.755, 'eta': 0.155, 'eval_metric': 'auc', 'gamma': 0.885, 'learning_rate': 0.0393, 'max_depth': 6, 'min_child_weight': 2.35, 'missing': None, 'n_estimators': 644, 'objective': 'binary:logistic', 'silent': 1, 'subsample': 0.585, 'tree_method': 'exact'}\n",
            "0.6972473604826546\n",
            "{'booster': 'gbtree', 'colsample_bytree': 0.52, 'eta': 0.035, 'eval_metric': 'auc', 'gamma': 0.585, 'learning_rate': 0.0234, 'max_depth': 4, 'min_child_weight': 5.8500000000000005, 'missing': None, 'n_estimators': 290, 'objective': 'binary:logistic', 'silent': 1, 'subsample': 0.73, 'tree_method': 'exact'}\n",
            "0.6855203619909502\n",
            "{'booster': 'gbtree', 'colsample_bytree': 0.7000000000000001, 'eta': 0.48, 'eval_metric': 'auc', 'gamma': 0.505, 'learning_rate': 0.0018000000000000002, 'max_depth': 9, 'min_child_weight': 7.45, 'missing': None, 'n_estimators': 768, 'objective': 'binary:logistic', 'silent': 1, 'subsample': 0.985, 'tree_method': 'exact'}\n",
            "0.707051282051282\n",
            "{'booster': 'gbtree', 'colsample_bytree': 0.805, 'eta': 0.13, 'eval_metric': 'auc', 'gamma': 0.8200000000000001, 'learning_rate': 0.034800000000000005, 'max_depth': 4, 'min_child_weight': 5.3500000000000005, 'missing': None, 'n_estimators': 805, 'objective': 'binary:logistic', 'silent': 1, 'subsample': 0.905, 'tree_method': 'exact'}\n",
            "0.6739064856711916\n",
            "{'booster': 'gbtree', 'colsample_bytree': 0.66, 'eta': 0.485, 'eval_metric': 'auc', 'gamma': 0.76, 'learning_rate': 0.0267, 'max_depth': 3, 'min_child_weight': 3.45, 'missing': None, 'n_estimators': 137, 'objective': 'binary:logistic', 'silent': 1, 'subsample': 0.52, 'tree_method': 'exact'}\n",
            "0.6933257918552037\n",
            "{'booster': 'gbtree', 'colsample_bytree': 0.6, 'eta': 0.11, 'eval_metric': 'auc', 'gamma': 0.895, 'learning_rate': 0.0324, 'max_depth': 9, 'min_child_weight': 7.800000000000001, 'missing': None, 'n_estimators': 875, 'objective': 'binary:logistic', 'silent': 1, 'subsample': 0.71, 'tree_method': 'exact'}\n",
            "0.681711915535445\n",
            "{'booster': 'gbtree', 'colsample_bytree': 0.67, 'eta': 0.48, 'eval_metric': 'auc', 'gamma': 0.515, 'learning_rate': 0.0039000000000000003, 'max_depth': 4, 'min_child_weight': 2.1, 'missing': None, 'n_estimators': 164, 'objective': 'binary:logistic', 'silent': 1, 'subsample': 0.905, 'tree_method': 'exact'}\n",
            "0.7089366515837104\n",
            "{'booster': 'gbtree', 'colsample_bytree': 0.505, 'eta': 0.145, 'eval_metric': 'auc', 'gamma': 0.775, 'learning_rate': 0.0322, 'max_depth': 10, 'min_child_weight': 8.525, 'missing': None, 'n_estimators': 945, 'objective': 'binary:logistic', 'silent': 1, 'subsample': 0.995, 'tree_method': 'exact'}\n",
            "0.7088989441930619\n",
            "{'booster': 'gbtree', 'colsample_bytree': 0.9500000000000001, 'eta': 0.115, 'eval_metric': 'auc', 'gamma': 0.515, 'learning_rate': 0.0475, 'max_depth': 4, 'min_child_weight': 8.6, 'missing': None, 'n_estimators': 441, 'objective': 'binary:logistic', 'silent': 1, 'subsample': 0.835, 'tree_method': 'exact'}\n",
            "0.6914027149321267\n",
            "{'booster': 'gbtree', 'colsample_bytree': 0.8, 'eta': 0.165, 'eval_metric': 'auc', 'gamma': 0.59, 'learning_rate': 0.0345, 'max_depth': 9, 'min_child_weight': 6.925000000000001, 'missing': None, 'n_estimators': 396, 'objective': 'binary:logistic', 'silent': 1, 'subsample': 0.51, 'tree_method': 'exact'}\n",
            "100%|██████████| 10/10 [00:43<00:00,  4.36s/it, best loss: 0.6739064856711916]\n",
            "best:\n",
            "{'colsample_bytree': 0.66, 'eta': 0.485, 'gamma': 0.76, 'learning_rate': 0.0267, 'max_depth': 1, 'min_child_weight': 3.45, 'n_estimators': 37, 'subsample': 0.52}\n"
          ]
        }
      ]
    },
    {
      "cell_type": "code",
      "source": [
        "params = space_eval(space_xgb, best)\n",
        "params"
      ],
      "metadata": {
        "colab": {
          "base_uri": "https://localhost:8080/"
        },
        "id": "9x5ry_5JA6zQ",
        "outputId": "b81038a8-ce5f-468e-99cf-7fcfc89ec63e"
      },
      "execution_count": null,
      "outputs": [
        {
          "output_type": "execute_result",
          "data": {
            "text/plain": [
              "{'booster': 'gbtree',\n",
              " 'colsample_bytree': 0.66,\n",
              " 'eta': 0.485,\n",
              " 'eval_metric': 'auc',\n",
              " 'gamma': 0.76,\n",
              " 'learning_rate': 0.0267,\n",
              " 'max_depth': 3,\n",
              " 'min_child_weight': 3.45,\n",
              " 'missing': None,\n",
              " 'n_estimators': 137,\n",
              " 'objective': 'binary:logistic',\n",
              " 'silent': 1,\n",
              " 'subsample': 0.52,\n",
              " 'tree_method': 'exact'}"
            ]
          },
          "metadata": {},
          "execution_count": 35
        }
      ]
    },
    {
      "cell_type": "code",
      "source": [
        "XGB_Classifier = XGBClassifier(**params)\n",
        "\n",
        "XGB_Classifier.fit(X_train, y_train)\n",
        "acc_XGB_Classifier = round(XGB_Classifier.score(X_train, y_train) * 100, 2)\n",
        "acc_XGB_Classifier\n",
        "\n",
        "# pred_XGB = XGB_Classifier.predict(X_train)\n",
        "# pred_test_xgb = XGB_Classifier.predict(X_test)\n",
        "\n",
        "# acc_XGB_Classifier = metrics.accuracy_score(y_train, pred_random_forest) * 100\n",
        "# acc_test_XGB_Classifier = metrics.accuracy_score(y_test, pred_test_random_forest) * 100"
      ],
      "metadata": {
        "colab": {
          "base_uri": "https://localhost:8080/"
        },
        "id": "RrAc09aQA7lT",
        "outputId": "811d4c0f-2e07-4e3d-9fad-619d9c45976f"
      },
      "execution_count": null,
      "outputs": [
        {
          "output_type": "execute_result",
          "data": {
            "text/plain": [
              "81.45"
            ]
          },
          "metadata": {},
          "execution_count": 36
        }
      ]
    },
    {
      "cell_type": "code",
      "source": [
        "pred_XGB = XGB_Classifier.predict(X_train)\n",
        "pred_test_xgb = XGB_Classifier.predict(X_test)"
      ],
      "metadata": {
        "id": "vyFDKT5Lig8i"
      },
      "execution_count": null,
      "outputs": []
    },
    {
      "cell_type": "code",
      "source": [
        "# print(\"train acc: \", acc_XGB_Classifier)\n",
        "# print(\"test acc: \", acc_test_XGB_Classifier)"
      ],
      "metadata": {
        "id": "qMIzOfixpWgd"
      },
      "execution_count": null,
      "outputs": []
    },
    {
      "cell_type": "code",
      "source": [
        "acc_test_XGB_Classifier = round(XGB_Classifier.score(X_test, y_test) * 100, 2)\n",
        "acc_test_XGB_Classifier"
      ],
      "metadata": {
        "colab": {
          "base_uri": "https://localhost:8080/"
        },
        "id": "oqCQq47TA9t9",
        "outputId": "e21e2437-e6f0-40ad-b9c8-bf84115214a7"
      },
      "execution_count": null,
      "outputs": [
        {
          "output_type": "execute_result",
          "data": {
            "text/plain": [
              "75.0"
            ]
          },
          "metadata": {},
          "execution_count": 38
        }
      ]
    },
    {
      "cell_type": "code",
      "source": [
        "print(classification_report(y_test, pred_test_xgb.round()))"
      ],
      "metadata": {
        "id": "56bH1EdVnmAX",
        "colab": {
          "base_uri": "https://localhost:8080/"
        },
        "outputId": "de181e20-6225-4165-b72b-2c61697a5ab8"
      },
      "execution_count": null,
      "outputs": [
        {
          "output_type": "stream",
          "name": "stdout",
          "text": [
            "              precision    recall  f1-score   support\n",
            "\n",
            "           0       0.78      0.93      0.85        96\n",
            "           1       0.50      0.22      0.30        32\n",
            "\n",
            "    accuracy                           0.75       128\n",
            "   macro avg       0.64      0.57      0.58       128\n",
            "weighted avg       0.71      0.75      0.71       128\n",
            "\n"
          ]
        }
      ]
    },
    {
      "cell_type": "code",
      "source": [
        "#confusion matrix\n",
        "from sklearn.metrics import confusion_matrix\n",
        "cm = confusion_matrix(y_test, pred_test_xgb)\n",
        "ax = sns.heatmap(cm, linecolor='white', cmap='Blues', linewidth=1, annot=True, fmt='')"
      ],
      "metadata": {
        "colab": {
          "base_uri": "https://localhost:8080/",
          "height": 265
        },
        "id": "yBZH75Rn5c-S",
        "outputId": "706ad87d-44bf-47b9-af0c-4fc5b457d22a"
      },
      "execution_count": null,
      "outputs": [
        {
          "output_type": "display_data",
          "data": {
            "text/plain": [
              "<Figure size 432x288 with 2 Axes>"
            ],
            "image/png": "[encoded data removed]"
          },
          "metadata": {
            "needs_background": "light"
          }
        }
      ]
    },
    {
      "cell_type": "code",
      "source": [
        "import lightgbm as lgb\n",
        "from lightgbm import LGBMClassifier\n",
        "\n",
        "def hyperopt_lgb_score(params):\n",
        "    clf = LGBMClassifier(**params)\n",
        "    current_score = cross_val_score(clf, X_train, y_train, cv=10).mean()\n",
        "    print(current_score, params)\n",
        "    return current_score \n",
        " \n",
        "space_lgb = {\n",
        "            'learning_rate': hp.quniform('learning_rate', 0, 0.05, 0.0001),\n",
        "            'n_estimators': hp.choice('n_estimators', range(100, 1000)),\n",
        "            'max_depth':  hp.choice('max_depth', np.arange(2, 12, dtype=int)),\n",
        "            'num_leaves': hp.choice('num_leaves', 2*np.arange(2, 2**11, dtype=int)),\n",
        "            'min_child_weight': hp.quniform('min_child_weight', 1, 9, 0.025),\n",
        "            'colsample_bytree': hp.quniform('colsample_bytree', 0.5, 1, 0.005),\n",
        "            'objective': 'binary',\n",
        "            'boosting_type': 'gbdt',\n",
        "            }\n",
        " \n",
        "best = fmin(fn=hyperopt_lgb_score, space=space_lgb, algo=tpe.suggest, max_evals=10)\n",
        "print('best:')\n",
        "print(best)"
      ],
      "metadata": {
        "colab": {
          "base_uri": "https://localhost:8080/"
        },
        "id": "343fRr8VBDnK",
        "outputId": "5b2f271e-3a2a-4b49-b5f8-f63c35d02684"
      },
      "execution_count": null,
      "outputs": [
        {
          "output_type": "stream",
          "name": "stdout",
          "text": [
            "0.7207767722473605\n",
            "{'boosting_type': 'gbdt', 'colsample_bytree': 0.625, 'learning_rate': 0.0337, 'max_depth': 6, 'min_child_weight': 1.8, 'n_estimators': 883, 'num_leaves': 2444, 'objective': 'binary'}\n",
            "0.7012066365007541\n",
            "{'boosting_type': 'gbdt', 'colsample_bytree': 0.505, 'learning_rate': 0.0114, 'max_depth': 4, 'min_child_weight': 8.875, 'n_estimators': 345, 'num_leaves': 1690, 'objective': 'binary'}\n",
            "0.7480392156862745\n",
            "{'boosting_type': 'gbdt', 'colsample_bytree': 0.93, 'learning_rate': 0.031400000000000004, 'max_depth': 10, 'min_child_weight': 1.3250000000000002, 'n_estimators': 299, 'num_leaves': 2936, 'objective': 'binary'}\n",
            "0.6972096530920061\n",
            "{'boosting_type': 'gbdt', 'colsample_bytree': 0.9550000000000001, 'learning_rate': 0.0223, 'max_depth': 3, 'min_child_weight': 6.2, 'n_estimators': 524, 'num_leaves': 2458, 'objective': 'binary'}\n",
            "0.7070512820512821\n",
            "{'boosting_type': 'gbdt', 'colsample_bytree': 0.9450000000000001, 'learning_rate': 0.0044, 'max_depth': 7, 'min_child_weight': 1.0250000000000001, 'n_estimators': 626, 'num_leaves': 3612, 'objective': 'binary'}\n",
            "0.7069381598793363\n",
            "{'boosting_type': 'gbdt', 'colsample_bytree': 0.995, 'learning_rate': 0.0374, 'max_depth': 3, 'min_child_weight': 4.65, 'n_estimators': 469, 'num_leaves': 990, 'objective': 'binary'}\n",
            "0.7382352941176471\n",
            "{'boosting_type': 'gbdt', 'colsample_bytree': 0.735, 'learning_rate': 0.0058000000000000005, 'max_depth': 8, 'min_child_weight': 1.1500000000000001, 'n_estimators': 973, 'num_leaves': 410, 'objective': 'binary'}\n",
            "0.6973604826546003\n",
            "{'boosting_type': 'gbdt', 'colsample_bytree': 0.725, 'learning_rate': 0.0364, 'max_depth': 9, 'min_child_weight': 6.175000000000001, 'n_estimators': 925, 'num_leaves': 2126, 'objective': 'binary'}\n",
            "0.7051659125188536\n",
            "{'boosting_type': 'gbdt', 'colsample_bytree': 0.625, 'learning_rate': 0.029900000000000003, 'max_depth': 7, 'min_child_weight': 5.5, 'n_estimators': 923, 'num_leaves': 1990, 'objective': 'binary'}\n",
            "0.6992458521870286\n",
            "{'boosting_type': 'gbdt', 'colsample_bytree': 0.65, 'learning_rate': 0.0333, 'max_depth': 8, 'min_child_weight': 5.7, 'n_estimators': 905, 'num_leaves': 1262, 'objective': 'binary'}\n",
            "100%|██████████| 10/10 [00:59<00:00,  5.99s/it, best loss: 0.6972096530920061]\n",
            "best:\n",
            "{'colsample_bytree': 0.9550000000000001, 'learning_rate': 0.0223, 'max_depth': 1, 'min_child_weight': 6.2, 'n_estimators': 424, 'num_leaves': 1227}\n"
          ]
        }
      ]
    },
    {
      "cell_type": "code",
      "source": [
        "params = space_eval(space_lgb, best)\n",
        "params"
      ],
      "metadata": {
        "colab": {
          "base_uri": "https://localhost:8080/"
        },
        "id": "tR1J6ND7BQzv",
        "outputId": "ff54cc8c-fbeb-4fcc-d246-2e5edf68578d"
      },
      "execution_count": null,
      "outputs": [
        {
          "output_type": "execute_result",
          "data": {
            "text/plain": [
              "{'boosting_type': 'gbdt',\n",
              " 'colsample_bytree': 0.9550000000000001,\n",
              " 'learning_rate': 0.0223,\n",
              " 'max_depth': 3,\n",
              " 'min_child_weight': 6.2,\n",
              " 'n_estimators': 524,\n",
              " 'num_leaves': 2458,\n",
              " 'objective': 'binary'}"
            ]
          },
          "metadata": {},
          "execution_count": 64
        }
      ]
    },
    {
      "cell_type": "code",
      "source": [
        "LGB_Classifier = LGBMClassifier(**params)\n",
        "LGB_Classifier.fit(X_train, y_train)\n",
        "acc_LGB_Classifier = round(LGB_Classifier.score(X_train, y_train) * 100, 2)\n",
        "acc_LGB_Classifier"
      ],
      "metadata": {
        "colab": {
          "base_uri": "https://localhost:8080/"
        },
        "id": "_x8pkF9NBSqq",
        "outputId": "78477e29-3afe-413a-9e6e-ef5d424e4444"
      },
      "execution_count": null,
      "outputs": [
        {
          "output_type": "execute_result",
          "data": {
            "text/plain": [
              "93.55"
            ]
          },
          "metadata": {},
          "execution_count": 65
        }
      ]
    },
    {
      "cell_type": "code",
      "source": [
        "acc_test_LGB_Classifier = round(LGB_Classifier.score(X_test, y_test) * 100, 2)\n",
        "acc_test_LGB_Classifier"
      ],
      "metadata": {
        "colab": {
          "base_uri": "https://localhost:8080/"
        },
        "id": "rfjt5usUBVLh",
        "outputId": "bf180eca-658c-4b27-f30c-38e4658d7a5c"
      },
      "execution_count": null,
      "outputs": [
        {
          "output_type": "execute_result",
          "data": {
            "text/plain": [
              "75.0"
            ]
          },
          "metadata": {},
          "execution_count": 66
        }
      ]
    },
    {
      "cell_type": "code",
      "source": [
        "pred_lgb = LGB_Classifier.predict(X_test)"
      ],
      "metadata": {
        "id": "e4GfF1L5kRyS"
      },
      "execution_count": null,
      "outputs": []
    },
    {
      "cell_type": "code",
      "source": [
        "print(classification_report(y_test, pred_lgb.round()))"
      ],
      "metadata": {
        "colab": {
          "base_uri": "https://localhost:8080/"
        },
        "id": "8iJvIS11keIe",
        "outputId": "24ab22cf-fbf9-4ad3-e488-b0d7b6cb80bd"
      },
      "execution_count": null,
      "outputs": [
        {
          "output_type": "stream",
          "name": "stdout",
          "text": [
            "              precision    recall  f1-score   support\n",
            "\n",
            "           0       0.81      0.86      0.84        96\n",
            "           1       0.50      0.41      0.45        32\n",
            "\n",
            "    accuracy                           0.75       128\n",
            "   macro avg       0.66      0.64      0.64       128\n",
            "weighted avg       0.74      0.75      0.74       128\n",
            "\n"
          ]
        }
      ]
    },
    {
      "cell_type": "code",
      "source": [
        "#confusion matrix\n",
        "from sklearn.metrics import confusion_matrix\n",
        "cm = confusion_matrix(y_test, pred_lgb)\n",
        "ax = sns.heatmap(cm, linecolor='white', cmap='BuPu', linewidth=1, annot=True, fmt='')"
      ],
      "metadata": {
        "colab": {
          "base_uri": "https://localhost:8080/",
          "height": 265
        },
        "id": "rwGrg5pr6A5K",
        "outputId": "bbd57dfb-2450-420d-86b1-8e27719ab036"
      },
      "execution_count": null,
      "outputs": [
        {
          "output_type": "display_data",
          "data": {
            "text/plain": [
              "<Figure size 432x288 with 2 Axes>"
            ],
            "image/png": "[encoded data removed]"
          },
          "metadata": {
            "needs_background": "light"
          }
        }
      ]
    },
    {
      "cell_type": "code",
      "source": [
        "bagging_classifier = BaggingClassifier()\n",
        "bagging_classifier.fit(X_train, y_train)\n",
        "Y_pred = bagging_classifier.predict(X_test).astype(int)\n",
        "acc_bagging_classifier = round(bagging_classifier.score(X_train, y_train) * 100, 2)\n",
        "acc_bagging_classifier"
      ],
      "metadata": {
        "colab": {
          "base_uri": "https://localhost:8080/"
        },
        "id": "MnaUVo8KBan2",
        "outputId": "2e5d69dd-14aa-4ba2-f00f-fae896c08fba"
      },
      "execution_count": null,
      "outputs": [
        {
          "output_type": "execute_result",
          "data": {
            "text/plain": [
              "98.83"
            ]
          },
          "metadata": {},
          "execution_count": 53
        }
      ]
    },
    {
      "cell_type": "code",
      "source": [
        "acc_test_bagging_classifier = round(bagging_classifier.score(X_test, y_test) * 100, 2)\n",
        "acc_test_bagging_classifier"
      ],
      "metadata": {
        "colab": {
          "base_uri": "https://localhost:8080/"
        },
        "id": "dQKUU8jJBcns",
        "outputId": "3472b15f-865a-4cce-fefa-662ab410e702"
      },
      "execution_count": null,
      "outputs": [
        {
          "output_type": "execute_result",
          "data": {
            "text/plain": [
              "77.34"
            ]
          },
          "metadata": {},
          "execution_count": 54
        }
      ]
    },
    {
      "cell_type": "code",
      "source": [
        "pred_bg = bagging_classifier.predict(X_test)"
      ],
      "metadata": {
        "id": "xiG1GXeHlIEb"
      },
      "execution_count": null,
      "outputs": []
    },
    {
      "cell_type": "code",
      "source": [
        "print(classification_report(y_test, pred_bg.round()))"
      ],
      "metadata": {
        "id": "0ZTebC1fBiRB",
        "colab": {
          "base_uri": "https://localhost:8080/"
        },
        "outputId": "7b3d508c-061d-4c52-e3a2-688414dc92b4"
      },
      "execution_count": null,
      "outputs": [
        {
          "output_type": "stream",
          "name": "stdout",
          "text": [
            "              precision    recall  f1-score   support\n",
            "\n",
            "           0       0.81      0.91      0.86        96\n",
            "           1       0.57      0.38      0.45        32\n",
            "\n",
            "    accuracy                           0.77       128\n",
            "   macro avg       0.69      0.64      0.65       128\n",
            "weighted avg       0.75      0.77      0.76       128\n",
            "\n"
          ]
        }
      ]
    },
    {
      "cell_type": "code",
      "source": [
        "#confusion matrix\n",
        "from sklearn.metrics import confusion_matrix\n",
        "cm = confusion_matrix(y_test, pred_bg)\n",
        "ax = sns.heatmap(cm, linecolor='white', cmap='BuPu', linewidth=1, annot=True, fmt='')"
      ],
      "metadata": {
        "id": "Yragbllasisx",
        "colab": {
          "base_uri": "https://localhost:8080/",
          "height": 265
        },
        "outputId": "da59005a-e11b-4d6b-ea99-8bfb22722e04"
      },
      "execution_count": null,
      "outputs": [
        {
          "output_type": "display_data",
          "data": {
            "text/plain": [
              "<Figure size 432x288 with 2 Axes>"
            ],
            "image/png": "[encoded data removed]"
          },
          "metadata": {
            "needs_background": "light"
          }
        }
      ]
    },
    {
      "cell_type": "markdown",
      "source": [
        "# STOP STOP\n",
        "## experiments- 84%"
      ],
      "metadata": {
        "id": "7qr5fbw-73V0"
      }
    },
    {
      "cell_type": "code",
      "source": [
        "############## STOP ############################################################"
      ],
      "metadata": {
        "id": "pN3J43Rg72Zb"
      },
      "execution_count": null,
      "outputs": []
    },
    {
      "cell_type": "code",
      "source": [
        "############## STOP ############################################################"
      ],
      "metadata": {
        "id": "woiBB1kt7pjO"
      },
      "execution_count": null,
      "outputs": []
    },
    {
      "cell_type": "code",
      "source": [
        "# creating a model\n",
        "model = models.Sequential()\n",
        "model.add(layers.Dense(128, activation='relu'))\n",
        "# model.add(layers.Dense(64, activation='relu'))\n",
        "# model.add(layers.Dense(64, activation='relu'))\n",
        "\n",
        "model.add(layers.Dense(64, activation='relu'))\n",
        "# model.add(layers.Dense(16, activation='relu'))\n",
        "model.add(layers.Dense(32, activation='relu'))\n",
        "\n",
        "model.add(layers.Dense(1, activation='sigmoid'))\n",
        "\n",
        "model.compile(optimizer='adam',\n",
        "              loss='binary_crossentropy',\n",
        "              metrics=['accuracy'])"
      ],
      "metadata": {
        "id": "qCPXbUN8MteZ"
      },
      "execution_count": null,
      "outputs": []
    },
    {
      "cell_type": "code",
      "source": [
        "history = model.fit(X_train,\n",
        "                    y_train,\n",
        "                    epochs=100,\n",
        "                    batch_size=32)"
      ],
      "metadata": {
        "colab": {
          "base_uri": "https://localhost:8080/"
        },
        "id": "tqIp5VgRNVoY",
        "outputId": "38ead2a7-8f10-4f08-8ff8-f20ecd96459e"
      },
      "execution_count": null,
      "outputs": [
        {
          "output_type": "stream",
          "name": "stdout",
          "text": [
            "Epoch 1/100\n",
            "16/16 [==============================] - 0s 2ms/step - loss: 0.6344 - accuracy: 0.6758\n",
            "Epoch 2/100\n",
            "16/16 [==============================] - 0s 2ms/step - loss: 0.5903 - accuracy: 0.6797\n",
            "Epoch 3/100\n",
            "16/16 [==============================] - 0s 2ms/step - loss: 0.5651 - accuracy: 0.7031\n",
            "Epoch 4/100\n",
            "16/16 [==============================] - 0s 2ms/step - loss: 0.5400 - accuracy: 0.6934\n",
            "Epoch 5/100\n",
            "16/16 [==============================] - 0s 2ms/step - loss: 0.5186 - accuracy: 0.7539\n",
            "Epoch 6/100\n",
            "16/16 [==============================] - 0s 2ms/step - loss: 0.4871 - accuracy: 0.7539\n",
            "Epoch 7/100\n",
            "16/16 [==============================] - 0s 2ms/step - loss: 0.4630 - accuracy: 0.8066\n",
            "Epoch 8/100\n",
            "16/16 [==============================] - 0s 2ms/step - loss: 0.4473 - accuracy: 0.7715\n",
            "Epoch 9/100\n",
            "16/16 [==============================] - 0s 2ms/step - loss: 0.4098 - accuracy: 0.8301\n",
            "Epoch 10/100\n",
            "16/16 [==============================] - 0s 2ms/step - loss: 0.3941 - accuracy: 0.8574\n",
            "Epoch 11/100\n",
            "16/16 [==============================] - 0s 2ms/step - loss: 0.3523 - accuracy: 0.8613\n",
            "Epoch 12/100\n",
            "16/16 [==============================] - 0s 2ms/step - loss: 0.3191 - accuracy: 0.8828\n",
            "Epoch 13/100\n",
            "16/16 [==============================] - 0s 2ms/step - loss: 0.2876 - accuracy: 0.9082\n",
            "Epoch 14/100\n",
            "16/16 [==============================] - 0s 2ms/step - loss: 0.2608 - accuracy: 0.9082\n",
            "Epoch 15/100\n",
            "16/16 [==============================] - 0s 2ms/step - loss: 0.2481 - accuracy: 0.9141\n",
            "Epoch 16/100\n",
            "16/16 [==============================] - 0s 2ms/step - loss: 0.2233 - accuracy: 0.9141\n",
            "Epoch 17/100\n",
            "16/16 [==============================] - 0s 2ms/step - loss: 0.2058 - accuracy: 0.9199\n",
            "Epoch 18/100\n",
            "16/16 [==============================] - 0s 2ms/step - loss: 0.1879 - accuracy: 0.9355\n",
            "Epoch 19/100\n",
            "16/16 [==============================] - 0s 2ms/step - loss: 0.1801 - accuracy: 0.9355\n",
            "Epoch 20/100\n",
            "16/16 [==============================] - 0s 2ms/step - loss: 0.1843 - accuracy: 0.9199\n",
            "Epoch 21/100\n",
            "16/16 [==============================] - 0s 2ms/step - loss: 0.1543 - accuracy: 0.9414\n",
            "Epoch 22/100\n",
            "16/16 [==============================] - 0s 2ms/step - loss: 0.1381 - accuracy: 0.9531\n",
            "Epoch 23/100\n",
            "16/16 [==============================] - 0s 2ms/step - loss: 0.1195 - accuracy: 0.9609\n",
            "Epoch 24/100\n",
            "16/16 [==============================] - 0s 2ms/step - loss: 0.1249 - accuracy: 0.9492\n",
            "Epoch 25/100\n",
            "16/16 [==============================] - 0s 2ms/step - loss: 0.1265 - accuracy: 0.9434\n",
            "Epoch 26/100\n",
            "16/16 [==============================] - 0s 2ms/step - loss: 0.1133 - accuracy: 0.9551\n",
            "Epoch 27/100\n",
            "16/16 [==============================] - 0s 2ms/step - loss: 0.1004 - accuracy: 0.9590\n",
            "Epoch 28/100\n",
            "16/16 [==============================] - 0s 2ms/step - loss: 0.0997 - accuracy: 0.9609\n",
            "Epoch 29/100\n",
            "16/16 [==============================] - 0s 2ms/step - loss: 0.1058 - accuracy: 0.9473\n",
            "Epoch 30/100\n",
            "16/16 [==============================] - 0s 2ms/step - loss: 0.1020 - accuracy: 0.9551\n",
            "Epoch 31/100\n",
            "16/16 [==============================] - 0s 2ms/step - loss: 0.0925 - accuracy: 0.9668\n",
            "Epoch 32/100\n",
            "16/16 [==============================] - 0s 2ms/step - loss: 0.0865 - accuracy: 0.9707\n",
            "Epoch 33/100\n",
            "16/16 [==============================] - 0s 2ms/step - loss: 0.0782 - accuracy: 0.9648\n",
            "Epoch 34/100\n",
            "16/16 [==============================] - 0s 2ms/step - loss: 0.0850 - accuracy: 0.9648\n",
            "Epoch 35/100\n",
            "16/16 [==============================] - 0s 2ms/step - loss: 0.0742 - accuracy: 0.9668\n",
            "Epoch 36/100\n",
            "16/16 [==============================] - 0s 2ms/step - loss: 0.0766 - accuracy: 0.9648\n",
            "Epoch 37/100\n",
            "16/16 [==============================] - 0s 2ms/step - loss: 0.0746 - accuracy: 0.9746\n",
            "Epoch 38/100\n",
            "16/16 [==============================] - 0s 2ms/step - loss: 0.0726 - accuracy: 0.9766\n",
            "Epoch 39/100\n",
            "16/16 [==============================] - 0s 2ms/step - loss: 0.0808 - accuracy: 0.9629\n",
            "Epoch 40/100\n",
            "16/16 [==============================] - 0s 2ms/step - loss: 0.0735 - accuracy: 0.9668\n",
            "Epoch 41/100\n",
            "16/16 [==============================] - 0s 2ms/step - loss: 0.0706 - accuracy: 0.9727\n",
            "Epoch 42/100\n",
            "16/16 [==============================] - 0s 2ms/step - loss: 0.0753 - accuracy: 0.9707\n",
            "Epoch 43/100\n",
            "16/16 [==============================] - 0s 2ms/step - loss: 0.0665 - accuracy: 0.9688\n",
            "Epoch 44/100\n",
            "16/16 [==============================] - 0s 2ms/step - loss: 0.0618 - accuracy: 0.9766\n",
            "Epoch 45/100\n",
            "16/16 [==============================] - 0s 2ms/step - loss: 0.0632 - accuracy: 0.9746\n",
            "Epoch 46/100\n",
            "16/16 [==============================] - 0s 2ms/step - loss: 0.0611 - accuracy: 0.9746\n",
            "Epoch 47/100\n",
            "16/16 [==============================] - 0s 2ms/step - loss: 0.0600 - accuracy: 0.9727\n",
            "Epoch 48/100\n",
            "16/16 [==============================] - 0s 2ms/step - loss: 0.0553 - accuracy: 0.9805\n",
            "Epoch 49/100\n",
            "16/16 [==============================] - 0s 2ms/step - loss: 0.0540 - accuracy: 0.9805\n",
            "Epoch 50/100\n",
            "16/16 [==============================] - 0s 2ms/step - loss: 0.0514 - accuracy: 0.9805\n",
            "Epoch 51/100\n",
            "16/16 [==============================] - 0s 2ms/step - loss: 0.0514 - accuracy: 0.9785\n",
            "Epoch 52/100\n",
            "16/16 [==============================] - 0s 2ms/step - loss: 0.0550 - accuracy: 0.9766\n",
            "Epoch 53/100\n",
            "16/16 [==============================] - 0s 2ms/step - loss: 0.0557 - accuracy: 0.9785\n",
            "Epoch 54/100\n",
            "16/16 [==============================] - 0s 2ms/step - loss: 0.0518 - accuracy: 0.9785\n",
            "Epoch 55/100\n",
            "16/16 [==============================] - 0s 2ms/step - loss: 0.0549 - accuracy: 0.9785\n",
            "Epoch 56/100\n",
            "16/16 [==============================] - 0s 2ms/step - loss: 0.0505 - accuracy: 0.9824\n",
            "Epoch 57/100\n",
            "16/16 [==============================] - 0s 2ms/step - loss: 0.0545 - accuracy: 0.9805\n",
            "Epoch 58/100\n",
            "16/16 [==============================] - 0s 2ms/step - loss: 0.0503 - accuracy: 0.9785\n",
            "Epoch 59/100\n",
            "16/16 [==============================] - 0s 2ms/step - loss: 0.0499 - accuracy: 0.9766\n",
            "Epoch 60/100\n",
            "16/16 [==============================] - 0s 2ms/step - loss: 0.0480 - accuracy: 0.9805\n",
            "Epoch 61/100\n",
            "16/16 [==============================] - 0s 2ms/step - loss: 0.0503 - accuracy: 0.9766\n",
            "Epoch 62/100\n",
            "16/16 [==============================] - 0s 2ms/step - loss: 0.0424 - accuracy: 0.9824\n",
            "Epoch 63/100\n",
            "16/16 [==============================] - 0s 2ms/step - loss: 0.0460 - accuracy: 0.9844\n",
            "Epoch 64/100\n",
            "16/16 [==============================] - 0s 2ms/step - loss: 0.0471 - accuracy: 0.9766\n",
            "Epoch 65/100\n",
            "16/16 [==============================] - 0s 2ms/step - loss: 0.0528 - accuracy: 0.9805\n",
            "Epoch 66/100\n",
            "16/16 [==============================] - 0s 2ms/step - loss: 0.0607 - accuracy: 0.9629\n",
            "Epoch 67/100\n",
            "16/16 [==============================] - 0s 2ms/step - loss: 0.0625 - accuracy: 0.9707\n",
            "Epoch 68/100\n",
            "16/16 [==============================] - 0s 2ms/step - loss: 0.0694 - accuracy: 0.9707\n",
            "Epoch 69/100\n",
            "16/16 [==============================] - 0s 2ms/step - loss: 0.0493 - accuracy: 0.9766\n",
            "Epoch 70/100\n",
            "16/16 [==============================] - 0s 2ms/step - loss: 0.0482 - accuracy: 0.9805\n",
            "Epoch 71/100\n",
            "16/16 [==============================] - 0s 2ms/step - loss: 0.0527 - accuracy: 0.9824\n",
            "Epoch 72/100\n",
            "16/16 [==============================] - 0s 2ms/step - loss: 0.0823 - accuracy: 0.9648\n",
            "Epoch 73/100\n",
            "16/16 [==============================] - 0s 2ms/step - loss: 0.0662 - accuracy: 0.9766\n",
            "Epoch 74/100\n",
            "16/16 [==============================] - 0s 2ms/step - loss: 0.0627 - accuracy: 0.9727\n",
            "Epoch 75/100\n",
            "16/16 [==============================] - 0s 2ms/step - loss: 0.0492 - accuracy: 0.9824\n",
            "Epoch 76/100\n",
            "16/16 [==============================] - 0s 2ms/step - loss: 0.0416 - accuracy: 0.9844\n",
            "Epoch 77/100\n",
            "16/16 [==============================] - 0s 2ms/step - loss: 0.0356 - accuracy: 0.9844\n",
            "Epoch 78/100\n",
            "16/16 [==============================] - 0s 2ms/step - loss: 0.0346 - accuracy: 0.9844\n",
            "Epoch 79/100\n",
            "16/16 [==============================] - 0s 2ms/step - loss: 0.0362 - accuracy: 0.9863\n",
            "Epoch 80/100\n",
            "16/16 [==============================] - 0s 2ms/step - loss: 0.0340 - accuracy: 0.9902\n",
            "Epoch 81/100\n",
            "16/16 [==============================] - 0s 2ms/step - loss: 0.0421 - accuracy: 0.9824\n",
            "Epoch 82/100\n",
            "16/16 [==============================] - 0s 2ms/step - loss: 0.0349 - accuracy: 0.9883\n",
            "Epoch 83/100\n",
            "16/16 [==============================] - 0s 2ms/step - loss: 0.0341 - accuracy: 0.9863\n",
            "Epoch 84/100\n",
            "16/16 [==============================] - 0s 2ms/step - loss: 0.0392 - accuracy: 0.9824\n",
            "Epoch 85/100\n",
            "16/16 [==============================] - 0s 2ms/step - loss: 0.0378 - accuracy: 0.9844\n",
            "Epoch 86/100\n",
            "16/16 [==============================] - 0s 2ms/step - loss: 0.0481 - accuracy: 0.9766\n",
            "Epoch 87/100\n",
            "16/16 [==============================] - 0s 2ms/step - loss: 0.0519 - accuracy: 0.9727\n",
            "Epoch 88/100\n",
            "16/16 [==============================] - 0s 2ms/step - loss: 0.0340 - accuracy: 0.9902\n",
            "Epoch 89/100\n",
            "16/16 [==============================] - 0s 2ms/step - loss: 0.0316 - accuracy: 0.9844\n",
            "Epoch 90/100\n",
            "16/16 [==============================] - 0s 2ms/step - loss: 0.0305 - accuracy: 0.9922\n",
            "Epoch 91/100\n",
            "16/16 [==============================] - 0s 2ms/step - loss: 0.0311 - accuracy: 0.9902\n",
            "Epoch 92/100\n",
            "16/16 [==============================] - 0s 2ms/step - loss: 0.0284 - accuracy: 0.9844\n",
            "Epoch 93/100\n",
            "16/16 [==============================] - 0s 2ms/step - loss: 0.0339 - accuracy: 0.9883\n",
            "Epoch 94/100\n",
            "16/16 [==============================] - 0s 2ms/step - loss: 0.0303 - accuracy: 0.9883\n",
            "Epoch 95/100\n",
            "16/16 [==============================] - 0s 2ms/step - loss: 0.0312 - accuracy: 0.9883\n",
            "Epoch 96/100\n",
            "16/16 [==============================] - 0s 2ms/step - loss: 0.0311 - accuracy: 0.9883\n",
            "Epoch 97/100\n",
            "16/16 [==============================] - 0s 2ms/step - loss: 0.0323 - accuracy: 0.9844\n",
            "Epoch 98/100\n",
            "16/16 [==============================] - 0s 2ms/step - loss: 0.0323 - accuracy: 0.9863\n",
            "Epoch 99/100\n",
            "16/16 [==============================] - 0s 2ms/step - loss: 0.0269 - accuracy: 0.9902\n",
            "Epoch 100/100\n",
            "16/16 [==============================] - 0s 2ms/step - loss: 0.0253 - accuracy: 0.9922\n"
          ]
        }
      ]
    },
    {
      "cell_type": "code",
      "source": [
        "test_loss, test_acc = model.evaluate(X_test,y_test)\n",
        "print('test_acc: ',test_acc)"
      ],
      "metadata": {
        "colab": {
          "base_uri": "https://localhost:8080/"
        },
        "id": "GC-THV_AM0_E",
        "outputId": "912c6572-df69-4c45-c557-93d2a4a710b1"
      },
      "execution_count": null,
      "outputs": [
        {
          "output_type": "stream",
          "name": "stdout",
          "text": [
            "4/4 [==============================] - 0s 2ms/step - loss: 1.1337 - accuracy: 0.8359\n",
            "test_acc:  0.8359375\n"
          ]
        }
      ]
    },
    {
      "cell_type": "code",
      "source": [
        "predictions = model.predict(X_test)\n",
        "# print(predictions)"
      ],
      "metadata": {
        "id": "FEQFADA9N12U"
      },
      "execution_count": null,
      "outputs": []
    },
    {
      "cell_type": "code",
      "source": [
        "print(classification_report(y_test, predictions.round()))"
      ],
      "metadata": {
        "colab": {
          "base_uri": "https://localhost:8080/"
        },
        "id": "MhdHb5KIluFm",
        "outputId": "c7ce9ec3-c8dc-43b8-a6e6-0a8decb12a7f"
      },
      "execution_count": null,
      "outputs": [
        {
          "output_type": "stream",
          "name": "stdout",
          "text": [
            "              precision    recall  f1-score   support\n",
            "\n",
            "           0       0.89      0.89      0.89        96\n",
            "           1       0.67      0.69      0.68        32\n",
            "\n",
            "    accuracy                           0.84       128\n",
            "   macro avg       0.78      0.79      0.78       128\n",
            "weighted avg       0.84      0.84      0.84       128\n",
            "\n"
          ]
        }
      ]
    },
    {
      "cell_type": "code",
      "source": [
        "# creating a model\n",
        "model = models.Sequential()\n",
        "model.add(layers.Dense(128, activation='relu'))\n",
        "# model.add(layers.Dense(64, activation='relu'))\n",
        "# model.add(layers.Dense(64, activation='relu'))\n",
        "\n",
        "model.add(layers.Dense(64, activation='relu'))\n",
        "# model.add(layers.Dense(16, activation='relu'))\n",
        "model.add(layers.Dense(32, activation='relu'))\n",
        "model.add(layers.Dense(16, activation='relu'))\n",
        "model.add(layers.Dense(8, activation='relu'))\n",
        "model.add(layers.Dense(1, activation='sigmoid'))\n",
        "\n",
        "model.compile(optimizer='adam',\n",
        "              loss='binary_crossentropy',\n",
        "              metrics=['accuracy'])"
      ],
      "metadata": {
        "id": "yHBdTQ98luDb"
      },
      "execution_count": null,
      "outputs": []
    },
    {
      "cell_type": "code",
      "source": [
        "history = model.fit(X_train,\n",
        "                    y_train,\n",
        "                    epochs=100,\n",
        "                    batch_size=32)"
      ],
      "metadata": {
        "colab": {
          "base_uri": "https://localhost:8080/"
        },
        "id": "sInjtIthmNCe",
        "outputId": "298d9a1f-104f-4e3c-f9a5-8d0e621a65b3"
      },
      "execution_count": null,
      "outputs": [
        {
          "output_type": "stream",
          "name": "stdout",
          "text": [
            "Epoch 1/100\n",
            "16/16 [==============================] - 0s 2ms/step - loss: 2.6036e-04 - accuracy: 1.0000\n",
            "Epoch 2/100\n",
            "16/16 [==============================] - 0s 2ms/step - loss: 6.3265e-04 - accuracy: 1.0000\n",
            "Epoch 3/100\n",
            "16/16 [==============================] - 0s 2ms/step - loss: 0.0601 - accuracy: 0.9824\n",
            "Epoch 4/100\n",
            "16/16 [==============================] - 0s 2ms/step - loss: 0.6979 - accuracy: 0.8984\n",
            "Epoch 5/100\n",
            "16/16 [==============================] - 0s 2ms/step - loss: 0.9617 - accuracy: 0.7773\n",
            "Epoch 6/100\n",
            "16/16 [==============================] - 0s 2ms/step - loss: 0.2807 - accuracy: 0.8809\n",
            "Epoch 7/100\n",
            "16/16 [==============================] - 0s 2ms/step - loss: 0.1906 - accuracy: 0.9277\n",
            "Epoch 8/100\n",
            "16/16 [==============================] - 0s 2ms/step - loss: 0.1396 - accuracy: 0.9453\n",
            "Epoch 9/100\n",
            "16/16 [==============================] - 0s 2ms/step - loss: 0.1012 - accuracy: 0.9668\n",
            "Epoch 10/100\n",
            "16/16 [==============================] - 0s 2ms/step - loss: 0.0784 - accuracy: 0.9746\n",
            "Epoch 11/100\n",
            "16/16 [==============================] - 0s 2ms/step - loss: 0.0617 - accuracy: 0.9805\n",
            "Epoch 12/100\n",
            "16/16 [==============================] - 0s 2ms/step - loss: 0.0559 - accuracy: 0.9844\n",
            "Epoch 13/100\n",
            "16/16 [==============================] - 0s 2ms/step - loss: 0.0473 - accuracy: 0.9824\n",
            "Epoch 14/100\n",
            "16/16 [==============================] - 0s 2ms/step - loss: 0.0435 - accuracy: 0.9863\n",
            "Epoch 15/100\n",
            "16/16 [==============================] - 0s 2ms/step - loss: 0.0380 - accuracy: 0.9844\n",
            "Epoch 16/100\n",
            "16/16 [==============================] - 0s 2ms/step - loss: 0.0459 - accuracy: 0.9824\n",
            "Epoch 17/100\n",
            "16/16 [==============================] - 0s 3ms/step - loss: 0.0426 - accuracy: 0.9883\n",
            "Epoch 18/100\n",
            "16/16 [==============================] - 0s 2ms/step - loss: 0.0390 - accuracy: 0.9863\n",
            "Epoch 19/100\n",
            "16/16 [==============================] - 0s 2ms/step - loss: 0.0291 - accuracy: 0.9941\n",
            "Epoch 20/100\n",
            "16/16 [==============================] - 0s 2ms/step - loss: 0.0303 - accuracy: 0.9902\n",
            "Epoch 21/100\n",
            "16/16 [==============================] - 0s 2ms/step - loss: 0.0287 - accuracy: 0.9902\n",
            "Epoch 22/100\n",
            "16/16 [==============================] - 0s 2ms/step - loss: 0.0625 - accuracy: 0.9805\n",
            "Epoch 23/100\n",
            "16/16 [==============================] - 0s 2ms/step - loss: 0.0362 - accuracy: 0.9922\n",
            "Epoch 24/100\n",
            "16/16 [==============================] - 0s 2ms/step - loss: 0.0313 - accuracy: 0.9902\n",
            "Epoch 25/100\n",
            "16/16 [==============================] - 0s 2ms/step - loss: 0.0225 - accuracy: 0.9961\n",
            "Epoch 26/100\n",
            "16/16 [==============================] - 0s 2ms/step - loss: 0.0225 - accuracy: 0.9902\n",
            "Epoch 27/100\n",
            "16/16 [==============================] - 0s 2ms/step - loss: 0.0183 - accuracy: 0.9980\n",
            "Epoch 28/100\n",
            "16/16 [==============================] - 0s 2ms/step - loss: 0.0261 - accuracy: 0.9863\n",
            "Epoch 29/100\n",
            "16/16 [==============================] - 0s 2ms/step - loss: 0.0210 - accuracy: 0.9941\n",
            "Epoch 30/100\n",
            "16/16 [==============================] - 0s 2ms/step - loss: 0.0188 - accuracy: 0.9941\n",
            "Epoch 31/100\n",
            "16/16 [==============================] - 0s 2ms/step - loss: 0.0132 - accuracy: 0.9980\n",
            "Epoch 32/100\n",
            "16/16 [==============================] - 0s 2ms/step - loss: 0.0140 - accuracy: 0.9980\n",
            "Epoch 33/100\n",
            "16/16 [==============================] - 0s 2ms/step - loss: 0.0222 - accuracy: 0.9902\n",
            "Epoch 34/100\n",
            "16/16 [==============================] - 0s 2ms/step - loss: 0.0157 - accuracy: 0.9980\n",
            "Epoch 35/100\n",
            "16/16 [==============================] - 0s 2ms/step - loss: 0.0139 - accuracy: 0.9961\n",
            "Epoch 36/100\n",
            "16/16 [==============================] - 0s 2ms/step - loss: 0.0147 - accuracy: 0.9961\n",
            "Epoch 37/100\n",
            "16/16 [==============================] - 0s 2ms/step - loss: 0.0295 - accuracy: 0.9863\n",
            "Epoch 38/100\n",
            "16/16 [==============================] - 0s 2ms/step - loss: 0.0176 - accuracy: 0.9961\n",
            "Epoch 39/100\n",
            "16/16 [==============================] - 0s 2ms/step - loss: 0.0115 - accuracy: 0.9980\n",
            "Epoch 40/100\n",
            "16/16 [==============================] - 0s 2ms/step - loss: 0.0135 - accuracy: 0.9980\n",
            "Epoch 41/100\n",
            "16/16 [==============================] - 0s 2ms/step - loss: 0.0136 - accuracy: 0.9961\n",
            "Epoch 42/100\n",
            "16/16 [==============================] - 0s 3ms/step - loss: 0.0148 - accuracy: 0.9980\n",
            "Epoch 43/100\n",
            "16/16 [==============================] - 0s 2ms/step - loss: 0.0172 - accuracy: 0.9941\n",
            "Epoch 44/100\n",
            "16/16 [==============================] - 0s 2ms/step - loss: 0.0224 - accuracy: 0.9902\n",
            "Epoch 45/100\n",
            "16/16 [==============================] - 0s 3ms/step - loss: 0.0152 - accuracy: 0.9941\n",
            "Epoch 46/100\n",
            "16/16 [==============================] - 0s 2ms/step - loss: 0.0122 - accuracy: 0.9961\n",
            "Epoch 47/100\n",
            "16/16 [==============================] - 0s 2ms/step - loss: 0.0093 - accuracy: 0.9980\n",
            "Epoch 48/100\n",
            "16/16 [==============================] - 0s 3ms/step - loss: 0.0091 - accuracy: 0.9961\n",
            "Epoch 49/100\n",
            "16/16 [==============================] - 0s 2ms/step - loss: 0.0112 - accuracy: 0.9961\n",
            "Epoch 50/100\n",
            "16/16 [==============================] - 0s 2ms/step - loss: 0.0080 - accuracy: 1.0000\n",
            "Epoch 51/100\n",
            "16/16 [==============================] - 0s 3ms/step - loss: 0.0077 - accuracy: 1.0000\n",
            "Epoch 52/100\n",
            "16/16 [==============================] - 0s 2ms/step - loss: 0.0060 - accuracy: 1.0000\n",
            "Epoch 53/100\n",
            "16/16 [==============================] - 0s 2ms/step - loss: 0.0103 - accuracy: 0.9961\n",
            "Epoch 54/100\n",
            "16/16 [==============================] - 0s 2ms/step - loss: 0.0131 - accuracy: 0.9941\n",
            "Epoch 55/100\n",
            "16/16 [==============================] - 0s 2ms/step - loss: 0.0232 - accuracy: 0.9980\n",
            "Epoch 56/100\n",
            "16/16 [==============================] - 0s 2ms/step - loss: 0.0114 - accuracy: 0.9980\n",
            "Epoch 57/100\n",
            "16/16 [==============================] - 0s 2ms/step - loss: 0.0145 - accuracy: 0.9941\n",
            "Epoch 58/100\n",
            "16/16 [==============================] - 0s 2ms/step - loss: 0.0151 - accuracy: 0.9922\n",
            "Epoch 59/100\n",
            "16/16 [==============================] - 0s 2ms/step - loss: 0.0144 - accuracy: 0.9961\n",
            "Epoch 60/100\n",
            "16/16 [==============================] - 0s 2ms/step - loss: 0.0232 - accuracy: 0.9883\n",
            "Epoch 61/100\n",
            "16/16 [==============================] - 0s 2ms/step - loss: 0.0372 - accuracy: 0.9844\n",
            "Epoch 62/100\n",
            "16/16 [==============================] - 0s 2ms/step - loss: 0.0425 - accuracy: 0.9824\n",
            "Epoch 63/100\n",
            "16/16 [==============================] - 0s 2ms/step - loss: 0.0293 - accuracy: 0.9883\n",
            "Epoch 64/100\n",
            "16/16 [==============================] - 0s 3ms/step - loss: 0.0246 - accuracy: 0.9902\n",
            "Epoch 65/100\n",
            "16/16 [==============================] - 0s 2ms/step - loss: 0.0236 - accuracy: 0.9863\n",
            "Epoch 66/100\n",
            "16/16 [==============================] - 0s 2ms/step - loss: 0.0109 - accuracy: 0.9961\n",
            "Epoch 67/100\n",
            "16/16 [==============================] - 0s 2ms/step - loss: 0.0081 - accuracy: 0.9980\n",
            "Epoch 68/100\n",
            "16/16 [==============================] - 0s 2ms/step - loss: 0.0084 - accuracy: 0.9961\n",
            "Epoch 69/100\n",
            "16/16 [==============================] - 0s 2ms/step - loss: 0.0064 - accuracy: 1.0000\n",
            "Epoch 70/100\n",
            "16/16 [==============================] - 0s 2ms/step - loss: 0.0054 - accuracy: 1.0000\n",
            "Epoch 71/100\n",
            "16/16 [==============================] - 0s 2ms/step - loss: 0.0051 - accuracy: 1.0000\n",
            "Epoch 72/100\n",
            "16/16 [==============================] - 0s 2ms/step - loss: 0.0045 - accuracy: 1.0000\n",
            "Epoch 73/100\n",
            "16/16 [==============================] - 0s 2ms/step - loss: 0.0038 - accuracy: 1.0000\n",
            "Epoch 74/100\n",
            "16/16 [==============================] - 0s 2ms/step - loss: 0.0041 - accuracy: 0.9980\n",
            "Epoch 75/100\n",
            "16/16 [==============================] - 0s 2ms/step - loss: 0.0061 - accuracy: 0.9961\n",
            "Epoch 76/100\n",
            "16/16 [==============================] - 0s 2ms/step - loss: 0.0074 - accuracy: 0.9980\n",
            "Epoch 77/100\n",
            "16/16 [==============================] - 0s 2ms/step - loss: 0.0043 - accuracy: 1.0000\n",
            "Epoch 78/100\n",
            "16/16 [==============================] - 0s 2ms/step - loss: 0.0035 - accuracy: 1.0000\n",
            "Epoch 79/100\n",
            "16/16 [==============================] - 0s 2ms/step - loss: 0.0077 - accuracy: 0.9961\n",
            "Epoch 80/100\n",
            "16/16 [==============================] - 0s 2ms/step - loss: 0.0046 - accuracy: 0.9980\n",
            "Epoch 81/100\n",
            "16/16 [==============================] - 0s 2ms/step - loss: 0.0041 - accuracy: 1.0000\n",
            "Epoch 82/100\n",
            "16/16 [==============================] - 0s 2ms/step - loss: 0.0044 - accuracy: 0.9980\n",
            "Epoch 83/100\n",
            "16/16 [==============================] - 0s 2ms/step - loss: 0.0042 - accuracy: 1.0000\n",
            "Epoch 84/100\n",
            "16/16 [==============================] - 0s 2ms/step - loss: 0.0026 - accuracy: 1.0000\n",
            "Epoch 85/100\n",
            "16/16 [==============================] - 0s 2ms/step - loss: 0.0031 - accuracy: 1.0000\n",
            "Epoch 86/100\n",
            "16/16 [==============================] - 0s 2ms/step - loss: 0.0036 - accuracy: 0.9980\n",
            "Epoch 87/100\n",
            "16/16 [==============================] - 0s 2ms/step - loss: 0.0045 - accuracy: 0.9980\n",
            "Epoch 88/100\n",
            "16/16 [==============================] - 0s 2ms/step - loss: 0.0037 - accuracy: 0.9980\n",
            "Epoch 89/100\n",
            "16/16 [==============================] - 0s 2ms/step - loss: 0.0047 - accuracy: 0.9961\n",
            "Epoch 90/100\n",
            "16/16 [==============================] - 0s 2ms/step - loss: 0.0197 - accuracy: 0.9961\n",
            "Epoch 91/100\n",
            "16/16 [==============================] - 0s 2ms/step - loss: 0.0142 - accuracy: 0.9922\n",
            "Epoch 92/100\n",
            "16/16 [==============================] - 0s 2ms/step - loss: 0.0075 - accuracy: 0.9961\n",
            "Epoch 93/100\n",
            "16/16 [==============================] - 0s 2ms/step - loss: 0.0135 - accuracy: 0.9941\n",
            "Epoch 94/100\n",
            "16/16 [==============================] - 0s 2ms/step - loss: 0.0057 - accuracy: 0.9961\n",
            "Epoch 95/100\n",
            "16/16 [==============================] - 0s 2ms/step - loss: 0.0029 - accuracy: 1.0000\n",
            "Epoch 96/100\n",
            "16/16 [==============================] - 0s 2ms/step - loss: 0.0026 - accuracy: 1.0000\n",
            "Epoch 97/100\n",
            "16/16 [==============================] - 0s 2ms/step - loss: 0.0025 - accuracy: 1.0000\n",
            "Epoch 98/100\n",
            "16/16 [==============================] - 0s 2ms/step - loss: 0.0022 - accuracy: 1.0000\n",
            "Epoch 99/100\n",
            "16/16 [==============================] - 0s 2ms/step - loss: 0.0018 - accuracy: 1.0000\n",
            "Epoch 100/100\n",
            "16/16 [==============================] - 0s 2ms/step - loss: 0.0018 - accuracy: 1.0000\n"
          ]
        }
      ]
    },
    {
      "cell_type": "code",
      "source": [
        "test_loss, test_acc = model.evaluate(X_test,y_test)\n",
        "print('test_acc: ',test_acc)"
      ],
      "metadata": {
        "colab": {
          "base_uri": "https://localhost:8080/"
        },
        "id": "h2uJ5IwvluBT",
        "outputId": "fb6e9fd2-c39a-4025-9d4e-d9ae04f7d323"
      },
      "execution_count": null,
      "outputs": [
        {
          "output_type": "stream",
          "name": "stdout",
          "text": [
            "4/4 [==============================] - 0s 2ms/step - loss: 1.6760 - accuracy: 0.7969\n",
            "test_acc:  0.796875\n"
          ]
        }
      ]
    },
    {
      "cell_type": "code",
      "source": [],
      "metadata": {
        "id": "guGhuj6jlt-i"
      },
      "execution_count": null,
      "outputs": []
    }
  ]
}